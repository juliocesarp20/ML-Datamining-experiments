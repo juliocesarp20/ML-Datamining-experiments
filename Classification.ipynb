{
  "nbformat": 4,
  "nbformat_minor": 0,
  "metadata": {
    "colab": {
      "provenance": []
    },
    "kernelspec": {
      "name": "python3",
      "display_name": "Python 3"
    },
    "language_info": {
      "name": "python"
    }
  },
  "cells": [
    {
      "cell_type": "markdown",
      "source": [
        "# **Proposta de Trabalho 3 - Mineração de dados**\n",
        "\n",
        "### **Professor:** Wagner Meira Jr.\n",
        "### **Aluno:** Júlio César de Paula Ferreira\n",
        "### **Matrícula:** 2020054609\n",
        "\n",
        "\n",
        "### **Tema:** Classificação - Classificação de *score* de cartão de crédito\n",
        "### **Base de dados:** (https://www.kaggle.com/datasets/parisrohan/credit-score-classification)\n"
      ],
      "metadata": {
        "id": "2z-yJF6TObCw"
      }
    },
    {
      "cell_type": "code",
      "source": [
        "#Bibliotecas usadas no projeto\n",
        "import pandas as pd\n",
        "import numpy as np\n",
        "import matplotlib.pyplot as plt\n",
        "import scipy\n",
        "import seaborn as sns\n",
        "from sklearn.model_selection import train_test_split\n",
        "from sklearn.ensemble import RandomForestClassifier\n",
        "from sklearn import metrics\n",
        "from sklearn.decomposition import PCA\n",
        "from sklearn.model_selection import cross_val_score, RepeatedStratifiedKFold\n",
        "from sklearn.model_selection import GridSearchCV\n",
        "import re"
      ],
      "metadata": {
        "id": "EK8yf-vgJqkL"
      },
      "execution_count": null,
      "outputs": []
    },
    {
      "cell_type": "markdown",
      "source": [
        "##**2. Data understanding (Entendimento dos dados)**\n"
      ],
      "metadata": {
        "id": "ckPkUM8AJeMl"
      }
    },
    {
      "cell_type": "markdown",
      "source": [
        "Descrição e filtragem da base de dados, são analisados 28 atributos e 100000 entradas de dados"
      ],
      "metadata": {
        "id": "qb0iBWmqBKqf"
      }
    },
    {
      "cell_type": "code",
      "source": [
        "#Carregando a base de dados"
      ],
      "metadata": {
        "id": "j1fDgQ9gJ1EV"
      },
      "execution_count": null,
      "outputs": []
    },
    {
      "cell_type": "code",
      "source": [
        "df = pd.read_csv('train.csv',sep=',')"
      ],
      "metadata": {
        "id": "OeLR9RnhOYxk",
        "colab": {
          "base_uri": "https://localhost:8080/"
        },
        "outputId": "9402e6dd-537c-42b4-e63e-c6d6d1fbb65e"
      },
      "execution_count": null,
      "outputs": [
        {
          "output_type": "stream",
          "name": "stderr",
          "text": [
            "/usr/local/lib/python3.7/dist-packages/IPython/core/interactiveshell.py:3326: DtypeWarning: Columns (26) have mixed types.Specify dtype option on import or set low_memory=False.\n",
            "  exec(code_obj, self.user_global_ns, self.user_ns)\n"
          ]
        }
      ]
    },
    {
      "cell_type": "code",
      "source": [
        "df.info()"
      ],
      "metadata": {
        "colab": {
          "base_uri": "https://localhost:8080/"
        },
        "id": "dKctiRHZzWNy",
        "outputId": "efecbb09-b7c5-41ff-c5d4-cccb96bf821c"
      },
      "execution_count": null,
      "outputs": [
        {
          "output_type": "stream",
          "name": "stdout",
          "text": [
            "<class 'pandas.core.frame.DataFrame'>\n",
            "RangeIndex: 100000 entries, 0 to 99999\n",
            "Data columns (total 28 columns):\n",
            " #   Column                    Non-Null Count   Dtype  \n",
            "---  ------                    --------------   -----  \n",
            " 0   ID                        100000 non-null  object \n",
            " 1   Customer_ID               100000 non-null  object \n",
            " 2   Month                     100000 non-null  object \n",
            " 3   Name                      90015 non-null   object \n",
            " 4   Age                       100000 non-null  object \n",
            " 5   SSN                       100000 non-null  object \n",
            " 6   Occupation                100000 non-null  object \n",
            " 7   Annual_Income             100000 non-null  object \n",
            " 8   Monthly_Inhand_Salary     84998 non-null   float64\n",
            " 9   Num_Bank_Accounts         100000 non-null  int64  \n",
            " 10  Num_Credit_Card           100000 non-null  int64  \n",
            " 11  Interest_Rate             100000 non-null  int64  \n",
            " 12  Num_of_Loan               100000 non-null  object \n",
            " 13  Type_of_Loan              88592 non-null   object \n",
            " 14  Delay_from_due_date       100000 non-null  int64  \n",
            " 15  Num_of_Delayed_Payment    92998 non-null   object \n",
            " 16  Changed_Credit_Limit      100000 non-null  object \n",
            " 17  Num_Credit_Inquiries      98035 non-null   float64\n",
            " 18  Credit_Mix                100000 non-null  object \n",
            " 19  Outstanding_Debt          100000 non-null  object \n",
            " 20  Credit_Utilization_Ratio  100000 non-null  float64\n",
            " 21  Credit_History_Age        90970 non-null   object \n",
            " 22  Payment_of_Min_Amount     100000 non-null  object \n",
            " 23  Total_EMI_per_month       100000 non-null  float64\n",
            " 24  Amount_invested_monthly   95521 non-null   object \n",
            " 25  Payment_Behaviour         100000 non-null  object \n",
            " 26  Monthly_Balance           98800 non-null   object \n",
            " 27  Credit_Score              100000 non-null  object \n",
            "dtypes: float64(4), int64(4), object(20)\n",
            "memory usage: 21.4+ MB\n"
          ]
        }
      ]
    },
    {
      "cell_type": "code",
      "source": [
        "df.head()"
      ],
      "metadata": {
        "colab": {
          "base_uri": "https://localhost:8080/",
          "height": 473
        },
        "id": "Er_zQT1CfeQf",
        "outputId": "f778efe0-df57-48e5-aa7e-7c8e021c2164"
      },
      "execution_count": null,
      "outputs": [
        {
          "output_type": "execute_result",
          "data": {
            "text/plain": [
              "       ID Customer_ID     Month           Name   Age          SSN Occupation  \\\n",
              "0  0x1602   CUS_0xd40   January  Aaron Maashoh    23  821-00-0265  Scientist   \n",
              "1  0x1603   CUS_0xd40  February  Aaron Maashoh    23  821-00-0265  Scientist   \n",
              "2  0x1604   CUS_0xd40     March  Aaron Maashoh  -500  821-00-0265  Scientist   \n",
              "3  0x1605   CUS_0xd40     April  Aaron Maashoh    23  821-00-0265  Scientist   \n",
              "4  0x1606   CUS_0xd40       May  Aaron Maashoh    23  821-00-0265  Scientist   \n",
              "\n",
              "  Annual_Income  Monthly_Inhand_Salary  Num_Bank_Accounts  ...  Credit_Mix  \\\n",
              "0      19114.12            1824.843333                  3  ...           _   \n",
              "1      19114.12                    NaN                  3  ...        Good   \n",
              "2      19114.12                    NaN                  3  ...        Good   \n",
              "3      19114.12                    NaN                  3  ...        Good   \n",
              "4      19114.12            1824.843333                  3  ...        Good   \n",
              "\n",
              "   Outstanding_Debt Credit_Utilization_Ratio     Credit_History_Age  \\\n",
              "0            809.98                26.822620  22 Years and 1 Months   \n",
              "1            809.98                31.944960                    NaN   \n",
              "2            809.98                28.609352  22 Years and 3 Months   \n",
              "3            809.98                31.377862  22 Years and 4 Months   \n",
              "4            809.98                24.797347  22 Years and 5 Months   \n",
              "\n",
              "   Payment_of_Min_Amount Total_EMI_per_month Amount_invested_monthly  \\\n",
              "0                     No           49.574949       80.41529543900253   \n",
              "1                     No           49.574949      118.28022162236736   \n",
              "2                     No           49.574949         81.699521264648   \n",
              "3                     No           49.574949       199.4580743910713   \n",
              "4                     No           49.574949      41.420153086217326   \n",
              "\n",
              "                  Payment_Behaviour     Monthly_Balance Credit_Score  \n",
              "0   High_spent_Small_value_payments  312.49408867943663         Good  \n",
              "1    Low_spent_Large_value_payments  284.62916249607184         Good  \n",
              "2   Low_spent_Medium_value_payments   331.2098628537912         Good  \n",
              "3    Low_spent_Small_value_payments  223.45130972736786         Good  \n",
              "4  High_spent_Medium_value_payments  341.48923103222177         Good  \n",
              "\n",
              "[5 rows x 28 columns]"
            ],
            "text/html": [
              "\n",
              "  <div id=\"df-8a6d8848-a4f9-4dd0-8079-0907274cd7d8\">\n",
              "    <div class=\"colab-df-container\">\n",
              "      <div>\n",
              "<style scoped>\n",
              "    .dataframe tbody tr th:only-of-type {\n",
              "        vertical-align: middle;\n",
              "    }\n",
              "\n",
              "    .dataframe tbody tr th {\n",
              "        vertical-align: top;\n",
              "    }\n",
              "\n",
              "    .dataframe thead th {\n",
              "        text-align: right;\n",
              "    }\n",
              "</style>\n",
              "<table border=\"1\" class=\"dataframe\">\n",
              "  <thead>\n",
              "    <tr style=\"text-align: right;\">\n",
              "      <th></th>\n",
              "      <th>ID</th>\n",
              "      <th>Customer_ID</th>\n",
              "      <th>Month</th>\n",
              "      <th>Name</th>\n",
              "      <th>Age</th>\n",
              "      <th>SSN</th>\n",
              "      <th>Occupation</th>\n",
              "      <th>Annual_Income</th>\n",
              "      <th>Monthly_Inhand_Salary</th>\n",
              "      <th>Num_Bank_Accounts</th>\n",
              "      <th>...</th>\n",
              "      <th>Credit_Mix</th>\n",
              "      <th>Outstanding_Debt</th>\n",
              "      <th>Credit_Utilization_Ratio</th>\n",
              "      <th>Credit_History_Age</th>\n",
              "      <th>Payment_of_Min_Amount</th>\n",
              "      <th>Total_EMI_per_month</th>\n",
              "      <th>Amount_invested_monthly</th>\n",
              "      <th>Payment_Behaviour</th>\n",
              "      <th>Monthly_Balance</th>\n",
              "      <th>Credit_Score</th>\n",
              "    </tr>\n",
              "  </thead>\n",
              "  <tbody>\n",
              "    <tr>\n",
              "      <th>0</th>\n",
              "      <td>0x1602</td>\n",
              "      <td>CUS_0xd40</td>\n",
              "      <td>January</td>\n",
              "      <td>Aaron Maashoh</td>\n",
              "      <td>23</td>\n",
              "      <td>821-00-0265</td>\n",
              "      <td>Scientist</td>\n",
              "      <td>19114.12</td>\n",
              "      <td>1824.843333</td>\n",
              "      <td>3</td>\n",
              "      <td>...</td>\n",
              "      <td>_</td>\n",
              "      <td>809.98</td>\n",
              "      <td>26.822620</td>\n",
              "      <td>22 Years and 1 Months</td>\n",
              "      <td>No</td>\n",
              "      <td>49.574949</td>\n",
              "      <td>80.41529543900253</td>\n",
              "      <td>High_spent_Small_value_payments</td>\n",
              "      <td>312.49408867943663</td>\n",
              "      <td>Good</td>\n",
              "    </tr>\n",
              "    <tr>\n",
              "      <th>1</th>\n",
              "      <td>0x1603</td>\n",
              "      <td>CUS_0xd40</td>\n",
              "      <td>February</td>\n",
              "      <td>Aaron Maashoh</td>\n",
              "      <td>23</td>\n",
              "      <td>821-00-0265</td>\n",
              "      <td>Scientist</td>\n",
              "      <td>19114.12</td>\n",
              "      <td>NaN</td>\n",
              "      <td>3</td>\n",
              "      <td>...</td>\n",
              "      <td>Good</td>\n",
              "      <td>809.98</td>\n",
              "      <td>31.944960</td>\n",
              "      <td>NaN</td>\n",
              "      <td>No</td>\n",
              "      <td>49.574949</td>\n",
              "      <td>118.28022162236736</td>\n",
              "      <td>Low_spent_Large_value_payments</td>\n",
              "      <td>284.62916249607184</td>\n",
              "      <td>Good</td>\n",
              "    </tr>\n",
              "    <tr>\n",
              "      <th>2</th>\n",
              "      <td>0x1604</td>\n",
              "      <td>CUS_0xd40</td>\n",
              "      <td>March</td>\n",
              "      <td>Aaron Maashoh</td>\n",
              "      <td>-500</td>\n",
              "      <td>821-00-0265</td>\n",
              "      <td>Scientist</td>\n",
              "      <td>19114.12</td>\n",
              "      <td>NaN</td>\n",
              "      <td>3</td>\n",
              "      <td>...</td>\n",
              "      <td>Good</td>\n",
              "      <td>809.98</td>\n",
              "      <td>28.609352</td>\n",
              "      <td>22 Years and 3 Months</td>\n",
              "      <td>No</td>\n",
              "      <td>49.574949</td>\n",
              "      <td>81.699521264648</td>\n",
              "      <td>Low_spent_Medium_value_payments</td>\n",
              "      <td>331.2098628537912</td>\n",
              "      <td>Good</td>\n",
              "    </tr>\n",
              "    <tr>\n",
              "      <th>3</th>\n",
              "      <td>0x1605</td>\n",
              "      <td>CUS_0xd40</td>\n",
              "      <td>April</td>\n",
              "      <td>Aaron Maashoh</td>\n",
              "      <td>23</td>\n",
              "      <td>821-00-0265</td>\n",
              "      <td>Scientist</td>\n",
              "      <td>19114.12</td>\n",
              "      <td>NaN</td>\n",
              "      <td>3</td>\n",
              "      <td>...</td>\n",
              "      <td>Good</td>\n",
              "      <td>809.98</td>\n",
              "      <td>31.377862</td>\n",
              "      <td>22 Years and 4 Months</td>\n",
              "      <td>No</td>\n",
              "      <td>49.574949</td>\n",
              "      <td>199.4580743910713</td>\n",
              "      <td>Low_spent_Small_value_payments</td>\n",
              "      <td>223.45130972736786</td>\n",
              "      <td>Good</td>\n",
              "    </tr>\n",
              "    <tr>\n",
              "      <th>4</th>\n",
              "      <td>0x1606</td>\n",
              "      <td>CUS_0xd40</td>\n",
              "      <td>May</td>\n",
              "      <td>Aaron Maashoh</td>\n",
              "      <td>23</td>\n",
              "      <td>821-00-0265</td>\n",
              "      <td>Scientist</td>\n",
              "      <td>19114.12</td>\n",
              "      <td>1824.843333</td>\n",
              "      <td>3</td>\n",
              "      <td>...</td>\n",
              "      <td>Good</td>\n",
              "      <td>809.98</td>\n",
              "      <td>24.797347</td>\n",
              "      <td>22 Years and 5 Months</td>\n",
              "      <td>No</td>\n",
              "      <td>49.574949</td>\n",
              "      <td>41.420153086217326</td>\n",
              "      <td>High_spent_Medium_value_payments</td>\n",
              "      <td>341.48923103222177</td>\n",
              "      <td>Good</td>\n",
              "    </tr>\n",
              "  </tbody>\n",
              "</table>\n",
              "<p>5 rows × 28 columns</p>\n",
              "</div>\n",
              "      <button class=\"colab-df-convert\" onclick=\"convertToInteractive('df-8a6d8848-a4f9-4dd0-8079-0907274cd7d8')\"\n",
              "              title=\"Convert this dataframe to an interactive table.\"\n",
              "              style=\"display:none;\">\n",
              "        \n",
              "  <svg xmlns=\"http://www.w3.org/2000/svg\" height=\"24px\"viewBox=\"0 0 24 24\"\n",
              "       width=\"24px\">\n",
              "    <path d=\"M0 0h24v24H0V0z\" fill=\"none\"/>\n",
              "    <path d=\"M18.56 5.44l.94 2.06.94-2.06 2.06-.94-2.06-.94-.94-2.06-.94 2.06-2.06.94zm-11 1L8.5 8.5l.94-2.06 2.06-.94-2.06-.94L8.5 2.5l-.94 2.06-2.06.94zm10 10l.94 2.06.94-2.06 2.06-.94-2.06-.94-.94-2.06-.94 2.06-2.06.94z\"/><path d=\"M17.41 7.96l-1.37-1.37c-.4-.4-.92-.59-1.43-.59-.52 0-1.04.2-1.43.59L10.3 9.45l-7.72 7.72c-.78.78-.78 2.05 0 2.83L4 21.41c.39.39.9.59 1.41.59.51 0 1.02-.2 1.41-.59l7.78-7.78 2.81-2.81c.8-.78.8-2.07 0-2.86zM5.41 20L4 18.59l7.72-7.72 1.47 1.35L5.41 20z\"/>\n",
              "  </svg>\n",
              "      </button>\n",
              "      \n",
              "  <style>\n",
              "    .colab-df-container {\n",
              "      display:flex;\n",
              "      flex-wrap:wrap;\n",
              "      gap: 12px;\n",
              "    }\n",
              "\n",
              "    .colab-df-convert {\n",
              "      background-color: #E8F0FE;\n",
              "      border: none;\n",
              "      border-radius: 50%;\n",
              "      cursor: pointer;\n",
              "      display: none;\n",
              "      fill: #1967D2;\n",
              "      height: 32px;\n",
              "      padding: 0 0 0 0;\n",
              "      width: 32px;\n",
              "    }\n",
              "\n",
              "    .colab-df-convert:hover {\n",
              "      background-color: #E2EBFA;\n",
              "      box-shadow: 0px 1px 2px rgba(60, 64, 67, 0.3), 0px 1px 3px 1px rgba(60, 64, 67, 0.15);\n",
              "      fill: #174EA6;\n",
              "    }\n",
              "\n",
              "    [theme=dark] .colab-df-convert {\n",
              "      background-color: #3B4455;\n",
              "      fill: #D2E3FC;\n",
              "    }\n",
              "\n",
              "    [theme=dark] .colab-df-convert:hover {\n",
              "      background-color: #434B5C;\n",
              "      box-shadow: 0px 1px 3px 1px rgba(0, 0, 0, 0.15);\n",
              "      filter: drop-shadow(0px 1px 2px rgba(0, 0, 0, 0.3));\n",
              "      fill: #FFFFFF;\n",
              "    }\n",
              "  </style>\n",
              "\n",
              "      <script>\n",
              "        const buttonEl =\n",
              "          document.querySelector('#df-8a6d8848-a4f9-4dd0-8079-0907274cd7d8 button.colab-df-convert');\n",
              "        buttonEl.style.display =\n",
              "          google.colab.kernel.accessAllowed ? 'block' : 'none';\n",
              "\n",
              "        async function convertToInteractive(key) {\n",
              "          const element = document.querySelector('#df-8a6d8848-a4f9-4dd0-8079-0907274cd7d8');\n",
              "          const dataTable =\n",
              "            await google.colab.kernel.invokeFunction('convertToInteractive',\n",
              "                                                     [key], {});\n",
              "          if (!dataTable) return;\n",
              "\n",
              "          const docLinkHtml = 'Like what you see? Visit the ' +\n",
              "            '<a target=\"_blank\" href=https://colab.research.google.com/notebooks/data_table.ipynb>data table notebook</a>'\n",
              "            + ' to learn more about interactive tables.';\n",
              "          element.innerHTML = '';\n",
              "          dataTable['output_type'] = 'display_data';\n",
              "          await google.colab.output.renderOutput(dataTable, element);\n",
              "          const docLink = document.createElement('div');\n",
              "          docLink.innerHTML = docLinkHtml;\n",
              "          element.appendChild(docLink);\n",
              "        }\n",
              "      </script>\n",
              "    </div>\n",
              "  </div>\n",
              "  "
            ]
          },
          "metadata": {},
          "execution_count": 5
        }
      ]
    },
    {
      "cell_type": "code",
      "source": [
        "df = df.fillna(df.median())"
      ],
      "metadata": {
        "colab": {
          "base_uri": "https://localhost:8080/"
        },
        "id": "-moTp2X_4orc",
        "outputId": "b2828579-57fa-4c65-e07a-8b377464392f"
      },
      "execution_count": null,
      "outputs": [
        {
          "output_type": "stream",
          "name": "stderr",
          "text": [
            "/usr/local/lib/python3.7/dist-packages/ipykernel_launcher.py:1: FutureWarning: Dropping of nuisance columns in DataFrame reductions (with 'numeric_only=None') is deprecated; in a future version this will raise TypeError.  Select only valid columns before calling the reduction.\n",
            "  \"\"\"Entry point for launching an IPython kernel.\n"
          ]
        }
      ]
    },
    {
      "cell_type": "code",
      "source": [
        "df = df.dropna()\n",
        "len(df)"
      ],
      "metadata": {
        "colab": {
          "base_uri": "https://localhost:8080/"
        },
        "id": "3PZx7HKyBug6",
        "outputId": "e727b2f5-7c54-4184-b63b-925d102ca648"
      },
      "execution_count": null,
      "outputs": [
        {
          "output_type": "execute_result",
          "data": {
            "text/plain": [
              "63615"
            ]
          },
          "metadata": {},
          "execution_count": 7
        }
      ]
    },
    {
      "cell_type": "markdown",
      "source": [
        "O primeiro processo que precisa ser realizado é a limpeza dos dados, alguns dados como ocupação, idade, balanço mensal, renda anual, etc possuem caracteres especiais não esperados ou não estão no formato correto. O primeiro ponto de correção é remover esses caracteres e transformar os valores para os formatos corretos."
      ],
      "metadata": {
        "id": "v2wH809OZoyj"
      }
    },
    {
      "cell_type": "code",
      "source": [
        "df['Occupation'].unique()"
      ],
      "metadata": {
        "colab": {
          "base_uri": "https://localhost:8080/"
        },
        "id": "2qBR1n36FjUO",
        "outputId": "6a7526c9-b3a4-4885-bbfb-3ae9f8a8cb6e"
      },
      "execution_count": null,
      "outputs": [
        {
          "output_type": "execute_result",
          "data": {
            "text/plain": [
              "array(['Scientist', '_______', 'Teacher', 'Engineer', 'Entrepreneur',\n",
              "       'Lawyer', 'Media_Manager', 'Doctor', 'Journalist', 'Manager',\n",
              "       'Mechanic', 'Writer', 'Accountant', 'Architect', 'Musician',\n",
              "       'Developer'], dtype=object)"
            ]
          },
          "metadata": {},
          "execution_count": 8
        }
      ]
    },
    {
      "cell_type": "code",
      "source": [
        "df['Occupation'] = df.Occupation.replace('_______',None)"
      ],
      "metadata": {
        "colab": {
          "base_uri": "https://localhost:8080/"
        },
        "id": "SKkDG4VACyi2",
        "outputId": "66d24e17-b829-4ef0-9892-da029a6c501a"
      },
      "execution_count": null,
      "outputs": [
        {
          "output_type": "stream",
          "name": "stderr",
          "text": [
            "/usr/local/lib/python3.7/dist-packages/ipykernel_launcher.py:1: SettingWithCopyWarning: \n",
            "A value is trying to be set on a copy of a slice from a DataFrame.\n",
            "Try using .loc[row_indexer,col_indexer] = value instead\n",
            "\n",
            "See the caveats in the documentation: https://pandas.pydata.org/pandas-docs/stable/user_guide/indexing.html#returning-a-view-versus-a-copy\n",
            "  \"\"\"Entry point for launching an IPython kernel.\n"
          ]
        }
      ]
    },
    {
      "cell_type": "code",
      "source": [
        "df = df[pd.to_numeric(df['Age'], errors='coerce', downcast=\"integer\").notnull()]\n",
        "df['Age'] = pd.to_numeric(df['Age'])\n",
        "df = df[pd.to_numeric(df['Monthly_Balance'], errors='coerce').notnull()]\n",
        "df['Monthly_Balance'] = pd.to_numeric(df['Monthly_Balance'])\n",
        "df = df[pd.to_numeric(df['Annual_Income'], errors='coerce').notnull()]\n",
        "df['Annual_Income'] = pd.to_numeric(df['Annual_Income'])\n",
        "df = df[pd.to_numeric(df['Num_of_Loan'], errors='coerce').notnull()]\n",
        "df['Num_of_Loan'] = pd.to_numeric(df['Num_of_Loan'])\n",
        "df = df[pd.to_numeric(df['Changed_Credit_Limit'], errors='coerce').notnull()]\n",
        "df['Changed_Credit_Limit'] = pd.to_numeric(df['Changed_Credit_Limit'])\n",
        "df = df[pd.to_numeric(df['Num_of_Delayed_Payment'], errors='coerce').notnull()]\n",
        "df['Num_of_Delayed_Payment'] = pd.to_numeric(df['Num_of_Delayed_Payment'])\n",
        "df = df[pd.to_numeric(df['Outstanding_Debt'], errors='coerce').notnull()]\n",
        "df['Outstanding_Debt'] = pd.to_numeric(df['Outstanding_Debt'])\n",
        "df = df[pd.to_numeric(df['Amount_invested_monthly'], errors='coerce').notnull()]\n",
        "df['Amount_invested_monthly'] = pd.to_numeric(df['Amount_invested_monthly'])"
      ],
      "metadata": {
        "colab": {
          "base_uri": "https://localhost:8080/"
        },
        "id": "3E8kGynICmiI",
        "outputId": "4e86d5d3-06d4-4f00-d8ac-a9eb4d8d42df"
      },
      "execution_count": null,
      "outputs": [
        {
          "output_type": "stream",
          "name": "stderr",
          "text": [
            "/usr/local/lib/python3.7/dist-packages/ipykernel_launcher.py:2: SettingWithCopyWarning: \n",
            "A value is trying to be set on a copy of a slice from a DataFrame.\n",
            "Try using .loc[row_indexer,col_indexer] = value instead\n",
            "\n",
            "See the caveats in the documentation: https://pandas.pydata.org/pandas-docs/stable/user_guide/indexing.html#returning-a-view-versus-a-copy\n",
            "  \n",
            "/usr/local/lib/python3.7/dist-packages/ipykernel_launcher.py:6: SettingWithCopyWarning: \n",
            "A value is trying to be set on a copy of a slice from a DataFrame.\n",
            "Try using .loc[row_indexer,col_indexer] = value instead\n",
            "\n",
            "See the caveats in the documentation: https://pandas.pydata.org/pandas-docs/stable/user_guide/indexing.html#returning-a-view-versus-a-copy\n",
            "  \n",
            "/usr/local/lib/python3.7/dist-packages/ipykernel_launcher.py:12: SettingWithCopyWarning: \n",
            "A value is trying to be set on a copy of a slice from a DataFrame.\n",
            "Try using .loc[row_indexer,col_indexer] = value instead\n",
            "\n",
            "See the caveats in the documentation: https://pandas.pydata.org/pandas-docs/stable/user_guide/indexing.html#returning-a-view-versus-a-copy\n",
            "  if sys.path[0] == '':\n"
          ]
        }
      ]
    },
    {
      "cell_type": "code",
      "source": [
        "df['Credit_Mix'] = df.Credit_Mix.replace('_',None)\n",
        "df.Credit_Mix[df.Credit_Mix=='_']"
      ],
      "metadata": {
        "colab": {
          "base_uri": "https://localhost:8080/"
        },
        "id": "Zo1gSfVHDVQH",
        "outputId": "3bde1ae2-b754-4f7b-b3f9-aa187cde765a"
      },
      "execution_count": null,
      "outputs": [
        {
          "output_type": "execute_result",
          "data": {
            "text/plain": [
              "0    _\n",
              "Name: Credit_Mix, dtype: object"
            ]
          },
          "metadata": {},
          "execution_count": 11
        }
      ]
    },
    {
      "cell_type": "code",
      "source": [
        "df = df.drop(0)"
      ],
      "metadata": {
        "id": "eid8CAAsEfi6"
      },
      "execution_count": null,
      "outputs": []
    },
    {
      "cell_type": "code",
      "source": [
        "df['Payment_Behaviour'] = df.Payment_Behaviour.replace('!@9#%8',None)"
      ],
      "metadata": {
        "id": "ynvYUFJ9FWr0"
      },
      "execution_count": null,
      "outputs": []
    },
    {
      "cell_type": "markdown",
      "source": [
        "O ID está em hexadecimal, portanto é preciso transformá-lo em inteiro"
      ],
      "metadata": {
        "id": "uibHLAB5fsBT"
      }
    },
    {
      "cell_type": "code",
      "source": [
        "df['ID'] = df['ID'].apply(int, base=16)"
      ],
      "metadata": {
        "id": "_e88YVgRRXKM"
      },
      "execution_count": null,
      "outputs": []
    },
    {
      "cell_type": "code",
      "source": [
        "df = df.dropna()\n",
        "df_visualization = df.copy()"
      ],
      "metadata": {
        "id": "d9Fuwe2SkyC5"
      },
      "execution_count": null,
      "outputs": []
    },
    {
      "cell_type": "code",
      "source": [
        "df_visualization.describe()"
      ],
      "metadata": {
        "colab": {
          "base_uri": "https://localhost:8080/",
          "height": 364
        },
        "id": "eDm0p8grQquM",
        "outputId": "81090e7d-616f-48f3-b4af-2436f4ff21c4"
      },
      "execution_count": null,
      "outputs": [
        {
          "output_type": "execute_result",
          "data": {
            "text/plain": [
              "                  ID           Age  Annual_Income  Monthly_Inhand_Salary  \\\n",
              "count   48172.000000  48172.000000   4.817200e+04           48172.000000   \n",
              "mean    80453.251079    110.075313   1.809943e+05            3882.245418   \n",
              "std     43177.710830    688.891006   1.479915e+06            2872.633569   \n",
              "min      5637.000000   -500.000000   7.005930e+03             303.645417   \n",
              "25%     43128.750000     24.000000   1.882202e+04            1711.880000   \n",
              "50%     80391.000000     33.000000   3.597424e+04            3093.745000   \n",
              "75%    117789.000000     42.000000   6.986261e+04            5143.676875   \n",
              "max    155627.000000   8697.000000   2.419806e+07           15204.633333   \n",
              "\n",
              "       Num_Bank_Accounts  Num_Credit_Card  Interest_Rate  Num_of_Loan  \\\n",
              "count       48172.000000     48172.000000   48172.000000  48172.00000   \n",
              "mean           17.262310        23.382006      76.830316      3.12827   \n",
              "std           117.695853       131.711519     482.152742     62.04194   \n",
              "min            -1.000000         0.000000       1.000000   -100.00000   \n",
              "25%             4.000000         4.000000       8.000000      2.00000   \n",
              "50%             6.000000         6.000000      15.000000      3.00000   \n",
              "75%             8.000000         7.000000      22.000000      6.00000   \n",
              "max          1798.000000      1499.000000    5797.000000   1485.00000   \n",
              "\n",
              "       Delay_from_due_date  Num_of_Delayed_Payment  Changed_Credit_Limit  \\\n",
              "count         48172.000000            48172.000000          48172.000000   \n",
              "mean             21.987648               31.742859             10.720256   \n",
              "std              15.261736              228.381940              6.888445   \n",
              "min              -5.000000               -3.000000             -6.450000   \n",
              "25%              10.000000                9.000000              5.607500   \n",
              "50%              19.000000               14.000000              9.700000   \n",
              "75%              29.000000               19.000000             15.442500   \n",
              "max              67.000000             4397.000000             36.970000   \n",
              "\n",
              "       Num_Credit_Inquiries  Outstanding_Debt  Credit_Utilization_Ratio  \\\n",
              "count          48172.000000      48172.000000              48172.000000   \n",
              "mean              26.869613       1509.957619                 32.197538   \n",
              "std              186.008367       1189.730622                  5.062767   \n",
              "min                0.000000          0.230000                 20.881250   \n",
              "25%                3.000000        609.130000                 28.001163   \n",
              "50%                6.000000       1241.690000                 32.225696   \n",
              "75%                9.000000       2132.130000                 36.387248   \n",
              "max             2594.000000       4998.070000                 49.564519   \n",
              "\n",
              "       Total_EMI_per_month  Amount_invested_monthly  Monthly_Balance  \n",
              "count         48172.000000             48172.000000     48172.000000  \n",
              "mean           1431.428977               181.639311       382.302199  \n",
              "std            8360.195602               176.425270       195.528478  \n",
              "min               4.462837                 0.000000         0.007760  \n",
              "25%              41.167536                69.843829       264.715741  \n",
              "50%              78.271158               123.886696       325.107559  \n",
              "75%             169.483113               223.595540       444.411673  \n",
              "max           82256.000000              1572.803231      1552.946094  "
            ],
            "text/html": [
              "\n",
              "  <div id=\"df-07f3d16a-cf63-40e1-bc67-ce03d25213d4\">\n",
              "    <div class=\"colab-df-container\">\n",
              "      <div>\n",
              "<style scoped>\n",
              "    .dataframe tbody tr th:only-of-type {\n",
              "        vertical-align: middle;\n",
              "    }\n",
              "\n",
              "    .dataframe tbody tr th {\n",
              "        vertical-align: top;\n",
              "    }\n",
              "\n",
              "    .dataframe thead th {\n",
              "        text-align: right;\n",
              "    }\n",
              "</style>\n",
              "<table border=\"1\" class=\"dataframe\">\n",
              "  <thead>\n",
              "    <tr style=\"text-align: right;\">\n",
              "      <th></th>\n",
              "      <th>ID</th>\n",
              "      <th>Age</th>\n",
              "      <th>Annual_Income</th>\n",
              "      <th>Monthly_Inhand_Salary</th>\n",
              "      <th>Num_Bank_Accounts</th>\n",
              "      <th>Num_Credit_Card</th>\n",
              "      <th>Interest_Rate</th>\n",
              "      <th>Num_of_Loan</th>\n",
              "      <th>Delay_from_due_date</th>\n",
              "      <th>Num_of_Delayed_Payment</th>\n",
              "      <th>Changed_Credit_Limit</th>\n",
              "      <th>Num_Credit_Inquiries</th>\n",
              "      <th>Outstanding_Debt</th>\n",
              "      <th>Credit_Utilization_Ratio</th>\n",
              "      <th>Total_EMI_per_month</th>\n",
              "      <th>Amount_invested_monthly</th>\n",
              "      <th>Monthly_Balance</th>\n",
              "    </tr>\n",
              "  </thead>\n",
              "  <tbody>\n",
              "    <tr>\n",
              "      <th>count</th>\n",
              "      <td>48172.000000</td>\n",
              "      <td>48172.000000</td>\n",
              "      <td>4.817200e+04</td>\n",
              "      <td>48172.000000</td>\n",
              "      <td>48172.000000</td>\n",
              "      <td>48172.000000</td>\n",
              "      <td>48172.000000</td>\n",
              "      <td>48172.00000</td>\n",
              "      <td>48172.000000</td>\n",
              "      <td>48172.000000</td>\n",
              "      <td>48172.000000</td>\n",
              "      <td>48172.000000</td>\n",
              "      <td>48172.000000</td>\n",
              "      <td>48172.000000</td>\n",
              "      <td>48172.000000</td>\n",
              "      <td>48172.000000</td>\n",
              "      <td>48172.000000</td>\n",
              "    </tr>\n",
              "    <tr>\n",
              "      <th>mean</th>\n",
              "      <td>80453.251079</td>\n",
              "      <td>110.075313</td>\n",
              "      <td>1.809943e+05</td>\n",
              "      <td>3882.245418</td>\n",
              "      <td>17.262310</td>\n",
              "      <td>23.382006</td>\n",
              "      <td>76.830316</td>\n",
              "      <td>3.12827</td>\n",
              "      <td>21.987648</td>\n",
              "      <td>31.742859</td>\n",
              "      <td>10.720256</td>\n",
              "      <td>26.869613</td>\n",
              "      <td>1509.957619</td>\n",
              "      <td>32.197538</td>\n",
              "      <td>1431.428977</td>\n",
              "      <td>181.639311</td>\n",
              "      <td>382.302199</td>\n",
              "    </tr>\n",
              "    <tr>\n",
              "      <th>std</th>\n",
              "      <td>43177.710830</td>\n",
              "      <td>688.891006</td>\n",
              "      <td>1.479915e+06</td>\n",
              "      <td>2872.633569</td>\n",
              "      <td>117.695853</td>\n",
              "      <td>131.711519</td>\n",
              "      <td>482.152742</td>\n",
              "      <td>62.04194</td>\n",
              "      <td>15.261736</td>\n",
              "      <td>228.381940</td>\n",
              "      <td>6.888445</td>\n",
              "      <td>186.008367</td>\n",
              "      <td>1189.730622</td>\n",
              "      <td>5.062767</td>\n",
              "      <td>8360.195602</td>\n",
              "      <td>176.425270</td>\n",
              "      <td>195.528478</td>\n",
              "    </tr>\n",
              "    <tr>\n",
              "      <th>min</th>\n",
              "      <td>5637.000000</td>\n",
              "      <td>-500.000000</td>\n",
              "      <td>7.005930e+03</td>\n",
              "      <td>303.645417</td>\n",
              "      <td>-1.000000</td>\n",
              "      <td>0.000000</td>\n",
              "      <td>1.000000</td>\n",
              "      <td>-100.00000</td>\n",
              "      <td>-5.000000</td>\n",
              "      <td>-3.000000</td>\n",
              "      <td>-6.450000</td>\n",
              "      <td>0.000000</td>\n",
              "      <td>0.230000</td>\n",
              "      <td>20.881250</td>\n",
              "      <td>4.462837</td>\n",
              "      <td>0.000000</td>\n",
              "      <td>0.007760</td>\n",
              "    </tr>\n",
              "    <tr>\n",
              "      <th>25%</th>\n",
              "      <td>43128.750000</td>\n",
              "      <td>24.000000</td>\n",
              "      <td>1.882202e+04</td>\n",
              "      <td>1711.880000</td>\n",
              "      <td>4.000000</td>\n",
              "      <td>4.000000</td>\n",
              "      <td>8.000000</td>\n",
              "      <td>2.00000</td>\n",
              "      <td>10.000000</td>\n",
              "      <td>9.000000</td>\n",
              "      <td>5.607500</td>\n",
              "      <td>3.000000</td>\n",
              "      <td>609.130000</td>\n",
              "      <td>28.001163</td>\n",
              "      <td>41.167536</td>\n",
              "      <td>69.843829</td>\n",
              "      <td>264.715741</td>\n",
              "    </tr>\n",
              "    <tr>\n",
              "      <th>50%</th>\n",
              "      <td>80391.000000</td>\n",
              "      <td>33.000000</td>\n",
              "      <td>3.597424e+04</td>\n",
              "      <td>3093.745000</td>\n",
              "      <td>6.000000</td>\n",
              "      <td>6.000000</td>\n",
              "      <td>15.000000</td>\n",
              "      <td>3.00000</td>\n",
              "      <td>19.000000</td>\n",
              "      <td>14.000000</td>\n",
              "      <td>9.700000</td>\n",
              "      <td>6.000000</td>\n",
              "      <td>1241.690000</td>\n",
              "      <td>32.225696</td>\n",
              "      <td>78.271158</td>\n",
              "      <td>123.886696</td>\n",
              "      <td>325.107559</td>\n",
              "    </tr>\n",
              "    <tr>\n",
              "      <th>75%</th>\n",
              "      <td>117789.000000</td>\n",
              "      <td>42.000000</td>\n",
              "      <td>6.986261e+04</td>\n",
              "      <td>5143.676875</td>\n",
              "      <td>8.000000</td>\n",
              "      <td>7.000000</td>\n",
              "      <td>22.000000</td>\n",
              "      <td>6.00000</td>\n",
              "      <td>29.000000</td>\n",
              "      <td>19.000000</td>\n",
              "      <td>15.442500</td>\n",
              "      <td>9.000000</td>\n",
              "      <td>2132.130000</td>\n",
              "      <td>36.387248</td>\n",
              "      <td>169.483113</td>\n",
              "      <td>223.595540</td>\n",
              "      <td>444.411673</td>\n",
              "    </tr>\n",
              "    <tr>\n",
              "      <th>max</th>\n",
              "      <td>155627.000000</td>\n",
              "      <td>8697.000000</td>\n",
              "      <td>2.419806e+07</td>\n",
              "      <td>15204.633333</td>\n",
              "      <td>1798.000000</td>\n",
              "      <td>1499.000000</td>\n",
              "      <td>5797.000000</td>\n",
              "      <td>1485.00000</td>\n",
              "      <td>67.000000</td>\n",
              "      <td>4397.000000</td>\n",
              "      <td>36.970000</td>\n",
              "      <td>2594.000000</td>\n",
              "      <td>4998.070000</td>\n",
              "      <td>49.564519</td>\n",
              "      <td>82256.000000</td>\n",
              "      <td>1572.803231</td>\n",
              "      <td>1552.946094</td>\n",
              "    </tr>\n",
              "  </tbody>\n",
              "</table>\n",
              "</div>\n",
              "      <button class=\"colab-df-convert\" onclick=\"convertToInteractive('df-07f3d16a-cf63-40e1-bc67-ce03d25213d4')\"\n",
              "              title=\"Convert this dataframe to an interactive table.\"\n",
              "              style=\"display:none;\">\n",
              "        \n",
              "  <svg xmlns=\"http://www.w3.org/2000/svg\" height=\"24px\"viewBox=\"0 0 24 24\"\n",
              "       width=\"24px\">\n",
              "    <path d=\"M0 0h24v24H0V0z\" fill=\"none\"/>\n",
              "    <path d=\"M18.56 5.44l.94 2.06.94-2.06 2.06-.94-2.06-.94-.94-2.06-.94 2.06-2.06.94zm-11 1L8.5 8.5l.94-2.06 2.06-.94-2.06-.94L8.5 2.5l-.94 2.06-2.06.94zm10 10l.94 2.06.94-2.06 2.06-.94-2.06-.94-.94-2.06-.94 2.06-2.06.94z\"/><path d=\"M17.41 7.96l-1.37-1.37c-.4-.4-.92-.59-1.43-.59-.52 0-1.04.2-1.43.59L10.3 9.45l-7.72 7.72c-.78.78-.78 2.05 0 2.83L4 21.41c.39.39.9.59 1.41.59.51 0 1.02-.2 1.41-.59l7.78-7.78 2.81-2.81c.8-.78.8-2.07 0-2.86zM5.41 20L4 18.59l7.72-7.72 1.47 1.35L5.41 20z\"/>\n",
              "  </svg>\n",
              "      </button>\n",
              "      \n",
              "  <style>\n",
              "    .colab-df-container {\n",
              "      display:flex;\n",
              "      flex-wrap:wrap;\n",
              "      gap: 12px;\n",
              "    }\n",
              "\n",
              "    .colab-df-convert {\n",
              "      background-color: #E8F0FE;\n",
              "      border: none;\n",
              "      border-radius: 50%;\n",
              "      cursor: pointer;\n",
              "      display: none;\n",
              "      fill: #1967D2;\n",
              "      height: 32px;\n",
              "      padding: 0 0 0 0;\n",
              "      width: 32px;\n",
              "    }\n",
              "\n",
              "    .colab-df-convert:hover {\n",
              "      background-color: #E2EBFA;\n",
              "      box-shadow: 0px 1px 2px rgba(60, 64, 67, 0.3), 0px 1px 3px 1px rgba(60, 64, 67, 0.15);\n",
              "      fill: #174EA6;\n",
              "    }\n",
              "\n",
              "    [theme=dark] .colab-df-convert {\n",
              "      background-color: #3B4455;\n",
              "      fill: #D2E3FC;\n",
              "    }\n",
              "\n",
              "    [theme=dark] .colab-df-convert:hover {\n",
              "      background-color: #434B5C;\n",
              "      box-shadow: 0px 1px 3px 1px rgba(0, 0, 0, 0.15);\n",
              "      filter: drop-shadow(0px 1px 2px rgba(0, 0, 0, 0.3));\n",
              "      fill: #FFFFFF;\n",
              "    }\n",
              "  </style>\n",
              "\n",
              "      <script>\n",
              "        const buttonEl =\n",
              "          document.querySelector('#df-07f3d16a-cf63-40e1-bc67-ce03d25213d4 button.colab-df-convert');\n",
              "        buttonEl.style.display =\n",
              "          google.colab.kernel.accessAllowed ? 'block' : 'none';\n",
              "\n",
              "        async function convertToInteractive(key) {\n",
              "          const element = document.querySelector('#df-07f3d16a-cf63-40e1-bc67-ce03d25213d4');\n",
              "          const dataTable =\n",
              "            await google.colab.kernel.invokeFunction('convertToInteractive',\n",
              "                                                     [key], {});\n",
              "          if (!dataTable) return;\n",
              "\n",
              "          const docLinkHtml = 'Like what you see? Visit the ' +\n",
              "            '<a target=\"_blank\" href=https://colab.research.google.com/notebooks/data_table.ipynb>data table notebook</a>'\n",
              "            + ' to learn more about interactive tables.';\n",
              "          element.innerHTML = '';\n",
              "          dataTable['output_type'] = 'display_data';\n",
              "          await google.colab.output.renderOutput(dataTable, element);\n",
              "          const docLink = document.createElement('div');\n",
              "          docLink.innerHTML = docLinkHtml;\n",
              "          element.appendChild(docLink);\n",
              "        }\n",
              "      </script>\n",
              "    </div>\n",
              "  </div>\n",
              "  "
            ]
          },
          "metadata": {},
          "execution_count": 16
        }
      ]
    },
    {
      "cell_type": "markdown",
      "source": [
        "Algumas visualizações ajudam a entender a dinâmica dos dados, como esperado, existem muitos valores outliers mas ainda dentro do previsto, visto que são dados financeiros, entretanto, a coluna idade possui valores não esperados (idades maiores que 100 anos) e deverá ser corrigida a frente."
      ],
      "metadata": {
        "id": "NGQoi_JagOgU"
      }
    },
    {
      "cell_type": "code",
      "source": [
        "df_visualization.hist(figsize=(15,15))"
      ],
      "metadata": {
        "colab": {
          "base_uri": "https://localhost:8080/",
          "height": 1000
        },
        "id": "-zbOLF8zZG_U",
        "outputId": "e885a85a-14c6-43b8-a46b-e4adfd6f8061"
      },
      "execution_count": null,
      "outputs": [
        {
          "output_type": "execute_result",
          "data": {
            "text/plain": [
              "array([[<matplotlib.axes._subplots.AxesSubplot object at 0x7fa56c983c90>,\n",
              "        <matplotlib.axes._subplots.AxesSubplot object at 0x7fa56c9682d0>,\n",
              "        <matplotlib.axes._subplots.AxesSubplot object at 0x7fa56c91b8d0>,\n",
              "        <matplotlib.axes._subplots.AxesSubplot object at 0x7fa56c8ceed0>],\n",
              "       [<matplotlib.axes._subplots.AxesSubplot object at 0x7fa56c890510>,\n",
              "        <matplotlib.axes._subplots.AxesSubplot object at 0x7fa56c844b10>,\n",
              "        <matplotlib.axes._subplots.AxesSubplot object at 0x7fa56c8091d0>,\n",
              "        <matplotlib.axes._subplots.AxesSubplot object at 0x7fa56c7be710>],\n",
              "       [<matplotlib.axes._subplots.AxesSubplot object at 0x7fa56c7be750>,\n",
              "        <matplotlib.axes._subplots.AxesSubplot object at 0x7fa56c775e50>,\n",
              "        <matplotlib.axes._subplots.AxesSubplot object at 0x7fa56c76e990>,\n",
              "        <matplotlib.axes._subplots.AxesSubplot object at 0x7fa56c726f90>],\n",
              "       [<matplotlib.axes._subplots.AxesSubplot object at 0x7fa56c6e65d0>,\n",
              "        <matplotlib.axes._subplots.AxesSubplot object at 0x7fa56c69ebd0>,\n",
              "        <matplotlib.axes._subplots.AxesSubplot object at 0x7fa56c663210>,\n",
              "        <matplotlib.axes._subplots.AxesSubplot object at 0x7fa56c618810>],\n",
              "       [<matplotlib.axes._subplots.AxesSubplot object at 0x7fa56c5cde10>,\n",
              "        <matplotlib.axes._subplots.AxesSubplot object at 0x7fa56c594450>,\n",
              "        <matplotlib.axes._subplots.AxesSubplot object at 0x7fa56c549a50>,\n",
              "        <matplotlib.axes._subplots.AxesSubplot object at 0x7fa56c4f5b90>]],\n",
              "      dtype=object)"
            ]
          },
          "metadata": {},
          "execution_count": 17
        },
        {
          "output_type": "display_data",
          "data": {
            "text/plain": [
              "<Figure size 1080x1080 with 20 Axes>"
            ],
            "image/png": "[encoded data removed]"
          },
          "metadata": {
            "needs_background": "light"
          }
        }
      ]
    },
    {
      "cell_type": "markdown",
      "source": [
        "Nos dados abaixo, é possível extrair alguns dados importantes. Em primeiro lugar a distribuição por Score na base de dados não é uniforme e não parece ser aleatória, além disso a profissão e o mês são uniformemente distribuídos."
      ],
      "metadata": {
        "id": "-6qXnw0diH6F"
      }
    },
    {
      "cell_type": "code",
      "source": [
        "df_visualization.groupby(\"Credit_Score\").count()['ID'].plot.bar(x='Credit_Score',y='ID')"
      ],
      "metadata": {
        "colab": {
          "base_uri": "https://localhost:8080/",
          "height": 333
        },
        "id": "6elPrG5GfYR7",
        "outputId": "a2d7d7fc-1a33-40a7-e7f3-93e4eed28874"
      },
      "execution_count": null,
      "outputs": [
        {
          "output_type": "execute_result",
          "data": {
            "text/plain": [
              "<matplotlib.axes._subplots.AxesSubplot at 0x7fa56bb6bf50>"
            ]
          },
          "metadata": {},
          "execution_count": 18
        },
        {
          "output_type": "display_data",
          "data": {
            "text/plain": [
              "<Figure size 432x288 with 1 Axes>"
            ],
            "image/png": "[encoded data removed]"
          },
          "metadata": {
            "needs_background": "light"
          }
        }
      ]
    },
    {
      "cell_type": "code",
      "source": [
        "df_visualization.groupby(\"Payment_of_Min_Amount\").count()['ID'].plot.bar(x='Payment_of_Min_Amount',y='ID')"
      ],
      "metadata": {
        "colab": {
          "base_uri": "https://localhost:8080/",
          "height": 303
        },
        "id": "VV9kc9cNf19N",
        "outputId": "5e3588ad-206a-4210-d9e5-497161680c24"
      },
      "execution_count": null,
      "outputs": [
        {
          "output_type": "execute_result",
          "data": {
            "text/plain": [
              "<matplotlib.axes._subplots.AxesSubplot at 0x7fa56bba5090>"
            ]
          },
          "metadata": {},
          "execution_count": 19
        },
        {
          "output_type": "display_data",
          "data": {
            "text/plain": [
              "<Figure size 432x288 with 1 Axes>"
            ],
            "image/png": "[encoded data removed]"
          },
          "metadata": {
            "needs_background": "light"
          }
        }
      ]
    },
    {
      "cell_type": "code",
      "source": [
        "df_visualization.groupby(\"Month\").count()['ID'].plot.bar(x='Month',y='ID')"
      ],
      "metadata": {
        "colab": {
          "base_uri": "https://localhost:8080/",
          "height": 331
        },
        "id": "hwNkDscXh4Oa",
        "outputId": "70a9e928-55fb-4adb-de36-3d732d21fd1c"
      },
      "execution_count": null,
      "outputs": [
        {
          "output_type": "execute_result",
          "data": {
            "text/plain": [
              "<matplotlib.axes._subplots.AxesSubplot at 0x7fa56a3097d0>"
            ]
          },
          "metadata": {},
          "execution_count": 20
        },
        {
          "output_type": "display_data",
          "data": {
            "text/plain": [
              "<Figure size 432x288 with 1 Axes>"
            ],
            "image/png": "[encoded data removed]"
          },
          "metadata": {
            "needs_background": "light"
          }
        }
      ]
    },
    {
      "cell_type": "code",
      "source": [
        "df_visualization.groupby(\"Occupation\").count()['ID'].plot.bar(x='Occupation',y='ID')"
      ],
      "metadata": {
        "colab": {
          "base_uri": "https://localhost:8080/",
          "height": 365
        },
        "id": "_zla0iR4hww0",
        "outputId": "5c1f94a8-50b7-4a7d-dd20-9b444e597051"
      },
      "execution_count": null,
      "outputs": [
        {
          "output_type": "execute_result",
          "data": {
            "text/plain": [
              "<matplotlib.axes._subplots.AxesSubplot at 0x7fa56a284890>"
            ]
          },
          "metadata": {},
          "execution_count": 21
        },
        {
          "output_type": "display_data",
          "data": {
            "text/plain": [
              "<Figure size 432x288 with 1 Axes>"
            ],
            "image/png": "[encoded data removed]"
          },
          "metadata": {
            "needs_background": "light"
          }
        }
      ]
    },
    {
      "cell_type": "code",
      "source": [
        "df_visualization[['Occupation','Annual_Income']].groupby('Occupation').median().reset_index().plot.bar(x='Occupation',y='Annual_Income')"
      ],
      "metadata": {
        "colab": {
          "base_uri": "https://localhost:8080/",
          "height": 365
        },
        "id": "lhWRCJ8y1l8l",
        "outputId": "8769aad3-dce2-4800-c743-52ac62f26501"
      },
      "execution_count": null,
      "outputs": [
        {
          "output_type": "execute_result",
          "data": {
            "text/plain": [
              "<matplotlib.axes._subplots.AxesSubplot at 0x7fa56a1b5fd0>"
            ]
          },
          "metadata": {},
          "execution_count": 22
        },
        {
          "output_type": "display_data",
          "data": {
            "text/plain": [
              "<Figure size 432x288 with 1 Axes>"
            ],
            "image/png": "[encoded data removed]"
          },
          "metadata": {
            "needs_background": "light"
          }
        }
      ]
    },
    {
      "cell_type": "code",
      "source": [
        "df_visualization.groupby(\"Payment_Behaviour\").count()['ID'].plot.bar(x='Payment_Behaviour',y='ID')"
      ],
      "metadata": {
        "colab": {
          "base_uri": "https://localhost:8080/",
          "height": 475
        },
        "id": "y0aPpewjwZ44",
        "outputId": "341845eb-04df-413b-86e1-2553db0a602e"
      },
      "execution_count": null,
      "outputs": [
        {
          "output_type": "execute_result",
          "data": {
            "text/plain": [
              "<matplotlib.axes._subplots.AxesSubplot at 0x7fa56ca79c50>"
            ]
          },
          "metadata": {},
          "execution_count": 23
        },
        {
          "output_type": "display_data",
          "data": {
            "text/plain": [
              "<Figure size 432x288 with 1 Axes>"
            ],
            "image/png": "[encoded data removed]"
          },
          "metadata": {
            "needs_background": "light"
          }
        }
      ]
    },
    {
      "cell_type": "code",
      "source": [
        "df_visualization['Type_of_Loan']"
      ],
      "metadata": {
        "colab": {
          "base_uri": "https://localhost:8080/"
        },
        "id": "l2xAZNuoiLU4",
        "outputId": "7d44b3f9-ef0c-4574-e5d2-a64e7ad866de"
      },
      "execution_count": null,
      "outputs": [
        {
          "output_type": "execute_result",
          "data": {
            "text/plain": [
              "3        Auto Loan, Credit-Builder Loan, Personal Loan,...\n",
              "5        Auto Loan, Credit-Builder Loan, Personal Loan,...\n",
              "9                                      Credit-Builder Loan\n",
              "12                                     Credit-Builder Loan\n",
              "13                                     Credit-Builder Loan\n",
              "                               ...                        \n",
              "99991    Personal Loan, Auto Loan, Mortgage Loan, Stude...\n",
              "99994                          Auto Loan, and Student Loan\n",
              "99995                          Auto Loan, and Student Loan\n",
              "99996                          Auto Loan, and Student Loan\n",
              "99997                          Auto Loan, and Student Loan\n",
              "Name: Type_of_Loan, Length: 48172, dtype: object"
            ]
          },
          "metadata": {},
          "execution_count": 24
        }
      ]
    },
    {
      "cell_type": "code",
      "source": [
        "df_visualization.select_dtypes(include=[np.number])"
      ],
      "metadata": {
        "colab": {
          "base_uri": "https://localhost:8080/",
          "height": 488
        },
        "id": "fMEdl_yvi9dK",
        "outputId": "e2b0d678-370d-48b6-fe22-f29ac6943498"
      },
      "execution_count": null,
      "outputs": [
        {
          "output_type": "execute_result",
          "data": {
            "text/plain": [
              "           ID  Age  Annual_Income  Monthly_Inhand_Salary  Num_Bank_Accounts  \\\n",
              "3        5637   23       19114.12            3093.745000                  3   \n",
              "5        5639   23       19114.12            3093.745000                  3   \n",
              "9        5647   28       34847.84            3037.986667                  2   \n",
              "12       5650   28       34847.84            3037.986667                  2   \n",
              "13       5651   28       34847.84            3037.986667                  2   \n",
              "...       ...  ...            ...                    ...                ...   \n",
              "99991  155617   29       20002.88            1929.906667                 10   \n",
              "99994  155624   25       39628.99            3359.415833                  4   \n",
              "99995  155625   25       39628.99            3359.415833                  4   \n",
              "99996  155626   25       39628.99            3359.415833                  4   \n",
              "99997  155627   25       39628.99            3359.415833                  4   \n",
              "\n",
              "       Num_Credit_Card  Interest_Rate  Num_of_Loan  Delay_from_due_date  \\\n",
              "3                    4              3            4                    5   \n",
              "5                    4              3            4                    8   \n",
              "9                    4              6            1                    7   \n",
              "12                   4              6            1                    3   \n",
              "13                   4              6            1                    3   \n",
              "...                ...            ...          ...                  ...   \n",
              "99991                8             29            5                   33   \n",
              "99994                6              7            2                   20   \n",
              "99995                6              7            2                   23   \n",
              "99996                6              7            2                   18   \n",
              "99997                6           5729            2                   27   \n",
              "\n",
              "       Num_of_Delayed_Payment  Changed_Credit_Limit  Num_Credit_Inquiries  \\\n",
              "3                           4                  6.27                   4.0   \n",
              "5                           4                  9.27                   4.0   \n",
              "9                           1                  7.42                   2.0   \n",
              "12                          1                  6.42                   2.0   \n",
              "13                          0                  5.42                   2.0   \n",
              "...                       ...                   ...                   ...   \n",
              "99991                      25                 18.31                   9.0   \n",
              "99994                       6                  9.50                   3.0   \n",
              "99995                       7                 11.50                   3.0   \n",
              "99996                       7                 11.50                   3.0   \n",
              "99997                       6                 11.50                   3.0   \n",
              "\n",
              "       Outstanding_Debt  Credit_Utilization_Ratio  Total_EMI_per_month  \\\n",
              "3                809.98                 31.377862            49.574949   \n",
              "5                809.98                 27.262259            49.574949   \n",
              "9                605.03                 38.550848            18.816215   \n",
              "12               605.03                 34.977895            18.816215   \n",
              "13               605.03                 33.381010            18.816215   \n",
              "...                 ...                       ...                  ...   \n",
              "99991           3571.70                 37.140784            60.964772   \n",
              "99994            502.38                 39.323569            35.104023   \n",
              "99995            502.38                 34.663572            35.104023   \n",
              "99996            502.38                 40.565631            35.104023   \n",
              "99997            502.38                 41.255522            35.104023   \n",
              "\n",
              "       Amount_invested_monthly  Monthly_Balance  \n",
              "3                   199.458074       223.451310  \n",
              "5                    62.430172       340.479212  \n",
              "9                    40.391238       484.591214  \n",
              "12                  130.115420       444.867032  \n",
              "13                   43.477190       481.505262  \n",
              "...                        ...              ...  \n",
              "99991                34.662906       337.362988  \n",
              "99994               140.581403       410.256158  \n",
              "99995                60.971333       479.866228  \n",
              "99996                54.185950       496.651610  \n",
              "99997                24.028477       516.809083  \n",
              "\n",
              "[48172 rows x 17 columns]"
            ],
            "text/html": [
              "\n",
              "  <div id=\"df-e299423f-93e5-4826-bf8b-1d67ff84841a\">\n",
              "    <div class=\"colab-df-container\">\n",
              "      <div>\n",
              "<style scoped>\n",
              "    .dataframe tbody tr th:only-of-type {\n",
              "        vertical-align: middle;\n",
              "    }\n",
              "\n",
              "    .dataframe tbody tr th {\n",
              "        vertical-align: top;\n",
              "    }\n",
              "\n",
              "    .dataframe thead th {\n",
              "        text-align: right;\n",
              "    }\n",
              "</style>\n",
              "<table border=\"1\" class=\"dataframe\">\n",
              "  <thead>\n",
              "    <tr style=\"text-align: right;\">\n",
              "      <th></th>\n",
              "      <th>ID</th>\n",
              "      <th>Age</th>\n",
              "      <th>Annual_Income</th>\n",
              "      <th>Monthly_Inhand_Salary</th>\n",
              "      <th>Num_Bank_Accounts</th>\n",
              "      <th>Num_Credit_Card</th>\n",
              "      <th>Interest_Rate</th>\n",
              "      <th>Num_of_Loan</th>\n",
              "      <th>Delay_from_due_date</th>\n",
              "      <th>Num_of_Delayed_Payment</th>\n",
              "      <th>Changed_Credit_Limit</th>\n",
              "      <th>Num_Credit_Inquiries</th>\n",
              "      <th>Outstanding_Debt</th>\n",
              "      <th>Credit_Utilization_Ratio</th>\n",
              "      <th>Total_EMI_per_month</th>\n",
              "      <th>Amount_invested_monthly</th>\n",
              "      <th>Monthly_Balance</th>\n",
              "    </tr>\n",
              "  </thead>\n",
              "  <tbody>\n",
              "    <tr>\n",
              "      <th>3</th>\n",
              "      <td>5637</td>\n",
              "      <td>23</td>\n",
              "      <td>19114.12</td>\n",
              "      <td>3093.745000</td>\n",
              "      <td>3</td>\n",
              "      <td>4</td>\n",
              "      <td>3</td>\n",
              "      <td>4</td>\n",
              "      <td>5</td>\n",
              "      <td>4</td>\n",
              "      <td>6.27</td>\n",
              "      <td>4.0</td>\n",
              "      <td>809.98</td>\n",
              "      <td>31.377862</td>\n",
              "      <td>49.574949</td>\n",
              "      <td>199.458074</td>\n",
              "      <td>223.451310</td>\n",
              "    </tr>\n",
              "    <tr>\n",
              "      <th>5</th>\n",
              "      <td>5639</td>\n",
              "      <td>23</td>\n",
              "      <td>19114.12</td>\n",
              "      <td>3093.745000</td>\n",
              "      <td>3</td>\n",
              "      <td>4</td>\n",
              "      <td>3</td>\n",
              "      <td>4</td>\n",
              "      <td>8</td>\n",
              "      <td>4</td>\n",
              "      <td>9.27</td>\n",
              "      <td>4.0</td>\n",
              "      <td>809.98</td>\n",
              "      <td>27.262259</td>\n",
              "      <td>49.574949</td>\n",
              "      <td>62.430172</td>\n",
              "      <td>340.479212</td>\n",
              "    </tr>\n",
              "    <tr>\n",
              "      <th>9</th>\n",
              "      <td>5647</td>\n",
              "      <td>28</td>\n",
              "      <td>34847.84</td>\n",
              "      <td>3037.986667</td>\n",
              "      <td>2</td>\n",
              "      <td>4</td>\n",
              "      <td>6</td>\n",
              "      <td>1</td>\n",
              "      <td>7</td>\n",
              "      <td>1</td>\n",
              "      <td>7.42</td>\n",
              "      <td>2.0</td>\n",
              "      <td>605.03</td>\n",
              "      <td>38.550848</td>\n",
              "      <td>18.816215</td>\n",
              "      <td>40.391238</td>\n",
              "      <td>484.591214</td>\n",
              "    </tr>\n",
              "    <tr>\n",
              "      <th>12</th>\n",
              "      <td>5650</td>\n",
              "      <td>28</td>\n",
              "      <td>34847.84</td>\n",
              "      <td>3037.986667</td>\n",
              "      <td>2</td>\n",
              "      <td>4</td>\n",
              "      <td>6</td>\n",
              "      <td>1</td>\n",
              "      <td>3</td>\n",
              "      <td>1</td>\n",
              "      <td>6.42</td>\n",
              "      <td>2.0</td>\n",
              "      <td>605.03</td>\n",
              "      <td>34.977895</td>\n",
              "      <td>18.816215</td>\n",
              "      <td>130.115420</td>\n",
              "      <td>444.867032</td>\n",
              "    </tr>\n",
              "    <tr>\n",
              "      <th>13</th>\n",
              "      <td>5651</td>\n",
              "      <td>28</td>\n",
              "      <td>34847.84</td>\n",
              "      <td>3037.986667</td>\n",
              "      <td>2</td>\n",
              "      <td>4</td>\n",
              "      <td>6</td>\n",
              "      <td>1</td>\n",
              "      <td>3</td>\n",
              "      <td>0</td>\n",
              "      <td>5.42</td>\n",
              "      <td>2.0</td>\n",
              "      <td>605.03</td>\n",
              "      <td>33.381010</td>\n",
              "      <td>18.816215</td>\n",
              "      <td>43.477190</td>\n",
              "      <td>481.505262</td>\n",
              "    </tr>\n",
              "    <tr>\n",
              "      <th>...</th>\n",
              "      <td>...</td>\n",
              "      <td>...</td>\n",
              "      <td>...</td>\n",
              "      <td>...</td>\n",
              "      <td>...</td>\n",
              "      <td>...</td>\n",
              "      <td>...</td>\n",
              "      <td>...</td>\n",
              "      <td>...</td>\n",
              "      <td>...</td>\n",
              "      <td>...</td>\n",
              "      <td>...</td>\n",
              "      <td>...</td>\n",
              "      <td>...</td>\n",
              "      <td>...</td>\n",
              "      <td>...</td>\n",
              "      <td>...</td>\n",
              "    </tr>\n",
              "    <tr>\n",
              "      <th>99991</th>\n",
              "      <td>155617</td>\n",
              "      <td>29</td>\n",
              "      <td>20002.88</td>\n",
              "      <td>1929.906667</td>\n",
              "      <td>10</td>\n",
              "      <td>8</td>\n",
              "      <td>29</td>\n",
              "      <td>5</td>\n",
              "      <td>33</td>\n",
              "      <td>25</td>\n",
              "      <td>18.31</td>\n",
              "      <td>9.0</td>\n",
              "      <td>3571.70</td>\n",
              "      <td>37.140784</td>\n",
              "      <td>60.964772</td>\n",
              "      <td>34.662906</td>\n",
              "      <td>337.362988</td>\n",
              "    </tr>\n",
              "    <tr>\n",
              "      <th>99994</th>\n",
              "      <td>155624</td>\n",
              "      <td>25</td>\n",
              "      <td>39628.99</td>\n",
              "      <td>3359.415833</td>\n",
              "      <td>4</td>\n",
              "      <td>6</td>\n",
              "      <td>7</td>\n",
              "      <td>2</td>\n",
              "      <td>20</td>\n",
              "      <td>6</td>\n",
              "      <td>9.50</td>\n",
              "      <td>3.0</td>\n",
              "      <td>502.38</td>\n",
              "      <td>39.323569</td>\n",
              "      <td>35.104023</td>\n",
              "      <td>140.581403</td>\n",
              "      <td>410.256158</td>\n",
              "    </tr>\n",
              "    <tr>\n",
              "      <th>99995</th>\n",
              "      <td>155625</td>\n",
              "      <td>25</td>\n",
              "      <td>39628.99</td>\n",
              "      <td>3359.415833</td>\n",
              "      <td>4</td>\n",
              "      <td>6</td>\n",
              "      <td>7</td>\n",
              "      <td>2</td>\n",
              "      <td>23</td>\n",
              "      <td>7</td>\n",
              "      <td>11.50</td>\n",
              "      <td>3.0</td>\n",
              "      <td>502.38</td>\n",
              "      <td>34.663572</td>\n",
              "      <td>35.104023</td>\n",
              "      <td>60.971333</td>\n",
              "      <td>479.866228</td>\n",
              "    </tr>\n",
              "    <tr>\n",
              "      <th>99996</th>\n",
              "      <td>155626</td>\n",
              "      <td>25</td>\n",
              "      <td>39628.99</td>\n",
              "      <td>3359.415833</td>\n",
              "      <td>4</td>\n",
              "      <td>6</td>\n",
              "      <td>7</td>\n",
              "      <td>2</td>\n",
              "      <td>18</td>\n",
              "      <td>7</td>\n",
              "      <td>11.50</td>\n",
              "      <td>3.0</td>\n",
              "      <td>502.38</td>\n",
              "      <td>40.565631</td>\n",
              "      <td>35.104023</td>\n",
              "      <td>54.185950</td>\n",
              "      <td>496.651610</td>\n",
              "    </tr>\n",
              "    <tr>\n",
              "      <th>99997</th>\n",
              "      <td>155627</td>\n",
              "      <td>25</td>\n",
              "      <td>39628.99</td>\n",
              "      <td>3359.415833</td>\n",
              "      <td>4</td>\n",
              "      <td>6</td>\n",
              "      <td>5729</td>\n",
              "      <td>2</td>\n",
              "      <td>27</td>\n",
              "      <td>6</td>\n",
              "      <td>11.50</td>\n",
              "      <td>3.0</td>\n",
              "      <td>502.38</td>\n",
              "      <td>41.255522</td>\n",
              "      <td>35.104023</td>\n",
              "      <td>24.028477</td>\n",
              "      <td>516.809083</td>\n",
              "    </tr>\n",
              "  </tbody>\n",
              "</table>\n",
              "<p>48172 rows × 17 columns</p>\n",
              "</div>\n",
              "      <button class=\"colab-df-convert\" onclick=\"convertToInteractive('df-e299423f-93e5-4826-bf8b-1d67ff84841a')\"\n",
              "              title=\"Convert this dataframe to an interactive table.\"\n",
              "              style=\"display:none;\">\n",
              "        \n",
              "  <svg xmlns=\"http://www.w3.org/2000/svg\" height=\"24px\"viewBox=\"0 0 24 24\"\n",
              "       width=\"24px\">\n",
              "    <path d=\"M0 0h24v24H0V0z\" fill=\"none\"/>\n",
              "    <path d=\"M18.56 5.44l.94 2.06.94-2.06 2.06-.94-2.06-.94-.94-2.06-.94 2.06-2.06.94zm-11 1L8.5 8.5l.94-2.06 2.06-.94-2.06-.94L8.5 2.5l-.94 2.06-2.06.94zm10 10l.94 2.06.94-2.06 2.06-.94-2.06-.94-.94-2.06-.94 2.06-2.06.94z\"/><path d=\"M17.41 7.96l-1.37-1.37c-.4-.4-.92-.59-1.43-.59-.52 0-1.04.2-1.43.59L10.3 9.45l-7.72 7.72c-.78.78-.78 2.05 0 2.83L4 21.41c.39.39.9.59 1.41.59.51 0 1.02-.2 1.41-.59l7.78-7.78 2.81-2.81c.8-.78.8-2.07 0-2.86zM5.41 20L4 18.59l7.72-7.72 1.47 1.35L5.41 20z\"/>\n",
              "  </svg>\n",
              "      </button>\n",
              "      \n",
              "  <style>\n",
              "    .colab-df-container {\n",
              "      display:flex;\n",
              "      flex-wrap:wrap;\n",
              "      gap: 12px;\n",
              "    }\n",
              "\n",
              "    .colab-df-convert {\n",
              "      background-color: #E8F0FE;\n",
              "      border: none;\n",
              "      border-radius: 50%;\n",
              "      cursor: pointer;\n",
              "      display: none;\n",
              "      fill: #1967D2;\n",
              "      height: 32px;\n",
              "      padding: 0 0 0 0;\n",
              "      width: 32px;\n",
              "    }\n",
              "\n",
              "    .colab-df-convert:hover {\n",
              "      background-color: #E2EBFA;\n",
              "      box-shadow: 0px 1px 2px rgba(60, 64, 67, 0.3), 0px 1px 3px 1px rgba(60, 64, 67, 0.15);\n",
              "      fill: #174EA6;\n",
              "    }\n",
              "\n",
              "    [theme=dark] .colab-df-convert {\n",
              "      background-color: #3B4455;\n",
              "      fill: #D2E3FC;\n",
              "    }\n",
              "\n",
              "    [theme=dark] .colab-df-convert:hover {\n",
              "      background-color: #434B5C;\n",
              "      box-shadow: 0px 1px 3px 1px rgba(0, 0, 0, 0.15);\n",
              "      filter: drop-shadow(0px 1px 2px rgba(0, 0, 0, 0.3));\n",
              "      fill: #FFFFFF;\n",
              "    }\n",
              "  </style>\n",
              "\n",
              "      <script>\n",
              "        const buttonEl =\n",
              "          document.querySelector('#df-e299423f-93e5-4826-bf8b-1d67ff84841a button.colab-df-convert');\n",
              "        buttonEl.style.display =\n",
              "          google.colab.kernel.accessAllowed ? 'block' : 'none';\n",
              "\n",
              "        async function convertToInteractive(key) {\n",
              "          const element = document.querySelector('#df-e299423f-93e5-4826-bf8b-1d67ff84841a');\n",
              "          const dataTable =\n",
              "            await google.colab.kernel.invokeFunction('convertToInteractive',\n",
              "                                                     [key], {});\n",
              "          if (!dataTable) return;\n",
              "\n",
              "          const docLinkHtml = 'Like what you see? Visit the ' +\n",
              "            '<a target=\"_blank\" href=https://colab.research.google.com/notebooks/data_table.ipynb>data table notebook</a>'\n",
              "            + ' to learn more about interactive tables.';\n",
              "          element.innerHTML = '';\n",
              "          dataTable['output_type'] = 'display_data';\n",
              "          await google.colab.output.renderOutput(dataTable, element);\n",
              "          const docLink = document.createElement('div');\n",
              "          docLink.innerHTML = docLinkHtml;\n",
              "          element.appendChild(docLink);\n",
              "        }\n",
              "      </script>\n",
              "    </div>\n",
              "  </div>\n",
              "  "
            ]
          },
          "metadata": {},
          "execution_count": 25
        }
      ]
    },
    {
      "cell_type": "code",
      "source": [
        "df_visualization.info()"
      ],
      "metadata": {
        "colab": {
          "base_uri": "https://localhost:8080/"
        },
        "id": "y6xtsc_PybzG",
        "outputId": "ef88c011-b078-4535-9bfa-02737b68c8e8"
      },
      "execution_count": null,
      "outputs": [
        {
          "output_type": "stream",
          "name": "stdout",
          "text": [
            "<class 'pandas.core.frame.DataFrame'>\n",
            "Int64Index: 48172 entries, 3 to 99997\n",
            "Data columns (total 28 columns):\n",
            " #   Column                    Non-Null Count  Dtype  \n",
            "---  ------                    --------------  -----  \n",
            " 0   ID                        48172 non-null  int64  \n",
            " 1   Customer_ID               48172 non-null  object \n",
            " 2   Month                     48172 non-null  object \n",
            " 3   Name                      48172 non-null  object \n",
            " 4   Age                       48172 non-null  int64  \n",
            " 5   SSN                       48172 non-null  object \n",
            " 6   Occupation                48172 non-null  object \n",
            " 7   Annual_Income             48172 non-null  float64\n",
            " 8   Monthly_Inhand_Salary     48172 non-null  float64\n",
            " 9   Num_Bank_Accounts         48172 non-null  int64  \n",
            " 10  Num_Credit_Card           48172 non-null  int64  \n",
            " 11  Interest_Rate             48172 non-null  int64  \n",
            " 12  Num_of_Loan               48172 non-null  int64  \n",
            " 13  Type_of_Loan              48172 non-null  object \n",
            " 14  Delay_from_due_date       48172 non-null  int64  \n",
            " 15  Num_of_Delayed_Payment    48172 non-null  int64  \n",
            " 16  Changed_Credit_Limit      48172 non-null  float64\n",
            " 17  Num_Credit_Inquiries      48172 non-null  float64\n",
            " 18  Credit_Mix                48172 non-null  object \n",
            " 19  Outstanding_Debt          48172 non-null  float64\n",
            " 20  Credit_Utilization_Ratio  48172 non-null  float64\n",
            " 21  Credit_History_Age        48172 non-null  object \n",
            " 22  Payment_of_Min_Amount     48172 non-null  object \n",
            " 23  Total_EMI_per_month       48172 non-null  float64\n",
            " 24  Amount_invested_monthly   48172 non-null  float64\n",
            " 25  Payment_Behaviour         48172 non-null  object \n",
            " 26  Monthly_Balance           48172 non-null  float64\n",
            " 27  Credit_Score              48172 non-null  object \n",
            "dtypes: float64(9), int64(8), object(11)\n",
            "memory usage: 10.7+ MB\n"
          ]
        }
      ]
    },
    {
      "cell_type": "markdown",
      "source": [
        "Gerando o mapa de calor da correlação, é perceptível que a grande maioria dos dados está pouco correlacionado, com a maioria dos valores na faixa de 0.1-0.4. Algumas outras informações serão incluídas na etapa de preparação para entender a correlação que alguns dos dados abaixo deveriam ter na realidade."
      ],
      "metadata": {
        "id": "3mw6vplk19la"
      }
    },
    {
      "cell_type": "code",
      "source": [
        "plt.figure(figsize=(12,10))\n",
        "sns.heatmap(df_visualization.select_dtypes(include=[np.number]).drop(columns='ID').corr())"
      ],
      "metadata": {
        "colab": {
          "base_uri": "https://localhost:8080/",
          "height": 736
        },
        "id": "nfM4ry_PQFJu",
        "outputId": "167c40bb-db1a-4604-c3cf-d9b448ea41f4"
      },
      "execution_count": null,
      "outputs": [
        {
          "output_type": "execute_result",
          "data": {
            "text/plain": [
              "<matplotlib.axes._subplots.AxesSubplot at 0x7fa5701a5f10>"
            ]
          },
          "metadata": {},
          "execution_count": 27
        },
        {
          "output_type": "display_data",
          "data": {
            "text/plain": [
              "<Figure size 864x720 with 2 Axes>"
            ],
            "image/png": "[encoded data removed]"
          },
          "metadata": {
            "needs_background": "light"
          }
        }
      ]
    },
    {
      "cell_type": "markdown",
      "source": [
        "##**3. Data preparation (Preparação dos dados)**"
      ],
      "metadata": {
        "id": "YBK0Ro38J8kF"
      }
    },
    {
      "cell_type": "markdown",
      "source": [
        "É criada uma cópia dos dados e realizado o tratamento, algumas colunas, com identificadores, dados muito uniformes e sensíveis são removidos. Além disso é feito o tratamento de algumas informações categóricas é feito, para transformá-las em números"
      ],
      "metadata": {
        "id": "6XIGzQiE5OC0"
      }
    },
    {
      "cell_type": "code",
      "source": [
        "df_total = df.copy()"
      ],
      "metadata": {
        "id": "xWvlQMPjfHXy"
      },
      "execution_count": null,
      "outputs": []
    },
    {
      "cell_type": "code",
      "source": [
        "df_total['Occupation_Code'] = pd.Categorical(df_total['Occupation']).codes"
      ],
      "metadata": {
        "id": "Z6SFrO0gyosF"
      },
      "execution_count": null,
      "outputs": []
    },
    {
      "cell_type": "code",
      "source": [
        "df_total = df_total.drop(columns=['Customer_ID','Name','SSN','Age','Type_of_Loan','Month','Occupation','ID'])"
      ],
      "metadata": {
        "id": "rocdyaKbfEfI"
      },
      "execution_count": null,
      "outputs": []
    },
    {
      "cell_type": "code",
      "source": [
        "pd.set_option('display.max_columns', 24)\n",
        "df_total.describe()\n"
      ],
      "metadata": {
        "colab": {
          "base_uri": "https://localhost:8080/",
          "height": 364
        },
        "id": "FZl_oL2YCu9P",
        "outputId": "4e9fcbc8-efad-4cd3-b127-1b6cdad76e4a"
      },
      "execution_count": null,
      "outputs": [
        {
          "output_type": "execute_result",
          "data": {
            "text/plain": [
              "       Annual_Income  Monthly_Inhand_Salary  Num_Bank_Accounts  \\\n",
              "count   4.817200e+04           48172.000000       48172.000000   \n",
              "mean    1.809943e+05            3882.245418          17.262310   \n",
              "std     1.479915e+06            2872.633569         117.695853   \n",
              "min     7.005930e+03             303.645417          -1.000000   \n",
              "25%     1.882202e+04            1711.880000           4.000000   \n",
              "50%     3.597424e+04            3093.745000           6.000000   \n",
              "75%     6.986261e+04            5143.676875           8.000000   \n",
              "max     2.419806e+07           15204.633333        1798.000000   \n",
              "\n",
              "       Num_Credit_Card  Interest_Rate  Num_of_Loan  Delay_from_due_date  \\\n",
              "count     48172.000000   48172.000000  48172.00000         48172.000000   \n",
              "mean         23.382006      76.830316      3.12827            21.987648   \n",
              "std         131.711519     482.152742     62.04194            15.261736   \n",
              "min           0.000000       1.000000   -100.00000            -5.000000   \n",
              "25%           4.000000       8.000000      2.00000            10.000000   \n",
              "50%           6.000000      15.000000      3.00000            19.000000   \n",
              "75%           7.000000      22.000000      6.00000            29.000000   \n",
              "max        1499.000000    5797.000000   1485.00000            67.000000   \n",
              "\n",
              "       Num_of_Delayed_Payment  Changed_Credit_Limit  Num_Credit_Inquiries  \\\n",
              "count            48172.000000          48172.000000          48172.000000   \n",
              "mean                31.742859             10.720256             26.869613   \n",
              "std                228.381940              6.888445            186.008367   \n",
              "min                 -3.000000             -6.450000              0.000000   \n",
              "25%                  9.000000              5.607500              3.000000   \n",
              "50%                 14.000000              9.700000              6.000000   \n",
              "75%                 19.000000             15.442500              9.000000   \n",
              "max               4397.000000             36.970000           2594.000000   \n",
              "\n",
              "       Outstanding_Debt  Credit_Utilization_Ratio  Total_EMI_per_month  \\\n",
              "count      48172.000000              48172.000000         48172.000000   \n",
              "mean        1509.957619                 32.197538          1431.428977   \n",
              "std         1189.730622                  5.062767          8360.195602   \n",
              "min            0.230000                 20.881250             4.462837   \n",
              "25%          609.130000                 28.001163            41.167536   \n",
              "50%         1241.690000                 32.225696            78.271158   \n",
              "75%         2132.130000                 36.387248           169.483113   \n",
              "max         4998.070000                 49.564519         82256.000000   \n",
              "\n",
              "       Amount_invested_monthly  Monthly_Balance  Occupation_Code  \n",
              "count             48172.000000     48172.000000     48172.000000  \n",
              "mean                181.639311       382.302199         6.952275  \n",
              "std                 176.425270       195.528478         4.311709  \n",
              "min                   0.000000         0.007760         0.000000  \n",
              "25%                  69.843829       264.715741         3.000000  \n",
              "50%                 123.886696       325.107559         7.000000  \n",
              "75%                 223.595540       444.411673        11.000000  \n",
              "max                1572.803231      1552.946094        14.000000  "
            ],
            "text/html": [
              "\n",
              "  <div id=\"df-963b8ca1-3b8f-4107-9991-faa07ee0cff5\">\n",
              "    <div class=\"colab-df-container\">\n",
              "      <div>\n",
              "<style scoped>\n",
              "    .dataframe tbody tr th:only-of-type {\n",
              "        vertical-align: middle;\n",
              "    }\n",
              "\n",
              "    .dataframe tbody tr th {\n",
              "        vertical-align: top;\n",
              "    }\n",
              "\n",
              "    .dataframe thead th {\n",
              "        text-align: right;\n",
              "    }\n",
              "</style>\n",
              "<table border=\"1\" class=\"dataframe\">\n",
              "  <thead>\n",
              "    <tr style=\"text-align: right;\">\n",
              "      <th></th>\n",
              "      <th>Annual_Income</th>\n",
              "      <th>Monthly_Inhand_Salary</th>\n",
              "      <th>Num_Bank_Accounts</th>\n",
              "      <th>Num_Credit_Card</th>\n",
              "      <th>Interest_Rate</th>\n",
              "      <th>Num_of_Loan</th>\n",
              "      <th>Delay_from_due_date</th>\n",
              "      <th>Num_of_Delayed_Payment</th>\n",
              "      <th>Changed_Credit_Limit</th>\n",
              "      <th>Num_Credit_Inquiries</th>\n",
              "      <th>Outstanding_Debt</th>\n",
              "      <th>Credit_Utilization_Ratio</th>\n",
              "      <th>Total_EMI_per_month</th>\n",
              "      <th>Amount_invested_monthly</th>\n",
              "      <th>Monthly_Balance</th>\n",
              "      <th>Occupation_Code</th>\n",
              "    </tr>\n",
              "  </thead>\n",
              "  <tbody>\n",
              "    <tr>\n",
              "      <th>count</th>\n",
              "      <td>4.817200e+04</td>\n",
              "      <td>48172.000000</td>\n",
              "      <td>48172.000000</td>\n",
              "      <td>48172.000000</td>\n",
              "      <td>48172.000000</td>\n",
              "      <td>48172.00000</td>\n",
              "      <td>48172.000000</td>\n",
              "      <td>48172.000000</td>\n",
              "      <td>48172.000000</td>\n",
              "      <td>48172.000000</td>\n",
              "      <td>48172.000000</td>\n",
              "      <td>48172.000000</td>\n",
              "      <td>48172.000000</td>\n",
              "      <td>48172.000000</td>\n",
              "      <td>48172.000000</td>\n",
              "      <td>48172.000000</td>\n",
              "    </tr>\n",
              "    <tr>\n",
              "      <th>mean</th>\n",
              "      <td>1.809943e+05</td>\n",
              "      <td>3882.245418</td>\n",
              "      <td>17.262310</td>\n",
              "      <td>23.382006</td>\n",
              "      <td>76.830316</td>\n",
              "      <td>3.12827</td>\n",
              "      <td>21.987648</td>\n",
              "      <td>31.742859</td>\n",
              "      <td>10.720256</td>\n",
              "      <td>26.869613</td>\n",
              "      <td>1509.957619</td>\n",
              "      <td>32.197538</td>\n",
              "      <td>1431.428977</td>\n",
              "      <td>181.639311</td>\n",
              "      <td>382.302199</td>\n",
              "      <td>6.952275</td>\n",
              "    </tr>\n",
              "    <tr>\n",
              "      <th>std</th>\n",
              "      <td>1.479915e+06</td>\n",
              "      <td>2872.633569</td>\n",
              "      <td>117.695853</td>\n",
              "      <td>131.711519</td>\n",
              "      <td>482.152742</td>\n",
              "      <td>62.04194</td>\n",
              "      <td>15.261736</td>\n",
              "      <td>228.381940</td>\n",
              "      <td>6.888445</td>\n",
              "      <td>186.008367</td>\n",
              "      <td>1189.730622</td>\n",
              "      <td>5.062767</td>\n",
              "      <td>8360.195602</td>\n",
              "      <td>176.425270</td>\n",
              "      <td>195.528478</td>\n",
              "      <td>4.311709</td>\n",
              "    </tr>\n",
              "    <tr>\n",
              "      <th>min</th>\n",
              "      <td>7.005930e+03</td>\n",
              "      <td>303.645417</td>\n",
              "      <td>-1.000000</td>\n",
              "      <td>0.000000</td>\n",
              "      <td>1.000000</td>\n",
              "      <td>-100.00000</td>\n",
              "      <td>-5.000000</td>\n",
              "      <td>-3.000000</td>\n",
              "      <td>-6.450000</td>\n",
              "      <td>0.000000</td>\n",
              "      <td>0.230000</td>\n",
              "      <td>20.881250</td>\n",
              "      <td>4.462837</td>\n",
              "      <td>0.000000</td>\n",
              "      <td>0.007760</td>\n",
              "      <td>0.000000</td>\n",
              "    </tr>\n",
              "    <tr>\n",
              "      <th>25%</th>\n",
              "      <td>1.882202e+04</td>\n",
              "      <td>1711.880000</td>\n",
              "      <td>4.000000</td>\n",
              "      <td>4.000000</td>\n",
              "      <td>8.000000</td>\n",
              "      <td>2.00000</td>\n",
              "      <td>10.000000</td>\n",
              "      <td>9.000000</td>\n",
              "      <td>5.607500</td>\n",
              "      <td>3.000000</td>\n",
              "      <td>609.130000</td>\n",
              "      <td>28.001163</td>\n",
              "      <td>41.167536</td>\n",
              "      <td>69.843829</td>\n",
              "      <td>264.715741</td>\n",
              "      <td>3.000000</td>\n",
              "    </tr>\n",
              "    <tr>\n",
              "      <th>50%</th>\n",
              "      <td>3.597424e+04</td>\n",
              "      <td>3093.745000</td>\n",
              "      <td>6.000000</td>\n",
              "      <td>6.000000</td>\n",
              "      <td>15.000000</td>\n",
              "      <td>3.00000</td>\n",
              "      <td>19.000000</td>\n",
              "      <td>14.000000</td>\n",
              "      <td>9.700000</td>\n",
              "      <td>6.000000</td>\n",
              "      <td>1241.690000</td>\n",
              "      <td>32.225696</td>\n",
              "      <td>78.271158</td>\n",
              "      <td>123.886696</td>\n",
              "      <td>325.107559</td>\n",
              "      <td>7.000000</td>\n",
              "    </tr>\n",
              "    <tr>\n",
              "      <th>75%</th>\n",
              "      <td>6.986261e+04</td>\n",
              "      <td>5143.676875</td>\n",
              "      <td>8.000000</td>\n",
              "      <td>7.000000</td>\n",
              "      <td>22.000000</td>\n",
              "      <td>6.00000</td>\n",
              "      <td>29.000000</td>\n",
              "      <td>19.000000</td>\n",
              "      <td>15.442500</td>\n",
              "      <td>9.000000</td>\n",
              "      <td>2132.130000</td>\n",
              "      <td>36.387248</td>\n",
              "      <td>169.483113</td>\n",
              "      <td>223.595540</td>\n",
              "      <td>444.411673</td>\n",
              "      <td>11.000000</td>\n",
              "    </tr>\n",
              "    <tr>\n",
              "      <th>max</th>\n",
              "      <td>2.419806e+07</td>\n",
              "      <td>15204.633333</td>\n",
              "      <td>1798.000000</td>\n",
              "      <td>1499.000000</td>\n",
              "      <td>5797.000000</td>\n",
              "      <td>1485.00000</td>\n",
              "      <td>67.000000</td>\n",
              "      <td>4397.000000</td>\n",
              "      <td>36.970000</td>\n",
              "      <td>2594.000000</td>\n",
              "      <td>4998.070000</td>\n",
              "      <td>49.564519</td>\n",
              "      <td>82256.000000</td>\n",
              "      <td>1572.803231</td>\n",
              "      <td>1552.946094</td>\n",
              "      <td>14.000000</td>\n",
              "    </tr>\n",
              "  </tbody>\n",
              "</table>\n",
              "</div>\n",
              "      <button class=\"colab-df-convert\" onclick=\"convertToInteractive('df-963b8ca1-3b8f-4107-9991-faa07ee0cff5')\"\n",
              "              title=\"Convert this dataframe to an interactive table.\"\n",
              "              style=\"display:none;\">\n",
              "        \n",
              "  <svg xmlns=\"http://www.w3.org/2000/svg\" height=\"24px\"viewBox=\"0 0 24 24\"\n",
              "       width=\"24px\">\n",
              "    <path d=\"M0 0h24v24H0V0z\" fill=\"none\"/>\n",
              "    <path d=\"M18.56 5.44l.94 2.06.94-2.06 2.06-.94-2.06-.94-.94-2.06-.94 2.06-2.06.94zm-11 1L8.5 8.5l.94-2.06 2.06-.94-2.06-.94L8.5 2.5l-.94 2.06-2.06.94zm10 10l.94 2.06.94-2.06 2.06-.94-2.06-.94-.94-2.06-.94 2.06-2.06.94z\"/><path d=\"M17.41 7.96l-1.37-1.37c-.4-.4-.92-.59-1.43-.59-.52 0-1.04.2-1.43.59L10.3 9.45l-7.72 7.72c-.78.78-.78 2.05 0 2.83L4 21.41c.39.39.9.59 1.41.59.51 0 1.02-.2 1.41-.59l7.78-7.78 2.81-2.81c.8-.78.8-2.07 0-2.86zM5.41 20L4 18.59l7.72-7.72 1.47 1.35L5.41 20z\"/>\n",
              "  </svg>\n",
              "      </button>\n",
              "      \n",
              "  <style>\n",
              "    .colab-df-container {\n",
              "      display:flex;\n",
              "      flex-wrap:wrap;\n",
              "      gap: 12px;\n",
              "    }\n",
              "\n",
              "    .colab-df-convert {\n",
              "      background-color: #E8F0FE;\n",
              "      border: none;\n",
              "      border-radius: 50%;\n",
              "      cursor: pointer;\n",
              "      display: none;\n",
              "      fill: #1967D2;\n",
              "      height: 32px;\n",
              "      padding: 0 0 0 0;\n",
              "      width: 32px;\n",
              "    }\n",
              "\n",
              "    .colab-df-convert:hover {\n",
              "      background-color: #E2EBFA;\n",
              "      box-shadow: 0px 1px 2px rgba(60, 64, 67, 0.3), 0px 1px 3px 1px rgba(60, 64, 67, 0.15);\n",
              "      fill: #174EA6;\n",
              "    }\n",
              "\n",
              "    [theme=dark] .colab-df-convert {\n",
              "      background-color: #3B4455;\n",
              "      fill: #D2E3FC;\n",
              "    }\n",
              "\n",
              "    [theme=dark] .colab-df-convert:hover {\n",
              "      background-color: #434B5C;\n",
              "      box-shadow: 0px 1px 3px 1px rgba(0, 0, 0, 0.15);\n",
              "      filter: drop-shadow(0px 1px 2px rgba(0, 0, 0, 0.3));\n",
              "      fill: #FFFFFF;\n",
              "    }\n",
              "  </style>\n",
              "\n",
              "      <script>\n",
              "        const buttonEl =\n",
              "          document.querySelector('#df-963b8ca1-3b8f-4107-9991-faa07ee0cff5 button.colab-df-convert');\n",
              "        buttonEl.style.display =\n",
              "          google.colab.kernel.accessAllowed ? 'block' : 'none';\n",
              "\n",
              "        async function convertToInteractive(key) {\n",
              "          const element = document.querySelector('#df-963b8ca1-3b8f-4107-9991-faa07ee0cff5');\n",
              "          const dataTable =\n",
              "            await google.colab.kernel.invokeFunction('convertToInteractive',\n",
              "                                                     [key], {});\n",
              "          if (!dataTable) return;\n",
              "\n",
              "          const docLinkHtml = 'Like what you see? Visit the ' +\n",
              "            '<a target=\"_blank\" href=https://colab.research.google.com/notebooks/data_table.ipynb>data table notebook</a>'\n",
              "            + ' to learn more about interactive tables.';\n",
              "          element.innerHTML = '';\n",
              "          dataTable['output_type'] = 'display_data';\n",
              "          await google.colab.output.renderOutput(dataTable, element);\n",
              "          const docLink = document.createElement('div');\n",
              "          docLink.innerHTML = docLinkHtml;\n",
              "          element.appendChild(docLink);\n",
              "        }\n",
              "      </script>\n",
              "    </div>\n",
              "  </div>\n",
              "  "
            ]
          },
          "metadata": {},
          "execution_count": 31
        }
      ]
    },
    {
      "cell_type": "code",
      "source": [
        "df_total['Num_Bank_Accounts'] = df_total['Num_Bank_Accounts'].clip(lower=0)\n",
        "df_total['Num_of_Loan'] = df_total['Num_of_Loan'].clip(lower=0)\n",
        "df_total['Delay_from_due_date'] = df_total['Delay_from_due_date'].clip(lower=0)\n",
        "df_total['Num_of_Delayed_Payment'] = df_total['Num_of_Delayed_Payment'].clip(lower=0)"
      ],
      "metadata": {
        "id": "NYOoS9V-C8A7"
      },
      "execution_count": null,
      "outputs": []
    },
    {
      "cell_type": "code",
      "source": [
        "df_total['Percentage_Invested'] = df_total['Amount_invested_monthly']/df_total['Annual_Income']"
      ],
      "metadata": {
        "id": "cTSvT6OHvDzn"
      },
      "execution_count": null,
      "outputs": []
    },
    {
      "cell_type": "code",
      "source": [
        "df_total['Cards_Per_Bank'] = df_total['Num_Credit_Card']/df_total['Num_Bank_Accounts']"
      ],
      "metadata": {
        "id": "0OLWjeMvvjEk"
      },
      "execution_count": null,
      "outputs": []
    },
    {
      "cell_type": "code",
      "source": [
        "df_total['Cards_Per_Bank'].replace([np.inf,-np.inf],0, inplace=True)"
      ],
      "metadata": {
        "id": "FdZT9Md3-ZLG"
      },
      "execution_count": null,
      "outputs": []
    },
    {
      "cell_type": "code",
      "source": [
        "df_total['Loans_Per_Bank'] = (df_total['Num_of_Loan']/df_total['Num_Bank_Accounts'])"
      ],
      "metadata": {
        "id": "n6fZxOXZvreo"
      },
      "execution_count": null,
      "outputs": []
    },
    {
      "cell_type": "code",
      "source": [
        "df_total['Loans_Per_Bank'].replace([np.inf,-np.inf],0, inplace=True)"
      ],
      "metadata": {
        "id": "krcA5MYB-ia9"
      },
      "execution_count": null,
      "outputs": []
    },
    {
      "cell_type": "code",
      "source": [
        "df_total['Payment_of_Min_Amount'] = df_total['Payment_of_Min_Amount'].replace(\"NM\",\"No\")"
      ],
      "metadata": {
        "id": "-DKktpTXhGyM"
      },
      "execution_count": null,
      "outputs": []
    },
    {
      "cell_type": "code",
      "source": [
        "df_total['Credit_Score'] = df_total['Credit_Score'].replace({'Good':3,'Poor':1,'Standard':2})"
      ],
      "metadata": {
        "id": "-sRjc4iEv0i9"
      },
      "execution_count": null,
      "outputs": []
    },
    {
      "cell_type": "code",
      "source": [
        "df_total['Payment_Behaviour'] = df_total['Payment_Behaviour'].replace(\n",
        "    {'High_spent_Large_value_payments':6,'High_spent_Medium_value_payments':5,\n",
        "     'High_spent_Small_value_payments':4,'Low_spent_Large_value_payments':3,\n",
        "     'Low_spent_Medium_value_payments':2,'Low_spent_Small_value_payments':1})"
      ],
      "metadata": {
        "id": "GnRlxeXmwpR_"
      },
      "execution_count": null,
      "outputs": []
    },
    {
      "cell_type": "code",
      "source": [
        "df_total['Credit_Mix'] = df_total['Credit_Mix'].replace(\n",
        "    {'Good':3,'Standard':2,\n",
        "     'Bad':1})"
      ],
      "metadata": {
        "id": "yHEhpVO83naO"
      },
      "execution_count": null,
      "outputs": []
    },
    {
      "cell_type": "markdown",
      "source": [
        "O campo de histórico de crédito é convertido em um valor numérico indicando a idade do histórico."
      ],
      "metadata": {
        "id": "XBtknxLrjqft"
      }
    },
    {
      "cell_type": "code",
      "source": [
        "import re\n",
        "def convert_to_months(word):\n",
        "  year = re.findall(r'(\\d+(?:\\.\\d+)?) Years', word)\n",
        "  month = re.findall(r'(\\d+(?:\\.\\d+)?) Months', word)\n",
        "  total = int(year[0])*12+int(month[0])\n",
        "  return total\n",
        "\n",
        "df_total['Credit_History_Age'] = df_total['Credit_History_Age'].apply(lambda x: convert_to_months(x))"
      ],
      "metadata": {
        "id": "G46_kMOt3AlU"
      },
      "execution_count": null,
      "outputs": []
    },
    {
      "cell_type": "code",
      "source": [
        "df_total['Payment_of_Min_Amount'] = df_total['Payment_of_Min_Amount'].replace(\n",
        "    {'Yes':1,'No':0})"
      ],
      "metadata": {
        "id": "wMP23PPtC7m1"
      },
      "execution_count": null,
      "outputs": []
    },
    {
      "cell_type": "code",
      "source": [
        "df_total = df_total.dropna()"
      ],
      "metadata": {
        "id": "aHYWR-G-FD4P"
      },
      "execution_count": null,
      "outputs": []
    },
    {
      "cell_type": "code",
      "source": [
        "columns = np.concatenate((df_total.columns[0:19],df_total.columns[20:24],['Credit_Score']))"
      ],
      "metadata": {
        "id": "lunCTAE6NVBm"
      },
      "execution_count": null,
      "outputs": []
    },
    {
      "cell_type": "code",
      "source": [
        "df_total"
      ],
      "metadata": {
        "colab": {
          "base_uri": "https://localhost:8080/",
          "height": 488
        },
        "id": "d_UkgQtXCOnb",
        "outputId": "032e9087-52b4-4ae7-cb76-e0fe0d1cdd76"
      },
      "execution_count": null,
      "outputs": [
        {
          "output_type": "execute_result",
          "data": {
            "text/plain": [
              "       Annual_Income  Monthly_Inhand_Salary  Num_Bank_Accounts  \\\n",
              "3           19114.12            3093.745000                  3   \n",
              "5           19114.12            3093.745000                  3   \n",
              "9           34847.84            3037.986667                  2   \n",
              "12          34847.84            3037.986667                  2   \n",
              "13          34847.84            3037.986667                  2   \n",
              "...              ...                    ...                ...   \n",
              "99991       20002.88            1929.906667                 10   \n",
              "99994       39628.99            3359.415833                  4   \n",
              "99995       39628.99            3359.415833                  4   \n",
              "99996       39628.99            3359.415833                  4   \n",
              "99997       39628.99            3359.415833                  4   \n",
              "\n",
              "       Num_Credit_Card  Interest_Rate  Num_of_Loan  Delay_from_due_date  \\\n",
              "3                    4              3            4                    5   \n",
              "5                    4              3            4                    8   \n",
              "9                    4              6            1                    7   \n",
              "12                   4              6            1                    3   \n",
              "13                   4              6            1                    3   \n",
              "...                ...            ...          ...                  ...   \n",
              "99991                8             29            5                   33   \n",
              "99994                6              7            2                   20   \n",
              "99995                6              7            2                   23   \n",
              "99996                6              7            2                   18   \n",
              "99997                6           5729            2                   27   \n",
              "\n",
              "       Num_of_Delayed_Payment  Changed_Credit_Limit  Num_Credit_Inquiries  \\\n",
              "3                           4                  6.27                   4.0   \n",
              "5                           4                  9.27                   4.0   \n",
              "9                           1                  7.42                   2.0   \n",
              "12                          1                  6.42                   2.0   \n",
              "13                          0                  5.42                   2.0   \n",
              "...                       ...                   ...                   ...   \n",
              "99991                      25                 18.31                   9.0   \n",
              "99994                       6                  9.50                   3.0   \n",
              "99995                       7                 11.50                   3.0   \n",
              "99996                       7                 11.50                   3.0   \n",
              "99997                       6                 11.50                   3.0   \n",
              "\n",
              "       Credit_Mix  Outstanding_Debt  Credit_Utilization_Ratio  \\\n",
              "3               3            809.98                 31.377862   \n",
              "5               3            809.98                 27.262259   \n",
              "9               3            605.03                 38.550848   \n",
              "12              3            605.03                 34.977895   \n",
              "13              3            605.03                 33.381010   \n",
              "...           ...               ...                       ...   \n",
              "99991           1           3571.70                 37.140784   \n",
              "99994           1            502.38                 39.323569   \n",
              "99995           1            502.38                 34.663572   \n",
              "99996           1            502.38                 40.565631   \n",
              "99997           3            502.38                 41.255522   \n",
              "\n",
              "       Credit_History_Age  Payment_of_Min_Amount  Total_EMI_per_month  \\\n",
              "3                     268                      0            49.574949   \n",
              "5                     270                      0            49.574949   \n",
              "9                     320                      0            18.816215   \n",
              "12                    323                      0            18.816215   \n",
              "13                    324                      0            18.816215   \n",
              "...                   ...                    ...                  ...   \n",
              "99991                  75                      1            60.964772   \n",
              "99994                 377                      0            35.104023   \n",
              "99995                 378                      0            35.104023   \n",
              "99996                 379                      0            35.104023   \n",
              "99997                 380                      0            35.104023   \n",
              "\n",
              "       Amount_invested_monthly  Payment_Behaviour  Monthly_Balance  \\\n",
              "3                   199.458074                  1       223.451310   \n",
              "5                    62.430172                  1       340.479212   \n",
              "9                    40.391238                  6       484.591214   \n",
              "12                  130.115420                  1       444.867032   \n",
              "13                   43.477190                  6       481.505262   \n",
              "...                        ...                ...              ...   \n",
              "99991                34.662906                  6       337.362988   \n",
              "99994               140.581403                  5       410.256158   \n",
              "99995                60.971333                  6       479.866228   \n",
              "99996                54.185950                  5       496.651610   \n",
              "99997                24.028477                  6       516.809083   \n",
              "\n",
              "       Credit_Score  Occupation_Code  Percentage_Invested  Cards_Per_Bank  \\\n",
              "3                 3               12             0.010435        1.333333   \n",
              "5                 3               12             0.003266        1.333333   \n",
              "9                 3               13             0.001159        2.000000   \n",
              "12                3               13             0.003734        2.000000   \n",
              "13                3               13             0.001248        2.000000   \n",
              "...             ...              ...                  ...             ...   \n",
              "99991             2                1             0.001733        0.800000   \n",
              "99994             1                9             0.003547        1.500000   \n",
              "99995             1                9             0.001539        1.500000   \n",
              "99996             1                9             0.001367        1.500000   \n",
              "99997             1                9             0.000606        1.500000   \n",
              "\n",
              "       Loans_Per_Bank  \n",
              "3            1.333333  \n",
              "5            1.333333  \n",
              "9            0.500000  \n",
              "12           0.500000  \n",
              "13           0.500000  \n",
              "...               ...  \n",
              "99991        0.500000  \n",
              "99994        0.500000  \n",
              "99995        0.500000  \n",
              "99996        0.500000  \n",
              "99997        0.500000  \n",
              "\n",
              "[48081 rows x 24 columns]"
            ],
            "text/html": [
              "\n",
              "  <div id=\"df-9196e433-bda3-4559-afed-16d29dc0dd3c\">\n",
              "    <div class=\"colab-df-container\">\n",
              "      <div>\n",
              "<style scoped>\n",
              "    .dataframe tbody tr th:only-of-type {\n",
              "        vertical-align: middle;\n",
              "    }\n",
              "\n",
              "    .dataframe tbody tr th {\n",
              "        vertical-align: top;\n",
              "    }\n",
              "\n",
              "    .dataframe thead th {\n",
              "        text-align: right;\n",
              "    }\n",
              "</style>\n",
              "<table border=\"1\" class=\"dataframe\">\n",
              "  <thead>\n",
              "    <tr style=\"text-align: right;\">\n",
              "      <th></th>\n",
              "      <th>Annual_Income</th>\n",
              "      <th>Monthly_Inhand_Salary</th>\n",
              "      <th>Num_Bank_Accounts</th>\n",
              "      <th>Num_Credit_Card</th>\n",
              "      <th>Interest_Rate</th>\n",
              "      <th>Num_of_Loan</th>\n",
              "      <th>Delay_from_due_date</th>\n",
              "      <th>Num_of_Delayed_Payment</th>\n",
              "      <th>Changed_Credit_Limit</th>\n",
              "      <th>Num_Credit_Inquiries</th>\n",
              "      <th>Credit_Mix</th>\n",
              "      <th>Outstanding_Debt</th>\n",
              "      <th>Credit_Utilization_Ratio</th>\n",
              "      <th>Credit_History_Age</th>\n",
              "      <th>Payment_of_Min_Amount</th>\n",
              "      <th>Total_EMI_per_month</th>\n",
              "      <th>Amount_invested_monthly</th>\n",
              "      <th>Payment_Behaviour</th>\n",
              "      <th>Monthly_Balance</th>\n",
              "      <th>Credit_Score</th>\n",
              "      <th>Occupation_Code</th>\n",
              "      <th>Percentage_Invested</th>\n",
              "      <th>Cards_Per_Bank</th>\n",
              "      <th>Loans_Per_Bank</th>\n",
              "    </tr>\n",
              "  </thead>\n",
              "  <tbody>\n",
              "    <tr>\n",
              "      <th>3</th>\n",
              "      <td>19114.12</td>\n",
              "      <td>3093.745000</td>\n",
              "      <td>3</td>\n",
              "      <td>4</td>\n",
              "      <td>3</td>\n",
              "      <td>4</td>\n",
              "      <td>5</td>\n",
              "      <td>4</td>\n",
              "      <td>6.27</td>\n",
              "      <td>4.0</td>\n",
              "      <td>3</td>\n",
              "      <td>809.98</td>\n",
              "      <td>31.377862</td>\n",
              "      <td>268</td>\n",
              "      <td>0</td>\n",
              "      <td>49.574949</td>\n",
              "      <td>199.458074</td>\n",
              "      <td>1</td>\n",
              "      <td>223.451310</td>\n",
              "      <td>3</td>\n",
              "      <td>12</td>\n",
              "      <td>0.010435</td>\n",
              "      <td>1.333333</td>\n",
              "      <td>1.333333</td>\n",
              "    </tr>\n",
              "    <tr>\n",
              "      <th>5</th>\n",
              "      <td>19114.12</td>\n",
              "      <td>3093.745000</td>\n",
              "      <td>3</td>\n",
              "      <td>4</td>\n",
              "      <td>3</td>\n",
              "      <td>4</td>\n",
              "      <td>8</td>\n",
              "      <td>4</td>\n",
              "      <td>9.27</td>\n",
              "      <td>4.0</td>\n",
              "      <td>3</td>\n",
              "      <td>809.98</td>\n",
              "      <td>27.262259</td>\n",
              "      <td>270</td>\n",
              "      <td>0</td>\n",
              "      <td>49.574949</td>\n",
              "      <td>62.430172</td>\n",
              "      <td>1</td>\n",
              "      <td>340.479212</td>\n",
              "      <td>3</td>\n",
              "      <td>12</td>\n",
              "      <td>0.003266</td>\n",
              "      <td>1.333333</td>\n",
              "      <td>1.333333</td>\n",
              "    </tr>\n",
              "    <tr>\n",
              "      <th>9</th>\n",
              "      <td>34847.84</td>\n",
              "      <td>3037.986667</td>\n",
              "      <td>2</td>\n",
              "      <td>4</td>\n",
              "      <td>6</td>\n",
              "      <td>1</td>\n",
              "      <td>7</td>\n",
              "      <td>1</td>\n",
              "      <td>7.42</td>\n",
              "      <td>2.0</td>\n",
              "      <td>3</td>\n",
              "      <td>605.03</td>\n",
              "      <td>38.550848</td>\n",
              "      <td>320</td>\n",
              "      <td>0</td>\n",
              "      <td>18.816215</td>\n",
              "      <td>40.391238</td>\n",
              "      <td>6</td>\n",
              "      <td>484.591214</td>\n",
              "      <td>3</td>\n",
              "      <td>13</td>\n",
              "      <td>0.001159</td>\n",
              "      <td>2.000000</td>\n",
              "      <td>0.500000</td>\n",
              "    </tr>\n",
              "    <tr>\n",
              "      <th>12</th>\n",
              "      <td>34847.84</td>\n",
              "      <td>3037.986667</td>\n",
              "      <td>2</td>\n",
              "      <td>4</td>\n",
              "      <td>6</td>\n",
              "      <td>1</td>\n",
              "      <td>3</td>\n",
              "      <td>1</td>\n",
              "      <td>6.42</td>\n",
              "      <td>2.0</td>\n",
              "      <td>3</td>\n",
              "      <td>605.03</td>\n",
              "      <td>34.977895</td>\n",
              "      <td>323</td>\n",
              "      <td>0</td>\n",
              "      <td>18.816215</td>\n",
              "      <td>130.115420</td>\n",
              "      <td>1</td>\n",
              "      <td>444.867032</td>\n",
              "      <td>3</td>\n",
              "      <td>13</td>\n",
              "      <td>0.003734</td>\n",
              "      <td>2.000000</td>\n",
              "      <td>0.500000</td>\n",
              "    </tr>\n",
              "    <tr>\n",
              "      <th>13</th>\n",
              "      <td>34847.84</td>\n",
              "      <td>3037.986667</td>\n",
              "      <td>2</td>\n",
              "      <td>4</td>\n",
              "      <td>6</td>\n",
              "      <td>1</td>\n",
              "      <td>3</td>\n",
              "      <td>0</td>\n",
              "      <td>5.42</td>\n",
              "      <td>2.0</td>\n",
              "      <td>3</td>\n",
              "      <td>605.03</td>\n",
              "      <td>33.381010</td>\n",
              "      <td>324</td>\n",
              "      <td>0</td>\n",
              "      <td>18.816215</td>\n",
              "      <td>43.477190</td>\n",
              "      <td>6</td>\n",
              "      <td>481.505262</td>\n",
              "      <td>3</td>\n",
              "      <td>13</td>\n",
              "      <td>0.001248</td>\n",
              "      <td>2.000000</td>\n",
              "      <td>0.500000</td>\n",
              "    </tr>\n",
              "    <tr>\n",
              "      <th>...</th>\n",
              "      <td>...</td>\n",
              "      <td>...</td>\n",
              "      <td>...</td>\n",
              "      <td>...</td>\n",
              "      <td>...</td>\n",
              "      <td>...</td>\n",
              "      <td>...</td>\n",
              "      <td>...</td>\n",
              "      <td>...</td>\n",
              "      <td>...</td>\n",
              "      <td>...</td>\n",
              "      <td>...</td>\n",
              "      <td>...</td>\n",
              "      <td>...</td>\n",
              "      <td>...</td>\n",
              "      <td>...</td>\n",
              "      <td>...</td>\n",
              "      <td>...</td>\n",
              "      <td>...</td>\n",
              "      <td>...</td>\n",
              "      <td>...</td>\n",
              "      <td>...</td>\n",
              "      <td>...</td>\n",
              "      <td>...</td>\n",
              "    </tr>\n",
              "    <tr>\n",
              "      <th>99991</th>\n",
              "      <td>20002.88</td>\n",
              "      <td>1929.906667</td>\n",
              "      <td>10</td>\n",
              "      <td>8</td>\n",
              "      <td>29</td>\n",
              "      <td>5</td>\n",
              "      <td>33</td>\n",
              "      <td>25</td>\n",
              "      <td>18.31</td>\n",
              "      <td>9.0</td>\n",
              "      <td>1</td>\n",
              "      <td>3571.70</td>\n",
              "      <td>37.140784</td>\n",
              "      <td>75</td>\n",
              "      <td>1</td>\n",
              "      <td>60.964772</td>\n",
              "      <td>34.662906</td>\n",
              "      <td>6</td>\n",
              "      <td>337.362988</td>\n",
              "      <td>2</td>\n",
              "      <td>1</td>\n",
              "      <td>0.001733</td>\n",
              "      <td>0.800000</td>\n",
              "      <td>0.500000</td>\n",
              "    </tr>\n",
              "    <tr>\n",
              "      <th>99994</th>\n",
              "      <td>39628.99</td>\n",
              "      <td>3359.415833</td>\n",
              "      <td>4</td>\n",
              "      <td>6</td>\n",
              "      <td>7</td>\n",
              "      <td>2</td>\n",
              "      <td>20</td>\n",
              "      <td>6</td>\n",
              "      <td>9.50</td>\n",
              "      <td>3.0</td>\n",
              "      <td>1</td>\n",
              "      <td>502.38</td>\n",
              "      <td>39.323569</td>\n",
              "      <td>377</td>\n",
              "      <td>0</td>\n",
              "      <td>35.104023</td>\n",
              "      <td>140.581403</td>\n",
              "      <td>5</td>\n",
              "      <td>410.256158</td>\n",
              "      <td>1</td>\n",
              "      <td>9</td>\n",
              "      <td>0.003547</td>\n",
              "      <td>1.500000</td>\n",
              "      <td>0.500000</td>\n",
              "    </tr>\n",
              "    <tr>\n",
              "      <th>99995</th>\n",
              "      <td>39628.99</td>\n",
              "      <td>3359.415833</td>\n",
              "      <td>4</td>\n",
              "      <td>6</td>\n",
              "      <td>7</td>\n",
              "      <td>2</td>\n",
              "      <td>23</td>\n",
              "      <td>7</td>\n",
              "      <td>11.50</td>\n",
              "      <td>3.0</td>\n",
              "      <td>1</td>\n",
              "      <td>502.38</td>\n",
              "      <td>34.663572</td>\n",
              "      <td>378</td>\n",
              "      <td>0</td>\n",
              "      <td>35.104023</td>\n",
              "      <td>60.971333</td>\n",
              "      <td>6</td>\n",
              "      <td>479.866228</td>\n",
              "      <td>1</td>\n",
              "      <td>9</td>\n",
              "      <td>0.001539</td>\n",
              "      <td>1.500000</td>\n",
              "      <td>0.500000</td>\n",
              "    </tr>\n",
              "    <tr>\n",
              "      <th>99996</th>\n",
              "      <td>39628.99</td>\n",
              "      <td>3359.415833</td>\n",
              "      <td>4</td>\n",
              "      <td>6</td>\n",
              "      <td>7</td>\n",
              "      <td>2</td>\n",
              "      <td>18</td>\n",
              "      <td>7</td>\n",
              "      <td>11.50</td>\n",
              "      <td>3.0</td>\n",
              "      <td>1</td>\n",
              "      <td>502.38</td>\n",
              "      <td>40.565631</td>\n",
              "      <td>379</td>\n",
              "      <td>0</td>\n",
              "      <td>35.104023</td>\n",
              "      <td>54.185950</td>\n",
              "      <td>5</td>\n",
              "      <td>496.651610</td>\n",
              "      <td>1</td>\n",
              "      <td>9</td>\n",
              "      <td>0.001367</td>\n",
              "      <td>1.500000</td>\n",
              "      <td>0.500000</td>\n",
              "    </tr>\n",
              "    <tr>\n",
              "      <th>99997</th>\n",
              "      <td>39628.99</td>\n",
              "      <td>3359.415833</td>\n",
              "      <td>4</td>\n",
              "      <td>6</td>\n",
              "      <td>5729</td>\n",
              "      <td>2</td>\n",
              "      <td>27</td>\n",
              "      <td>6</td>\n",
              "      <td>11.50</td>\n",
              "      <td>3.0</td>\n",
              "      <td>3</td>\n",
              "      <td>502.38</td>\n",
              "      <td>41.255522</td>\n",
              "      <td>380</td>\n",
              "      <td>0</td>\n",
              "      <td>35.104023</td>\n",
              "      <td>24.028477</td>\n",
              "      <td>6</td>\n",
              "      <td>516.809083</td>\n",
              "      <td>1</td>\n",
              "      <td>9</td>\n",
              "      <td>0.000606</td>\n",
              "      <td>1.500000</td>\n",
              "      <td>0.500000</td>\n",
              "    </tr>\n",
              "  </tbody>\n",
              "</table>\n",
              "<p>48081 rows × 24 columns</p>\n",
              "</div>\n",
              "      <button class=\"colab-df-convert\" onclick=\"convertToInteractive('df-9196e433-bda3-4559-afed-16d29dc0dd3c')\"\n",
              "              title=\"Convert this dataframe to an interactive table.\"\n",
              "              style=\"display:none;\">\n",
              "        \n",
              "  <svg xmlns=\"http://www.w3.org/2000/svg\" height=\"24px\"viewBox=\"0 0 24 24\"\n",
              "       width=\"24px\">\n",
              "    <path d=\"M0 0h24v24H0V0z\" fill=\"none\"/>\n",
              "    <path d=\"M18.56 5.44l.94 2.06.94-2.06 2.06-.94-2.06-.94-.94-2.06-.94 2.06-2.06.94zm-11 1L8.5 8.5l.94-2.06 2.06-.94-2.06-.94L8.5 2.5l-.94 2.06-2.06.94zm10 10l.94 2.06.94-2.06 2.06-.94-2.06-.94-.94-2.06-.94 2.06-2.06.94z\"/><path d=\"M17.41 7.96l-1.37-1.37c-.4-.4-.92-.59-1.43-.59-.52 0-1.04.2-1.43.59L10.3 9.45l-7.72 7.72c-.78.78-.78 2.05 0 2.83L4 21.41c.39.39.9.59 1.41.59.51 0 1.02-.2 1.41-.59l7.78-7.78 2.81-2.81c.8-.78.8-2.07 0-2.86zM5.41 20L4 18.59l7.72-7.72 1.47 1.35L5.41 20z\"/>\n",
              "  </svg>\n",
              "      </button>\n",
              "      \n",
              "  <style>\n",
              "    .colab-df-container {\n",
              "      display:flex;\n",
              "      flex-wrap:wrap;\n",
              "      gap: 12px;\n",
              "    }\n",
              "\n",
              "    .colab-df-convert {\n",
              "      background-color: #E8F0FE;\n",
              "      border: none;\n",
              "      border-radius: 50%;\n",
              "      cursor: pointer;\n",
              "      display: none;\n",
              "      fill: #1967D2;\n",
              "      height: 32px;\n",
              "      padding: 0 0 0 0;\n",
              "      width: 32px;\n",
              "    }\n",
              "\n",
              "    .colab-df-convert:hover {\n",
              "      background-color: #E2EBFA;\n",
              "      box-shadow: 0px 1px 2px rgba(60, 64, 67, 0.3), 0px 1px 3px 1px rgba(60, 64, 67, 0.15);\n",
              "      fill: #174EA6;\n",
              "    }\n",
              "\n",
              "    [theme=dark] .colab-df-convert {\n",
              "      background-color: #3B4455;\n",
              "      fill: #D2E3FC;\n",
              "    }\n",
              "\n",
              "    [theme=dark] .colab-df-convert:hover {\n",
              "      background-color: #434B5C;\n",
              "      box-shadow: 0px 1px 3px 1px rgba(0, 0, 0, 0.15);\n",
              "      filter: drop-shadow(0px 1px 2px rgba(0, 0, 0, 0.3));\n",
              "      fill: #FFFFFF;\n",
              "    }\n",
              "  </style>\n",
              "\n",
              "      <script>\n",
              "        const buttonEl =\n",
              "          document.querySelector('#df-9196e433-bda3-4559-afed-16d29dc0dd3c button.colab-df-convert');\n",
              "        buttonEl.style.display =\n",
              "          google.colab.kernel.accessAllowed ? 'block' : 'none';\n",
              "\n",
              "        async function convertToInteractive(key) {\n",
              "          const element = document.querySelector('#df-9196e433-bda3-4559-afed-16d29dc0dd3c');\n",
              "          const dataTable =\n",
              "            await google.colab.kernel.invokeFunction('convertToInteractive',\n",
              "                                                     [key], {});\n",
              "          if (!dataTable) return;\n",
              "\n",
              "          const docLinkHtml = 'Like what you see? Visit the ' +\n",
              "            '<a target=\"_blank\" href=https://colab.research.google.com/notebooks/data_table.ipynb>data table notebook</a>'\n",
              "            + ' to learn more about interactive tables.';\n",
              "          element.innerHTML = '';\n",
              "          dataTable['output_type'] = 'display_data';\n",
              "          await google.colab.output.renderOutput(dataTable, element);\n",
              "          const docLink = document.createElement('div');\n",
              "          docLink.innerHTML = docLinkHtml;\n",
              "          element.appendChild(docLink);\n",
              "        }\n",
              "      </script>\n",
              "    </div>\n",
              "  </div>\n",
              "  "
            ]
          },
          "metadata": {},
          "execution_count": 46
        }
      ]
    },
    {
      "cell_type": "markdown",
      "source": [
        "A base de dados é dividida em 80% de treino e 20% de teste, os dados são então transformados em arrays"
      ],
      "metadata": {
        "id": "7TZ6Ts4Ej3JQ"
      }
    },
    {
      "cell_type": "code",
      "source": [
        "X_train,X_test,y_train,y_test = train_test_split(df_total.drop(columns='Credit_Score'),df_total.Credit_Score,test_size=0.2, random_state=42)"
      ],
      "metadata": {
        "id": "fjqOr867c63x"
      },
      "execution_count": null,
      "outputs": []
    },
    {
      "cell_type": "code",
      "source": [
        "X_train.shape"
      ],
      "metadata": {
        "colab": {
          "base_uri": "https://localhost:8080/"
        },
        "id": "opQV4tDqF2DM",
        "outputId": "d1241686-2d42-45cd-8c0b-46dd5f091002"
      },
      "execution_count": null,
      "outputs": [
        {
          "output_type": "execute_result",
          "data": {
            "text/plain": [
              "(38464, 23)"
            ]
          },
          "metadata": {},
          "execution_count": 48
        }
      ]
    },
    {
      "cell_type": "code",
      "source": [
        "X_train,X_test = np.array(X_train),np.array(X_test)"
      ],
      "metadata": {
        "id": "-nKT-G4F0qGt"
      },
      "execution_count": null,
      "outputs": []
    },
    {
      "cell_type": "code",
      "source": [
        "y_train,y_test = np.array(y_train),np.array(y_test)"
      ],
      "metadata": {
        "id": "cdKf_jwb0GD9"
      },
      "execution_count": null,
      "outputs": []
    },
    {
      "cell_type": "markdown",
      "source": [
        "##**4. Modeling (Modelagem)**"
      ],
      "metadata": {
        "id": "AjlBKt3FKJhA"
      }
    },
    {
      "cell_type": "markdown",
      "source": [
        "A tunagem de hiperparâmetros é realizada com Grid Search, o algoritmo utilizado para o modelo é o Random Forest Classifier, que apresenta bons resultados para esse tipo de base de dados"
      ],
      "metadata": {
        "id": "uhhOKTg5j8ef"
      }
    },
    {
      "cell_type": "code",
      "source": [
        "param_grid = {\n",
        "    'n_estimators': [10,20,50,100,150],\n",
        "    'max_features': ['auto', 'sqrt', 'log2'],\n",
        "    'max_depth' : [2,4,6,8,10,12],\n",
        "    'criterion' :['gini', 'entropy']\n",
        "}\n",
        "random_forest=RandomForestClassifier(random_state=42)"
      ],
      "metadata": {
        "id": "6xAlal4HiWix"
      },
      "execution_count": null,
      "outputs": []
    },
    {
      "cell_type": "code",
      "source": [
        "cv = GridSearchCV(estimator=random_forest, param_grid=param_grid, cv= 5,verbose=3)\n",
        "cv.fit(X_train, y_train)"
      ],
      "metadata": {
        "colab": {
          "base_uri": "https://localhost:8080/"
        },
        "id": "KoYznIEvihjo",
        "outputId": "892fc191-c9ef-4fed-f8fe-7828531bde90"
      },
      "execution_count": null,
      "outputs": [
        {
          "output_type": "stream",
          "name": "stdout",
          "text": [
            "Fitting 5 folds for each of 180 candidates, totalling 900 fits\n",
            "[CV 1/5] END criterion=gini, max_depth=2, max_features=auto, n_estimators=10;, score=0.606 total time=   0.3s\n",
            "[CV 2/5] END criterion=gini, max_depth=2, max_features=auto, n_estimators=10;, score=0.620 total time=   0.3s\n",
            "[CV 3/5] END criterion=gini, max_depth=2, max_features=auto, n_estimators=10;, score=0.615 total time=   0.2s\n",
            "[CV 4/5] END criterion=gini, max_depth=2, max_features=auto, n_estimators=10;, score=0.603 total time=   0.4s\n",
            "[CV 5/5] END criterion=gini, max_depth=2, max_features=auto, n_estimators=10;, score=0.604 total time=   0.3s\n",
            "[CV 1/5] END criterion=gini, max_depth=2, max_features=auto, n_estimators=20;, score=0.605 total time=   0.7s\n",
            "[CV 2/5] END criterion=gini, max_depth=2, max_features=auto, n_estimators=20;, score=0.615 total time=   0.6s\n",
            "[CV 3/5] END criterion=gini, max_depth=2, max_features=auto, n_estimators=20;, score=0.607 total time=   0.8s\n",
            "[CV 4/5] END criterion=gini, max_depth=2, max_features=auto, n_estimators=20;, score=0.592 total time=   0.7s\n",
            "[CV 5/5] END criterion=gini, max_depth=2, max_features=auto, n_estimators=20;, score=0.598 total time=   0.7s\n",
            "[CV 1/5] END criterion=gini, max_depth=2, max_features=auto, n_estimators=50;, score=0.605 total time=   1.9s\n",
            "[CV 2/5] END criterion=gini, max_depth=2, max_features=auto, n_estimators=50;, score=0.614 total time=   2.1s\n",
            "[CV 3/5] END criterion=gini, max_depth=2, max_features=auto, n_estimators=50;, score=0.605 total time=   2.1s\n",
            "[CV 4/5] END criterion=gini, max_depth=2, max_features=auto, n_estimators=50;, score=0.592 total time=   2.0s\n",
            "[CV 5/5] END criterion=gini, max_depth=2, max_features=auto, n_estimators=50;, score=0.602 total time=   2.0s\n",
            "[CV 1/5] END criterion=gini, max_depth=2, max_features=auto, n_estimators=100;, score=0.610 total time=   3.7s\n",
            "[CV 2/5] END criterion=gini, max_depth=2, max_features=auto, n_estimators=100;, score=0.616 total time=   1.8s\n",
            "[CV 3/5] END criterion=gini, max_depth=2, max_features=auto, n_estimators=100;, score=0.612 total time=   1.8s\n",
            "[CV 4/5] END criterion=gini, max_depth=2, max_features=auto, n_estimators=100;, score=0.600 total time=   1.8s\n",
            "[CV 5/5] END criterion=gini, max_depth=2, max_features=auto, n_estimators=100;, score=0.603 total time=   1.8s\n",
            "[CV 1/5] END criterion=gini, max_depth=2, max_features=auto, n_estimators=150;, score=0.610 total time=   2.7s\n",
            "[CV 2/5] END criterion=gini, max_depth=2, max_features=auto, n_estimators=150;, score=0.617 total time=   2.7s\n",
            "[CV 3/5] END criterion=gini, max_depth=2, max_features=auto, n_estimators=150;, score=0.614 total time=   2.7s\n",
            "[CV 4/5] END criterion=gini, max_depth=2, max_features=auto, n_estimators=150;, score=0.601 total time=   2.7s\n",
            "[CV 5/5] END criterion=gini, max_depth=2, max_features=auto, n_estimators=150;, score=0.605 total time=   2.7s\n",
            "[CV 1/5] END criterion=gini, max_depth=2, max_features=sqrt, n_estimators=10;, score=0.606 total time=   0.2s\n",
            "[CV 2/5] END criterion=gini, max_depth=2, max_features=sqrt, n_estimators=10;, score=0.620 total time=   0.2s\n",
            "[CV 3/5] END criterion=gini, max_depth=2, max_features=sqrt, n_estimators=10;, score=0.615 total time=   0.2s\n",
            "[CV 4/5] END criterion=gini, max_depth=2, max_features=sqrt, n_estimators=10;, score=0.603 total time=   0.2s\n",
            "[CV 5/5] END criterion=gini, max_depth=2, max_features=sqrt, n_estimators=10;, score=0.604 total time=   0.2s\n",
            "[CV 1/5] END criterion=gini, max_depth=2, max_features=sqrt, n_estimators=20;, score=0.605 total time=   0.4s\n",
            "[CV 2/5] END criterion=gini, max_depth=2, max_features=sqrt, n_estimators=20;, score=0.615 total time=   0.4s\n",
            "[CV 3/5] END criterion=gini, max_depth=2, max_features=sqrt, n_estimators=20;, score=0.607 total time=   0.4s\n",
            "[CV 4/5] END criterion=gini, max_depth=2, max_features=sqrt, n_estimators=20;, score=0.592 total time=   0.4s\n",
            "[CV 5/5] END criterion=gini, max_depth=2, max_features=sqrt, n_estimators=20;, score=0.598 total time=   0.4s\n",
            "[CV 1/5] END criterion=gini, max_depth=2, max_features=sqrt, n_estimators=50;, score=0.605 total time=   0.9s\n",
            "[CV 2/5] END criterion=gini, max_depth=2, max_features=sqrt, n_estimators=50;, score=0.614 total time=   0.9s\n",
            "[CV 3/5] END criterion=gini, max_depth=2, max_features=sqrt, n_estimators=50;, score=0.605 total time=   0.9s\n",
            "[CV 4/5] END criterion=gini, max_depth=2, max_features=sqrt, n_estimators=50;, score=0.592 total time=   0.9s\n",
            "[CV 5/5] END criterion=gini, max_depth=2, max_features=sqrt, n_estimators=50;, score=0.602 total time=   0.9s\n",
            "[CV 1/5] END criterion=gini, max_depth=2, max_features=sqrt, n_estimators=100;, score=0.610 total time=   1.8s\n",
            "[CV 2/5] END criterion=gini, max_depth=2, max_features=sqrt, n_estimators=100;, score=0.616 total time=   1.8s\n",
            "[CV 3/5] END criterion=gini, max_depth=2, max_features=sqrt, n_estimators=100;, score=0.612 total time=   1.8s\n",
            "[CV 4/5] END criterion=gini, max_depth=2, max_features=sqrt, n_estimators=100;, score=0.600 total time=   1.8s\n",
            "[CV 5/5] END criterion=gini, max_depth=2, max_features=sqrt, n_estimators=100;, score=0.603 total time=   1.8s\n",
            "[CV 1/5] END criterion=gini, max_depth=2, max_features=sqrt, n_estimators=150;, score=0.610 total time=   2.7s\n",
            "[CV 2/5] END criterion=gini, max_depth=2, max_features=sqrt, n_estimators=150;, score=0.617 total time=   2.7s\n",
            "[CV 3/5] END criterion=gini, max_depth=2, max_features=sqrt, n_estimators=150;, score=0.614 total time=   2.7s\n",
            "[CV 4/5] END criterion=gini, max_depth=2, max_features=sqrt, n_estimators=150;, score=0.601 total time=   2.7s\n",
            "[CV 5/5] END criterion=gini, max_depth=2, max_features=sqrt, n_estimators=150;, score=0.605 total time=   2.7s\n",
            "[CV 1/5] END criterion=gini, max_depth=2, max_features=log2, n_estimators=10;, score=0.606 total time=   0.2s\n",
            "[CV 2/5] END criterion=gini, max_depth=2, max_features=log2, n_estimators=10;, score=0.620 total time=   0.2s\n",
            "[CV 3/5] END criterion=gini, max_depth=2, max_features=log2, n_estimators=10;, score=0.615 total time=   0.2s\n",
            "[CV 4/5] END criterion=gini, max_depth=2, max_features=log2, n_estimators=10;, score=0.603 total time=   0.2s\n",
            "[CV 5/5] END criterion=gini, max_depth=2, max_features=log2, n_estimators=10;, score=0.604 total time=   0.2s\n",
            "[CV 1/5] END criterion=gini, max_depth=2, max_features=log2, n_estimators=20;, score=0.605 total time=   0.4s\n",
            "[CV 2/5] END criterion=gini, max_depth=2, max_features=log2, n_estimators=20;, score=0.615 total time=   0.4s\n",
            "[CV 3/5] END criterion=gini, max_depth=2, max_features=log2, n_estimators=20;, score=0.607 total time=   0.4s\n",
            "[CV 4/5] END criterion=gini, max_depth=2, max_features=log2, n_estimators=20;, score=0.592 total time=   0.4s\n",
            "[CV 5/5] END criterion=gini, max_depth=2, max_features=log2, n_estimators=20;, score=0.598 total time=   0.4s\n",
            "[CV 1/5] END criterion=gini, max_depth=2, max_features=log2, n_estimators=50;, score=0.605 total time=   0.9s\n",
            "[CV 2/5] END criterion=gini, max_depth=2, max_features=log2, n_estimators=50;, score=0.614 total time=   0.9s\n",
            "[CV 3/5] END criterion=gini, max_depth=2, max_features=log2, n_estimators=50;, score=0.605 total time=   0.9s\n",
            "[CV 4/5] END criterion=gini, max_depth=2, max_features=log2, n_estimators=50;, score=0.592 total time=   0.9s\n",
            "[CV 5/5] END criterion=gini, max_depth=2, max_features=log2, n_estimators=50;, score=0.602 total time=   0.9s\n",
            "[CV 1/5] END criterion=gini, max_depth=2, max_features=log2, n_estimators=100;, score=0.610 total time=   1.8s\n",
            "[CV 2/5] END criterion=gini, max_depth=2, max_features=log2, n_estimators=100;, score=0.616 total time=   1.8s\n",
            "[CV 3/5] END criterion=gini, max_depth=2, max_features=log2, n_estimators=100;, score=0.612 total time=   1.8s\n",
            "[CV 4/5] END criterion=gini, max_depth=2, max_features=log2, n_estimators=100;, score=0.600 total time=   1.8s\n",
            "[CV 5/5] END criterion=gini, max_depth=2, max_features=log2, n_estimators=100;, score=0.603 total time=   1.8s\n",
            "[CV 1/5] END criterion=gini, max_depth=2, max_features=log2, n_estimators=150;, score=0.610 total time=   2.7s\n",
            "[CV 2/5] END criterion=gini, max_depth=2, max_features=log2, n_estimators=150;, score=0.617 total time=   2.7s\n",
            "[CV 3/5] END criterion=gini, max_depth=2, max_features=log2, n_estimators=150;, score=0.614 total time=   2.7s\n",
            "[CV 4/5] END criterion=gini, max_depth=2, max_features=log2, n_estimators=150;, score=0.601 total time=   2.7s\n",
            "[CV 5/5] END criterion=gini, max_depth=2, max_features=log2, n_estimators=150;, score=0.605 total time=   2.7s\n",
            "[CV 1/5] END criterion=gini, max_depth=4, max_features=auto, n_estimators=10;, score=0.672 total time=   0.3s\n",
            "[CV 2/5] END criterion=gini, max_depth=4, max_features=auto, n_estimators=10;, score=0.681 total time=   0.3s\n",
            "[CV 3/5] END criterion=gini, max_depth=4, max_features=auto, n_estimators=10;, score=0.668 total time=   0.3s\n",
            "[CV 4/5] END criterion=gini, max_depth=4, max_features=auto, n_estimators=10;, score=0.663 total time=   0.3s\n",
            "[CV 5/5] END criterion=gini, max_depth=4, max_features=auto, n_estimators=10;, score=0.669 total time=   0.3s\n",
            "[CV 1/5] END criterion=gini, max_depth=4, max_features=auto, n_estimators=20;, score=0.665 total time=   0.6s\n",
            "[CV 2/5] END criterion=gini, max_depth=4, max_features=auto, n_estimators=20;, score=0.673 total time=   0.6s\n",
            "[CV 3/5] END criterion=gini, max_depth=4, max_features=auto, n_estimators=20;, score=0.656 total time=   0.6s\n",
            "[CV 4/5] END criterion=gini, max_depth=4, max_features=auto, n_estimators=20;, score=0.657 total time=   0.6s\n",
            "[CV 5/5] END criterion=gini, max_depth=4, max_features=auto, n_estimators=20;, score=0.658 total time=   0.6s\n",
            "[CV 1/5] END criterion=gini, max_depth=4, max_features=auto, n_estimators=50;, score=0.657 total time=   1.5s\n",
            "[CV 2/5] END criterion=gini, max_depth=4, max_features=auto, n_estimators=50;, score=0.669 total time=   1.5s\n",
            "[CV 3/5] END criterion=gini, max_depth=4, max_features=auto, n_estimators=50;, score=0.660 total time=   1.5s\n",
            "[CV 4/5] END criterion=gini, max_depth=4, max_features=auto, n_estimators=50;, score=0.651 total time=   3.2s\n",
            "[CV 5/5] END criterion=gini, max_depth=4, max_features=auto, n_estimators=50;, score=0.655 total time=   1.6s\n",
            "[CV 1/5] END criterion=gini, max_depth=4, max_features=auto, n_estimators=100;, score=0.655 total time=   2.9s\n",
            "[CV 2/5] END criterion=gini, max_depth=4, max_features=auto, n_estimators=100;, score=0.670 total time=   2.9s\n",
            "[CV 3/5] END criterion=gini, max_depth=4, max_features=auto, n_estimators=100;, score=0.659 total time=   2.9s\n",
            "[CV 4/5] END criterion=gini, max_depth=4, max_features=auto, n_estimators=100;, score=0.654 total time=   3.0s\n",
            "[CV 5/5] END criterion=gini, max_depth=4, max_features=auto, n_estimators=100;, score=0.655 total time=   3.1s\n",
            "[CV 1/5] END criterion=gini, max_depth=4, max_features=auto, n_estimators=150;, score=0.655 total time=   4.8s\n",
            "[CV 2/5] END criterion=gini, max_depth=4, max_features=auto, n_estimators=150;, score=0.672 total time=   7.9s\n",
            "[CV 3/5] END criterion=gini, max_depth=4, max_features=auto, n_estimators=150;, score=0.660 total time=   7.2s\n",
            "[CV 4/5] END criterion=gini, max_depth=4, max_features=auto, n_estimators=150;, score=0.653 total time=   4.5s\n",
            "[CV 5/5] END criterion=gini, max_depth=4, max_features=auto, n_estimators=150;, score=0.656 total time=   4.5s\n",
            "[CV 1/5] END criterion=gini, max_depth=4, max_features=sqrt, n_estimators=10;, score=0.672 total time=   0.3s\n",
            "[CV 2/5] END criterion=gini, max_depth=4, max_features=sqrt, n_estimators=10;, score=0.681 total time=   0.4s\n",
            "[CV 3/5] END criterion=gini, max_depth=4, max_features=sqrt, n_estimators=10;, score=0.668 total time=   0.3s\n",
            "[CV 4/5] END criterion=gini, max_depth=4, max_features=sqrt, n_estimators=10;, score=0.663 total time=   0.3s\n",
            "[CV 5/5] END criterion=gini, max_depth=4, max_features=sqrt, n_estimators=10;, score=0.669 total time=   0.3s\n",
            "[CV 1/5] END criterion=gini, max_depth=4, max_features=sqrt, n_estimators=20;, score=0.665 total time=   0.7s\n",
            "[CV 2/5] END criterion=gini, max_depth=4, max_features=sqrt, n_estimators=20;, score=0.673 total time=   1.0s\n",
            "[CV 3/5] END criterion=gini, max_depth=4, max_features=sqrt, n_estimators=20;, score=0.656 total time=   1.0s\n",
            "[CV 4/5] END criterion=gini, max_depth=4, max_features=sqrt, n_estimators=20;, score=0.657 total time=   1.0s\n",
            "[CV 5/5] END criterion=gini, max_depth=4, max_features=sqrt, n_estimators=20;, score=0.658 total time=   0.8s\n",
            "[CV 1/5] END criterion=gini, max_depth=4, max_features=sqrt, n_estimators=50;, score=0.657 total time=   2.1s\n",
            "[CV 2/5] END criterion=gini, max_depth=4, max_features=sqrt, n_estimators=50;, score=0.669 total time=   1.9s\n",
            "[CV 3/5] END criterion=gini, max_depth=4, max_features=sqrt, n_estimators=50;, score=0.660 total time=   1.5s\n",
            "[CV 4/5] END criterion=gini, max_depth=4, max_features=sqrt, n_estimators=50;, score=0.651 total time=   1.5s\n",
            "[CV 5/5] END criterion=gini, max_depth=4, max_features=sqrt, n_estimators=50;, score=0.655 total time=   1.5s\n",
            "[CV 1/5] END criterion=gini, max_depth=4, max_features=sqrt, n_estimators=100;, score=0.655 total time=   3.4s\n",
            "[CV 2/5] END criterion=gini, max_depth=4, max_features=sqrt, n_estimators=100;, score=0.670 total time=   5.1s\n",
            "[CV 3/5] END criterion=gini, max_depth=4, max_features=sqrt, n_estimators=100;, score=0.659 total time=   6.0s\n",
            "[CV 4/5] END criterion=gini, max_depth=4, max_features=sqrt, n_estimators=100;, score=0.654 total time=   3.8s\n",
            "[CV 5/5] END criterion=gini, max_depth=4, max_features=sqrt, n_estimators=100;, score=0.655 total time=   3.2s\n",
            "[CV 1/5] END criterion=gini, max_depth=4, max_features=sqrt, n_estimators=150;, score=0.655 total time=   5.0s\n",
            "[CV 2/5] END criterion=gini, max_depth=4, max_features=sqrt, n_estimators=150;, score=0.672 total time=   5.0s\n",
            "[CV 3/5] END criterion=gini, max_depth=4, max_features=sqrt, n_estimators=150;, score=0.660 total time=   5.5s\n",
            "[CV 4/5] END criterion=gini, max_depth=4, max_features=sqrt, n_estimators=150;, score=0.653 total time=   4.7s\n",
            "[CV 5/5] END criterion=gini, max_depth=4, max_features=sqrt, n_estimators=150;, score=0.656 total time=   6.1s\n",
            "[CV 1/5] END criterion=gini, max_depth=4, max_features=log2, n_estimators=10;, score=0.672 total time=   0.3s\n",
            "[CV 2/5] END criterion=gini, max_depth=4, max_features=log2, n_estimators=10;, score=0.681 total time=   0.3s\n",
            "[CV 3/5] END criterion=gini, max_depth=4, max_features=log2, n_estimators=10;, score=0.668 total time=   0.3s\n",
            "[CV 4/5] END criterion=gini, max_depth=4, max_features=log2, n_estimators=10;, score=0.663 total time=   0.3s\n",
            "[CV 5/5] END criterion=gini, max_depth=4, max_features=log2, n_estimators=10;, score=0.669 total time=   0.3s\n",
            "[CV 1/5] END criterion=gini, max_depth=4, max_features=log2, n_estimators=20;, score=0.665 total time=   0.6s\n",
            "[CV 2/5] END criterion=gini, max_depth=4, max_features=log2, n_estimators=20;, score=0.673 total time=   0.6s\n",
            "[CV 3/5] END criterion=gini, max_depth=4, max_features=log2, n_estimators=20;, score=0.656 total time=   0.6s\n",
            "[CV 4/5] END criterion=gini, max_depth=4, max_features=log2, n_estimators=20;, score=0.657 total time=   0.6s\n",
            "[CV 5/5] END criterion=gini, max_depth=4, max_features=log2, n_estimators=20;, score=0.658 total time=   0.6s\n",
            "[CV 1/5] END criterion=gini, max_depth=4, max_features=log2, n_estimators=50;, score=0.657 total time=   1.5s\n",
            "[CV 2/5] END criterion=gini, max_depth=4, max_features=log2, n_estimators=50;, score=0.669 total time=   1.5s\n",
            "[CV 3/5] END criterion=gini, max_depth=4, max_features=log2, n_estimators=50;, score=0.660 total time=   1.5s\n",
            "[CV 4/5] END criterion=gini, max_depth=4, max_features=log2, n_estimators=50;, score=0.651 total time=   1.5s\n",
            "[CV 5/5] END criterion=gini, max_depth=4, max_features=log2, n_estimators=50;, score=0.655 total time=   1.5s\n",
            "[CV 1/5] END criterion=gini, max_depth=4, max_features=log2, n_estimators=100;, score=0.655 total time=   2.9s\n",
            "[CV 2/5] END criterion=gini, max_depth=4, max_features=log2, n_estimators=100;, score=0.670 total time=   2.9s\n",
            "[CV 3/5] END criterion=gini, max_depth=4, max_features=log2, n_estimators=100;, score=0.659 total time=   2.9s\n",
            "[CV 4/5] END criterion=gini, max_depth=4, max_features=log2, n_estimators=100;, score=0.654 total time=   3.1s\n",
            "[CV 5/5] END criterion=gini, max_depth=4, max_features=log2, n_estimators=100;, score=0.655 total time=   4.7s\n",
            "[CV 1/5] END criterion=gini, max_depth=4, max_features=log2, n_estimators=150;, score=0.655 total time=   5.4s\n",
            "[CV 2/5] END criterion=gini, max_depth=4, max_features=log2, n_estimators=150;, score=0.672 total time=   5.3s\n",
            "[CV 3/5] END criterion=gini, max_depth=4, max_features=log2, n_estimators=150;, score=0.660 total time=   5.5s\n",
            "[CV 4/5] END criterion=gini, max_depth=4, max_features=log2, n_estimators=150;, score=0.653 total time=   4.7s\n",
            "[CV 5/5] END criterion=gini, max_depth=4, max_features=log2, n_estimators=150;, score=0.656 total time=   5.4s\n",
            "[CV 1/5] END criterion=gini, max_depth=6, max_features=auto, n_estimators=10;, score=0.686 total time=   0.6s\n",
            "[CV 2/5] END criterion=gini, max_depth=6, max_features=auto, n_estimators=10;, score=0.694 total time=   0.6s\n",
            "[CV 3/5] END criterion=gini, max_depth=6, max_features=auto, n_estimators=10;, score=0.683 total time=   0.7s\n",
            "[CV 4/5] END criterion=gini, max_depth=6, max_features=auto, n_estimators=10;, score=0.681 total time=   0.6s\n",
            "[CV 5/5] END criterion=gini, max_depth=6, max_features=auto, n_estimators=10;, score=0.685 total time=   0.4s\n",
            "[CV 1/5] END criterion=gini, max_depth=6, max_features=auto, n_estimators=20;, score=0.683 total time=   0.8s\n",
            "[CV 2/5] END criterion=gini, max_depth=6, max_features=auto, n_estimators=20;, score=0.692 total time=   0.8s\n",
            "[CV 3/5] END criterion=gini, max_depth=6, max_features=auto, n_estimators=20;, score=0.683 total time=   0.8s\n",
            "[CV 4/5] END criterion=gini, max_depth=6, max_features=auto, n_estimators=20;, score=0.678 total time=   0.8s\n",
            "[CV 5/5] END criterion=gini, max_depth=6, max_features=auto, n_estimators=20;, score=0.682 total time=   0.8s\n",
            "[CV 1/5] END criterion=gini, max_depth=6, max_features=auto, n_estimators=50;, score=0.680 total time=   2.1s\n",
            "[CV 2/5] END criterion=gini, max_depth=6, max_features=auto, n_estimators=50;, score=0.696 total time=   2.8s\n",
            "[CV 3/5] END criterion=gini, max_depth=6, max_features=auto, n_estimators=50;, score=0.689 total time=   2.1s\n",
            "[CV 4/5] END criterion=gini, max_depth=6, max_features=auto, n_estimators=50;, score=0.679 total time=   2.2s\n",
            "[CV 5/5] END criterion=gini, max_depth=6, max_features=auto, n_estimators=50;, score=0.684 total time=   2.4s\n",
            "[CV 1/5] END criterion=gini, max_depth=6, max_features=auto, n_estimators=100;, score=0.684 total time=   5.0s\n",
            "[CV 2/5] END criterion=gini, max_depth=6, max_features=auto, n_estimators=100;, score=0.692 total time=   4.8s\n",
            "[CV 3/5] END criterion=gini, max_depth=6, max_features=auto, n_estimators=100;, score=0.690 total time=   6.3s\n",
            "[CV 4/5] END criterion=gini, max_depth=6, max_features=auto, n_estimators=100;, score=0.679 total time=   4.1s\n",
            "[CV 5/5] END criterion=gini, max_depth=6, max_features=auto, n_estimators=100;, score=0.688 total time=   4.9s\n",
            "[CV 1/5] END criterion=gini, max_depth=6, max_features=auto, n_estimators=150;, score=0.687 total time=   7.6s\n",
            "[CV 2/5] END criterion=gini, max_depth=6, max_features=auto, n_estimators=150;, score=0.694 total time=   6.7s\n",
            "[CV 3/5] END criterion=gini, max_depth=6, max_features=auto, n_estimators=150;, score=0.691 total time=   6.5s\n",
            "[CV 4/5] END criterion=gini, max_depth=6, max_features=auto, n_estimators=150;, score=0.679 total time=   6.5s\n",
            "[CV 5/5] END criterion=gini, max_depth=6, max_features=auto, n_estimators=150;, score=0.684 total time=   6.5s\n",
            "[CV 1/5] END criterion=gini, max_depth=6, max_features=sqrt, n_estimators=10;, score=0.686 total time=   0.4s\n",
            "[CV 2/5] END criterion=gini, max_depth=6, max_features=sqrt, n_estimators=10;, score=0.694 total time=   0.6s\n",
            "[CV 3/5] END criterion=gini, max_depth=6, max_features=sqrt, n_estimators=10;, score=0.683 total time=   0.6s\n",
            "[CV 4/5] END criterion=gini, max_depth=6, max_features=sqrt, n_estimators=10;, score=0.681 total time=   0.5s\n",
            "[CV 5/5] END criterion=gini, max_depth=6, max_features=sqrt, n_estimators=10;, score=0.685 total time=   0.4s\n",
            "[CV 1/5] END criterion=gini, max_depth=6, max_features=sqrt, n_estimators=20;, score=0.683 total time=   0.9s\n",
            "[CV 2/5] END criterion=gini, max_depth=6, max_features=sqrt, n_estimators=20;, score=0.692 total time=   0.8s\n",
            "[CV 3/5] END criterion=gini, max_depth=6, max_features=sqrt, n_estimators=20;, score=0.683 total time=   1.0s\n",
            "[CV 4/5] END criterion=gini, max_depth=6, max_features=sqrt, n_estimators=20;, score=0.678 total time=   1.5s\n",
            "[CV 5/5] END criterion=gini, max_depth=6, max_features=sqrt, n_estimators=20;, score=0.682 total time=   1.8s\n",
            "[CV 1/5] END criterion=gini, max_depth=6, max_features=sqrt, n_estimators=50;, score=0.680 total time=   4.7s\n",
            "[CV 2/5] END criterion=gini, max_depth=6, max_features=sqrt, n_estimators=50;, score=0.696 total time=   2.4s\n",
            "[CV 3/5] END criterion=gini, max_depth=6, max_features=sqrt, n_estimators=50;, score=0.689 total time=   2.8s\n",
            "[CV 4/5] END criterion=gini, max_depth=6, max_features=sqrt, n_estimators=50;, score=0.679 total time=   2.3s\n",
            "[CV 5/5] END criterion=gini, max_depth=6, max_features=sqrt, n_estimators=50;, score=0.684 total time=   2.3s\n",
            "[CV 1/5] END criterion=gini, max_depth=6, max_features=sqrt, n_estimators=100;, score=0.684 total time=   5.9s\n",
            "[CV 2/5] END criterion=gini, max_depth=6, max_features=sqrt, n_estimators=100;, score=0.692 total time=   4.0s\n",
            "[CV 3/5] END criterion=gini, max_depth=6, max_features=sqrt, n_estimators=100;, score=0.690 total time=   4.0s\n",
            "[CV 4/5] END criterion=gini, max_depth=6, max_features=sqrt, n_estimators=100;, score=0.679 total time=   4.0s\n",
            "[CV 5/5] END criterion=gini, max_depth=6, max_features=sqrt, n_estimators=100;, score=0.688 total time=   4.8s\n",
            "[CV 1/5] END criterion=gini, max_depth=6, max_features=sqrt, n_estimators=150;, score=0.687 total time=   7.8s\n",
            "[CV 2/5] END criterion=gini, max_depth=6, max_features=sqrt, n_estimators=150;, score=0.694 total time=   6.7s\n",
            "[CV 3/5] END criterion=gini, max_depth=6, max_features=sqrt, n_estimators=150;, score=0.691 total time=   6.6s\n",
            "[CV 4/5] END criterion=gini, max_depth=6, max_features=sqrt, n_estimators=150;, score=0.679 total time=   6.5s\n",
            "[CV 5/5] END criterion=gini, max_depth=6, max_features=sqrt, n_estimators=150;, score=0.684 total time=   6.8s\n",
            "[CV 1/5] END criterion=gini, max_depth=6, max_features=log2, n_estimators=10;, score=0.686 total time=   0.4s\n",
            "[CV 2/5] END criterion=gini, max_depth=6, max_features=log2, n_estimators=10;, score=0.694 total time=   0.5s\n",
            "[CV 3/5] END criterion=gini, max_depth=6, max_features=log2, n_estimators=10;, score=0.683 total time=   0.4s\n",
            "[CV 4/5] END criterion=gini, max_depth=6, max_features=log2, n_estimators=10;, score=0.681 total time=   0.4s\n",
            "[CV 5/5] END criterion=gini, max_depth=6, max_features=log2, n_estimators=10;, score=0.685 total time=   0.5s\n",
            "[CV 1/5] END criterion=gini, max_depth=6, max_features=log2, n_estimators=20;, score=0.683 total time=   0.9s\n",
            "[CV 2/5] END criterion=gini, max_depth=6, max_features=log2, n_estimators=20;, score=0.692 total time=   1.0s\n",
            "[CV 3/5] END criterion=gini, max_depth=6, max_features=log2, n_estimators=20;, score=0.683 total time=   1.1s\n",
            "[CV 4/5] END criterion=gini, max_depth=6, max_features=log2, n_estimators=20;, score=0.678 total time=   0.8s\n",
            "[CV 5/5] END criterion=gini, max_depth=6, max_features=log2, n_estimators=20;, score=0.682 total time=   0.8s\n",
            "[CV 1/5] END criterion=gini, max_depth=6, max_features=log2, n_estimators=50;, score=0.680 total time=   2.5s\n",
            "[CV 2/5] END criterion=gini, max_depth=6, max_features=log2, n_estimators=50;, score=0.696 total time=   2.1s\n",
            "[CV 3/5] END criterion=gini, max_depth=6, max_features=log2, n_estimators=50;, score=0.689 total time=   2.1s\n",
            "[CV 4/5] END criterion=gini, max_depth=6, max_features=log2, n_estimators=50;, score=0.679 total time=   2.5s\n",
            "[CV 5/5] END criterion=gini, max_depth=6, max_features=log2, n_estimators=50;, score=0.684 total time=   2.1s\n",
            "[CV 1/5] END criterion=gini, max_depth=6, max_features=log2, n_estimators=100;, score=0.684 total time=   4.3s\n",
            "[CV 2/5] END criterion=gini, max_depth=6, max_features=log2, n_estimators=100;, score=0.692 total time=   4.5s\n",
            "[CV 3/5] END criterion=gini, max_depth=6, max_features=log2, n_estimators=100;, score=0.690 total time=   4.3s\n",
            "[CV 4/5] END criterion=gini, max_depth=6, max_features=log2, n_estimators=100;, score=0.679 total time=   4.7s\n",
            "[CV 5/5] END criterion=gini, max_depth=6, max_features=log2, n_estimators=100;, score=0.688 total time=   4.6s\n",
            "[CV 1/5] END criterion=gini, max_depth=6, max_features=log2, n_estimators=150;, score=0.687 total time=   6.5s\n",
            "[CV 2/5] END criterion=gini, max_depth=6, max_features=log2, n_estimators=150;, score=0.694 total time=   7.4s\n",
            "[CV 3/5] END criterion=gini, max_depth=6, max_features=log2, n_estimators=150;, score=0.691 total time=   6.2s\n",
            "[CV 4/5] END criterion=gini, max_depth=6, max_features=log2, n_estimators=150;, score=0.679 total time=   6.1s\n",
            "[CV 5/5] END criterion=gini, max_depth=6, max_features=log2, n_estimators=150;, score=0.684 total time=   7.8s\n",
            "[CV 1/5] END criterion=gini, max_depth=8, max_features=auto, n_estimators=10;, score=0.700 total time=   0.6s\n",
            "[CV 2/5] END criterion=gini, max_depth=8, max_features=auto, n_estimators=10;, score=0.703 total time=   0.5s\n",
            "[CV 3/5] END criterion=gini, max_depth=8, max_features=auto, n_estimators=10;, score=0.702 total time=   0.5s\n",
            "[CV 4/5] END criterion=gini, max_depth=8, max_features=auto, n_estimators=10;, score=0.695 total time=   0.5s\n",
            "[CV 5/5] END criterion=gini, max_depth=8, max_features=auto, n_estimators=10;, score=0.702 total time=   0.5s\n",
            "[CV 1/5] END criterion=gini, max_depth=8, max_features=auto, n_estimators=20;, score=0.702 total time=   1.0s\n",
            "[CV 2/5] END criterion=gini, max_depth=8, max_features=auto, n_estimators=20;, score=0.711 total time=   1.0s\n",
            "[CV 3/5] END criterion=gini, max_depth=8, max_features=auto, n_estimators=20;, score=0.704 total time=   1.6s\n",
            "[CV 4/5] END criterion=gini, max_depth=8, max_features=auto, n_estimators=20;, score=0.698 total time=   2.0s\n",
            "[CV 5/5] END criterion=gini, max_depth=8, max_features=auto, n_estimators=20;, score=0.702 total time=   1.1s\n",
            "[CV 1/5] END criterion=gini, max_depth=8, max_features=auto, n_estimators=50;, score=0.708 total time=   2.8s\n",
            "[CV 2/5] END criterion=gini, max_depth=8, max_features=auto, n_estimators=50;, score=0.713 total time=   2.8s\n",
            "[CV 3/5] END criterion=gini, max_depth=8, max_features=auto, n_estimators=50;, score=0.711 total time=   3.6s\n",
            "[CV 4/5] END criterion=gini, max_depth=8, max_features=auto, n_estimators=50;, score=0.703 total time=   2.6s\n",
            "[CV 5/5] END criterion=gini, max_depth=8, max_features=auto, n_estimators=50;, score=0.705 total time=   2.7s\n",
            "[CV 1/5] END criterion=gini, max_depth=8, max_features=auto, n_estimators=100;, score=0.710 total time=   5.6s\n",
            "[CV 2/5] END criterion=gini, max_depth=8, max_features=auto, n_estimators=100;, score=0.711 total time=   5.8s\n",
            "[CV 3/5] END criterion=gini, max_depth=8, max_features=auto, n_estimators=100;, score=0.713 total time=   6.1s\n",
            "[CV 4/5] END criterion=gini, max_depth=8, max_features=auto, n_estimators=100;, score=0.704 total time=   5.9s\n",
            "[CV 5/5] END criterion=gini, max_depth=8, max_features=auto, n_estimators=100;, score=0.705 total time=   5.1s\n",
            "[CV 1/5] END criterion=gini, max_depth=8, max_features=auto, n_estimators=150;, score=0.712 total time=   8.0s\n",
            "[CV 2/5] END criterion=gini, max_depth=8, max_features=auto, n_estimators=150;, score=0.709 total time=   8.5s\n",
            "[CV 3/5] END criterion=gini, max_depth=8, max_features=auto, n_estimators=150;, score=0.713 total time=   8.8s\n",
            "[CV 4/5] END criterion=gini, max_depth=8, max_features=auto, n_estimators=150;, score=0.705 total time=   8.2s\n",
            "[CV 5/5] END criterion=gini, max_depth=8, max_features=auto, n_estimators=150;, score=0.705 total time=   8.9s\n",
            "[CV 1/5] END criterion=gini, max_depth=8, max_features=sqrt, n_estimators=10;, score=0.700 total time=   0.7s\n",
            "[CV 2/5] END criterion=gini, max_depth=8, max_features=sqrt, n_estimators=10;, score=0.703 total time=   0.6s\n",
            "[CV 3/5] END criterion=gini, max_depth=8, max_features=sqrt, n_estimators=10;, score=0.702 total time=   0.6s\n",
            "[CV 4/5] END criterion=gini, max_depth=8, max_features=sqrt, n_estimators=10;, score=0.695 total time=   0.7s\n",
            "[CV 5/5] END criterion=gini, max_depth=8, max_features=sqrt, n_estimators=10;, score=0.702 total time=   0.5s\n",
            "[CV 1/5] END criterion=gini, max_depth=8, max_features=sqrt, n_estimators=20;, score=0.702 total time=   1.1s\n",
            "[CV 2/5] END criterion=gini, max_depth=8, max_features=sqrt, n_estimators=20;, score=0.711 total time=   1.1s\n",
            "[CV 3/5] END criterion=gini, max_depth=8, max_features=sqrt, n_estimators=20;, score=0.704 total time=   1.1s\n",
            "[CV 4/5] END criterion=gini, max_depth=8, max_features=sqrt, n_estimators=20;, score=0.698 total time=   1.1s\n",
            "[CV 5/5] END criterion=gini, max_depth=8, max_features=sqrt, n_estimators=20;, score=0.702 total time=   1.1s\n",
            "[CV 1/5] END criterion=gini, max_depth=8, max_features=sqrt, n_estimators=50;, score=0.708 total time=   2.7s\n",
            "[CV 2/5] END criterion=gini, max_depth=8, max_features=sqrt, n_estimators=50;, score=0.713 total time=   3.5s\n",
            "[CV 3/5] END criterion=gini, max_depth=8, max_features=sqrt, n_estimators=50;, score=0.711 total time=   2.7s\n",
            "[CV 4/5] END criterion=gini, max_depth=8, max_features=sqrt, n_estimators=50;, score=0.703 total time=   3.2s\n",
            "[CV 5/5] END criterion=gini, max_depth=8, max_features=sqrt, n_estimators=50;, score=0.705 total time=   7.0s\n",
            "[CV 1/5] END criterion=gini, max_depth=8, max_features=sqrt, n_estimators=100;, score=0.710 total time=   7.2s\n",
            "[CV 2/5] END criterion=gini, max_depth=8, max_features=sqrt, n_estimators=100;, score=0.711 total time=   5.9s\n",
            "[CV 3/5] END criterion=gini, max_depth=8, max_features=sqrt, n_estimators=100;, score=0.713 total time=   6.8s\n",
            "[CV 4/5] END criterion=gini, max_depth=8, max_features=sqrt, n_estimators=100;, score=0.704 total time=   8.8s\n",
            "[CV 5/5] END criterion=gini, max_depth=8, max_features=sqrt, n_estimators=100;, score=0.705 total time=   5.7s\n",
            "[CV 1/5] END criterion=gini, max_depth=8, max_features=sqrt, n_estimators=150;, score=0.712 total time=   9.5s\n",
            "[CV 2/5] END criterion=gini, max_depth=8, max_features=sqrt, n_estimators=150;, score=0.709 total time=   8.3s\n",
            "[CV 3/5] END criterion=gini, max_depth=8, max_features=sqrt, n_estimators=150;, score=0.713 total time=   8.2s\n",
            "[CV 4/5] END criterion=gini, max_depth=8, max_features=sqrt, n_estimators=150;, score=0.705 total time=   8.3s\n",
            "[CV 5/5] END criterion=gini, max_depth=8, max_features=sqrt, n_estimators=150;, score=0.705 total time=   9.3s\n",
            "[CV 1/5] END criterion=gini, max_depth=8, max_features=log2, n_estimators=10;, score=0.700 total time=   0.6s\n",
            "[CV 2/5] END criterion=gini, max_depth=8, max_features=log2, n_estimators=10;, score=0.703 total time=   0.6s\n",
            "[CV 3/5] END criterion=gini, max_depth=8, max_features=log2, n_estimators=10;, score=0.702 total time=   0.8s\n",
            "[CV 4/5] END criterion=gini, max_depth=8, max_features=log2, n_estimators=10;, score=0.695 total time=   0.5s\n",
            "[CV 5/5] END criterion=gini, max_depth=8, max_features=log2, n_estimators=10;, score=0.702 total time=   0.8s\n",
            "[CV 1/5] END criterion=gini, max_depth=8, max_features=log2, n_estimators=20;, score=0.702 total time=   1.3s\n",
            "[CV 2/5] END criterion=gini, max_depth=8, max_features=log2, n_estimators=20;, score=0.711 total time=   1.1s\n",
            "[CV 3/5] END criterion=gini, max_depth=8, max_features=log2, n_estimators=20;, score=0.704 total time=   1.2s\n",
            "[CV 4/5] END criterion=gini, max_depth=8, max_features=log2, n_estimators=20;, score=0.698 total time=   1.1s\n",
            "[CV 5/5] END criterion=gini, max_depth=8, max_features=log2, n_estimators=20;, score=0.702 total time=   1.1s\n",
            "[CV 1/5] END criterion=gini, max_depth=8, max_features=log2, n_estimators=50;, score=0.708 total time=   3.5s\n",
            "[CV 2/5] END criterion=gini, max_depth=8, max_features=log2, n_estimators=50;, score=0.713 total time=   3.8s\n",
            "[CV 3/5] END criterion=gini, max_depth=8, max_features=log2, n_estimators=50;, score=0.711 total time=   2.9s\n",
            "[CV 4/5] END criterion=gini, max_depth=8, max_features=log2, n_estimators=50;, score=0.703 total time=   3.0s\n",
            "[CV 5/5] END criterion=gini, max_depth=8, max_features=log2, n_estimators=50;, score=0.705 total time=   2.7s\n",
            "[CV 1/5] END criterion=gini, max_depth=8, max_features=log2, n_estimators=100;, score=0.710 total time=   6.3s\n",
            "[CV 2/5] END criterion=gini, max_depth=8, max_features=log2, n_estimators=100;, score=0.711 total time=   5.6s\n",
            "[CV 3/5] END criterion=gini, max_depth=8, max_features=log2, n_estimators=100;, score=0.713 total time=   5.5s\n",
            "[CV 4/5] END criterion=gini, max_depth=8, max_features=log2, n_estimators=100;, score=0.704 total time=   5.6s\n",
            "[CV 5/5] END criterion=gini, max_depth=8, max_features=log2, n_estimators=100;, score=0.705 total time=   5.8s\n",
            "[CV 1/5] END criterion=gini, max_depth=8, max_features=log2, n_estimators=150;, score=0.712 total time=   8.2s\n",
            "[CV 2/5] END criterion=gini, max_depth=8, max_features=log2, n_estimators=150;, score=0.709 total time=   7.6s\n",
            "[CV 3/5] END criterion=gini, max_depth=8, max_features=log2, n_estimators=150;, score=0.713 total time=   7.7s\n",
            "[CV 4/5] END criterion=gini, max_depth=8, max_features=log2, n_estimators=150;, score=0.705 total time=   7.6s\n",
            "[CV 5/5] END criterion=gini, max_depth=8, max_features=log2, n_estimators=150;, score=0.705 total time=   8.5s\n",
            "[CV 1/5] END criterion=gini, max_depth=10, max_features=auto, n_estimators=10;, score=0.713 total time=   0.6s\n",
            "[CV 2/5] END criterion=gini, max_depth=10, max_features=auto, n_estimators=10;, score=0.719 total time=   0.6s\n",
            "[CV 3/5] END criterion=gini, max_depth=10, max_features=auto, n_estimators=10;, score=0.714 total time=   0.6s\n",
            "[CV 4/5] END criterion=gini, max_depth=10, max_features=auto, n_estimators=10;, score=0.709 total time=   0.6s\n",
            "[CV 5/5] END criterion=gini, max_depth=10, max_features=auto, n_estimators=10;, score=0.708 total time=   0.6s\n",
            "[CV 1/5] END criterion=gini, max_depth=10, max_features=auto, n_estimators=20;, score=0.717 total time=   1.3s\n",
            "[CV 2/5] END criterion=gini, max_depth=10, max_features=auto, n_estimators=20;, score=0.724 total time=   1.3s\n",
            "[CV 3/5] END criterion=gini, max_depth=10, max_features=auto, n_estimators=20;, score=0.716 total time=   1.7s\n",
            "[CV 4/5] END criterion=gini, max_depth=10, max_features=auto, n_estimators=20;, score=0.712 total time=   1.6s\n",
            "[CV 5/5] END criterion=gini, max_depth=10, max_features=auto, n_estimators=20;, score=0.716 total time=   1.2s\n",
            "[CV 1/5] END criterion=gini, max_depth=10, max_features=auto, n_estimators=50;, score=0.718 total time=   3.1s\n",
            "[CV 2/5] END criterion=gini, max_depth=10, max_features=auto, n_estimators=50;, score=0.726 total time=   3.1s\n",
            "[CV 3/5] END criterion=gini, max_depth=10, max_features=auto, n_estimators=50;, score=0.720 total time=   3.1s\n",
            "[CV 4/5] END criterion=gini, max_depth=10, max_features=auto, n_estimators=50;, score=0.712 total time=   3.1s\n",
            "[CV 5/5] END criterion=gini, max_depth=10, max_features=auto, n_estimators=50;, score=0.719 total time=   3.1s\n",
            "[CV 1/5] END criterion=gini, max_depth=10, max_features=auto, n_estimators=100;, score=0.721 total time=   6.2s\n",
            "[CV 2/5] END criterion=gini, max_depth=10, max_features=auto, n_estimators=100;, score=0.726 total time=   6.1s\n",
            "[CV 3/5] END criterion=gini, max_depth=10, max_features=auto, n_estimators=100;, score=0.722 total time=   6.1s\n",
            "[CV 4/5] END criterion=gini, max_depth=10, max_features=auto, n_estimators=100;, score=0.716 total time=   6.1s\n",
            "[CV 5/5] END criterion=gini, max_depth=10, max_features=auto, n_estimators=100;, score=0.720 total time=   6.2s\n",
            "[CV 1/5] END criterion=gini, max_depth=10, max_features=auto, n_estimators=150;, score=0.721 total time=   9.3s\n",
            "[CV 2/5] END criterion=gini, max_depth=10, max_features=auto, n_estimators=150;, score=0.724 total time=  10.1s\n",
            "[CV 3/5] END criterion=gini, max_depth=10, max_features=auto, n_estimators=150;, score=0.722 total time=   9.2s\n",
            "[CV 4/5] END criterion=gini, max_depth=10, max_features=auto, n_estimators=150;, score=0.717 total time=   9.2s\n",
            "[CV 5/5] END criterion=gini, max_depth=10, max_features=auto, n_estimators=150;, score=0.720 total time=   9.2s\n",
            "[CV 1/5] END criterion=gini, max_depth=10, max_features=sqrt, n_estimators=10;, score=0.713 total time=   0.6s\n",
            "[CV 2/5] END criterion=gini, max_depth=10, max_features=sqrt, n_estimators=10;, score=0.719 total time=   0.6s\n",
            "[CV 3/5] END criterion=gini, max_depth=10, max_features=sqrt, n_estimators=10;, score=0.714 total time=   0.6s\n",
            "[CV 4/5] END criterion=gini, max_depth=10, max_features=sqrt, n_estimators=10;, score=0.709 total time=   0.6s\n",
            "[CV 5/5] END criterion=gini, max_depth=10, max_features=sqrt, n_estimators=10;, score=0.708 total time=   0.6s\n",
            "[CV 1/5] END criterion=gini, max_depth=10, max_features=sqrt, n_estimators=20;, score=0.717 total time=   1.3s\n",
            "[CV 2/5] END criterion=gini, max_depth=10, max_features=sqrt, n_estimators=20;, score=0.724 total time=   1.3s\n",
            "[CV 3/5] END criterion=gini, max_depth=10, max_features=sqrt, n_estimators=20;, score=0.716 total time=   1.3s\n",
            "[CV 4/5] END criterion=gini, max_depth=10, max_features=sqrt, n_estimators=20;, score=0.712 total time=   1.3s\n",
            "[CV 5/5] END criterion=gini, max_depth=10, max_features=sqrt, n_estimators=20;, score=0.716 total time=   1.2s\n",
            "[CV 1/5] END criterion=gini, max_depth=10, max_features=sqrt, n_estimators=50;, score=0.718 total time=   3.1s\n",
            "[CV 2/5] END criterion=gini, max_depth=10, max_features=sqrt, n_estimators=50;, score=0.726 total time=   3.1s\n",
            "[CV 3/5] END criterion=gini, max_depth=10, max_features=sqrt, n_estimators=50;, score=0.720 total time=   3.1s\n",
            "[CV 4/5] END criterion=gini, max_depth=10, max_features=sqrt, n_estimators=50;, score=0.712 total time=   3.0s\n",
            "[CV 5/5] END criterion=gini, max_depth=10, max_features=sqrt, n_estimators=50;, score=0.719 total time=   3.0s\n",
            "[CV 1/5] END criterion=gini, max_depth=10, max_features=sqrt, n_estimators=100;, score=0.721 total time=   6.1s\n",
            "[CV 2/5] END criterion=gini, max_depth=10, max_features=sqrt, n_estimators=100;, score=0.726 total time=   6.1s\n",
            "[CV 3/5] END criterion=gini, max_depth=10, max_features=sqrt, n_estimators=100;, score=0.722 total time=   6.1s\n",
            "[CV 4/5] END criterion=gini, max_depth=10, max_features=sqrt, n_estimators=100;, score=0.716 total time=   6.1s\n",
            "[CV 5/5] END criterion=gini, max_depth=10, max_features=sqrt, n_estimators=100;, score=0.720 total time=   6.9s\n",
            "[CV 1/5] END criterion=gini, max_depth=10, max_features=sqrt, n_estimators=150;, score=0.721 total time=   9.4s\n",
            "[CV 2/5] END criterion=gini, max_depth=10, max_features=sqrt, n_estimators=150;, score=0.724 total time=   9.8s\n",
            "[CV 3/5] END criterion=gini, max_depth=10, max_features=sqrt, n_estimators=150;, score=0.722 total time=   9.2s\n",
            "[CV 4/5] END criterion=gini, max_depth=10, max_features=sqrt, n_estimators=150;, score=0.717 total time=   9.2s\n",
            "[CV 5/5] END criterion=gini, max_depth=10, max_features=sqrt, n_estimators=150;, score=0.720 total time=   9.2s\n",
            "[CV 1/5] END criterion=gini, max_depth=10, max_features=log2, n_estimators=10;, score=0.713 total time=   0.6s\n",
            "[CV 2/5] END criterion=gini, max_depth=10, max_features=log2, n_estimators=10;, score=0.719 total time=   0.6s\n",
            "[CV 3/5] END criterion=gini, max_depth=10, max_features=log2, n_estimators=10;, score=0.714 total time=   0.6s\n",
            "[CV 4/5] END criterion=gini, max_depth=10, max_features=log2, n_estimators=10;, score=0.709 total time=   0.6s\n",
            "[CV 5/5] END criterion=gini, max_depth=10, max_features=log2, n_estimators=10;, score=0.708 total time=   0.6s\n",
            "[CV 1/5] END criterion=gini, max_depth=10, max_features=log2, n_estimators=20;, score=0.717 total time=   1.3s\n",
            "[CV 2/5] END criterion=gini, max_depth=10, max_features=log2, n_estimators=20;, score=0.724 total time=   1.3s\n",
            "[CV 3/5] END criterion=gini, max_depth=10, max_features=log2, n_estimators=20;, score=0.716 total time=   1.2s\n",
            "[CV 4/5] END criterion=gini, max_depth=10, max_features=log2, n_estimators=20;, score=0.712 total time=   1.2s\n",
            "[CV 5/5] END criterion=gini, max_depth=10, max_features=log2, n_estimators=20;, score=0.716 total time=   1.2s\n",
            "[CV 1/5] END criterion=gini, max_depth=10, max_features=log2, n_estimators=50;, score=0.718 total time=   3.1s\n",
            "[CV 2/5] END criterion=gini, max_depth=10, max_features=log2, n_estimators=50;, score=0.726 total time=   3.1s\n",
            "[CV 3/5] END criterion=gini, max_depth=10, max_features=log2, n_estimators=50;, score=0.720 total time=   3.1s\n",
            "[CV 4/5] END criterion=gini, max_depth=10, max_features=log2, n_estimators=50;, score=0.712 total time=   3.1s\n",
            "[CV 5/5] END criterion=gini, max_depth=10, max_features=log2, n_estimators=50;, score=0.719 total time=   3.1s\n",
            "[CV 1/5] END criterion=gini, max_depth=10, max_features=log2, n_estimators=100;, score=0.721 total time=   6.2s\n",
            "[CV 2/5] END criterion=gini, max_depth=10, max_features=log2, n_estimators=100;, score=0.726 total time=   6.1s\n",
            "[CV 3/5] END criterion=gini, max_depth=10, max_features=log2, n_estimators=100;, score=0.722 total time=   6.1s\n",
            "[CV 4/5] END criterion=gini, max_depth=10, max_features=log2, n_estimators=100;, score=0.716 total time=   6.1s\n",
            "[CV 5/5] END criterion=gini, max_depth=10, max_features=log2, n_estimators=100;, score=0.720 total time=   6.1s\n",
            "[CV 1/5] END criterion=gini, max_depth=10, max_features=log2, n_estimators=150;, score=0.721 total time=   9.2s\n",
            "[CV 2/5] END criterion=gini, max_depth=10, max_features=log2, n_estimators=150;, score=0.724 total time=   9.2s\n",
            "[CV 3/5] END criterion=gini, max_depth=10, max_features=log2, n_estimators=150;, score=0.722 total time=   9.2s\n",
            "[CV 4/5] END criterion=gini, max_depth=10, max_features=log2, n_estimators=150;, score=0.717 total time=   9.2s\n",
            "[CV 5/5] END criterion=gini, max_depth=10, max_features=log2, n_estimators=150;, score=0.720 total time=   9.2s\n",
            "[CV 1/5] END criterion=gini, max_depth=12, max_features=auto, n_estimators=10;, score=0.716 total time=   0.7s\n",
            "[CV 2/5] END criterion=gini, max_depth=12, max_features=auto, n_estimators=10;, score=0.722 total time=   0.7s\n",
            "[CV 3/5] END criterion=gini, max_depth=12, max_features=auto, n_estimators=10;, score=0.719 total time=   0.7s\n",
            "[CV 4/5] END criterion=gini, max_depth=12, max_features=auto, n_estimators=10;, score=0.701 total time=   0.7s\n",
            "[CV 5/5] END criterion=gini, max_depth=12, max_features=auto, n_estimators=10;, score=0.721 total time=   0.7s\n",
            "[CV 1/5] END criterion=gini, max_depth=12, max_features=auto, n_estimators=20;, score=0.721 total time=   1.5s\n",
            "[CV 2/5] END criterion=gini, max_depth=12, max_features=auto, n_estimators=20;, score=0.727 total time=   1.4s\n",
            "[CV 3/5] END criterion=gini, max_depth=12, max_features=auto, n_estimators=20;, score=0.724 total time=   1.4s\n",
            "[CV 4/5] END criterion=gini, max_depth=12, max_features=auto, n_estimators=20;, score=0.718 total time=   1.4s\n",
            "[CV 5/5] END criterion=gini, max_depth=12, max_features=auto, n_estimators=20;, score=0.727 total time=   1.9s\n",
            "[CV 1/5] END criterion=gini, max_depth=12, max_features=auto, n_estimators=50;, score=0.727 total time=   3.9s\n",
            "[CV 2/5] END criterion=gini, max_depth=12, max_features=auto, n_estimators=50;, score=0.731 total time=   3.6s\n",
            "[CV 3/5] END criterion=gini, max_depth=12, max_features=auto, n_estimators=50;, score=0.729 total time=   4.3s\n",
            "[CV 4/5] END criterion=gini, max_depth=12, max_features=auto, n_estimators=50;, score=0.725 total time=   3.6s\n",
            "[CV 5/5] END criterion=gini, max_depth=12, max_features=auto, n_estimators=50;, score=0.730 total time=   3.5s\n",
            "[CV 1/5] END criterion=gini, max_depth=12, max_features=auto, n_estimators=100;, score=0.731 total time=   7.1s\n",
            "[CV 2/5] END criterion=gini, max_depth=12, max_features=auto, n_estimators=100;, score=0.733 total time=   7.1s\n",
            "[CV 3/5] END criterion=gini, max_depth=12, max_features=auto, n_estimators=100;, score=0.727 total time=   7.1s\n",
            "[CV 4/5] END criterion=gini, max_depth=12, max_features=auto, n_estimators=100;, score=0.726 total time=   7.1s\n",
            "[CV 5/5] END criterion=gini, max_depth=12, max_features=auto, n_estimators=100;, score=0.732 total time=   7.1s\n",
            "[CV 1/5] END criterion=gini, max_depth=12, max_features=auto, n_estimators=150;, score=0.728 total time=  10.7s\n",
            "[CV 2/5] END criterion=gini, max_depth=12, max_features=auto, n_estimators=150;, score=0.735 total time=  10.7s\n",
            "[CV 3/5] END criterion=gini, max_depth=12, max_features=auto, n_estimators=150;, score=0.728 total time=  10.7s\n",
            "[CV 4/5] END criterion=gini, max_depth=12, max_features=auto, n_estimators=150;, score=0.727 total time=  10.7s\n",
            "[CV 5/5] END criterion=gini, max_depth=12, max_features=auto, n_estimators=150;, score=0.730 total time=  10.7s\n",
            "[CV 1/5] END criterion=gini, max_depth=12, max_features=sqrt, n_estimators=10;, score=0.716 total time=   0.7s\n",
            "[CV 2/5] END criterion=gini, max_depth=12, max_features=sqrt, n_estimators=10;, score=0.722 total time=   0.7s\n",
            "[CV 3/5] END criterion=gini, max_depth=12, max_features=sqrt, n_estimators=10;, score=0.719 total time=   0.7s\n",
            "[CV 4/5] END criterion=gini, max_depth=12, max_features=sqrt, n_estimators=10;, score=0.701 total time=   0.7s\n",
            "[CV 5/5] END criterion=gini, max_depth=12, max_features=sqrt, n_estimators=10;, score=0.721 total time=   0.7s\n",
            "[CV 1/5] END criterion=gini, max_depth=12, max_features=sqrt, n_estimators=20;, score=0.721 total time=   1.4s\n",
            "[CV 2/5] END criterion=gini, max_depth=12, max_features=sqrt, n_estimators=20;, score=0.727 total time=   1.5s\n",
            "[CV 3/5] END criterion=gini, max_depth=12, max_features=sqrt, n_estimators=20;, score=0.724 total time=   1.4s\n",
            "[CV 4/5] END criterion=gini, max_depth=12, max_features=sqrt, n_estimators=20;, score=0.718 total time=   1.4s\n",
            "[CV 5/5] END criterion=gini, max_depth=12, max_features=sqrt, n_estimators=20;, score=0.727 total time=   1.5s\n",
            "[CV 1/5] END criterion=gini, max_depth=12, max_features=sqrt, n_estimators=50;, score=0.727 total time=   3.6s\n",
            "[CV 2/5] END criterion=gini, max_depth=12, max_features=sqrt, n_estimators=50;, score=0.731 total time=   3.6s\n",
            "[CV 3/5] END criterion=gini, max_depth=12, max_features=sqrt, n_estimators=50;, score=0.729 total time=   3.6s\n",
            "[CV 4/5] END criterion=gini, max_depth=12, max_features=sqrt, n_estimators=50;, score=0.725 total time=   3.5s\n",
            "[CV 5/5] END criterion=gini, max_depth=12, max_features=sqrt, n_estimators=50;, score=0.730 total time=   3.5s\n",
            "[CV 1/5] END criterion=gini, max_depth=12, max_features=sqrt, n_estimators=100;, score=0.731 total time=   7.1s\n",
            "[CV 2/5] END criterion=gini, max_depth=12, max_features=sqrt, n_estimators=100;, score=0.733 total time=   7.1s\n",
            "[CV 3/5] END criterion=gini, max_depth=12, max_features=sqrt, n_estimators=100;, score=0.727 total time=   7.1s\n",
            "[CV 4/5] END criterion=gini, max_depth=12, max_features=sqrt, n_estimators=100;, score=0.726 total time=   7.8s\n",
            "[CV 5/5] END criterion=gini, max_depth=12, max_features=sqrt, n_estimators=100;, score=0.732 total time=   7.8s\n",
            "[CV 1/5] END criterion=gini, max_depth=12, max_features=sqrt, n_estimators=150;, score=0.728 total time=  10.7s\n",
            "[CV 2/5] END criterion=gini, max_depth=12, max_features=sqrt, n_estimators=150;, score=0.735 total time=  10.8s\n",
            "[CV 3/5] END criterion=gini, max_depth=12, max_features=sqrt, n_estimators=150;, score=0.728 total time=  10.7s\n",
            "[CV 4/5] END criterion=gini, max_depth=12, max_features=sqrt, n_estimators=150;, score=0.727 total time=  10.6s\n",
            "[CV 5/5] END criterion=gini, max_depth=12, max_features=sqrt, n_estimators=150;, score=0.730 total time=  10.6s\n",
            "[CV 1/5] END criterion=gini, max_depth=12, max_features=log2, n_estimators=10;, score=0.716 total time=   0.7s\n",
            "[CV 2/5] END criterion=gini, max_depth=12, max_features=log2, n_estimators=10;, score=0.722 total time=   0.7s\n",
            "[CV 3/5] END criterion=gini, max_depth=12, max_features=log2, n_estimators=10;, score=0.719 total time=   0.7s\n",
            "[CV 4/5] END criterion=gini, max_depth=12, max_features=log2, n_estimators=10;, score=0.701 total time=   0.7s\n",
            "[CV 5/5] END criterion=gini, max_depth=12, max_features=log2, n_estimators=10;, score=0.721 total time=   0.7s\n",
            "[CV 1/5] END criterion=gini, max_depth=12, max_features=log2, n_estimators=20;, score=0.721 total time=   1.4s\n",
            "[CV 2/5] END criterion=gini, max_depth=12, max_features=log2, n_estimators=20;, score=0.727 total time=   1.4s\n",
            "[CV 3/5] END criterion=gini, max_depth=12, max_features=log2, n_estimators=20;, score=0.724 total time=   1.4s\n",
            "[CV 4/5] END criterion=gini, max_depth=12, max_features=log2, n_estimators=20;, score=0.718 total time=   1.4s\n",
            "[CV 5/5] END criterion=gini, max_depth=12, max_features=log2, n_estimators=20;, score=0.727 total time=   1.4s\n",
            "[CV 1/5] END criterion=gini, max_depth=12, max_features=log2, n_estimators=50;, score=0.727 total time=   3.6s\n",
            "[CV 2/5] END criterion=gini, max_depth=12, max_features=log2, n_estimators=50;, score=0.731 total time=   3.6s\n",
            "[CV 3/5] END criterion=gini, max_depth=12, max_features=log2, n_estimators=50;, score=0.729 total time=   3.6s\n",
            "[CV 4/5] END criterion=gini, max_depth=12, max_features=log2, n_estimators=50;, score=0.725 total time=   3.5s\n",
            "[CV 5/5] END criterion=gini, max_depth=12, max_features=log2, n_estimators=50;, score=0.730 total time=   3.6s\n",
            "[CV 1/5] END criterion=gini, max_depth=12, max_features=log2, n_estimators=100;, score=0.731 total time=   7.1s\n",
            "[CV 2/5] END criterion=gini, max_depth=12, max_features=log2, n_estimators=100;, score=0.733 total time=   7.1s\n",
            "[CV 3/5] END criterion=gini, max_depth=12, max_features=log2, n_estimators=100;, score=0.727 total time=   7.1s\n",
            "[CV 4/5] END criterion=gini, max_depth=12, max_features=log2, n_estimators=100;, score=0.726 total time=   7.1s\n",
            "[CV 5/5] END criterion=gini, max_depth=12, max_features=log2, n_estimators=100;, score=0.732 total time=   7.1s\n",
            "[CV 1/5] END criterion=gini, max_depth=12, max_features=log2, n_estimators=150;, score=0.728 total time=  10.6s\n",
            "[CV 2/5] END criterion=gini, max_depth=12, max_features=log2, n_estimators=150;, score=0.735 total time=  10.6s\n",
            "[CV 3/5] END criterion=gini, max_depth=12, max_features=log2, n_estimators=150;, score=0.728 total time=  10.7s\n",
            "[CV 4/5] END criterion=gini, max_depth=12, max_features=log2, n_estimators=150;, score=0.727 total time=  12.1s\n",
            "[CV 5/5] END criterion=gini, max_depth=12, max_features=log2, n_estimators=150;, score=0.730 total time=  10.6s\n",
            "[CV 1/5] END criterion=entropy, max_depth=2, max_features=auto, n_estimators=10;, score=0.630 total time=   0.2s\n",
            "[CV 2/5] END criterion=entropy, max_depth=2, max_features=auto, n_estimators=10;, score=0.636 total time=   0.2s\n",
            "[CV 3/5] END criterion=entropy, max_depth=2, max_features=auto, n_estimators=10;, score=0.630 total time=   0.3s\n",
            "[CV 4/5] END criterion=entropy, max_depth=2, max_features=auto, n_estimators=10;, score=0.618 total time=   0.2s\n",
            "[CV 5/5] END criterion=entropy, max_depth=2, max_features=auto, n_estimators=10;, score=0.624 total time=   0.2s\n",
            "[CV 1/5] END criterion=entropy, max_depth=2, max_features=auto, n_estimators=20;, score=0.608 total time=   0.5s\n",
            "[CV 2/5] END criterion=entropy, max_depth=2, max_features=auto, n_estimators=20;, score=0.610 total time=   0.5s\n",
            "[CV 3/5] END criterion=entropy, max_depth=2, max_features=auto, n_estimators=20;, score=0.605 total time=   0.5s\n",
            "[CV 4/5] END criterion=entropy, max_depth=2, max_features=auto, n_estimators=20;, score=0.597 total time=   0.5s\n",
            "[CV 5/5] END criterion=entropy, max_depth=2, max_features=auto, n_estimators=20;, score=0.601 total time=   0.5s\n",
            "[CV 1/5] END criterion=entropy, max_depth=2, max_features=auto, n_estimators=50;, score=0.602 total time=   1.2s\n",
            "[CV 2/5] END criterion=entropy, max_depth=2, max_features=auto, n_estimators=50;, score=0.610 total time=   1.2s\n",
            "[CV 3/5] END criterion=entropy, max_depth=2, max_features=auto, n_estimators=50;, score=0.604 total time=   1.2s\n",
            "[CV 4/5] END criterion=entropy, max_depth=2, max_features=auto, n_estimators=50;, score=0.594 total time=   1.3s\n",
            "[CV 5/5] END criterion=entropy, max_depth=2, max_features=auto, n_estimators=50;, score=0.597 total time=   1.3s\n",
            "[CV 1/5] END criterion=entropy, max_depth=2, max_features=auto, n_estimators=100;, score=0.607 total time=   2.4s\n",
            "[CV 2/5] END criterion=entropy, max_depth=2, max_features=auto, n_estimators=100;, score=0.612 total time=   2.4s\n",
            "[CV 3/5] END criterion=entropy, max_depth=2, max_features=auto, n_estimators=100;, score=0.608 total time=   2.4s\n",
            "[CV 4/5] END criterion=entropy, max_depth=2, max_features=auto, n_estimators=100;, score=0.600 total time=   2.4s\n",
            "[CV 5/5] END criterion=entropy, max_depth=2, max_features=auto, n_estimators=100;, score=0.603 total time=   2.4s\n",
            "[CV 1/5] END criterion=entropy, max_depth=2, max_features=auto, n_estimators=150;, score=0.608 total time=   3.6s\n",
            "[CV 2/5] END criterion=entropy, max_depth=2, max_features=auto, n_estimators=150;, score=0.613 total time=   3.7s\n",
            "[CV 3/5] END criterion=entropy, max_depth=2, max_features=auto, n_estimators=150;, score=0.607 total time=   3.6s\n",
            "[CV 4/5] END criterion=entropy, max_depth=2, max_features=auto, n_estimators=150;, score=0.600 total time=   3.6s\n",
            "[CV 5/5] END criterion=entropy, max_depth=2, max_features=auto, n_estimators=150;, score=0.604 total time=   3.7s\n",
            "[CV 1/5] END criterion=entropy, max_depth=2, max_features=sqrt, n_estimators=10;, score=0.630 total time=   0.2s\n",
            "[CV 2/5] END criterion=entropy, max_depth=2, max_features=sqrt, n_estimators=10;, score=0.636 total time=   0.2s\n",
            "[CV 3/5] END criterion=entropy, max_depth=2, max_features=sqrt, n_estimators=10;, score=0.630 total time=   0.2s\n",
            "[CV 4/5] END criterion=entropy, max_depth=2, max_features=sqrt, n_estimators=10;, score=0.618 total time=   0.3s\n",
            "[CV 5/5] END criterion=entropy, max_depth=2, max_features=sqrt, n_estimators=10;, score=0.624 total time=   0.2s\n",
            "[CV 1/5] END criterion=entropy, max_depth=2, max_features=sqrt, n_estimators=20;, score=0.608 total time=   0.5s\n",
            "[CV 2/5] END criterion=entropy, max_depth=2, max_features=sqrt, n_estimators=20;, score=0.610 total time=   0.5s\n",
            "[CV 3/5] END criterion=entropy, max_depth=2, max_features=sqrt, n_estimators=20;, score=0.605 total time=   0.5s\n",
            "[CV 4/5] END criterion=entropy, max_depth=2, max_features=sqrt, n_estimators=20;, score=0.597 total time=   0.5s\n",
            "[CV 5/5] END criterion=entropy, max_depth=2, max_features=sqrt, n_estimators=20;, score=0.601 total time=   0.5s\n",
            "[CV 1/5] END criterion=entropy, max_depth=2, max_features=sqrt, n_estimators=50;, score=0.602 total time=   1.2s\n",
            "[CV 2/5] END criterion=entropy, max_depth=2, max_features=sqrt, n_estimators=50;, score=0.610 total time=   1.2s\n",
            "[CV 3/5] END criterion=entropy, max_depth=2, max_features=sqrt, n_estimators=50;, score=0.604 total time=   1.2s\n",
            "[CV 4/5] END criterion=entropy, max_depth=2, max_features=sqrt, n_estimators=50;, score=0.594 total time=   1.2s\n",
            "[CV 5/5] END criterion=entropy, max_depth=2, max_features=sqrt, n_estimators=50;, score=0.597 total time=   1.2s\n",
            "[CV 1/5] END criterion=entropy, max_depth=2, max_features=sqrt, n_estimators=100;, score=0.607 total time=   2.4s\n",
            "[CV 2/5] END criterion=entropy, max_depth=2, max_features=sqrt, n_estimators=100;, score=0.612 total time=   2.4s\n",
            "[CV 3/5] END criterion=entropy, max_depth=2, max_features=sqrt, n_estimators=100;, score=0.608 total time=   2.4s\n",
            "[CV 4/5] END criterion=entropy, max_depth=2, max_features=sqrt, n_estimators=100;, score=0.600 total time=   2.4s\n",
            "[CV 5/5] END criterion=entropy, max_depth=2, max_features=sqrt, n_estimators=100;, score=0.603 total time=   2.4s\n",
            "[CV 1/5] END criterion=entropy, max_depth=2, max_features=sqrt, n_estimators=150;, score=0.608 total time=   3.6s\n",
            "[CV 2/5] END criterion=entropy, max_depth=2, max_features=sqrt, n_estimators=150;, score=0.613 total time=   3.7s\n",
            "[CV 3/5] END criterion=entropy, max_depth=2, max_features=sqrt, n_estimators=150;, score=0.607 total time=   3.6s\n",
            "[CV 4/5] END criterion=entropy, max_depth=2, max_features=sqrt, n_estimators=150;, score=0.600 total time=   3.6s\n",
            "[CV 5/5] END criterion=entropy, max_depth=2, max_features=sqrt, n_estimators=150;, score=0.604 total time=   3.7s\n",
            "[CV 1/5] END criterion=entropy, max_depth=2, max_features=log2, n_estimators=10;, score=0.630 total time=   0.2s\n",
            "[CV 2/5] END criterion=entropy, max_depth=2, max_features=log2, n_estimators=10;, score=0.636 total time=   0.2s\n",
            "[CV 3/5] END criterion=entropy, max_depth=2, max_features=log2, n_estimators=10;, score=0.630 total time=   0.2s\n",
            "[CV 4/5] END criterion=entropy, max_depth=2, max_features=log2, n_estimators=10;, score=0.618 total time=   0.2s\n",
            "[CV 5/5] END criterion=entropy, max_depth=2, max_features=log2, n_estimators=10;, score=0.624 total time=   0.2s\n",
            "[CV 1/5] END criterion=entropy, max_depth=2, max_features=log2, n_estimators=20;, score=0.608 total time=   0.5s\n",
            "[CV 2/5] END criterion=entropy, max_depth=2, max_features=log2, n_estimators=20;, score=0.610 total time=   0.5s\n",
            "[CV 3/5] END criterion=entropy, max_depth=2, max_features=log2, n_estimators=20;, score=0.605 total time=   0.5s\n",
            "[CV 4/5] END criterion=entropy, max_depth=2, max_features=log2, n_estimators=20;, score=0.597 total time=   0.5s\n",
            "[CV 5/5] END criterion=entropy, max_depth=2, max_features=log2, n_estimators=20;, score=0.601 total time=   0.5s\n",
            "[CV 1/5] END criterion=entropy, max_depth=2, max_features=log2, n_estimators=50;, score=0.602 total time=   1.2s\n",
            "[CV 2/5] END criterion=entropy, max_depth=2, max_features=log2, n_estimators=50;, score=0.610 total time=   1.2s\n",
            "[CV 3/5] END criterion=entropy, max_depth=2, max_features=log2, n_estimators=50;, score=0.604 total time=   1.2s\n",
            "[CV 4/5] END criterion=entropy, max_depth=2, max_features=log2, n_estimators=50;, score=0.594 total time=   1.2s\n",
            "[CV 5/5] END criterion=entropy, max_depth=2, max_features=log2, n_estimators=50;, score=0.597 total time=   1.2s\n",
            "[CV 1/5] END criterion=entropy, max_depth=2, max_features=log2, n_estimators=100;, score=0.607 total time=   2.4s\n",
            "[CV 2/5] END criterion=entropy, max_depth=2, max_features=log2, n_estimators=100;, score=0.612 total time=   2.4s\n",
            "[CV 3/5] END criterion=entropy, max_depth=2, max_features=log2, n_estimators=100;, score=0.608 total time=   2.4s\n",
            "[CV 4/5] END criterion=entropy, max_depth=2, max_features=log2, n_estimators=100;, score=0.600 total time=   2.4s\n",
            "[CV 5/5] END criterion=entropy, max_depth=2, max_features=log2, n_estimators=100;, score=0.603 total time=   2.4s\n",
            "[CV 1/5] END criterion=entropy, max_depth=2, max_features=log2, n_estimators=150;, score=0.608 total time=   3.6s\n",
            "[CV 2/5] END criterion=entropy, max_depth=2, max_features=log2, n_estimators=150;, score=0.613 total time=   3.7s\n",
            "[CV 3/5] END criterion=entropy, max_depth=2, max_features=log2, n_estimators=150;, score=0.607 total time=   3.7s\n",
            "[CV 4/5] END criterion=entropy, max_depth=2, max_features=log2, n_estimators=150;, score=0.600 total time=   3.6s\n",
            "[CV 5/5] END criterion=entropy, max_depth=2, max_features=log2, n_estimators=150;, score=0.604 total time=   3.7s\n",
            "[CV 1/5] END criterion=entropy, max_depth=4, max_features=auto, n_estimators=10;, score=0.666 total time=   0.4s\n",
            "[CV 2/5] END criterion=entropy, max_depth=4, max_features=auto, n_estimators=10;, score=0.679 total time=   0.4s\n",
            "[CV 3/5] END criterion=entropy, max_depth=4, max_features=auto, n_estimators=10;, score=0.670 total time=   0.4s\n",
            "[CV 4/5] END criterion=entropy, max_depth=4, max_features=auto, n_estimators=10;, score=0.658 total time=   0.4s\n",
            "[CV 5/5] END criterion=entropy, max_depth=4, max_features=auto, n_estimators=10;, score=0.662 total time=   0.4s\n",
            "[CV 1/5] END criterion=entropy, max_depth=4, max_features=auto, n_estimators=20;, score=0.661 total time=   0.9s\n",
            "[CV 2/5] END criterion=entropy, max_depth=4, max_features=auto, n_estimators=20;, score=0.669 total time=   0.9s\n",
            "[CV 3/5] END criterion=entropy, max_depth=4, max_features=auto, n_estimators=20;, score=0.666 total time=   0.9s\n",
            "[CV 4/5] END criterion=entropy, max_depth=4, max_features=auto, n_estimators=20;, score=0.649 total time=   0.9s\n",
            "[CV 5/5] END criterion=entropy, max_depth=4, max_features=auto, n_estimators=20;, score=0.660 total time=   0.9s\n",
            "[CV 1/5] END criterion=entropy, max_depth=4, max_features=auto, n_estimators=50;, score=0.658 total time=   2.1s\n",
            "[CV 2/5] END criterion=entropy, max_depth=4, max_features=auto, n_estimators=50;, score=0.671 total time=   2.1s\n",
            "[CV 3/5] END criterion=entropy, max_depth=4, max_features=auto, n_estimators=50;, score=0.665 total time=   2.1s\n",
            "[CV 4/5] END criterion=entropy, max_depth=4, max_features=auto, n_estimators=50;, score=0.652 total time=   2.1s\n",
            "[CV 5/5] END criterion=entropy, max_depth=4, max_features=auto, n_estimators=50;, score=0.656 total time=   2.2s\n",
            "[CV 1/5] END criterion=entropy, max_depth=4, max_features=auto, n_estimators=100;, score=0.658 total time=   4.2s\n",
            "[CV 2/5] END criterion=entropy, max_depth=4, max_features=auto, n_estimators=100;, score=0.672 total time=   5.1s\n",
            "[CV 3/5] END criterion=entropy, max_depth=4, max_features=auto, n_estimators=100;, score=0.665 total time=   5.1s\n",
            "[CV 4/5] END criterion=entropy, max_depth=4, max_features=auto, n_estimators=100;, score=0.654 total time=   4.2s\n",
            "[CV 5/5] END criterion=entropy, max_depth=4, max_features=auto, n_estimators=100;, score=0.655 total time=   4.3s\n",
            "[CV 1/5] END criterion=entropy, max_depth=4, max_features=auto, n_estimators=150;, score=0.659 total time=   6.3s\n",
            "[CV 2/5] END criterion=entropy, max_depth=4, max_features=auto, n_estimators=150;, score=0.672 total time=   6.4s\n",
            "[CV 3/5] END criterion=entropy, max_depth=4, max_features=auto, n_estimators=150;, score=0.666 total time=   6.3s\n",
            "[CV 4/5] END criterion=entropy, max_depth=4, max_features=auto, n_estimators=150;, score=0.656 total time=   6.3s\n",
            "[CV 5/5] END criterion=entropy, max_depth=4, max_features=auto, n_estimators=150;, score=0.657 total time=   6.4s\n",
            "[CV 1/5] END criterion=entropy, max_depth=4, max_features=sqrt, n_estimators=10;, score=0.666 total time=   0.5s\n",
            "[CV 2/5] END criterion=entropy, max_depth=4, max_features=sqrt, n_estimators=10;, score=0.679 total time=   0.4s\n",
            "[CV 3/5] END criterion=entropy, max_depth=4, max_features=sqrt, n_estimators=10;, score=0.670 total time=   0.4s\n",
            "[CV 4/5] END criterion=entropy, max_depth=4, max_features=sqrt, n_estimators=10;, score=0.658 total time=   0.4s\n",
            "[CV 5/5] END criterion=entropy, max_depth=4, max_features=sqrt, n_estimators=10;, score=0.662 total time=   0.4s\n",
            "[CV 1/5] END criterion=entropy, max_depth=4, max_features=sqrt, n_estimators=20;, score=0.661 total time=   0.9s\n",
            "[CV 2/5] END criterion=entropy, max_depth=4, max_features=sqrt, n_estimators=20;, score=0.669 total time=   0.9s\n",
            "[CV 3/5] END criterion=entropy, max_depth=4, max_features=sqrt, n_estimators=20;, score=0.666 total time=   0.9s\n",
            "[CV 4/5] END criterion=entropy, max_depth=4, max_features=sqrt, n_estimators=20;, score=0.649 total time=   0.9s\n",
            "[CV 5/5] END criterion=entropy, max_depth=4, max_features=sqrt, n_estimators=20;, score=0.660 total time=   0.9s\n",
            "[CV 1/5] END criterion=entropy, max_depth=4, max_features=sqrt, n_estimators=50;, score=0.658 total time=   2.1s\n",
            "[CV 2/5] END criterion=entropy, max_depth=4, max_features=sqrt, n_estimators=50;, score=0.671 total time=   2.1s\n",
            "[CV 3/5] END criterion=entropy, max_depth=4, max_features=sqrt, n_estimators=50;, score=0.665 total time=   2.1s\n",
            "[CV 4/5] END criterion=entropy, max_depth=4, max_features=sqrt, n_estimators=50;, score=0.652 total time=   2.1s\n",
            "[CV 5/5] END criterion=entropy, max_depth=4, max_features=sqrt, n_estimators=50;, score=0.656 total time=   2.2s\n",
            "[CV 1/5] END criterion=entropy, max_depth=4, max_features=sqrt, n_estimators=100;, score=0.658 total time=   4.2s\n",
            "[CV 2/5] END criterion=entropy, max_depth=4, max_features=sqrt, n_estimators=100;, score=0.672 total time=   4.2s\n",
            "[CV 3/5] END criterion=entropy, max_depth=4, max_features=sqrt, n_estimators=100;, score=0.665 total time=   4.2s\n",
            "[CV 4/5] END criterion=entropy, max_depth=4, max_features=sqrt, n_estimators=100;, score=0.654 total time=   4.2s\n",
            "[CV 5/5] END criterion=entropy, max_depth=4, max_features=sqrt, n_estimators=100;, score=0.655 total time=   4.2s\n",
            "[CV 1/5] END criterion=entropy, max_depth=4, max_features=sqrt, n_estimators=150;, score=0.659 total time=   6.3s\n",
            "[CV 2/5] END criterion=entropy, max_depth=4, max_features=sqrt, n_estimators=150;, score=0.672 total time=   6.4s\n",
            "[CV 3/5] END criterion=entropy, max_depth=4, max_features=sqrt, n_estimators=150;, score=0.666 total time=   6.4s\n",
            "[CV 4/5] END criterion=entropy, max_depth=4, max_features=sqrt, n_estimators=150;, score=0.656 total time=   6.4s\n",
            "[CV 5/5] END criterion=entropy, max_depth=4, max_features=sqrt, n_estimators=150;, score=0.657 total time=   6.4s\n",
            "[CV 1/5] END criterion=entropy, max_depth=4, max_features=log2, n_estimators=10;, score=0.666 total time=   0.4s\n",
            "[CV 2/5] END criterion=entropy, max_depth=4, max_features=log2, n_estimators=10;, score=0.679 total time=   0.4s\n",
            "[CV 3/5] END criterion=entropy, max_depth=4, max_features=log2, n_estimators=10;, score=0.670 total time=   0.4s\n",
            "[CV 4/5] END criterion=entropy, max_depth=4, max_features=log2, n_estimators=10;, score=0.658 total time=   0.4s\n",
            "[CV 5/5] END criterion=entropy, max_depth=4, max_features=log2, n_estimators=10;, score=0.662 total time=   0.4s\n",
            "[CV 1/5] END criterion=entropy, max_depth=4, max_features=log2, n_estimators=20;, score=0.661 total time=   0.9s\n",
            "[CV 2/5] END criterion=entropy, max_depth=4, max_features=log2, n_estimators=20;, score=0.669 total time=   0.9s\n",
            "[CV 3/5] END criterion=entropy, max_depth=4, max_features=log2, n_estimators=20;, score=0.666 total time=   0.9s\n",
            "[CV 4/5] END criterion=entropy, max_depth=4, max_features=log2, n_estimators=20;, score=0.649 total time=   0.9s\n",
            "[CV 5/5] END criterion=entropy, max_depth=4, max_features=log2, n_estimators=20;, score=0.660 total time=   0.9s\n",
            "[CV 1/5] END criterion=entropy, max_depth=4, max_features=log2, n_estimators=50;, score=0.658 total time=   2.1s\n",
            "[CV 2/5] END criterion=entropy, max_depth=4, max_features=log2, n_estimators=50;, score=0.671 total time=   2.1s\n",
            "[CV 3/5] END criterion=entropy, max_depth=4, max_features=log2, n_estimators=50;, score=0.665 total time=   2.1s\n",
            "[CV 4/5] END criterion=entropy, max_depth=4, max_features=log2, n_estimators=50;, score=0.652 total time=   2.2s\n",
            "[CV 5/5] END criterion=entropy, max_depth=4, max_features=log2, n_estimators=50;, score=0.656 total time=   2.2s\n",
            "[CV 1/5] END criterion=entropy, max_depth=4, max_features=log2, n_estimators=100;, score=0.658 total time=   4.2s\n",
            "[CV 2/5] END criterion=entropy, max_depth=4, max_features=log2, n_estimators=100;, score=0.672 total time=   4.2s\n",
            "[CV 3/5] END criterion=entropy, max_depth=4, max_features=log2, n_estimators=100;, score=0.665 total time=   4.2s\n",
            "[CV 4/5] END criterion=entropy, max_depth=4, max_features=log2, n_estimators=100;, score=0.654 total time=   4.2s\n",
            "[CV 5/5] END criterion=entropy, max_depth=4, max_features=log2, n_estimators=100;, score=0.655 total time=   4.3s\n",
            "[CV 1/5] END criterion=entropy, max_depth=4, max_features=log2, n_estimators=150;, score=0.659 total time=   6.3s\n",
            "[CV 2/5] END criterion=entropy, max_depth=4, max_features=log2, n_estimators=150;, score=0.672 total time=   6.4s\n",
            "[CV 3/5] END criterion=entropy, max_depth=4, max_features=log2, n_estimators=150;, score=0.666 total time=   6.3s\n",
            "[CV 4/5] END criterion=entropy, max_depth=4, max_features=log2, n_estimators=150;, score=0.656 total time=   6.4s\n",
            "[CV 5/5] END criterion=entropy, max_depth=4, max_features=log2, n_estimators=150;, score=0.657 total time=   8.2s\n",
            "[CV 1/5] END criterion=entropy, max_depth=6, max_features=auto, n_estimators=10;, score=0.690 total time=   0.6s\n",
            "[CV 2/5] END criterion=entropy, max_depth=6, max_features=auto, n_estimators=10;, score=0.696 total time=   0.6s\n",
            "[CV 3/5] END criterion=entropy, max_depth=6, max_features=auto, n_estimators=10;, score=0.693 total time=   0.6s\n",
            "[CV 4/5] END criterion=entropy, max_depth=6, max_features=auto, n_estimators=10;, score=0.690 total time=   0.6s\n",
            "[CV 5/5] END criterion=entropy, max_depth=6, max_features=auto, n_estimators=10;, score=0.685 total time=   0.6s\n",
            "[CV 1/5] END criterion=entropy, max_depth=6, max_features=auto, n_estimators=20;, score=0.686 total time=   1.3s\n",
            "[CV 2/5] END criterion=entropy, max_depth=6, max_features=auto, n_estimators=20;, score=0.691 total time=   1.3s\n",
            "[CV 3/5] END criterion=entropy, max_depth=6, max_features=auto, n_estimators=20;, score=0.685 total time=   1.3s\n",
            "[CV 4/5] END criterion=entropy, max_depth=6, max_features=auto, n_estimators=20;, score=0.681 total time=   1.3s\n",
            "[CV 5/5] END criterion=entropy, max_depth=6, max_features=auto, n_estimators=20;, score=0.675 total time=   1.3s\n",
            "[CV 1/5] END criterion=entropy, max_depth=6, max_features=auto, n_estimators=50;, score=0.679 total time=   3.1s\n",
            "[CV 2/5] END criterion=entropy, max_depth=6, max_features=auto, n_estimators=50;, score=0.691 total time=   3.0s\n",
            "[CV 3/5] END criterion=entropy, max_depth=6, max_features=auto, n_estimators=50;, score=0.689 total time=   3.1s\n",
            "[CV 4/5] END criterion=entropy, max_depth=6, max_features=auto, n_estimators=50;, score=0.674 total time=   3.0s\n",
            "[CV 5/5] END criterion=entropy, max_depth=6, max_features=auto, n_estimators=50;, score=0.671 total time=   3.1s\n",
            "[CV 1/5] END criterion=entropy, max_depth=6, max_features=auto, n_estimators=100;, score=0.683 total time=   6.0s\n",
            "[CV 2/5] END criterion=entropy, max_depth=6, max_features=auto, n_estimators=100;, score=0.690 total time=   6.1s\n",
            "[CV 3/5] END criterion=entropy, max_depth=6, max_features=auto, n_estimators=100;, score=0.690 total time=   6.0s\n",
            "[CV 4/5] END criterion=entropy, max_depth=6, max_features=auto, n_estimators=100;, score=0.676 total time=   6.0s\n",
            "[CV 5/5] END criterion=entropy, max_depth=6, max_features=auto, n_estimators=100;, score=0.674 total time=   6.1s\n",
            "[CV 1/5] END criterion=entropy, max_depth=6, max_features=auto, n_estimators=150;, score=0.687 total time=   9.1s\n",
            "[CV 2/5] END criterion=entropy, max_depth=6, max_features=auto, n_estimators=150;, score=0.687 total time=   9.0s\n",
            "[CV 3/5] END criterion=entropy, max_depth=6, max_features=auto, n_estimators=150;, score=0.691 total time=   9.1s\n",
            "[CV 4/5] END criterion=entropy, max_depth=6, max_features=auto, n_estimators=150;, score=0.674 total time=   9.0s\n",
            "[CV 5/5] END criterion=entropy, max_depth=6, max_features=auto, n_estimators=150;, score=0.671 total time=   9.1s\n",
            "[CV 1/5] END criterion=entropy, max_depth=6, max_features=sqrt, n_estimators=10;, score=0.690 total time=   0.6s\n",
            "[CV 2/5] END criterion=entropy, max_depth=6, max_features=sqrt, n_estimators=10;, score=0.696 total time=   0.6s\n",
            "[CV 3/5] END criterion=entropy, max_depth=6, max_features=sqrt, n_estimators=10;, score=0.693 total time=   0.6s\n",
            "[CV 4/5] END criterion=entropy, max_depth=6, max_features=sqrt, n_estimators=10;, score=0.690 total time=   0.6s\n",
            "[CV 5/5] END criterion=entropy, max_depth=6, max_features=sqrt, n_estimators=10;, score=0.685 total time=   0.6s\n",
            "[CV 1/5] END criterion=entropy, max_depth=6, max_features=sqrt, n_estimators=20;, score=0.686 total time=   1.3s\n",
            "[CV 2/5] END criterion=entropy, max_depth=6, max_features=sqrt, n_estimators=20;, score=0.691 total time=   1.3s\n",
            "[CV 3/5] END criterion=entropy, max_depth=6, max_features=sqrt, n_estimators=20;, score=0.685 total time=   1.2s\n",
            "[CV 4/5] END criterion=entropy, max_depth=6, max_features=sqrt, n_estimators=20;, score=0.681 total time=   1.2s\n",
            "[CV 5/5] END criterion=entropy, max_depth=6, max_features=sqrt, n_estimators=20;, score=0.675 total time=   1.3s\n",
            "[CV 1/5] END criterion=entropy, max_depth=6, max_features=sqrt, n_estimators=50;, score=0.679 total time=   3.0s\n",
            "[CV 2/5] END criterion=entropy, max_depth=6, max_features=sqrt, n_estimators=50;, score=0.691 total time=   3.0s\n",
            "[CV 3/5] END criterion=entropy, max_depth=6, max_features=sqrt, n_estimators=50;, score=0.689 total time=   3.0s\n",
            "[CV 4/5] END criterion=entropy, max_depth=6, max_features=sqrt, n_estimators=50;, score=0.674 total time=   3.0s\n",
            "[CV 5/5] END criterion=entropy, max_depth=6, max_features=sqrt, n_estimators=50;, score=0.671 total time=   3.1s\n",
            "[CV 1/5] END criterion=entropy, max_depth=6, max_features=sqrt, n_estimators=100;, score=0.683 total time=   6.0s\n",
            "[CV 2/5] END criterion=entropy, max_depth=6, max_features=sqrt, n_estimators=100;, score=0.690 total time=   6.0s\n",
            "[CV 3/5] END criterion=entropy, max_depth=6, max_features=sqrt, n_estimators=100;, score=0.690 total time=   6.0s\n",
            "[CV 4/5] END criterion=entropy, max_depth=6, max_features=sqrt, n_estimators=100;, score=0.676 total time=   5.9s\n",
            "[CV 5/5] END criterion=entropy, max_depth=6, max_features=sqrt, n_estimators=100;, score=0.674 total time=   6.1s\n",
            "[CV 1/5] END criterion=entropy, max_depth=6, max_features=sqrt, n_estimators=150;, score=0.687 total time=   9.1s\n",
            "[CV 2/5] END criterion=entropy, max_depth=6, max_features=sqrt, n_estimators=150;, score=0.687 total time=   9.1s\n",
            "[CV 3/5] END criterion=entropy, max_depth=6, max_features=sqrt, n_estimators=150;, score=0.691 total time=   9.2s\n",
            "[CV 4/5] END criterion=entropy, max_depth=6, max_features=sqrt, n_estimators=150;, score=0.674 total time=   9.0s\n",
            "[CV 5/5] END criterion=entropy, max_depth=6, max_features=sqrt, n_estimators=150;, score=0.671 total time=   9.1s\n",
            "[CV 1/5] END criterion=entropy, max_depth=6, max_features=log2, n_estimators=10;, score=0.690 total time=   0.6s\n",
            "[CV 2/5] END criterion=entropy, max_depth=6, max_features=log2, n_estimators=10;, score=0.696 total time=   0.6s\n",
            "[CV 3/5] END criterion=entropy, max_depth=6, max_features=log2, n_estimators=10;, score=0.693 total time=   0.6s\n",
            "[CV 4/5] END criterion=entropy, max_depth=6, max_features=log2, n_estimators=10;, score=0.690 total time=   0.6s\n",
            "[CV 5/5] END criterion=entropy, max_depth=6, max_features=log2, n_estimators=10;, score=0.685 total time=   0.6s\n",
            "[CV 1/5] END criterion=entropy, max_depth=6, max_features=log2, n_estimators=20;, score=0.686 total time=   1.3s\n",
            "[CV 2/5] END criterion=entropy, max_depth=6, max_features=log2, n_estimators=20;, score=0.691 total time=   1.3s\n",
            "[CV 3/5] END criterion=entropy, max_depth=6, max_features=log2, n_estimators=20;, score=0.685 total time=   1.2s\n",
            "[CV 4/5] END criterion=entropy, max_depth=6, max_features=log2, n_estimators=20;, score=0.681 total time=   1.2s\n",
            "[CV 5/5] END criterion=entropy, max_depth=6, max_features=log2, n_estimators=20;, score=0.675 total time=   1.3s\n",
            "[CV 1/5] END criterion=entropy, max_depth=6, max_features=log2, n_estimators=50;, score=0.679 total time=   3.1s\n",
            "[CV 2/5] END criterion=entropy, max_depth=6, max_features=log2, n_estimators=50;, score=0.691 total time=   3.0s\n",
            "[CV 3/5] END criterion=entropy, max_depth=6, max_features=log2, n_estimators=50;, score=0.689 total time=   3.1s\n",
            "[CV 4/5] END criterion=entropy, max_depth=6, max_features=log2, n_estimators=50;, score=0.674 total time=   3.0s\n",
            "[CV 5/5] END criterion=entropy, max_depth=6, max_features=log2, n_estimators=50;, score=0.671 total time=   4.3s\n",
            "[CV 1/5] END criterion=entropy, max_depth=6, max_features=log2, n_estimators=100;, score=0.683 total time=   6.0s\n",
            "[CV 2/5] END criterion=entropy, max_depth=6, max_features=log2, n_estimators=100;, score=0.690 total time=   6.0s\n",
            "[CV 3/5] END criterion=entropy, max_depth=6, max_features=log2, n_estimators=100;, score=0.690 total time=   6.0s\n",
            "[CV 4/5] END criterion=entropy, max_depth=6, max_features=log2, n_estimators=100;, score=0.676 total time=   5.9s\n",
            "[CV 5/5] END criterion=entropy, max_depth=6, max_features=log2, n_estimators=100;, score=0.674 total time=   6.0s\n",
            "[CV 1/5] END criterion=entropy, max_depth=6, max_features=log2, n_estimators=150;, score=0.687 total time=   9.1s\n",
            "[CV 2/5] END criterion=entropy, max_depth=6, max_features=log2, n_estimators=150;, score=0.687 total time=   9.0s\n",
            "[CV 3/5] END criterion=entropy, max_depth=6, max_features=log2, n_estimators=150;, score=0.691 total time=   9.1s\n",
            "[CV 4/5] END criterion=entropy, max_depth=6, max_features=log2, n_estimators=150;, score=0.674 total time=   9.0s\n",
            "[CV 5/5] END criterion=entropy, max_depth=6, max_features=log2, n_estimators=150;, score=0.671 total time=   9.1s\n",
            "[CV 1/5] END criterion=entropy, max_depth=8, max_features=auto, n_estimators=10;, score=0.701 total time=   0.8s\n",
            "[CV 2/5] END criterion=entropy, max_depth=8, max_features=auto, n_estimators=10;, score=0.712 total time=   0.8s\n",
            "[CV 3/5] END criterion=entropy, max_depth=8, max_features=auto, n_estimators=10;, score=0.703 total time=   0.8s\n",
            "[CV 4/5] END criterion=entropy, max_depth=8, max_features=auto, n_estimators=10;, score=0.698 total time=   0.8s\n",
            "[CV 5/5] END criterion=entropy, max_depth=8, max_features=auto, n_estimators=10;, score=0.701 total time=   0.8s\n",
            "[CV 1/5] END criterion=entropy, max_depth=8, max_features=auto, n_estimators=20;, score=0.701 total time=   1.6s\n",
            "[CV 2/5] END criterion=entropy, max_depth=8, max_features=auto, n_estimators=20;, score=0.713 total time=   1.6s\n",
            "[CV 3/5] END criterion=entropy, max_depth=8, max_features=auto, n_estimators=20;, score=0.703 total time=   1.6s\n",
            "[CV 4/5] END criterion=entropy, max_depth=8, max_features=auto, n_estimators=20;, score=0.703 total time=   1.6s\n",
            "[CV 5/5] END criterion=entropy, max_depth=8, max_features=auto, n_estimators=20;, score=0.702 total time=   1.6s\n",
            "[CV 1/5] END criterion=entropy, max_depth=8, max_features=auto, n_estimators=50;, score=0.705 total time=   3.9s\n",
            "[CV 2/5] END criterion=entropy, max_depth=8, max_features=auto, n_estimators=50;, score=0.710 total time=   4.0s\n",
            "[CV 3/5] END criterion=entropy, max_depth=8, max_features=auto, n_estimators=50;, score=0.706 total time=   3.9s\n",
            "[CV 4/5] END criterion=entropy, max_depth=8, max_features=auto, n_estimators=50;, score=0.704 total time=   4.0s\n",
            "[CV 5/5] END criterion=entropy, max_depth=8, max_features=auto, n_estimators=50;, score=0.702 total time=   3.9s\n",
            "[CV 1/5] END criterion=entropy, max_depth=8, max_features=auto, n_estimators=100;, score=0.707 total time=   7.9s\n",
            "[CV 2/5] END criterion=entropy, max_depth=8, max_features=auto, n_estimators=100;, score=0.710 total time=   7.9s\n",
            "[CV 3/5] END criterion=entropy, max_depth=8, max_features=auto, n_estimators=100;, score=0.709 total time=   7.8s\n",
            "[CV 4/5] END criterion=entropy, max_depth=8, max_features=auto, n_estimators=100;, score=0.703 total time=   7.7s\n",
            "[CV 5/5] END criterion=entropy, max_depth=8, max_features=auto, n_estimators=100;, score=0.702 total time=   7.7s\n",
            "[CV 1/5] END criterion=entropy, max_depth=8, max_features=auto, n_estimators=150;, score=0.710 total time=  11.8s\n",
            "[CV 2/5] END criterion=entropy, max_depth=8, max_features=auto, n_estimators=150;, score=0.710 total time=  11.7s\n",
            "[CV 3/5] END criterion=entropy, max_depth=8, max_features=auto, n_estimators=150;, score=0.708 total time=  11.7s\n",
            "[CV 4/5] END criterion=entropy, max_depth=8, max_features=auto, n_estimators=150;, score=0.704 total time=  11.7s\n",
            "[CV 5/5] END criterion=entropy, max_depth=8, max_features=auto, n_estimators=150;, score=0.704 total time=  11.7s\n",
            "[CV 1/5] END criterion=entropy, max_depth=8, max_features=sqrt, n_estimators=10;, score=0.701 total time=   0.8s\n",
            "[CV 2/5] END criterion=entropy, max_depth=8, max_features=sqrt, n_estimators=10;, score=0.712 total time=   0.8s\n",
            "[CV 3/5] END criterion=entropy, max_depth=8, max_features=sqrt, n_estimators=10;, score=0.703 total time=   0.8s\n",
            "[CV 4/5] END criterion=entropy, max_depth=8, max_features=sqrt, n_estimators=10;, score=0.698 total time=   0.8s\n",
            "[CV 5/5] END criterion=entropy, max_depth=8, max_features=sqrt, n_estimators=10;, score=0.701 total time=   0.8s\n",
            "[CV 1/5] END criterion=entropy, max_depth=8, max_features=sqrt, n_estimators=20;, score=0.701 total time=   1.6s\n",
            "[CV 2/5] END criterion=entropy, max_depth=8, max_features=sqrt, n_estimators=20;, score=0.713 total time=   1.6s\n",
            "[CV 3/5] END criterion=entropy, max_depth=8, max_features=sqrt, n_estimators=20;, score=0.703 total time=   1.6s\n",
            "[CV 4/5] END criterion=entropy, max_depth=8, max_features=sqrt, n_estimators=20;, score=0.703 total time=   1.6s\n",
            "[CV 5/5] END criterion=entropy, max_depth=8, max_features=sqrt, n_estimators=20;, score=0.702 total time=   1.5s\n",
            "[CV 1/5] END criterion=entropy, max_depth=8, max_features=sqrt, n_estimators=50;, score=0.705 total time=   3.9s\n",
            "[CV 2/5] END criterion=entropy, max_depth=8, max_features=sqrt, n_estimators=50;, score=0.710 total time=   4.0s\n",
            "[CV 3/5] END criterion=entropy, max_depth=8, max_features=sqrt, n_estimators=50;, score=0.706 total time=   3.9s\n",
            "[CV 4/5] END criterion=entropy, max_depth=8, max_features=sqrt, n_estimators=50;, score=0.704 total time=   4.1s\n",
            "[CV 5/5] END criterion=entropy, max_depth=8, max_features=sqrt, n_estimators=50;, score=0.702 total time=   4.9s\n",
            "[CV 1/5] END criterion=entropy, max_depth=8, max_features=sqrt, n_estimators=100;, score=0.707 total time=   7.8s\n",
            "[CV 2/5] END criterion=entropy, max_depth=8, max_features=sqrt, n_estimators=100;, score=0.710 total time=   7.8s\n",
            "[CV 3/5] END criterion=entropy, max_depth=8, max_features=sqrt, n_estimators=100;, score=0.709 total time=   7.7s\n",
            "[CV 4/5] END criterion=entropy, max_depth=8, max_features=sqrt, n_estimators=100;, score=0.703 total time=   7.7s\n",
            "[CV 5/5] END criterion=entropy, max_depth=8, max_features=sqrt, n_estimators=100;, score=0.702 total time=   7.7s\n",
            "[CV 1/5] END criterion=entropy, max_depth=8, max_features=sqrt, n_estimators=150;, score=0.710 total time=  11.7s\n",
            "[CV 2/5] END criterion=entropy, max_depth=8, max_features=sqrt, n_estimators=150;, score=0.710 total time=  11.8s\n",
            "[CV 3/5] END criterion=entropy, max_depth=8, max_features=sqrt, n_estimators=150;, score=0.708 total time=  11.8s\n",
            "[CV 4/5] END criterion=entropy, max_depth=8, max_features=sqrt, n_estimators=150;, score=0.704 total time=  11.6s\n",
            "[CV 5/5] END criterion=entropy, max_depth=8, max_features=sqrt, n_estimators=150;, score=0.704 total time=  11.7s\n",
            "[CV 1/5] END criterion=entropy, max_depth=8, max_features=log2, n_estimators=10;, score=0.701 total time=   0.8s\n",
            "[CV 2/5] END criterion=entropy, max_depth=8, max_features=log2, n_estimators=10;, score=0.712 total time=   0.8s\n",
            "[CV 3/5] END criterion=entropy, max_depth=8, max_features=log2, n_estimators=10;, score=0.703 total time=   0.8s\n",
            "[CV 4/5] END criterion=entropy, max_depth=8, max_features=log2, n_estimators=10;, score=0.698 total time=   0.8s\n",
            "[CV 5/5] END criterion=entropy, max_depth=8, max_features=log2, n_estimators=10;, score=0.701 total time=   0.8s\n",
            "[CV 1/5] END criterion=entropy, max_depth=8, max_features=log2, n_estimators=20;, score=0.701 total time=   1.6s\n",
            "[CV 2/5] END criterion=entropy, max_depth=8, max_features=log2, n_estimators=20;, score=0.713 total time=   1.6s\n",
            "[CV 3/5] END criterion=entropy, max_depth=8, max_features=log2, n_estimators=20;, score=0.703 total time=   1.6s\n",
            "[CV 4/5] END criterion=entropy, max_depth=8, max_features=log2, n_estimators=20;, score=0.703 total time=   1.6s\n",
            "[CV 5/5] END criterion=entropy, max_depth=8, max_features=log2, n_estimators=20;, score=0.702 total time=   1.6s\n",
            "[CV 1/5] END criterion=entropy, max_depth=8, max_features=log2, n_estimators=50;, score=0.705 total time=   3.9s\n",
            "[CV 2/5] END criterion=entropy, max_depth=8, max_features=log2, n_estimators=50;, score=0.710 total time=   4.0s\n",
            "[CV 3/5] END criterion=entropy, max_depth=8, max_features=log2, n_estimators=50;, score=0.706 total time=   3.9s\n",
            "[CV 4/5] END criterion=entropy, max_depth=8, max_features=log2, n_estimators=50;, score=0.704 total time=   3.9s\n",
            "[CV 5/5] END criterion=entropy, max_depth=8, max_features=log2, n_estimators=50;, score=0.702 total time=   3.9s\n",
            "[CV 1/5] END criterion=entropy, max_depth=8, max_features=log2, n_estimators=100;, score=0.707 total time=   7.8s\n",
            "[CV 2/5] END criterion=entropy, max_depth=8, max_features=log2, n_estimators=100;, score=0.710 total time=   7.8s\n",
            "[CV 3/5] END criterion=entropy, max_depth=8, max_features=log2, n_estimators=100;, score=0.709 total time=   7.7s\n",
            "[CV 4/5] END criterion=entropy, max_depth=8, max_features=log2, n_estimators=100;, score=0.703 total time=   7.7s\n",
            "[CV 5/5] END criterion=entropy, max_depth=8, max_features=log2, n_estimators=100;, score=0.702 total time=   7.7s\n",
            "[CV 1/5] END criterion=entropy, max_depth=8, max_features=log2, n_estimators=150;, score=0.710 total time=  11.7s\n",
            "[CV 2/5] END criterion=entropy, max_depth=8, max_features=log2, n_estimators=150;, score=0.710 total time=  11.8s\n",
            "[CV 3/5] END criterion=entropy, max_depth=8, max_features=log2, n_estimators=150;, score=0.708 total time=  11.7s\n",
            "[CV 4/5] END criterion=entropy, max_depth=8, max_features=log2, n_estimators=150;, score=0.704 total time=  11.6s\n",
            "[CV 5/5] END criterion=entropy, max_depth=8, max_features=log2, n_estimators=150;, score=0.704 total time=  11.6s\n",
            "[CV 1/5] END criterion=entropy, max_depth=10, max_features=auto, n_estimators=10;, score=0.711 total time=   0.9s\n",
            "[CV 2/5] END criterion=entropy, max_depth=10, max_features=auto, n_estimators=10;, score=0.713 total time=   1.0s\n",
            "[CV 3/5] END criterion=entropy, max_depth=10, max_features=auto, n_estimators=10;, score=0.713 total time=   1.0s\n",
            "[CV 4/5] END criterion=entropy, max_depth=10, max_features=auto, n_estimators=10;, score=0.708 total time=   1.0s\n",
            "[CV 5/5] END criterion=entropy, max_depth=10, max_features=auto, n_estimators=10;, score=0.709 total time=   1.3s\n",
            "[CV 1/5] END criterion=entropy, max_depth=10, max_features=auto, n_estimators=20;, score=0.715 total time=   2.8s\n",
            "[CV 2/5] END criterion=entropy, max_depth=10, max_features=auto, n_estimators=20;, score=0.718 total time=   2.0s\n",
            "[CV 3/5] END criterion=entropy, max_depth=10, max_features=auto, n_estimators=20;, score=0.715 total time=   2.0s\n",
            "[CV 4/5] END criterion=entropy, max_depth=10, max_features=auto, n_estimators=20;, score=0.709 total time=   1.9s\n",
            "[CV 5/5] END criterion=entropy, max_depth=10, max_features=auto, n_estimators=20;, score=0.712 total time=   2.0s\n",
            "[CV 1/5] END criterion=entropy, max_depth=10, max_features=auto, n_estimators=50;, score=0.717 total time=   4.8s\n",
            "[CV 2/5] END criterion=entropy, max_depth=10, max_features=auto, n_estimators=50;, score=0.721 total time=   4.8s\n",
            "[CV 3/5] END criterion=entropy, max_depth=10, max_features=auto, n_estimators=50;, score=0.719 total time=   4.8s\n",
            "[CV 4/5] END criterion=entropy, max_depth=10, max_features=auto, n_estimators=50;, score=0.716 total time=   4.8s\n",
            "[CV 5/5] END criterion=entropy, max_depth=10, max_features=auto, n_estimators=50;, score=0.715 total time=   4.8s\n",
            "[CV 1/5] END criterion=entropy, max_depth=10, max_features=auto, n_estimators=100;, score=0.719 total time=   9.6s\n",
            "[CV 2/5] END criterion=entropy, max_depth=10, max_features=auto, n_estimators=100;, score=0.721 total time=   9.5s\n",
            "[CV 3/5] END criterion=entropy, max_depth=10, max_features=auto, n_estimators=100;, score=0.719 total time=   9.6s\n",
            "[CV 4/5] END criterion=entropy, max_depth=10, max_features=auto, n_estimators=100;, score=0.715 total time=   9.5s\n",
            "[CV 5/5] END criterion=entropy, max_depth=10, max_features=auto, n_estimators=100;, score=0.714 total time=   9.5s\n",
            "[CV 1/5] END criterion=entropy, max_depth=10, max_features=auto, n_estimators=150;, score=0.718 total time=  14.4s\n",
            "[CV 2/5] END criterion=entropy, max_depth=10, max_features=auto, n_estimators=150;, score=0.721 total time=  14.4s\n",
            "[CV 3/5] END criterion=entropy, max_depth=10, max_features=auto, n_estimators=150;, score=0.719 total time=  14.5s\n",
            "[CV 4/5] END criterion=entropy, max_depth=10, max_features=auto, n_estimators=150;, score=0.714 total time=  14.4s\n",
            "[CV 5/5] END criterion=entropy, max_depth=10, max_features=auto, n_estimators=150;, score=0.715 total time=  14.4s\n",
            "[CV 1/5] END criterion=entropy, max_depth=10, max_features=sqrt, n_estimators=10;, score=0.711 total time=   1.0s\n",
            "[CV 2/5] END criterion=entropy, max_depth=10, max_features=sqrt, n_estimators=10;, score=0.713 total time=   1.0s\n",
            "[CV 3/5] END criterion=entropy, max_depth=10, max_features=sqrt, n_estimators=10;, score=0.713 total time=   1.0s\n",
            "[CV 4/5] END criterion=entropy, max_depth=10, max_features=sqrt, n_estimators=10;, score=0.708 total time=   1.0s\n",
            "[CV 5/5] END criterion=entropy, max_depth=10, max_features=sqrt, n_estimators=10;, score=0.709 total time=   1.0s\n",
            "[CV 1/5] END criterion=entropy, max_depth=10, max_features=sqrt, n_estimators=20;, score=0.715 total time=   1.9s\n",
            "[CV 2/5] END criterion=entropy, max_depth=10, max_features=sqrt, n_estimators=20;, score=0.718 total time=   1.9s\n",
            "[CV 3/5] END criterion=entropy, max_depth=10, max_features=sqrt, n_estimators=20;, score=0.715 total time=   2.0s\n",
            "[CV 4/5] END criterion=entropy, max_depth=10, max_features=sqrt, n_estimators=20;, score=0.709 total time=   1.9s\n",
            "[CV 5/5] END criterion=entropy, max_depth=10, max_features=sqrt, n_estimators=20;, score=0.712 total time=   2.0s\n",
            "[CV 1/5] END criterion=entropy, max_depth=10, max_features=sqrt, n_estimators=50;, score=0.717 total time=   4.8s\n",
            "[CV 2/5] END criterion=entropy, max_depth=10, max_features=sqrt, n_estimators=50;, score=0.721 total time=   4.8s\n",
            "[CV 3/5] END criterion=entropy, max_depth=10, max_features=sqrt, n_estimators=50;, score=0.719 total time=   4.8s\n",
            "[CV 4/5] END criterion=entropy, max_depth=10, max_features=sqrt, n_estimators=50;, score=0.716 total time=   4.8s\n",
            "[CV 5/5] END criterion=entropy, max_depth=10, max_features=sqrt, n_estimators=50;, score=0.715 total time=   4.8s\n",
            "[CV 1/5] END criterion=entropy, max_depth=10, max_features=sqrt, n_estimators=100;, score=0.719 total time=   9.6s\n",
            "[CV 2/5] END criterion=entropy, max_depth=10, max_features=sqrt, n_estimators=100;, score=0.721 total time=   9.6s\n",
            "[CV 3/5] END criterion=entropy, max_depth=10, max_features=sqrt, n_estimators=100;, score=0.719 total time=   9.6s\n",
            "[CV 4/5] END criterion=entropy, max_depth=10, max_features=sqrt, n_estimators=100;, score=0.715 total time=   9.6s\n",
            "[CV 5/5] END criterion=entropy, max_depth=10, max_features=sqrt, n_estimators=100;, score=0.714 total time=  10.8s\n",
            "[CV 1/5] END criterion=entropy, max_depth=10, max_features=sqrt, n_estimators=150;, score=0.718 total time=  14.5s\n",
            "[CV 2/5] END criterion=entropy, max_depth=10, max_features=sqrt, n_estimators=150;, score=0.721 total time=  14.5s\n",
            "[CV 3/5] END criterion=entropy, max_depth=10, max_features=sqrt, n_estimators=150;, score=0.719 total time=  14.6s\n",
            "[CV 4/5] END criterion=entropy, max_depth=10, max_features=sqrt, n_estimators=150;, score=0.714 total time=  14.4s\n",
            "[CV 5/5] END criterion=entropy, max_depth=10, max_features=sqrt, n_estimators=150;, score=0.715 total time=  14.5s\n",
            "[CV 1/5] END criterion=entropy, max_depth=10, max_features=log2, n_estimators=10;, score=0.711 total time=   1.0s\n",
            "[CV 2/5] END criterion=entropy, max_depth=10, max_features=log2, n_estimators=10;, score=0.713 total time=   1.0s\n",
            "[CV 3/5] END criterion=entropy, max_depth=10, max_features=log2, n_estimators=10;, score=0.713 total time=   1.0s\n",
            "[CV 4/5] END criterion=entropy, max_depth=10, max_features=log2, n_estimators=10;, score=0.708 total time=   1.0s\n",
            "[CV 5/5] END criterion=entropy, max_depth=10, max_features=log2, n_estimators=10;, score=0.709 total time=   1.0s\n",
            "[CV 1/5] END criterion=entropy, max_depth=10, max_features=log2, n_estimators=20;, score=0.715 total time=   1.9s\n",
            "[CV 2/5] END criterion=entropy, max_depth=10, max_features=log2, n_estimators=20;, score=0.718 total time=   2.0s\n",
            "[CV 3/5] END criterion=entropy, max_depth=10, max_features=log2, n_estimators=20;, score=0.715 total time=   2.0s\n",
            "[CV 4/5] END criterion=entropy, max_depth=10, max_features=log2, n_estimators=20;, score=0.709 total time=   1.9s\n",
            "[CV 5/5] END criterion=entropy, max_depth=10, max_features=log2, n_estimators=20;, score=0.712 total time=   2.0s\n",
            "[CV 1/5] END criterion=entropy, max_depth=10, max_features=log2, n_estimators=50;, score=0.717 total time=   4.8s\n",
            "[CV 2/5] END criterion=entropy, max_depth=10, max_features=log2, n_estimators=50;, score=0.721 total time=   4.8s\n",
            "[CV 3/5] END criterion=entropy, max_depth=10, max_features=log2, n_estimators=50;, score=0.719 total time=   4.8s\n",
            "[CV 4/5] END criterion=entropy, max_depth=10, max_features=log2, n_estimators=50;, score=0.716 total time=   4.8s\n",
            "[CV 5/5] END criterion=entropy, max_depth=10, max_features=log2, n_estimators=50;, score=0.715 total time=   4.8s\n",
            "[CV 1/5] END criterion=entropy, max_depth=10, max_features=log2, n_estimators=100;, score=0.719 total time=   9.6s\n",
            "[CV 2/5] END criterion=entropy, max_depth=10, max_features=log2, n_estimators=100;, score=0.721 total time=   9.6s\n",
            "[CV 3/5] END criterion=entropy, max_depth=10, max_features=log2, n_estimators=100;, score=0.719 total time=   9.6s\n",
            "[CV 4/5] END criterion=entropy, max_depth=10, max_features=log2, n_estimators=100;, score=0.715 total time=   9.6s\n",
            "[CV 5/5] END criterion=entropy, max_depth=10, max_features=log2, n_estimators=100;, score=0.714 total time=   9.6s\n",
            "[CV 1/5] END criterion=entropy, max_depth=10, max_features=log2, n_estimators=150;, score=0.718 total time=  14.4s\n",
            "[CV 2/5] END criterion=entropy, max_depth=10, max_features=log2, n_estimators=150;, score=0.721 total time=  14.5s\n",
            "[CV 3/5] END criterion=entropy, max_depth=10, max_features=log2, n_estimators=150;, score=0.719 total time=  14.5s\n",
            "[CV 4/5] END criterion=entropy, max_depth=10, max_features=log2, n_estimators=150;, score=0.714 total time=  14.3s\n",
            "[CV 5/5] END criterion=entropy, max_depth=10, max_features=log2, n_estimators=150;, score=0.715 total time=  14.4s\n",
            "[CV 1/5] END criterion=entropy, max_depth=12, max_features=auto, n_estimators=10;, score=0.719 total time=   1.7s\n",
            "[CV 2/5] END criterion=entropy, max_depth=12, max_features=auto, n_estimators=10;, score=0.723 total time=   1.8s\n",
            "[CV 3/5] END criterion=entropy, max_depth=12, max_features=auto, n_estimators=10;, score=0.716 total time=   1.2s\n",
            "[CV 4/5] END criterion=entropy, max_depth=12, max_features=auto, n_estimators=10;, score=0.716 total time=   1.1s\n",
            "[CV 5/5] END criterion=entropy, max_depth=12, max_features=auto, n_estimators=10;, score=0.713 total time=   1.1s\n",
            "[CV 1/5] END criterion=entropy, max_depth=12, max_features=auto, n_estimators=20;, score=0.725 total time=   2.3s\n",
            "[CV 2/5] END criterion=entropy, max_depth=12, max_features=auto, n_estimators=20;, score=0.728 total time=   2.3s\n",
            "[CV 3/5] END criterion=entropy, max_depth=12, max_features=auto, n_estimators=20;, score=0.722 total time=   2.3s\n",
            "[CV 4/5] END criterion=entropy, max_depth=12, max_features=auto, n_estimators=20;, score=0.722 total time=   2.3s\n",
            "[CV 5/5] END criterion=entropy, max_depth=12, max_features=auto, n_estimators=20;, score=0.722 total time=   2.3s\n",
            "[CV 1/5] END criterion=entropy, max_depth=12, max_features=auto, n_estimators=50;, score=0.726 total time=   5.7s\n",
            "[CV 2/5] END criterion=entropy, max_depth=12, max_features=auto, n_estimators=50;, score=0.730 total time=   5.7s\n",
            "[CV 3/5] END criterion=entropy, max_depth=12, max_features=auto, n_estimators=50;, score=0.726 total time=   5.7s\n",
            "[CV 4/5] END criterion=entropy, max_depth=12, max_features=auto, n_estimators=50;, score=0.728 total time=   5.7s\n",
            "[CV 5/5] END criterion=entropy, max_depth=12, max_features=auto, n_estimators=50;, score=0.727 total time=   5.7s\n",
            "[CV 1/5] END criterion=entropy, max_depth=12, max_features=auto, n_estimators=100;, score=0.729 total time=  11.4s\n",
            "[CV 2/5] END criterion=entropy, max_depth=12, max_features=auto, n_estimators=100;, score=0.731 total time=  11.4s\n",
            "[CV 3/5] END criterion=entropy, max_depth=12, max_features=auto, n_estimators=100;, score=0.727 total time=  11.4s\n",
            "[CV 4/5] END criterion=entropy, max_depth=12, max_features=auto, n_estimators=100;, score=0.726 total time=  11.3s\n",
            "[CV 5/5] END criterion=entropy, max_depth=12, max_features=auto, n_estimators=100;, score=0.730 total time=  11.4s\n",
            "[CV 1/5] END criterion=entropy, max_depth=12, max_features=auto, n_estimators=150;, score=0.727 total time=  17.1s\n",
            "[CV 2/5] END criterion=entropy, max_depth=12, max_features=auto, n_estimators=150;, score=0.730 total time=  17.1s\n",
            "[CV 3/5] END criterion=entropy, max_depth=12, max_features=auto, n_estimators=150;, score=0.726 total time=  17.1s\n",
            "[CV 4/5] END criterion=entropy, max_depth=12, max_features=auto, n_estimators=150;, score=0.724 total time=  17.0s\n",
            "[CV 5/5] END criterion=entropy, max_depth=12, max_features=auto, n_estimators=150;, score=0.729 total time=  17.1s\n",
            "[CV 1/5] END criterion=entropy, max_depth=12, max_features=sqrt, n_estimators=10;, score=0.719 total time=   1.2s\n",
            "[CV 2/5] END criterion=entropy, max_depth=12, max_features=sqrt, n_estimators=10;, score=0.723 total time=   1.1s\n",
            "[CV 3/5] END criterion=entropy, max_depth=12, max_features=sqrt, n_estimators=10;, score=0.716 total time=   1.2s\n",
            "[CV 4/5] END criterion=entropy, max_depth=12, max_features=sqrt, n_estimators=10;, score=0.716 total time=   1.1s\n",
            "[CV 5/5] END criterion=entropy, max_depth=12, max_features=sqrt, n_estimators=10;, score=0.713 total time=   1.2s\n",
            "[CV 1/5] END criterion=entropy, max_depth=12, max_features=sqrt, n_estimators=20;, score=0.725 total time=   2.3s\n",
            "[CV 2/5] END criterion=entropy, max_depth=12, max_features=sqrt, n_estimators=20;, score=0.728 total time=   2.3s\n",
            "[CV 3/5] END criterion=entropy, max_depth=12, max_features=sqrt, n_estimators=20;, score=0.722 total time=   2.3s\n",
            "[CV 4/5] END criterion=entropy, max_depth=12, max_features=sqrt, n_estimators=20;, score=0.722 total time=   2.3s\n",
            "[CV 5/5] END criterion=entropy, max_depth=12, max_features=sqrt, n_estimators=20;, score=0.722 total time=   2.3s\n",
            "[CV 1/5] END criterion=entropy, max_depth=12, max_features=sqrt, n_estimators=50;, score=0.726 total time=   5.7s\n",
            "[CV 2/5] END criterion=entropy, max_depth=12, max_features=sqrt, n_estimators=50;, score=0.730 total time=   5.7s\n",
            "[CV 3/5] END criterion=entropy, max_depth=12, max_features=sqrt, n_estimators=50;, score=0.726 total time=   5.7s\n",
            "[CV 4/5] END criterion=entropy, max_depth=12, max_features=sqrt, n_estimators=50;, score=0.728 total time=   5.7s\n",
            "[CV 5/5] END criterion=entropy, max_depth=12, max_features=sqrt, n_estimators=50;, score=0.727 total time=   5.7s\n",
            "[CV 1/5] END criterion=entropy, max_depth=12, max_features=sqrt, n_estimators=100;, score=0.729 total time=  12.5s\n",
            "[CV 2/5] END criterion=entropy, max_depth=12, max_features=sqrt, n_estimators=100;, score=0.731 total time=  11.3s\n",
            "[CV 3/5] END criterion=entropy, max_depth=12, max_features=sqrt, n_estimators=100;, score=0.727 total time=  11.4s\n",
            "[CV 4/5] END criterion=entropy, max_depth=12, max_features=sqrt, n_estimators=100;, score=0.726 total time=  11.4s\n",
            "[CV 5/5] END criterion=entropy, max_depth=12, max_features=sqrt, n_estimators=100;, score=0.730 total time=  11.4s\n",
            "[CV 1/5] END criterion=entropy, max_depth=12, max_features=sqrt, n_estimators=150;, score=0.727 total time=  17.1s\n",
            "[CV 2/5] END criterion=entropy, max_depth=12, max_features=sqrt, n_estimators=150;, score=0.730 total time=  17.2s\n",
            "[CV 3/5] END criterion=entropy, max_depth=12, max_features=sqrt, n_estimators=150;, score=0.726 total time=  17.3s\n",
            "[CV 4/5] END criterion=entropy, max_depth=12, max_features=sqrt, n_estimators=150;, score=0.724 total time=  17.1s\n",
            "[CV 5/5] END criterion=entropy, max_depth=12, max_features=sqrt, n_estimators=150;, score=0.729 total time=  17.2s\n",
            "[CV 1/5] END criterion=entropy, max_depth=12, max_features=log2, n_estimators=10;, score=0.719 total time=   1.2s\n",
            "[CV 2/5] END criterion=entropy, max_depth=12, max_features=log2, n_estimators=10;, score=0.723 total time=   1.1s\n",
            "[CV 3/5] END criterion=entropy, max_depth=12, max_features=log2, n_estimators=10;, score=0.716 total time=   1.2s\n",
            "[CV 4/5] END criterion=entropy, max_depth=12, max_features=log2, n_estimators=10;, score=0.716 total time=   1.1s\n",
            "[CV 5/5] END criterion=entropy, max_depth=12, max_features=log2, n_estimators=10;, score=0.713 total time=   1.2s\n",
            "[CV 1/5] END criterion=entropy, max_depth=12, max_features=log2, n_estimators=20;, score=0.725 total time=   2.3s\n",
            "[CV 2/5] END criterion=entropy, max_depth=12, max_features=log2, n_estimators=20;, score=0.728 total time=   2.3s\n",
            "[CV 3/5] END criterion=entropy, max_depth=12, max_features=log2, n_estimators=20;, score=0.722 total time=   2.4s\n",
            "[CV 4/5] END criterion=entropy, max_depth=12, max_features=log2, n_estimators=20;, score=0.722 total time=   2.3s\n",
            "[CV 5/5] END criterion=entropy, max_depth=12, max_features=log2, n_estimators=20;, score=0.722 total time=   2.4s\n",
            "[CV 1/5] END criterion=entropy, max_depth=12, max_features=log2, n_estimators=50;, score=0.726 total time=   5.7s\n",
            "[CV 2/5] END criterion=entropy, max_depth=12, max_features=log2, n_estimators=50;, score=0.730 total time=   5.8s\n",
            "[CV 3/5] END criterion=entropy, max_depth=12, max_features=log2, n_estimators=50;, score=0.726 total time=   5.8s\n",
            "[CV 4/5] END criterion=entropy, max_depth=12, max_features=log2, n_estimators=50;, score=0.728 total time=   5.8s\n",
            "[CV 5/5] END criterion=entropy, max_depth=12, max_features=log2, n_estimators=50;, score=0.727 total time=   5.7s\n",
            "[CV 1/5] END criterion=entropy, max_depth=12, max_features=log2, n_estimators=100;, score=0.729 total time=  11.4s\n",
            "[CV 2/5] END criterion=entropy, max_depth=12, max_features=log2, n_estimators=100;, score=0.731 total time=  11.4s\n",
            "[CV 3/5] END criterion=entropy, max_depth=12, max_features=log2, n_estimators=100;, score=0.727 total time=  11.4s\n",
            "[CV 4/5] END criterion=entropy, max_depth=12, max_features=log2, n_estimators=100;, score=0.726 total time=  11.3s\n",
            "[CV 5/5] END criterion=entropy, max_depth=12, max_features=log2, n_estimators=100;, score=0.730 total time=  11.4s\n",
            "[CV 1/5] END criterion=entropy, max_depth=12, max_features=log2, n_estimators=150;, score=0.727 total time=  18.3s\n",
            "[CV 2/5] END criterion=entropy, max_depth=12, max_features=log2, n_estimators=150;, score=0.730 total time=  17.1s\n",
            "[CV 3/5] END criterion=entropy, max_depth=12, max_features=log2, n_estimators=150;, score=0.726 total time=  17.2s\n",
            "[CV 4/5] END criterion=entropy, max_depth=12, max_features=log2, n_estimators=150;, score=0.724 total time=  17.0s\n",
            "[CV 5/5] END criterion=entropy, max_depth=12, max_features=log2, n_estimators=150;, score=0.729 total time=  17.2s\n"
          ]
        },
        {
          "output_type": "execute_result",
          "data": {
            "text/plain": [
              "GridSearchCV(cv=5, estimator=RandomForestClassifier(random_state=42),\n",
              "             param_grid={'criterion': ['gini', 'entropy'],\n",
              "                         'max_depth': [2, 4, 6, 8, 10, 12],\n",
              "                         'max_features': ['auto', 'sqrt', 'log2'],\n",
              "                         'n_estimators': [10, 20, 50, 100, 150]},\n",
              "             verbose=3)"
            ]
          },
          "metadata": {},
          "execution_count": 52
        }
      ]
    },
    {
      "cell_type": "markdown",
      "source": [
        "Pelos gráficos abaixo, podemos encontrar os melhores valores para cada um dos parametros procurados, além disso, é possível perceber que após um certo número, o ganho de precisão é muito baixo a medida que os parâmetros são alterados, mostrando que não é muito útil testar uma combinação maior de hiperparâmetros."
      ],
      "metadata": {
        "id": "-3SqmNAzkOFR"
      }
    },
    {
      "cell_type": "code",
      "source": [
        "df_results = pd.DataFrame(cv.cv_results_)\n",
        "df_results[['param_n_estimators','mean_test_score']].groupby('param_n_estimators').mean().plot()"
      ],
      "metadata": {
        "colab": {
          "base_uri": "https://localhost:8080/",
          "height": 297
        },
        "id": "XC-2sxzV1xUz",
        "outputId": "77d1cf78-1276-44a5-e24b-02ad12bbf371"
      },
      "execution_count": null,
      "outputs": [
        {
          "output_type": "execute_result",
          "data": {
            "text/plain": [
              "<matplotlib.axes._subplots.AxesSubplot at 0x7fa56c858610>"
            ]
          },
          "metadata": {},
          "execution_count": 53
        },
        {
          "output_type": "display_data",
          "data": {
            "text/plain": [
              "<Figure size 432x288 with 1 Axes>"
            ],
            "image/png": "[encoded data removed]"
          },
          "metadata": {
            "needs_background": "light"
          }
        }
      ]
    },
    {
      "cell_type": "code",
      "source": [
        "df_results[['param_max_depth','mean_test_score']].groupby('param_max_depth').mean().plot()"
      ],
      "metadata": {
        "colab": {
          "base_uri": "https://localhost:8080/",
          "height": 297
        },
        "id": "AX3JgZYXT2OJ",
        "outputId": "7f75b60a-976a-4d4a-90f6-2a08b66f060e"
      },
      "execution_count": null,
      "outputs": [
        {
          "output_type": "execute_result",
          "data": {
            "text/plain": [
              "<matplotlib.axes._subplots.AxesSubplot at 0x7fa56c43e5d0>"
            ]
          },
          "metadata": {},
          "execution_count": 54
        },
        {
          "output_type": "display_data",
          "data": {
            "text/plain": [
              "<Figure size 432x288 with 1 Axes>"
            ],
            "image/png": "[encoded data removed]"
          },
          "metadata": {
            "needs_background": "light"
          }
        }
      ]
    },
    {
      "cell_type": "code",
      "source": [
        "df_results[['param_max_features','mean_test_score']].groupby(\n",
        "                                        'param_max_features').mean().reset_index().plot.scatter(x='param_max_features',y='mean_test_score')"
      ],
      "metadata": {
        "colab": {
          "base_uri": "https://localhost:8080/",
          "height": 297
        },
        "id": "RcbGdanhUInu",
        "outputId": "b61a2a83-73ea-44a0-ac13-87f0e0a2ec14"
      },
      "execution_count": null,
      "outputs": [
        {
          "output_type": "execute_result",
          "data": {
            "text/plain": [
              "<matplotlib.axes._subplots.AxesSubplot at 0x7fa5675b2f50>"
            ]
          },
          "metadata": {},
          "execution_count": 55
        },
        {
          "output_type": "display_data",
          "data": {
            "text/plain": [
              "<Figure size 432x288 with 1 Axes>"
            ],
            "image/png": "[encoded data removed]"
          },
          "metadata": {
            "needs_background": "light"
          }
        }
      ]
    },
    {
      "cell_type": "code",
      "source": [
        "df_results[['param_criterion','mean_test_score']].groupby(\n",
        "    'param_criterion').mean().reset_index().plot.scatter(x='param_criterion',y='mean_test_score')"
      ],
      "metadata": {
        "colab": {
          "base_uri": "https://localhost:8080/",
          "height": 297
        },
        "id": "mm5Q3czdUiuK",
        "outputId": "854a6d42-c983-49f7-b560-4d338d9cc8b9"
      },
      "execution_count": null,
      "outputs": [
        {
          "output_type": "execute_result",
          "data": {
            "text/plain": [
              "<matplotlib.axes._subplots.AxesSubplot at 0x7fa567588f10>"
            ]
          },
          "metadata": {},
          "execution_count": 56
        },
        {
          "output_type": "display_data",
          "data": {
            "text/plain": [
              "<Figure size 432x288 with 1 Axes>"
            ],
            "image/png": "[encoded data removed]"
          },
          "metadata": {
            "needs_background": "light"
          }
        }
      ]
    },
    {
      "cell_type": "code",
      "source": [
        "df_results"
      ],
      "metadata": {
        "colab": {
          "base_uri": "https://localhost:8080/",
          "height": 1000
        },
        "id": "drl69gMsS6Jh",
        "outputId": "576e62d0-d34b-4c16-a974-4cbab5b55725"
      },
      "execution_count": null,
      "outputs": [
        {
          "output_type": "execute_result",
          "data": {
            "text/plain": [
              "     mean_fit_time  std_fit_time  mean_score_time  std_score_time  \\\n",
              "0         0.292678      0.052477         0.010744        0.003450   \n",
              "1         0.659880      0.072437         0.027671        0.011718   \n",
              "2         1.934053      0.083763         0.089804        0.036185   \n",
              "3         2.092487      0.720530         0.071961        0.029324   \n",
              "4         2.597887      0.015999         0.086152        0.002879   \n",
              "..             ...           ...              ...             ...   \n",
              "175       1.146074      0.016531         0.014929        0.000127   \n",
              "176       2.303707      0.027316         0.027417        0.000319   \n",
              "177       5.693848      0.015307         0.067720        0.001165   \n",
              "178      11.252425      0.047541         0.128115        0.001241   \n",
              "179      17.130040      0.485273         0.190595        0.001633   \n",
              "\n",
              "    param_criterion param_max_depth param_max_features param_n_estimators  \\\n",
              "0              gini               2               auto                 10   \n",
              "1              gini               2               auto                 20   \n",
              "2              gini               2               auto                 50   \n",
              "3              gini               2               auto                100   \n",
              "4              gini               2               auto                150   \n",
              "..              ...             ...                ...                ...   \n",
              "175         entropy              12               log2                 10   \n",
              "176         entropy              12               log2                 20   \n",
              "177         entropy              12               log2                 50   \n",
              "178         entropy              12               log2                100   \n",
              "179         entropy              12               log2                150   \n",
              "\n",
              "                                                params  split0_test_score  \\\n",
              "0    {'criterion': 'gini', 'max_depth': 2, 'max_fea...           0.606395   \n",
              "1    {'criterion': 'gini', 'max_depth': 2, 'max_fea...           0.605226   \n",
              "2    {'criterion': 'gini', 'max_depth': 2, 'max_fea...           0.605096   \n",
              "3    {'criterion': 'gini', 'max_depth': 2, 'max_fea...           0.610295   \n",
              "4    {'criterion': 'gini', 'max_depth': 2, 'max_fea...           0.609905   \n",
              "..                                                 ...                ...   \n",
              "175  {'criterion': 'entropy', 'max_depth': 12, 'max...           0.719225   \n",
              "176  {'criterion': 'entropy', 'max_depth': 12, 'max...           0.724815   \n",
              "177  {'criterion': 'entropy', 'max_depth': 12, 'max...           0.725855   \n",
              "178  {'criterion': 'entropy', 'max_depth': 12, 'max...           0.729104   \n",
              "179  {'criterion': 'entropy', 'max_depth': 12, 'max...           0.726635   \n",
              "\n",
              "     split1_test_score  split2_test_score  split3_test_score  \\\n",
              "0             0.620044           0.615495           0.603406   \n",
              "1             0.615235           0.606915           0.592097   \n",
              "2             0.614325           0.605356           0.592357   \n",
              "3             0.616145           0.612115           0.599636   \n",
              "4             0.617444           0.614455           0.600546   \n",
              "..                 ...                ...                ...   \n",
              "175           0.723125           0.716236           0.716236   \n",
              "176           0.728324           0.722215           0.721565   \n",
              "177           0.729624           0.726245           0.728194   \n",
              "178           0.731184           0.726505           0.725855   \n",
              "179           0.729624           0.726115           0.724425   \n",
              "\n",
              "     split4_test_score  mean_test_score  std_test_score  rank_test_score  \n",
              "0             0.604264         0.609921        0.006640              154  \n",
              "1             0.598284         0.603551        0.007869              175  \n",
              "2             0.602444         0.603915        0.007037              172  \n",
              "3             0.602704         0.608179        0.006105              160  \n",
              "4             0.605044         0.609479        0.006130              157  \n",
              "..                 ...              ...             ...              ...  \n",
              "175           0.713209         0.717606        0.003352               34  \n",
              "176           0.722309         0.723846        0.002499               19  \n",
              "177           0.726729         0.727329        0.001395               13  \n",
              "178           0.729849         0.728499        0.002018                7  \n",
              "179           0.728939         0.727148        0.001902               16  \n",
              "\n",
              "[180 rows x 17 columns]"
            ],
            "text/html": [
              "\n",
              "  <div id=\"df-226bda64-8d1a-4a65-8cde-e05660054788\">\n",
              "    <div class=\"colab-df-container\">\n",
              "      <div>\n",
              "<style scoped>\n",
              "    .dataframe tbody tr th:only-of-type {\n",
              "        vertical-align: middle;\n",
              "    }\n",
              "\n",
              "    .dataframe tbody tr th {\n",
              "        vertical-align: top;\n",
              "    }\n",
              "\n",
              "    .dataframe thead th {\n",
              "        text-align: right;\n",
              "    }\n",
              "</style>\n",
              "<table border=\"1\" class=\"dataframe\">\n",
              "  <thead>\n",
              "    <tr style=\"text-align: right;\">\n",
              "      <th></th>\n",
              "      <th>mean_fit_time</th>\n",
              "      <th>std_fit_time</th>\n",
              "      <th>mean_score_time</th>\n",
              "      <th>std_score_time</th>\n",
              "      <th>param_criterion</th>\n",
              "      <th>param_max_depth</th>\n",
              "      <th>param_max_features</th>\n",
              "      <th>param_n_estimators</th>\n",
              "      <th>params</th>\n",
              "      <th>split0_test_score</th>\n",
              "      <th>split1_test_score</th>\n",
              "      <th>split2_test_score</th>\n",
              "      <th>split3_test_score</th>\n",
              "      <th>split4_test_score</th>\n",
              "      <th>mean_test_score</th>\n",
              "      <th>std_test_score</th>\n",
              "      <th>rank_test_score</th>\n",
              "    </tr>\n",
              "  </thead>\n",
              "  <tbody>\n",
              "    <tr>\n",
              "      <th>0</th>\n",
              "      <td>0.292678</td>\n",
              "      <td>0.052477</td>\n",
              "      <td>0.010744</td>\n",
              "      <td>0.003450</td>\n",
              "      <td>gini</td>\n",
              "      <td>2</td>\n",
              "      <td>auto</td>\n",
              "      <td>10</td>\n",
              "      <td>{'criterion': 'gini', 'max_depth': 2, 'max_fea...</td>\n",
              "      <td>0.606395</td>\n",
              "      <td>0.620044</td>\n",
              "      <td>0.615495</td>\n",
              "      <td>0.603406</td>\n",
              "      <td>0.604264</td>\n",
              "      <td>0.609921</td>\n",
              "      <td>0.006640</td>\n",
              "      <td>154</td>\n",
              "    </tr>\n",
              "    <tr>\n",
              "      <th>1</th>\n",
              "      <td>0.659880</td>\n",
              "      <td>0.072437</td>\n",
              "      <td>0.027671</td>\n",
              "      <td>0.011718</td>\n",
              "      <td>gini</td>\n",
              "      <td>2</td>\n",
              "      <td>auto</td>\n",
              "      <td>20</td>\n",
              "      <td>{'criterion': 'gini', 'max_depth': 2, 'max_fea...</td>\n",
              "      <td>0.605226</td>\n",
              "      <td>0.615235</td>\n",
              "      <td>0.606915</td>\n",
              "      <td>0.592097</td>\n",
              "      <td>0.598284</td>\n",
              "      <td>0.603551</td>\n",
              "      <td>0.007869</td>\n",
              "      <td>175</td>\n",
              "    </tr>\n",
              "    <tr>\n",
              "      <th>2</th>\n",
              "      <td>1.934053</td>\n",
              "      <td>0.083763</td>\n",
              "      <td>0.089804</td>\n",
              "      <td>0.036185</td>\n",
              "      <td>gini</td>\n",
              "      <td>2</td>\n",
              "      <td>auto</td>\n",
              "      <td>50</td>\n",
              "      <td>{'criterion': 'gini', 'max_depth': 2, 'max_fea...</td>\n",
              "      <td>0.605096</td>\n",
              "      <td>0.614325</td>\n",
              "      <td>0.605356</td>\n",
              "      <td>0.592357</td>\n",
              "      <td>0.602444</td>\n",
              "      <td>0.603915</td>\n",
              "      <td>0.007037</td>\n",
              "      <td>172</td>\n",
              "    </tr>\n",
              "    <tr>\n",
              "      <th>3</th>\n",
              "      <td>2.092487</td>\n",
              "      <td>0.720530</td>\n",
              "      <td>0.071961</td>\n",
              "      <td>0.029324</td>\n",
              "      <td>gini</td>\n",
              "      <td>2</td>\n",
              "      <td>auto</td>\n",
              "      <td>100</td>\n",
              "      <td>{'criterion': 'gini', 'max_depth': 2, 'max_fea...</td>\n",
              "      <td>0.610295</td>\n",
              "      <td>0.616145</td>\n",
              "      <td>0.612115</td>\n",
              "      <td>0.599636</td>\n",
              "      <td>0.602704</td>\n",
              "      <td>0.608179</td>\n",
              "      <td>0.006105</td>\n",
              "      <td>160</td>\n",
              "    </tr>\n",
              "    <tr>\n",
              "      <th>4</th>\n",
              "      <td>2.597887</td>\n",
              "      <td>0.015999</td>\n",
              "      <td>0.086152</td>\n",
              "      <td>0.002879</td>\n",
              "      <td>gini</td>\n",
              "      <td>2</td>\n",
              "      <td>auto</td>\n",
              "      <td>150</td>\n",
              "      <td>{'criterion': 'gini', 'max_depth': 2, 'max_fea...</td>\n",
              "      <td>0.609905</td>\n",
              "      <td>0.617444</td>\n",
              "      <td>0.614455</td>\n",
              "      <td>0.600546</td>\n",
              "      <td>0.605044</td>\n",
              "      <td>0.609479</td>\n",
              "      <td>0.006130</td>\n",
              "      <td>157</td>\n",
              "    </tr>\n",
              "    <tr>\n",
              "      <th>...</th>\n",
              "      <td>...</td>\n",
              "      <td>...</td>\n",
              "      <td>...</td>\n",
              "      <td>...</td>\n",
              "      <td>...</td>\n",
              "      <td>...</td>\n",
              "      <td>...</td>\n",
              "      <td>...</td>\n",
              "      <td>...</td>\n",
              "      <td>...</td>\n",
              "      <td>...</td>\n",
              "      <td>...</td>\n",
              "      <td>...</td>\n",
              "      <td>...</td>\n",
              "      <td>...</td>\n",
              "      <td>...</td>\n",
              "      <td>...</td>\n",
              "    </tr>\n",
              "    <tr>\n",
              "      <th>175</th>\n",
              "      <td>1.146074</td>\n",
              "      <td>0.016531</td>\n",
              "      <td>0.014929</td>\n",
              "      <td>0.000127</td>\n",
              "      <td>entropy</td>\n",
              "      <td>12</td>\n",
              "      <td>log2</td>\n",
              "      <td>10</td>\n",
              "      <td>{'criterion': 'entropy', 'max_depth': 12, 'max...</td>\n",
              "      <td>0.719225</td>\n",
              "      <td>0.723125</td>\n",
              "      <td>0.716236</td>\n",
              "      <td>0.716236</td>\n",
              "      <td>0.713209</td>\n",
              "      <td>0.717606</td>\n",
              "      <td>0.003352</td>\n",
              "      <td>34</td>\n",
              "    </tr>\n",
              "    <tr>\n",
              "      <th>176</th>\n",
              "      <td>2.303707</td>\n",
              "      <td>0.027316</td>\n",
              "      <td>0.027417</td>\n",
              "      <td>0.000319</td>\n",
              "      <td>entropy</td>\n",
              "      <td>12</td>\n",
              "      <td>log2</td>\n",
              "      <td>20</td>\n",
              "      <td>{'criterion': 'entropy', 'max_depth': 12, 'max...</td>\n",
              "      <td>0.724815</td>\n",
              "      <td>0.728324</td>\n",
              "      <td>0.722215</td>\n",
              "      <td>0.721565</td>\n",
              "      <td>0.722309</td>\n",
              "      <td>0.723846</td>\n",
              "      <td>0.002499</td>\n",
              "      <td>19</td>\n",
              "    </tr>\n",
              "    <tr>\n",
              "      <th>177</th>\n",
              "      <td>5.693848</td>\n",
              "      <td>0.015307</td>\n",
              "      <td>0.067720</td>\n",
              "      <td>0.001165</td>\n",
              "      <td>entropy</td>\n",
              "      <td>12</td>\n",
              "      <td>log2</td>\n",
              "      <td>50</td>\n",
              "      <td>{'criterion': 'entropy', 'max_depth': 12, 'max...</td>\n",
              "      <td>0.725855</td>\n",
              "      <td>0.729624</td>\n",
              "      <td>0.726245</td>\n",
              "      <td>0.728194</td>\n",
              "      <td>0.726729</td>\n",
              "      <td>0.727329</td>\n",
              "      <td>0.001395</td>\n",
              "      <td>13</td>\n",
              "    </tr>\n",
              "    <tr>\n",
              "      <th>178</th>\n",
              "      <td>11.252425</td>\n",
              "      <td>0.047541</td>\n",
              "      <td>0.128115</td>\n",
              "      <td>0.001241</td>\n",
              "      <td>entropy</td>\n",
              "      <td>12</td>\n",
              "      <td>log2</td>\n",
              "      <td>100</td>\n",
              "      <td>{'criterion': 'entropy', 'max_depth': 12, 'max...</td>\n",
              "      <td>0.729104</td>\n",
              "      <td>0.731184</td>\n",
              "      <td>0.726505</td>\n",
              "      <td>0.725855</td>\n",
              "      <td>0.729849</td>\n",
              "      <td>0.728499</td>\n",
              "      <td>0.002018</td>\n",
              "      <td>7</td>\n",
              "    </tr>\n",
              "    <tr>\n",
              "      <th>179</th>\n",
              "      <td>17.130040</td>\n",
              "      <td>0.485273</td>\n",
              "      <td>0.190595</td>\n",
              "      <td>0.001633</td>\n",
              "      <td>entropy</td>\n",
              "      <td>12</td>\n",
              "      <td>log2</td>\n",
              "      <td>150</td>\n",
              "      <td>{'criterion': 'entropy', 'max_depth': 12, 'max...</td>\n",
              "      <td>0.726635</td>\n",
              "      <td>0.729624</td>\n",
              "      <td>0.726115</td>\n",
              "      <td>0.724425</td>\n",
              "      <td>0.728939</td>\n",
              "      <td>0.727148</td>\n",
              "      <td>0.001902</td>\n",
              "      <td>16</td>\n",
              "    </tr>\n",
              "  </tbody>\n",
              "</table>\n",
              "<p>180 rows × 17 columns</p>\n",
              "</div>\n",
              "      <button class=\"colab-df-convert\" onclick=\"convertToInteractive('df-226bda64-8d1a-4a65-8cde-e05660054788')\"\n",
              "              title=\"Convert this dataframe to an interactive table.\"\n",
              "              style=\"display:none;\">\n",
              "        \n",
              "  <svg xmlns=\"http://www.w3.org/2000/svg\" height=\"24px\"viewBox=\"0 0 24 24\"\n",
              "       width=\"24px\">\n",
              "    <path d=\"M0 0h24v24H0V0z\" fill=\"none\"/>\n",
              "    <path d=\"M18.56 5.44l.94 2.06.94-2.06 2.06-.94-2.06-.94-.94-2.06-.94 2.06-2.06.94zm-11 1L8.5 8.5l.94-2.06 2.06-.94-2.06-.94L8.5 2.5l-.94 2.06-2.06.94zm10 10l.94 2.06.94-2.06 2.06-.94-2.06-.94-.94-2.06-.94 2.06-2.06.94z\"/><path d=\"M17.41 7.96l-1.37-1.37c-.4-.4-.92-.59-1.43-.59-.52 0-1.04.2-1.43.59L10.3 9.45l-7.72 7.72c-.78.78-.78 2.05 0 2.83L4 21.41c.39.39.9.59 1.41.59.51 0 1.02-.2 1.41-.59l7.78-7.78 2.81-2.81c.8-.78.8-2.07 0-2.86zM5.41 20L4 18.59l7.72-7.72 1.47 1.35L5.41 20z\"/>\n",
              "  </svg>\n",
              "      </button>\n",
              "      \n",
              "  <style>\n",
              "    .colab-df-container {\n",
              "      display:flex;\n",
              "      flex-wrap:wrap;\n",
              "      gap: 12px;\n",
              "    }\n",
              "\n",
              "    .colab-df-convert {\n",
              "      background-color: #E8F0FE;\n",
              "      border: none;\n",
              "      border-radius: 50%;\n",
              "      cursor: pointer;\n",
              "      display: none;\n",
              "      fill: #1967D2;\n",
              "      height: 32px;\n",
              "      padding: 0 0 0 0;\n",
              "      width: 32px;\n",
              "    }\n",
              "\n",
              "    .colab-df-convert:hover {\n",
              "      background-color: #E2EBFA;\n",
              "      box-shadow: 0px 1px 2px rgba(60, 64, 67, 0.3), 0px 1px 3px 1px rgba(60, 64, 67, 0.15);\n",
              "      fill: #174EA6;\n",
              "    }\n",
              "\n",
              "    [theme=dark] .colab-df-convert {\n",
              "      background-color: #3B4455;\n",
              "      fill: #D2E3FC;\n",
              "    }\n",
              "\n",
              "    [theme=dark] .colab-df-convert:hover {\n",
              "      background-color: #434B5C;\n",
              "      box-shadow: 0px 1px 3px 1px rgba(0, 0, 0, 0.15);\n",
              "      filter: drop-shadow(0px 1px 2px rgba(0, 0, 0, 0.3));\n",
              "      fill: #FFFFFF;\n",
              "    }\n",
              "  </style>\n",
              "\n",
              "      <script>\n",
              "        const buttonEl =\n",
              "          document.querySelector('#df-226bda64-8d1a-4a65-8cde-e05660054788 button.colab-df-convert');\n",
              "        buttonEl.style.display =\n",
              "          google.colab.kernel.accessAllowed ? 'block' : 'none';\n",
              "\n",
              "        async function convertToInteractive(key) {\n",
              "          const element = document.querySelector('#df-226bda64-8d1a-4a65-8cde-e05660054788');\n",
              "          const dataTable =\n",
              "            await google.colab.kernel.invokeFunction('convertToInteractive',\n",
              "                                                     [key], {});\n",
              "          if (!dataTable) return;\n",
              "\n",
              "          const docLinkHtml = 'Like what you see? Visit the ' +\n",
              "            '<a target=\"_blank\" href=https://colab.research.google.com/notebooks/data_table.ipynb>data table notebook</a>'\n",
              "            + ' to learn more about interactive tables.';\n",
              "          element.innerHTML = '';\n",
              "          dataTable['output_type'] = 'display_data';\n",
              "          await google.colab.output.renderOutput(dataTable, element);\n",
              "          const docLink = document.createElement('div');\n",
              "          docLink.innerHTML = docLinkHtml;\n",
              "          element.appendChild(docLink);\n",
              "        }\n",
              "      </script>\n",
              "    </div>\n",
              "  </div>\n",
              "  "
            ]
          },
          "metadata": {},
          "execution_count": 57
        }
      ]
    },
    {
      "cell_type": "code",
      "source": [
        "cv.best_params_"
      ],
      "metadata": {
        "colab": {
          "base_uri": "https://localhost:8080/"
        },
        "id": "7y3Op2x912DC",
        "outputId": "dcbce2ea-6054-4c68-9432-6f92b6b2b391"
      },
      "execution_count": null,
      "outputs": [
        {
          "output_type": "execute_result",
          "data": {
            "text/plain": [
              "{'criterion': 'gini',\n",
              " 'max_depth': 12,\n",
              " 'max_features': 'auto',\n",
              " 'n_estimators': 150}"
            ]
          },
          "metadata": {},
          "execution_count": 58
        }
      ]
    },
    {
      "cell_type": "code",
      "source": [
        "#clf = RandomForestClassifier(**cv.best_params_)\n",
        "clf = RandomForestClassifier(max_depth=12, n_estimators=150)\n",
        "clf.fit(X_train, y_train)"
      ],
      "metadata": {
        "colab": {
          "base_uri": "https://localhost:8080/"
        },
        "id": "fV48ZbquajRx",
        "outputId": "6d4bc0d8-db45-4032-f935-2a7cfc8de261"
      },
      "execution_count": null,
      "outputs": [
        {
          "output_type": "execute_result",
          "data": {
            "text/plain": [
              "RandomForestClassifier(max_depth=12, n_estimators=150)"
            ]
          },
          "metadata": {},
          "execution_count": 59
        }
      ]
    },
    {
      "cell_type": "code",
      "source": [
        "y_pred = clf.predict(X_test)"
      ],
      "metadata": {
        "id": "kZqG8jhbakhX"
      },
      "execution_count": null,
      "outputs": []
    },
    {
      "cell_type": "markdown",
      "source": [
        "O resultado do modelo foi uma precisão próxima a 73%, um valor que atende os requisitos do projeto"
      ],
      "metadata": {
        "id": "m1KAaF1ckrLJ"
      }
    },
    {
      "cell_type": "code",
      "source": [
        "print(\"Accuracy:\",metrics.accuracy_score(y_test, y_pred))"
      ],
      "metadata": {
        "colab": {
          "base_uri": "https://localhost:8080/"
        },
        "id": "jUHJodNhaltK",
        "outputId": "c674aa7e-a620-4023-cd5d-175073ab5569"
      },
      "execution_count": null,
      "outputs": [
        {
          "output_type": "stream",
          "name": "stdout",
          "text": [
            "Accuracy: 0.7318290527191432\n"
          ]
        }
      ]
    },
    {
      "cell_type": "markdown",
      "source": [
        "##**5. Evaluation (Validação) e Resultados**\n"
      ],
      "metadata": {
        "id": "F1UAOjMXMfrg"
      }
    },
    {
      "cell_type": "markdown",
      "source": [
        "Para validar a precisão do teste foi realizada uma validação cruzada com K-Fold, que retornou resultados dentro da faixa esperada e muito próxima a precisão do modelo usando o conjunto de dados base, indicando que ele é estável"
      ],
      "metadata": {
        "id": "ZUUDSTeBkwgU"
      }
    },
    {
      "cell_type": "code",
      "source": [
        "cv = RepeatedStratifiedKFold(n_splits=5, n_repeats=3, random_state=1)\n",
        "\n",
        "scores = cross_val_score(clf, X_train, y_train, scoring='accuracy', cv=cv, n_jobs=-1)\n",
        "\n",
        "print('Precisão média da validação cruzada: %.2f' % (np.mean(scores)*100))"
      ],
      "metadata": {
        "id": "TnQqMo0JeMe-"
      },
      "execution_count": null,
      "outputs": []
    },
    {
      "cell_type": "markdown",
      "source": [
        "O último fator importante é que as confusões se concentraram majoritariamente nos casos de Bad/Standard e Good/Standard, os casos extremos Bad/Good corresponderam apenas a cerca de 2% dos valores"
      ],
      "metadata": {
        "id": "PTCIRnyFlArd"
      }
    },
    {
      "cell_type": "code",
      "source": [
        "plt.plot(scores,label=\"Score\")\n",
        "plt.xlabel(\"ID\")\n",
        "plt.ylabel(\"Score do teste\")\n",
        "plt.axhline(y=np.mean(scores),color='red',label=\"Avg\")\n",
        "plt.legend()\n",
        "plt.show()"
      ],
      "metadata": {
        "colab": {
          "base_uri": "https://localhost:8080/",
          "height": 279
        },
        "id": "BQshAHPr4MpA",
        "outputId": "02124530-ec9b-4603-83de-4b7e9997a382"
      },
      "execution_count": null,
      "outputs": [
        {
          "output_type": "display_data",
          "data": {
            "text/plain": [
              "<Figure size 432x288 with 1 Axes>"
            ],
            "image/png": "[encoded data removed]"
          },
          "metadata": {
            "needs_background": "light"
          }
        }
      ]
    },
    {
      "cell_type": "code",
      "source": [
        "confusion_matrix = metrics.confusion_matrix(y_test, y_pred)"
      ],
      "metadata": {
        "id": "msz864zagIat"
      },
      "execution_count": null,
      "outputs": []
    },
    {
      "cell_type": "code",
      "source": [
        "labels=[\"Bad\",\"Standard\",\"Good\"]"
      ],
      "metadata": {
        "id": "1c1Yhcj_hfOF"
      },
      "execution_count": null,
      "outputs": []
    },
    {
      "cell_type": "code",
      "source": [
        "df_cm = pd.DataFrame(confusion_matrix, index = [i for i in labels],\n",
        "                  columns = [i for i in labels])\n",
        "plt.figure(figsize = (10,10))\n",
        "sns.heatmap(df_cm, annot=True,fmt='g')"
      ],
      "metadata": {
        "id": "tSuKMLDIhdBm"
      },
      "execution_count": null,
      "outputs": []
    },
    {
      "cell_type": "code",
      "source": [
        "X_Test_visualization = pd.DataFrame(X_test)\n",
        "X_Test_visualization['Credit_Score'] = y_pred.astype(np.int32)"
      ],
      "metadata": {
        "id": "2n4yxJj_LWer"
      },
      "execution_count": null,
      "outputs": []
    },
    {
      "cell_type": "code",
      "source": [
        "X_Test_visualization.columns = columns"
      ],
      "metadata": {
        "id": "_qt5uR0TMLtK"
      },
      "execution_count": null,
      "outputs": []
    },
    {
      "cell_type": "code",
      "source": [
        "df_grouped = X_Test_visualization.groupby('Credit_Score').median()"
      ],
      "metadata": {
        "id": "finAi5nIOYyh"
      },
      "execution_count": null,
      "outputs": []
    },
    {
      "cell_type": "code",
      "source": [
        "fig, axes = plt.subplots(nrows=1, ncols=5,figsize=(20,3))\n",
        "for i in range(5):\n",
        "  df_grouped.iloc[:,i].plot(x=\"Credit_Score\",y=df_grouped.iloc[:,i].name,label=df_grouped.iloc[:,i].name,ax=axes[i])\n",
        "  axes[i].legend(loc=\"upper right\")"
      ],
      "metadata": {
        "id": "h8jAFEZsS8R-"
      },
      "execution_count": null,
      "outputs": []
    },
    {
      "cell_type": "code",
      "source": [
        "fig, axes = plt.subplots(nrows=1, ncols=5,figsize=(20,3))\n",
        "for i in range(5,10):\n",
        "  df_grouped.iloc[:,i].plot(x=\"Credit_Score\",y=df_grouped.iloc[:,i].name,label=df_grouped.iloc[:,i].name,ax=axes[i-5])\n",
        "  axes[i-5].legend(loc=\"upper right\")"
      ],
      "metadata": {
        "id": "AA70pWVaZJDF"
      },
      "execution_count": null,
      "outputs": []
    },
    {
      "cell_type": "code",
      "source": [
        "fig, axes = plt.subplots(nrows=1, ncols=5,figsize=(20,3))\n",
        "for i in range(10,15):\n",
        "  df_grouped.iloc[:,i].plot(x=\"Credit_Score\",y=df_grouped.iloc[:,i].name,label=df_grouped.iloc[:,i].name,ax=axes[i-10])\n",
        "  axes[i-10].legend(loc=\"upper right\")"
      ],
      "metadata": {
        "colab": {
          "base_uri": "https://localhost:8080/",
          "height": 226
        },
        "id": "etQcf1jEZV6h",
        "outputId": "f7145654-3861-4902-9bcb-145677b8ab5a"
      },
      "execution_count": null,
      "outputs": [
        {
          "output_type": "display_data",
          "data": {
            "text/plain": [
              "<Figure size 1440x216 with 5 Axes>"
            ],
            "image/png": "[encoded data removed]"
          },
          "metadata": {
            "needs_background": "light"
          }
        }
      ]
    },
    {
      "cell_type": "code",
      "source": [
        "fig, axes = plt.subplots(nrows=1, ncols=5,figsize=(20,3))\n",
        "for i in range(15,20):\n",
        "  df_grouped.iloc[:,i].plot(x=\"Credit_Score\",y=df_grouped.iloc[:,i].name,label=df_grouped.iloc[:,i].name,ax=axes[i-15])\n",
        "  axes[i-15].legend(loc=\"upper right\")"
      ],
      "metadata": {
        "colab": {
          "base_uri": "https://localhost:8080/",
          "height": 226
        },
        "id": "L5Yt7wUJZdRB",
        "outputId": "8418e017-2959-42ba-8348-4dbfc158e906"
      },
      "execution_count": null,
      "outputs": [
        {
          "output_type": "display_data",
          "data": {
            "text/plain": [
              "<Figure size 1440x216 with 5 Axes>"
            ],
            "image/png": "[encoded data removed]"
          },
          "metadata": {
            "needs_background": "light"
          }
        }
      ]
    },
    {
      "cell_type": "code",
      "source": [
        "fig, axes = plt.subplots(nrows=1, ncols=3,figsize=(20,3))\n",
        "for i in range(20,23):\n",
        "  df_grouped.iloc[:,i].plot(x=\"Credit_Score\",y=df_grouped.iloc[:,i].name,label=df_grouped.iloc[:,i].name,ax=axes[i-20])\n",
        "  axes[i-20].legend(loc=\"upper right\")"
      ],
      "metadata": {
        "colab": {
          "base_uri": "https://localhost:8080/",
          "height": 226
        },
        "id": "-XMDaY-cZnWT",
        "outputId": "457dac16-3e3b-4b51-e4d9-cf116adde4a9"
      },
      "execution_count": null,
      "outputs": [
        {
          "data": {
            "image/png": "[encoded data removed]",
            "text/plain": [
              "<Figure size 1440x216 with 3 Axes>"
            ]
          },
          "metadata": {},
          "output_type": "display_data"
        }
      ]
    }
  ]
}
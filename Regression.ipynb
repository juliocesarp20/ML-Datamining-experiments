{
  "nbformat": 4,
  "nbformat_minor": 0,
  "metadata": {
    "colab": {
      "provenance": []
    },
    "kernelspec": {
      "name": "python3",
      "display_name": "Python 3"
    },
    "language_info": {
      "name": "python"
    }
  },
  "cells": [
    {
      "cell_type": "markdown",
      "source": [
        "# **Proposta de Trabalho 4 - Mineração de dados**\n",
        "\n",
        "### **Professor:** Wagner Meira Jr.\n",
        "### **Aluno:** Júlio César de Paula Ferreira\n",
        "### **Matrícula:** 2020054609\n",
        "\n",
        "\n",
        "### **Tema:** Regressão - Previsão de preço de imóveis\n",
        "### **Base de dados:** (https://www.kaggle.com/code/statchaitya/king-county-house-sales-prediction)\n"
      ],
      "metadata": {
        "id": "2z-yJF6TObCw"
      }
    },
    {
      "cell_type": "code",
      "source": [
        "#Bibliotecas usadas no projeto\n",
        "import pandas as pd\n",
        "import numpy as np\n",
        "import matplotlib.pyplot as plt\n",
        "import scipy\n",
        "import seaborn as sns\n",
        "from sklearn.model_selection import train_test_split\n",
        "from sklearn.ensemble import RandomForestRegressor,VotingRegressor\n",
        "from sklearn.neighbors import KNeighborsRegressor\n",
        "import sklearn.linear_model as lm\n",
        "from sklearn import metrics\n",
        "from sklearn.decomposition import PCA\n",
        "from sklearn.model_selection import GridSearchCV\n",
        "from sklearn.preprocessing import MinMaxScaler\n",
        "import re\n",
        "!pip install haversine\n",
        "from haversine import haversine\n",
        "from keras.models import Sequential\n",
        "from keras.layers import Activation, Dropout, Dense\n",
        "from keras.optimizers import RMSprop\n",
        "from keras.callbacks import EarlyStopping"
      ],
      "metadata": {
        "id": "EK8yf-vgJqkL",
        "colab": {
          "base_uri": "https://localhost:8080/"
        },
        "outputId": "4c5880b5-89c7-43bd-9b4f-5ef4a0122a51"
      },
      "execution_count": null,
      "outputs": [
        {
          "output_type": "stream",
          "name": "stdout",
          "text": [
            "Looking in indexes: https://pypi.org/simple, https://us-python.pkg.dev/colab-wheels/public/simple/\n",
            "Requirement already satisfied: haversine in /usr/local/lib/python3.8/dist-packages (2.7.0)\n"
          ]
        }
      ]
    },
    {
      "cell_type": "markdown",
      "source": [
        "##**2. Data understanding (Entendimento dos dados)**\n"
      ],
      "metadata": {
        "id": "ckPkUM8AJeMl"
      }
    },
    {
      "cell_type": "markdown",
      "source": [
        "Descrição e filtragem da base de dados, são analisados 28 atributos e 100000 entradas de dados"
      ],
      "metadata": {
        "id": "qb0iBWmqBKqf"
      }
    },
    {
      "cell_type": "code",
      "source": [
        "#Carregando a base de dados"
      ],
      "metadata": {
        "id": "j1fDgQ9gJ1EV"
      },
      "execution_count": null,
      "outputs": []
    },
    {
      "cell_type": "code",
      "source": [
        "df = pd.read_csv('train.csv',sep=',')"
      ],
      "metadata": {
        "id": "OeLR9RnhOYxk"
      },
      "execution_count": null,
      "outputs": []
    },
    {
      "cell_type": "code",
      "source": [
        "df.info()"
      ],
      "metadata": {
        "colab": {
          "base_uri": "https://localhost:8080/"
        },
        "id": "dKctiRHZzWNy",
        "outputId": "cd52d229-ee9e-4414-ca06-b31025fdb6e1"
      },
      "execution_count": null,
      "outputs": [
        {
          "output_type": "stream",
          "name": "stdout",
          "text": [
            "<class 'pandas.core.frame.DataFrame'>\n",
            "RangeIndex: 21613 entries, 0 to 21612\n",
            "Data columns (total 21 columns):\n",
            " #   Column         Non-Null Count  Dtype  \n",
            "---  ------         --------------  -----  \n",
            " 0   id             21613 non-null  int64  \n",
            " 1   date           21613 non-null  object \n",
            " 2   price          21613 non-null  float64\n",
            " 3   bedrooms       21613 non-null  int64  \n",
            " 4   bathrooms      21613 non-null  float64\n",
            " 5   sqft_living    21613 non-null  int64  \n",
            " 6   sqft_lot       21613 non-null  int64  \n",
            " 7   floors         21613 non-null  float64\n",
            " 8   waterfront     21613 non-null  int64  \n",
            " 9   view           21613 non-null  int64  \n",
            " 10  condition      21613 non-null  int64  \n",
            " 11  grade          21613 non-null  int64  \n",
            " 12  sqft_above     21613 non-null  int64  \n",
            " 13  sqft_basement  21613 non-null  int64  \n",
            " 14  yr_built       21613 non-null  int64  \n",
            " 15  yr_renovated   21613 non-null  int64  \n",
            " 16  zipcode        21613 non-null  int64  \n",
            " 17  lat            21613 non-null  float64\n",
            " 18  long           21613 non-null  float64\n",
            " 19  sqft_living15  21613 non-null  int64  \n",
            " 20  sqft_lot15     21613 non-null  int64  \n",
            "dtypes: float64(5), int64(15), object(1)\n",
            "memory usage: 3.5+ MB\n"
          ]
        }
      ]
    },
    {
      "cell_type": "code",
      "source": [
        "df.head()"
      ],
      "metadata": {
        "colab": {
          "base_uri": "https://localhost:8080/",
          "height": 299
        },
        "id": "Er_zQT1CfeQf",
        "outputId": "59cd0d15-7d1a-46a6-83ea-007a455c984f"
      },
      "execution_count": null,
      "outputs": [
        {
          "output_type": "execute_result",
          "data": {
            "text/plain": [
              "           id             date     price  bedrooms  bathrooms  sqft_living  \\\n",
              "0  7129300520  20141013T000000  221900.0         3       1.00         1180   \n",
              "1  6414100192  20141209T000000  538000.0         3       2.25         2570   \n",
              "2  5631500400  20150225T000000  180000.0         2       1.00          770   \n",
              "3  2487200875  20141209T000000  604000.0         4       3.00         1960   \n",
              "4  1954400510  20150218T000000  510000.0         3       2.00         1680   \n",
              "\n",
              "   sqft_lot  floors  waterfront  view  ...  grade  sqft_above  sqft_basement  \\\n",
              "0      5650     1.0           0     0  ...      7        1180              0   \n",
              "1      7242     2.0           0     0  ...      7        2170            400   \n",
              "2     10000     1.0           0     0  ...      6         770              0   \n",
              "3      5000     1.0           0     0  ...      7        1050            910   \n",
              "4      8080     1.0           0     0  ...      8        1680              0   \n",
              "\n",
              "   yr_built  yr_renovated  zipcode      lat     long  sqft_living15  \\\n",
              "0      1955             0    98178  47.5112 -122.257           1340   \n",
              "1      1951          1991    98125  47.7210 -122.319           1690   \n",
              "2      1933             0    98028  47.7379 -122.233           2720   \n",
              "3      1965             0    98136  47.5208 -122.393           1360   \n",
              "4      1987             0    98074  47.6168 -122.045           1800   \n",
              "\n",
              "   sqft_lot15  \n",
              "0        5650  \n",
              "1        7639  \n",
              "2        8062  \n",
              "3        5000  \n",
              "4        7503  \n",
              "\n",
              "[5 rows x 21 columns]"
            ],
            "text/html": [
              "\n",
              "  <div id=\"df-0f8cf8a9-c243-4bb7-bf55-41dc4d09a535\">\n",
              "    <div class=\"colab-df-container\">\n",
              "      <div>\n",
              "<style scoped>\n",
              "    .dataframe tbody tr th:only-of-type {\n",
              "        vertical-align: middle;\n",
              "    }\n",
              "\n",
              "    .dataframe tbody tr th {\n",
              "        vertical-align: top;\n",
              "    }\n",
              "\n",
              "    .dataframe thead th {\n",
              "        text-align: right;\n",
              "    }\n",
              "</style>\n",
              "<table border=\"1\" class=\"dataframe\">\n",
              "  <thead>\n",
              "    <tr style=\"text-align: right;\">\n",
              "      <th></th>\n",
              "      <th>id</th>\n",
              "      <th>date</th>\n",
              "      <th>price</th>\n",
              "      <th>bedrooms</th>\n",
              "      <th>bathrooms</th>\n",
              "      <th>sqft_living</th>\n",
              "      <th>sqft_lot</th>\n",
              "      <th>floors</th>\n",
              "      <th>waterfront</th>\n",
              "      <th>view</th>\n",
              "      <th>...</th>\n",
              "      <th>grade</th>\n",
              "      <th>sqft_above</th>\n",
              "      <th>sqft_basement</th>\n",
              "      <th>yr_built</th>\n",
              "      <th>yr_renovated</th>\n",
              "      <th>zipcode</th>\n",
              "      <th>lat</th>\n",
              "      <th>long</th>\n",
              "      <th>sqft_living15</th>\n",
              "      <th>sqft_lot15</th>\n",
              "    </tr>\n",
              "  </thead>\n",
              "  <tbody>\n",
              "    <tr>\n",
              "      <th>0</th>\n",
              "      <td>7129300520</td>\n",
              "      <td>20141013T000000</td>\n",
              "      <td>221900.0</td>\n",
              "      <td>3</td>\n",
              "      <td>1.00</td>\n",
              "      <td>1180</td>\n",
              "      <td>5650</td>\n",
              "      <td>1.0</td>\n",
              "      <td>0</td>\n",
              "      <td>0</td>\n",
              "      <td>...</td>\n",
              "      <td>7</td>\n",
              "      <td>1180</td>\n",
              "      <td>0</td>\n",
              "      <td>1955</td>\n",
              "      <td>0</td>\n",
              "      <td>98178</td>\n",
              "      <td>47.5112</td>\n",
              "      <td>-122.257</td>\n",
              "      <td>1340</td>\n",
              "      <td>5650</td>\n",
              "    </tr>\n",
              "    <tr>\n",
              "      <th>1</th>\n",
              "      <td>6414100192</td>\n",
              "      <td>20141209T000000</td>\n",
              "      <td>538000.0</td>\n",
              "      <td>3</td>\n",
              "      <td>2.25</td>\n",
              "      <td>2570</td>\n",
              "      <td>7242</td>\n",
              "      <td>2.0</td>\n",
              "      <td>0</td>\n",
              "      <td>0</td>\n",
              "      <td>...</td>\n",
              "      <td>7</td>\n",
              "      <td>2170</td>\n",
              "      <td>400</td>\n",
              "      <td>1951</td>\n",
              "      <td>1991</td>\n",
              "      <td>98125</td>\n",
              "      <td>47.7210</td>\n",
              "      <td>-122.319</td>\n",
              "      <td>1690</td>\n",
              "      <td>7639</td>\n",
              "    </tr>\n",
              "    <tr>\n",
              "      <th>2</th>\n",
              "      <td>5631500400</td>\n",
              "      <td>20150225T000000</td>\n",
              "      <td>180000.0</td>\n",
              "      <td>2</td>\n",
              "      <td>1.00</td>\n",
              "      <td>770</td>\n",
              "      <td>10000</td>\n",
              "      <td>1.0</td>\n",
              "      <td>0</td>\n",
              "      <td>0</td>\n",
              "      <td>...</td>\n",
              "      <td>6</td>\n",
              "      <td>770</td>\n",
              "      <td>0</td>\n",
              "      <td>1933</td>\n",
              "      <td>0</td>\n",
              "      <td>98028</td>\n",
              "      <td>47.7379</td>\n",
              "      <td>-122.233</td>\n",
              "      <td>2720</td>\n",
              "      <td>8062</td>\n",
              "    </tr>\n",
              "    <tr>\n",
              "      <th>3</th>\n",
              "      <td>2487200875</td>\n",
              "      <td>20141209T000000</td>\n",
              "      <td>604000.0</td>\n",
              "      <td>4</td>\n",
              "      <td>3.00</td>\n",
              "      <td>1960</td>\n",
              "      <td>5000</td>\n",
              "      <td>1.0</td>\n",
              "      <td>0</td>\n",
              "      <td>0</td>\n",
              "      <td>...</td>\n",
              "      <td>7</td>\n",
              "      <td>1050</td>\n",
              "      <td>910</td>\n",
              "      <td>1965</td>\n",
              "      <td>0</td>\n",
              "      <td>98136</td>\n",
              "      <td>47.5208</td>\n",
              "      <td>-122.393</td>\n",
              "      <td>1360</td>\n",
              "      <td>5000</td>\n",
              "    </tr>\n",
              "    <tr>\n",
              "      <th>4</th>\n",
              "      <td>1954400510</td>\n",
              "      <td>20150218T000000</td>\n",
              "      <td>510000.0</td>\n",
              "      <td>3</td>\n",
              "      <td>2.00</td>\n",
              "      <td>1680</td>\n",
              "      <td>8080</td>\n",
              "      <td>1.0</td>\n",
              "      <td>0</td>\n",
              "      <td>0</td>\n",
              "      <td>...</td>\n",
              "      <td>8</td>\n",
              "      <td>1680</td>\n",
              "      <td>0</td>\n",
              "      <td>1987</td>\n",
              "      <td>0</td>\n",
              "      <td>98074</td>\n",
              "      <td>47.6168</td>\n",
              "      <td>-122.045</td>\n",
              "      <td>1800</td>\n",
              "      <td>7503</td>\n",
              "    </tr>\n",
              "  </tbody>\n",
              "</table>\n",
              "<p>5 rows × 21 columns</p>\n",
              "</div>\n",
              "      <button class=\"colab-df-convert\" onclick=\"convertToInteractive('df-0f8cf8a9-c243-4bb7-bf55-41dc4d09a535')\"\n",
              "              title=\"Convert this dataframe to an interactive table.\"\n",
              "              style=\"display:none;\">\n",
              "        \n",
              "  <svg xmlns=\"http://www.w3.org/2000/svg\" height=\"24px\"viewBox=\"0 0 24 24\"\n",
              "       width=\"24px\">\n",
              "    <path d=\"M0 0h24v24H0V0z\" fill=\"none\"/>\n",
              "    <path d=\"M18.56 5.44l.94 2.06.94-2.06 2.06-.94-2.06-.94-.94-2.06-.94 2.06-2.06.94zm-11 1L8.5 8.5l.94-2.06 2.06-.94-2.06-.94L8.5 2.5l-.94 2.06-2.06.94zm10 10l.94 2.06.94-2.06 2.06-.94-2.06-.94-.94-2.06-.94 2.06-2.06.94z\"/><path d=\"M17.41 7.96l-1.37-1.37c-.4-.4-.92-.59-1.43-.59-.52 0-1.04.2-1.43.59L10.3 9.45l-7.72 7.72c-.78.78-.78 2.05 0 2.83L4 21.41c.39.39.9.59 1.41.59.51 0 1.02-.2 1.41-.59l7.78-7.78 2.81-2.81c.8-.78.8-2.07 0-2.86zM5.41 20L4 18.59l7.72-7.72 1.47 1.35L5.41 20z\"/>\n",
              "  </svg>\n",
              "      </button>\n",
              "      \n",
              "  <style>\n",
              "    .colab-df-container {\n",
              "      display:flex;\n",
              "      flex-wrap:wrap;\n",
              "      gap: 12px;\n",
              "    }\n",
              "\n",
              "    .colab-df-convert {\n",
              "      background-color: #E8F0FE;\n",
              "      border: none;\n",
              "      border-radius: 50%;\n",
              "      cursor: pointer;\n",
              "      display: none;\n",
              "      fill: #1967D2;\n",
              "      height: 32px;\n",
              "      padding: 0 0 0 0;\n",
              "      width: 32px;\n",
              "    }\n",
              "\n",
              "    .colab-df-convert:hover {\n",
              "      background-color: #E2EBFA;\n",
              "      box-shadow: 0px 1px 2px rgba(60, 64, 67, 0.3), 0px 1px 3px 1px rgba(60, 64, 67, 0.15);\n",
              "      fill: #174EA6;\n",
              "    }\n",
              "\n",
              "    [theme=dark] .colab-df-convert {\n",
              "      background-color: #3B4455;\n",
              "      fill: #D2E3FC;\n",
              "    }\n",
              "\n",
              "    [theme=dark] .colab-df-convert:hover {\n",
              "      background-color: #434B5C;\n",
              "      box-shadow: 0px 1px 3px 1px rgba(0, 0, 0, 0.15);\n",
              "      filter: drop-shadow(0px 1px 2px rgba(0, 0, 0, 0.3));\n",
              "      fill: #FFFFFF;\n",
              "    }\n",
              "  </style>\n",
              "\n",
              "      <script>\n",
              "        const buttonEl =\n",
              "          document.querySelector('#df-0f8cf8a9-c243-4bb7-bf55-41dc4d09a535 button.colab-df-convert');\n",
              "        buttonEl.style.display =\n",
              "          google.colab.kernel.accessAllowed ? 'block' : 'none';\n",
              "\n",
              "        async function convertToInteractive(key) {\n",
              "          const element = document.querySelector('#df-0f8cf8a9-c243-4bb7-bf55-41dc4d09a535');\n",
              "          const dataTable =\n",
              "            await google.colab.kernel.invokeFunction('convertToInteractive',\n",
              "                                                     [key], {});\n",
              "          if (!dataTable) return;\n",
              "\n",
              "          const docLinkHtml = 'Like what you see? Visit the ' +\n",
              "            '<a target=\"_blank\" href=https://colab.research.google.com/notebooks/data_table.ipynb>data table notebook</a>'\n",
              "            + ' to learn more about interactive tables.';\n",
              "          element.innerHTML = '';\n",
              "          dataTable['output_type'] = 'display_data';\n",
              "          await google.colab.output.renderOutput(dataTable, element);\n",
              "          const docLink = document.createElement('div');\n",
              "          docLink.innerHTML = docLinkHtml;\n",
              "          element.appendChild(docLink);\n",
              "        }\n",
              "      </script>\n",
              "    </div>\n",
              "  </div>\n",
              "  "
            ]
          },
          "metadata": {},
          "execution_count": 142
        }
      ]
    },
    {
      "cell_type": "code",
      "source": [
        "df.describe()"
      ],
      "metadata": {
        "colab": {
          "base_uri": "https://localhost:8080/",
          "height": 364
        },
        "id": "W2mbe_OmoUKp",
        "outputId": "90baafb8-ed64-48d7-d48d-660c321cd196"
      },
      "execution_count": null,
      "outputs": [
        {
          "output_type": "execute_result",
          "data": {
            "text/plain": [
              "                 id         price      bedrooms     bathrooms   sqft_living  \\\n",
              "count  2.161300e+04  2.161300e+04  21613.000000  21613.000000  21613.000000   \n",
              "mean   4.580302e+09  5.400881e+05      3.370842      2.114757   2079.899736   \n",
              "std    2.876566e+09  3.671272e+05      0.930062      0.770163    918.440897   \n",
              "min    1.000102e+06  7.500000e+04      0.000000      0.000000    290.000000   \n",
              "25%    2.123049e+09  3.219500e+05      3.000000      1.750000   1427.000000   \n",
              "50%    3.904930e+09  4.500000e+05      3.000000      2.250000   1910.000000   \n",
              "75%    7.308900e+09  6.450000e+05      4.000000      2.500000   2550.000000   \n",
              "max    9.900000e+09  7.700000e+06     33.000000      8.000000  13540.000000   \n",
              "\n",
              "           sqft_lot        floors    waterfront          view     condition  \\\n",
              "count  2.161300e+04  21613.000000  21613.000000  21613.000000  21613.000000   \n",
              "mean   1.510697e+04      1.494309      0.007542      0.234303      3.409430   \n",
              "std    4.142051e+04      0.539989      0.086517      0.766318      0.650743   \n",
              "min    5.200000e+02      1.000000      0.000000      0.000000      1.000000   \n",
              "25%    5.040000e+03      1.000000      0.000000      0.000000      3.000000   \n",
              "50%    7.618000e+03      1.500000      0.000000      0.000000      3.000000   \n",
              "75%    1.068800e+04      2.000000      0.000000      0.000000      4.000000   \n",
              "max    1.651359e+06      3.500000      1.000000      4.000000      5.000000   \n",
              "\n",
              "              grade    sqft_above  sqft_basement      yr_built  yr_renovated  \\\n",
              "count  21613.000000  21613.000000   21613.000000  21613.000000  21613.000000   \n",
              "mean       7.656873   1788.390691     291.509045   1971.005136     84.402258   \n",
              "std        1.175459    828.090978     442.575043     29.373411    401.679240   \n",
              "min        1.000000    290.000000       0.000000   1900.000000      0.000000   \n",
              "25%        7.000000   1190.000000       0.000000   1951.000000      0.000000   \n",
              "50%        7.000000   1560.000000       0.000000   1975.000000      0.000000   \n",
              "75%        8.000000   2210.000000     560.000000   1997.000000      0.000000   \n",
              "max       13.000000   9410.000000    4820.000000   2015.000000   2015.000000   \n",
              "\n",
              "            zipcode           lat          long  sqft_living15     sqft_lot15  \n",
              "count  21613.000000  21613.000000  21613.000000   21613.000000   21613.000000  \n",
              "mean   98077.939805     47.560053   -122.213896    1986.552492   12768.455652  \n",
              "std       53.505026      0.138564      0.140828     685.391304   27304.179631  \n",
              "min    98001.000000     47.155900   -122.519000     399.000000     651.000000  \n",
              "25%    98033.000000     47.471000   -122.328000    1490.000000    5100.000000  \n",
              "50%    98065.000000     47.571800   -122.230000    1840.000000    7620.000000  \n",
              "75%    98118.000000     47.678000   -122.125000    2360.000000   10083.000000  \n",
              "max    98199.000000     47.777600   -121.315000    6210.000000  871200.000000  "
            ],
            "text/html": [
              "\n",
              "  <div id=\"df-469d5af9-5f2f-448b-900c-d8122bbab5d7\">\n",
              "    <div class=\"colab-df-container\">\n",
              "      <div>\n",
              "<style scoped>\n",
              "    .dataframe tbody tr th:only-of-type {\n",
              "        vertical-align: middle;\n",
              "    }\n",
              "\n",
              "    .dataframe tbody tr th {\n",
              "        vertical-align: top;\n",
              "    }\n",
              "\n",
              "    .dataframe thead th {\n",
              "        text-align: right;\n",
              "    }\n",
              "</style>\n",
              "<table border=\"1\" class=\"dataframe\">\n",
              "  <thead>\n",
              "    <tr style=\"text-align: right;\">\n",
              "      <th></th>\n",
              "      <th>id</th>\n",
              "      <th>price</th>\n",
              "      <th>bedrooms</th>\n",
              "      <th>bathrooms</th>\n",
              "      <th>sqft_living</th>\n",
              "      <th>sqft_lot</th>\n",
              "      <th>floors</th>\n",
              "      <th>waterfront</th>\n",
              "      <th>view</th>\n",
              "      <th>condition</th>\n",
              "      <th>grade</th>\n",
              "      <th>sqft_above</th>\n",
              "      <th>sqft_basement</th>\n",
              "      <th>yr_built</th>\n",
              "      <th>yr_renovated</th>\n",
              "      <th>zipcode</th>\n",
              "      <th>lat</th>\n",
              "      <th>long</th>\n",
              "      <th>sqft_living15</th>\n",
              "      <th>sqft_lot15</th>\n",
              "    </tr>\n",
              "  </thead>\n",
              "  <tbody>\n",
              "    <tr>\n",
              "      <th>count</th>\n",
              "      <td>2.161300e+04</td>\n",
              "      <td>2.161300e+04</td>\n",
              "      <td>21613.000000</td>\n",
              "      <td>21613.000000</td>\n",
              "      <td>21613.000000</td>\n",
              "      <td>2.161300e+04</td>\n",
              "      <td>21613.000000</td>\n",
              "      <td>21613.000000</td>\n",
              "      <td>21613.000000</td>\n",
              "      <td>21613.000000</td>\n",
              "      <td>21613.000000</td>\n",
              "      <td>21613.000000</td>\n",
              "      <td>21613.000000</td>\n",
              "      <td>21613.000000</td>\n",
              "      <td>21613.000000</td>\n",
              "      <td>21613.000000</td>\n",
              "      <td>21613.000000</td>\n",
              "      <td>21613.000000</td>\n",
              "      <td>21613.000000</td>\n",
              "      <td>21613.000000</td>\n",
              "    </tr>\n",
              "    <tr>\n",
              "      <th>mean</th>\n",
              "      <td>4.580302e+09</td>\n",
              "      <td>5.400881e+05</td>\n",
              "      <td>3.370842</td>\n",
              "      <td>2.114757</td>\n",
              "      <td>2079.899736</td>\n",
              "      <td>1.510697e+04</td>\n",
              "      <td>1.494309</td>\n",
              "      <td>0.007542</td>\n",
              "      <td>0.234303</td>\n",
              "      <td>3.409430</td>\n",
              "      <td>7.656873</td>\n",
              "      <td>1788.390691</td>\n",
              "      <td>291.509045</td>\n",
              "      <td>1971.005136</td>\n",
              "      <td>84.402258</td>\n",
              "      <td>98077.939805</td>\n",
              "      <td>47.560053</td>\n",
              "      <td>-122.213896</td>\n",
              "      <td>1986.552492</td>\n",
              "      <td>12768.455652</td>\n",
              "    </tr>\n",
              "    <tr>\n",
              "      <th>std</th>\n",
              "      <td>2.876566e+09</td>\n",
              "      <td>3.671272e+05</td>\n",
              "      <td>0.930062</td>\n",
              "      <td>0.770163</td>\n",
              "      <td>918.440897</td>\n",
              "      <td>4.142051e+04</td>\n",
              "      <td>0.539989</td>\n",
              "      <td>0.086517</td>\n",
              "      <td>0.766318</td>\n",
              "      <td>0.650743</td>\n",
              "      <td>1.175459</td>\n",
              "      <td>828.090978</td>\n",
              "      <td>442.575043</td>\n",
              "      <td>29.373411</td>\n",
              "      <td>401.679240</td>\n",
              "      <td>53.505026</td>\n",
              "      <td>0.138564</td>\n",
              "      <td>0.140828</td>\n",
              "      <td>685.391304</td>\n",
              "      <td>27304.179631</td>\n",
              "    </tr>\n",
              "    <tr>\n",
              "      <th>min</th>\n",
              "      <td>1.000102e+06</td>\n",
              "      <td>7.500000e+04</td>\n",
              "      <td>0.000000</td>\n",
              "      <td>0.000000</td>\n",
              "      <td>290.000000</td>\n",
              "      <td>5.200000e+02</td>\n",
              "      <td>1.000000</td>\n",
              "      <td>0.000000</td>\n",
              "      <td>0.000000</td>\n",
              "      <td>1.000000</td>\n",
              "      <td>1.000000</td>\n",
              "      <td>290.000000</td>\n",
              "      <td>0.000000</td>\n",
              "      <td>1900.000000</td>\n",
              "      <td>0.000000</td>\n",
              "      <td>98001.000000</td>\n",
              "      <td>47.155900</td>\n",
              "      <td>-122.519000</td>\n",
              "      <td>399.000000</td>\n",
              "      <td>651.000000</td>\n",
              "    </tr>\n",
              "    <tr>\n",
              "      <th>25%</th>\n",
              "      <td>2.123049e+09</td>\n",
              "      <td>3.219500e+05</td>\n",
              "      <td>3.000000</td>\n",
              "      <td>1.750000</td>\n",
              "      <td>1427.000000</td>\n",
              "      <td>5.040000e+03</td>\n",
              "      <td>1.000000</td>\n",
              "      <td>0.000000</td>\n",
              "      <td>0.000000</td>\n",
              "      <td>3.000000</td>\n",
              "      <td>7.000000</td>\n",
              "      <td>1190.000000</td>\n",
              "      <td>0.000000</td>\n",
              "      <td>1951.000000</td>\n",
              "      <td>0.000000</td>\n",
              "      <td>98033.000000</td>\n",
              "      <td>47.471000</td>\n",
              "      <td>-122.328000</td>\n",
              "      <td>1490.000000</td>\n",
              "      <td>5100.000000</td>\n",
              "    </tr>\n",
              "    <tr>\n",
              "      <th>50%</th>\n",
              "      <td>3.904930e+09</td>\n",
              "      <td>4.500000e+05</td>\n",
              "      <td>3.000000</td>\n",
              "      <td>2.250000</td>\n",
              "      <td>1910.000000</td>\n",
              "      <td>7.618000e+03</td>\n",
              "      <td>1.500000</td>\n",
              "      <td>0.000000</td>\n",
              "      <td>0.000000</td>\n",
              "      <td>3.000000</td>\n",
              "      <td>7.000000</td>\n",
              "      <td>1560.000000</td>\n",
              "      <td>0.000000</td>\n",
              "      <td>1975.000000</td>\n",
              "      <td>0.000000</td>\n",
              "      <td>98065.000000</td>\n",
              "      <td>47.571800</td>\n",
              "      <td>-122.230000</td>\n",
              "      <td>1840.000000</td>\n",
              "      <td>7620.000000</td>\n",
              "    </tr>\n",
              "    <tr>\n",
              "      <th>75%</th>\n",
              "      <td>7.308900e+09</td>\n",
              "      <td>6.450000e+05</td>\n",
              "      <td>4.000000</td>\n",
              "      <td>2.500000</td>\n",
              "      <td>2550.000000</td>\n",
              "      <td>1.068800e+04</td>\n",
              "      <td>2.000000</td>\n",
              "      <td>0.000000</td>\n",
              "      <td>0.000000</td>\n",
              "      <td>4.000000</td>\n",
              "      <td>8.000000</td>\n",
              "      <td>2210.000000</td>\n",
              "      <td>560.000000</td>\n",
              "      <td>1997.000000</td>\n",
              "      <td>0.000000</td>\n",
              "      <td>98118.000000</td>\n",
              "      <td>47.678000</td>\n",
              "      <td>-122.125000</td>\n",
              "      <td>2360.000000</td>\n",
              "      <td>10083.000000</td>\n",
              "    </tr>\n",
              "    <tr>\n",
              "      <th>max</th>\n",
              "      <td>9.900000e+09</td>\n",
              "      <td>7.700000e+06</td>\n",
              "      <td>33.000000</td>\n",
              "      <td>8.000000</td>\n",
              "      <td>13540.000000</td>\n",
              "      <td>1.651359e+06</td>\n",
              "      <td>3.500000</td>\n",
              "      <td>1.000000</td>\n",
              "      <td>4.000000</td>\n",
              "      <td>5.000000</td>\n",
              "      <td>13.000000</td>\n",
              "      <td>9410.000000</td>\n",
              "      <td>4820.000000</td>\n",
              "      <td>2015.000000</td>\n",
              "      <td>2015.000000</td>\n",
              "      <td>98199.000000</td>\n",
              "      <td>47.777600</td>\n",
              "      <td>-121.315000</td>\n",
              "      <td>6210.000000</td>\n",
              "      <td>871200.000000</td>\n",
              "    </tr>\n",
              "  </tbody>\n",
              "</table>\n",
              "</div>\n",
              "      <button class=\"colab-df-convert\" onclick=\"convertToInteractive('df-469d5af9-5f2f-448b-900c-d8122bbab5d7')\"\n",
              "              title=\"Convert this dataframe to an interactive table.\"\n",
              "              style=\"display:none;\">\n",
              "        \n",
              "  <svg xmlns=\"http://www.w3.org/2000/svg\" height=\"24px\"viewBox=\"0 0 24 24\"\n",
              "       width=\"24px\">\n",
              "    <path d=\"M0 0h24v24H0V0z\" fill=\"none\"/>\n",
              "    <path d=\"M18.56 5.44l.94 2.06.94-2.06 2.06-.94-2.06-.94-.94-2.06-.94 2.06-2.06.94zm-11 1L8.5 8.5l.94-2.06 2.06-.94-2.06-.94L8.5 2.5l-.94 2.06-2.06.94zm10 10l.94 2.06.94-2.06 2.06-.94-2.06-.94-.94-2.06-.94 2.06-2.06.94z\"/><path d=\"M17.41 7.96l-1.37-1.37c-.4-.4-.92-.59-1.43-.59-.52 0-1.04.2-1.43.59L10.3 9.45l-7.72 7.72c-.78.78-.78 2.05 0 2.83L4 21.41c.39.39.9.59 1.41.59.51 0 1.02-.2 1.41-.59l7.78-7.78 2.81-2.81c.8-.78.8-2.07 0-2.86zM5.41 20L4 18.59l7.72-7.72 1.47 1.35L5.41 20z\"/>\n",
              "  </svg>\n",
              "      </button>\n",
              "      \n",
              "  <style>\n",
              "    .colab-df-container {\n",
              "      display:flex;\n",
              "      flex-wrap:wrap;\n",
              "      gap: 12px;\n",
              "    }\n",
              "\n",
              "    .colab-df-convert {\n",
              "      background-color: #E8F0FE;\n",
              "      border: none;\n",
              "      border-radius: 50%;\n",
              "      cursor: pointer;\n",
              "      display: none;\n",
              "      fill: #1967D2;\n",
              "      height: 32px;\n",
              "      padding: 0 0 0 0;\n",
              "      width: 32px;\n",
              "    }\n",
              "\n",
              "    .colab-df-convert:hover {\n",
              "      background-color: #E2EBFA;\n",
              "      box-shadow: 0px 1px 2px rgba(60, 64, 67, 0.3), 0px 1px 3px 1px rgba(60, 64, 67, 0.15);\n",
              "      fill: #174EA6;\n",
              "    }\n",
              "\n",
              "    [theme=dark] .colab-df-convert {\n",
              "      background-color: #3B4455;\n",
              "      fill: #D2E3FC;\n",
              "    }\n",
              "\n",
              "    [theme=dark] .colab-df-convert:hover {\n",
              "      background-color: #434B5C;\n",
              "      box-shadow: 0px 1px 3px 1px rgba(0, 0, 0, 0.15);\n",
              "      filter: drop-shadow(0px 1px 2px rgba(0, 0, 0, 0.3));\n",
              "      fill: #FFFFFF;\n",
              "    }\n",
              "  </style>\n",
              "\n",
              "      <script>\n",
              "        const buttonEl =\n",
              "          document.querySelector('#df-469d5af9-5f2f-448b-900c-d8122bbab5d7 button.colab-df-convert');\n",
              "        buttonEl.style.display =\n",
              "          google.colab.kernel.accessAllowed ? 'block' : 'none';\n",
              "\n",
              "        async function convertToInteractive(key) {\n",
              "          const element = document.querySelector('#df-469d5af9-5f2f-448b-900c-d8122bbab5d7');\n",
              "          const dataTable =\n",
              "            await google.colab.kernel.invokeFunction('convertToInteractive',\n",
              "                                                     [key], {});\n",
              "          if (!dataTable) return;\n",
              "\n",
              "          const docLinkHtml = 'Like what you see? Visit the ' +\n",
              "            '<a target=\"_blank\" href=https://colab.research.google.com/notebooks/data_table.ipynb>data table notebook</a>'\n",
              "            + ' to learn more about interactive tables.';\n",
              "          element.innerHTML = '';\n",
              "          dataTable['output_type'] = 'display_data';\n",
              "          await google.colab.output.renderOutput(dataTable, element);\n",
              "          const docLink = document.createElement('div');\n",
              "          docLink.innerHTML = docLinkHtml;\n",
              "          element.appendChild(docLink);\n",
              "        }\n",
              "      </script>\n",
              "    </div>\n",
              "  </div>\n",
              "  "
            ]
          },
          "metadata": {},
          "execution_count": 143
        }
      ]
    },
    {
      "cell_type": "markdown",
      "source": [
        "Pela descrição dos dados, é possível ver que no geral a base de dados está limpa e não possui muitos outliers relevantes, alguns itens desviam da média (como número de quartos e banheiros), entretanto tal comportamento é esperado para o tipo de dados trabalhado. Entretanto é interessante alterar a data, para a menor data será atribuido 0 e para as outras a contagem de dias a partir da menor data."
      ],
      "metadata": {
        "id": "v2wH809OZoyj"
      }
    },
    {
      "cell_type": "code",
      "source": [
        "from datetime import datetime"
      ],
      "metadata": {
        "id": "HSCR89Mzpxvw"
      },
      "execution_count": null,
      "outputs": []
    },
    {
      "cell_type": "code",
      "source": [
        "df2 = (df['date'].astype(str).str[0:8])\n",
        "X = df2.values\n",
        "for i in range(len(X)):\n",
        "  X[i] = datetime.strptime(X[i], '%Y%m%d')\n",
        "min = df2.min()\n",
        "min = datetime.strptime(m, '%Y%m%d')\n",
        "X = (X - min)\n",
        "for i in range(len(X)):\n",
        "  X[i] = X[i].days\n",
        "df['date'] = X"
      ],
      "metadata": {
        "id": "Zhcomv_Wsn3q"
      },
      "execution_count": null,
      "outputs": []
    },
    {
      "cell_type": "code",
      "source": [
        "df.head()"
      ],
      "metadata": {
        "colab": {
          "base_uri": "https://localhost:8080/",
          "height": 299
        },
        "id": "Cnid43RHqqO1",
        "outputId": "c6b71a19-52f6-4412-cb33-e504ad4c7cbe"
      },
      "execution_count": null,
      "outputs": [
        {
          "output_type": "execute_result",
          "data": {
            "text/plain": [
              "           id date     price  bedrooms  bathrooms  sqft_living  sqft_lot  \\\n",
              "0  7129300520  164  221900.0         3       1.00         1180      5650   \n",
              "1  6414100192  221  538000.0         3       2.25         2570      7242   \n",
              "2  5631500400  299  180000.0         2       1.00          770     10000   \n",
              "3  2487200875  221  604000.0         4       3.00         1960      5000   \n",
              "4  1954400510  292  510000.0         3       2.00         1680      8080   \n",
              "\n",
              "   floors  waterfront  view  ...  grade  sqft_above  sqft_basement  yr_built  \\\n",
              "0     1.0           0     0  ...      7        1180              0      1955   \n",
              "1     2.0           0     0  ...      7        2170            400      1951   \n",
              "2     1.0           0     0  ...      6         770              0      1933   \n",
              "3     1.0           0     0  ...      7        1050            910      1965   \n",
              "4     1.0           0     0  ...      8        1680              0      1987   \n",
              "\n",
              "   yr_renovated  zipcode      lat     long  sqft_living15  sqft_lot15  \n",
              "0             0    98178  47.5112 -122.257           1340        5650  \n",
              "1          1991    98125  47.7210 -122.319           1690        7639  \n",
              "2             0    98028  47.7379 -122.233           2720        8062  \n",
              "3             0    98136  47.5208 -122.393           1360        5000  \n",
              "4             0    98074  47.6168 -122.045           1800        7503  \n",
              "\n",
              "[5 rows x 21 columns]"
            ],
            "text/html": [
              "\n",
              "  <div id=\"df-75bf2683-0dec-455e-9f21-c37d4830b4a2\">\n",
              "    <div class=\"colab-df-container\">\n",
              "      <div>\n",
              "<style scoped>\n",
              "    .dataframe tbody tr th:only-of-type {\n",
              "        vertical-align: middle;\n",
              "    }\n",
              "\n",
              "    .dataframe tbody tr th {\n",
              "        vertical-align: top;\n",
              "    }\n",
              "\n",
              "    .dataframe thead th {\n",
              "        text-align: right;\n",
              "    }\n",
              "</style>\n",
              "<table border=\"1\" class=\"dataframe\">\n",
              "  <thead>\n",
              "    <tr style=\"text-align: right;\">\n",
              "      <th></th>\n",
              "      <th>id</th>\n",
              "      <th>date</th>\n",
              "      <th>price</th>\n",
              "      <th>bedrooms</th>\n",
              "      <th>bathrooms</th>\n",
              "      <th>sqft_living</th>\n",
              "      <th>sqft_lot</th>\n",
              "      <th>floors</th>\n",
              "      <th>waterfront</th>\n",
              "      <th>view</th>\n",
              "      <th>...</th>\n",
              "      <th>grade</th>\n",
              "      <th>sqft_above</th>\n",
              "      <th>sqft_basement</th>\n",
              "      <th>yr_built</th>\n",
              "      <th>yr_renovated</th>\n",
              "      <th>zipcode</th>\n",
              "      <th>lat</th>\n",
              "      <th>long</th>\n",
              "      <th>sqft_living15</th>\n",
              "      <th>sqft_lot15</th>\n",
              "    </tr>\n",
              "  </thead>\n",
              "  <tbody>\n",
              "    <tr>\n",
              "      <th>0</th>\n",
              "      <td>7129300520</td>\n",
              "      <td>164</td>\n",
              "      <td>221900.0</td>\n",
              "      <td>3</td>\n",
              "      <td>1.00</td>\n",
              "      <td>1180</td>\n",
              "      <td>5650</td>\n",
              "      <td>1.0</td>\n",
              "      <td>0</td>\n",
              "      <td>0</td>\n",
              "      <td>...</td>\n",
              "      <td>7</td>\n",
              "      <td>1180</td>\n",
              "      <td>0</td>\n",
              "      <td>1955</td>\n",
              "      <td>0</td>\n",
              "      <td>98178</td>\n",
              "      <td>47.5112</td>\n",
              "      <td>-122.257</td>\n",
              "      <td>1340</td>\n",
              "      <td>5650</td>\n",
              "    </tr>\n",
              "    <tr>\n",
              "      <th>1</th>\n",
              "      <td>6414100192</td>\n",
              "      <td>221</td>\n",
              "      <td>538000.0</td>\n",
              "      <td>3</td>\n",
              "      <td>2.25</td>\n",
              "      <td>2570</td>\n",
              "      <td>7242</td>\n",
              "      <td>2.0</td>\n",
              "      <td>0</td>\n",
              "      <td>0</td>\n",
              "      <td>...</td>\n",
              "      <td>7</td>\n",
              "      <td>2170</td>\n",
              "      <td>400</td>\n",
              "      <td>1951</td>\n",
              "      <td>1991</td>\n",
              "      <td>98125</td>\n",
              "      <td>47.7210</td>\n",
              "      <td>-122.319</td>\n",
              "      <td>1690</td>\n",
              "      <td>7639</td>\n",
              "    </tr>\n",
              "    <tr>\n",
              "      <th>2</th>\n",
              "      <td>5631500400</td>\n",
              "      <td>299</td>\n",
              "      <td>180000.0</td>\n",
              "      <td>2</td>\n",
              "      <td>1.00</td>\n",
              "      <td>770</td>\n",
              "      <td>10000</td>\n",
              "      <td>1.0</td>\n",
              "      <td>0</td>\n",
              "      <td>0</td>\n",
              "      <td>...</td>\n",
              "      <td>6</td>\n",
              "      <td>770</td>\n",
              "      <td>0</td>\n",
              "      <td>1933</td>\n",
              "      <td>0</td>\n",
              "      <td>98028</td>\n",
              "      <td>47.7379</td>\n",
              "      <td>-122.233</td>\n",
              "      <td>2720</td>\n",
              "      <td>8062</td>\n",
              "    </tr>\n",
              "    <tr>\n",
              "      <th>3</th>\n",
              "      <td>2487200875</td>\n",
              "      <td>221</td>\n",
              "      <td>604000.0</td>\n",
              "      <td>4</td>\n",
              "      <td>3.00</td>\n",
              "      <td>1960</td>\n",
              "      <td>5000</td>\n",
              "      <td>1.0</td>\n",
              "      <td>0</td>\n",
              "      <td>0</td>\n",
              "      <td>...</td>\n",
              "      <td>7</td>\n",
              "      <td>1050</td>\n",
              "      <td>910</td>\n",
              "      <td>1965</td>\n",
              "      <td>0</td>\n",
              "      <td>98136</td>\n",
              "      <td>47.5208</td>\n",
              "      <td>-122.393</td>\n",
              "      <td>1360</td>\n",
              "      <td>5000</td>\n",
              "    </tr>\n",
              "    <tr>\n",
              "      <th>4</th>\n",
              "      <td>1954400510</td>\n",
              "      <td>292</td>\n",
              "      <td>510000.0</td>\n",
              "      <td>3</td>\n",
              "      <td>2.00</td>\n",
              "      <td>1680</td>\n",
              "      <td>8080</td>\n",
              "      <td>1.0</td>\n",
              "      <td>0</td>\n",
              "      <td>0</td>\n",
              "      <td>...</td>\n",
              "      <td>8</td>\n",
              "      <td>1680</td>\n",
              "      <td>0</td>\n",
              "      <td>1987</td>\n",
              "      <td>0</td>\n",
              "      <td>98074</td>\n",
              "      <td>47.6168</td>\n",
              "      <td>-122.045</td>\n",
              "      <td>1800</td>\n",
              "      <td>7503</td>\n",
              "    </tr>\n",
              "  </tbody>\n",
              "</table>\n",
              "<p>5 rows × 21 columns</p>\n",
              "</div>\n",
              "      <button class=\"colab-df-convert\" onclick=\"convertToInteractive('df-75bf2683-0dec-455e-9f21-c37d4830b4a2')\"\n",
              "              title=\"Convert this dataframe to an interactive table.\"\n",
              "              style=\"display:none;\">\n",
              "        \n",
              "  <svg xmlns=\"http://www.w3.org/2000/svg\" height=\"24px\"viewBox=\"0 0 24 24\"\n",
              "       width=\"24px\">\n",
              "    <path d=\"M0 0h24v24H0V0z\" fill=\"none\"/>\n",
              "    <path d=\"M18.56 5.44l.94 2.06.94-2.06 2.06-.94-2.06-.94-.94-2.06-.94 2.06-2.06.94zm-11 1L8.5 8.5l.94-2.06 2.06-.94-2.06-.94L8.5 2.5l-.94 2.06-2.06.94zm10 10l.94 2.06.94-2.06 2.06-.94-2.06-.94-.94-2.06-.94 2.06-2.06.94z\"/><path d=\"M17.41 7.96l-1.37-1.37c-.4-.4-.92-.59-1.43-.59-.52 0-1.04.2-1.43.59L10.3 9.45l-7.72 7.72c-.78.78-.78 2.05 0 2.83L4 21.41c.39.39.9.59 1.41.59.51 0 1.02-.2 1.41-.59l7.78-7.78 2.81-2.81c.8-.78.8-2.07 0-2.86zM5.41 20L4 18.59l7.72-7.72 1.47 1.35L5.41 20z\"/>\n",
              "  </svg>\n",
              "      </button>\n",
              "      \n",
              "  <style>\n",
              "    .colab-df-container {\n",
              "      display:flex;\n",
              "      flex-wrap:wrap;\n",
              "      gap: 12px;\n",
              "    }\n",
              "\n",
              "    .colab-df-convert {\n",
              "      background-color: #E8F0FE;\n",
              "      border: none;\n",
              "      border-radius: 50%;\n",
              "      cursor: pointer;\n",
              "      display: none;\n",
              "      fill: #1967D2;\n",
              "      height: 32px;\n",
              "      padding: 0 0 0 0;\n",
              "      width: 32px;\n",
              "    }\n",
              "\n",
              "    .colab-df-convert:hover {\n",
              "      background-color: #E2EBFA;\n",
              "      box-shadow: 0px 1px 2px rgba(60, 64, 67, 0.3), 0px 1px 3px 1px rgba(60, 64, 67, 0.15);\n",
              "      fill: #174EA6;\n",
              "    }\n",
              "\n",
              "    [theme=dark] .colab-df-convert {\n",
              "      background-color: #3B4455;\n",
              "      fill: #D2E3FC;\n",
              "    }\n",
              "\n",
              "    [theme=dark] .colab-df-convert:hover {\n",
              "      background-color: #434B5C;\n",
              "      box-shadow: 0px 1px 3px 1px rgba(0, 0, 0, 0.15);\n",
              "      filter: drop-shadow(0px 1px 2px rgba(0, 0, 0, 0.3));\n",
              "      fill: #FFFFFF;\n",
              "    }\n",
              "  </style>\n",
              "\n",
              "      <script>\n",
              "        const buttonEl =\n",
              "          document.querySelector('#df-75bf2683-0dec-455e-9f21-c37d4830b4a2 button.colab-df-convert');\n",
              "        buttonEl.style.display =\n",
              "          google.colab.kernel.accessAllowed ? 'block' : 'none';\n",
              "\n",
              "        async function convertToInteractive(key) {\n",
              "          const element = document.querySelector('#df-75bf2683-0dec-455e-9f21-c37d4830b4a2');\n",
              "          const dataTable =\n",
              "            await google.colab.kernel.invokeFunction('convertToInteractive',\n",
              "                                                     [key], {});\n",
              "          if (!dataTable) return;\n",
              "\n",
              "          const docLinkHtml = 'Like what you see? Visit the ' +\n",
              "            '<a target=\"_blank\" href=https://colab.research.google.com/notebooks/data_table.ipynb>data table notebook</a>'\n",
              "            + ' to learn more about interactive tables.';\n",
              "          element.innerHTML = '';\n",
              "          dataTable['output_type'] = 'display_data';\n",
              "          await google.colab.output.renderOutput(dataTable, element);\n",
              "          const docLink = document.createElement('div');\n",
              "          docLink.innerHTML = docLinkHtml;\n",
              "          element.appendChild(docLink);\n",
              "        }\n",
              "      </script>\n",
              "    </div>\n",
              "  </div>\n",
              "  "
            ]
          },
          "metadata": {},
          "execution_count": 146
        }
      ]
    },
    {
      "cell_type": "code",
      "source": [
        "df.hist(figsize=(15,15))"
      ],
      "metadata": {
        "colab": {
          "base_uri": "https://localhost:8080/",
          "height": 1000
        },
        "id": "-zbOLF8zZG_U",
        "outputId": "42aa1b19-307a-49dd-825d-c310478a5a61"
      },
      "execution_count": null,
      "outputs": [
        {
          "output_type": "execute_result",
          "data": {
            "text/plain": [
              "array([[<matplotlib.axes._subplots.AxesSubplot object at 0x7f0fdfa382e0>,\n",
              "        <matplotlib.axes._subplots.AxesSubplot object at 0x7f0fdf959730>,\n",
              "        <matplotlib.axes._subplots.AxesSubplot object at 0x7f0fe23450a0>,\n",
              "        <matplotlib.axes._subplots.AxesSubplot object at 0x7f0fdf92c8b0>],\n",
              "       [<matplotlib.axes._subplots.AxesSubplot object at 0x7f0fe2251e80>,\n",
              "        <matplotlib.axes._subplots.AxesSubplot object at 0x7f0fe2390520>,\n",
              "        <matplotlib.axes._subplots.AxesSubplot object at 0x7f0fe2390610>,\n",
              "        <matplotlib.axes._subplots.AxesSubplot object at 0x7f0fe23bfd90>],\n",
              "       [<matplotlib.axes._subplots.AxesSubplot object at 0x7f0fdf8efb80>,\n",
              "        <matplotlib.axes._subplots.AxesSubplot object at 0x7f0fdf8662b0>,\n",
              "        <matplotlib.axes._subplots.AxesSubplot object at 0x7f0fdf8109d0>,\n",
              "        <matplotlib.axes._subplots.AxesSubplot object at 0x7f0fdf7c7160>],\n",
              "       [<matplotlib.axes._subplots.AxesSubplot object at 0x7f0fdf7f28b0>,\n",
              "        <matplotlib.axes._subplots.AxesSubplot object at 0x7f0fdf79efd0>,\n",
              "        <matplotlib.axes._subplots.AxesSubplot object at 0x7f0fdf753730>,\n",
              "        <matplotlib.axes._subplots.AxesSubplot object at 0x7f0fdf77de50>],\n",
              "       [<matplotlib.axes._subplots.AxesSubplot object at 0x7f0fdf7345b0>,\n",
              "        <matplotlib.axes._subplots.AxesSubplot object at 0x7f0fdf6decd0>,\n",
              "        <matplotlib.axes._subplots.AxesSubplot object at 0x7f0fdf697460>,\n",
              "        <matplotlib.axes._subplots.AxesSubplot object at 0x7f0fdf6bfbb0>]],\n",
              "      dtype=object)"
            ]
          },
          "metadata": {},
          "execution_count": 147
        },
        {
          "output_type": "display_data",
          "data": {
            "text/plain": [
              "<Figure size 1080x1080 with 20 Axes>"
            ],
            "image/png": "[encoded data removed]"
          },
          "metadata": {
            "needs_background": "light"
          }
        }
      ]
    },
    {
      "cell_type": "markdown",
      "source": [
        "A matriz de correlações"
      ],
      "metadata": {
        "id": "3WDPTKgj0Rq2"
      }
    },
    {
      "cell_type": "code",
      "source": [
        "plt.figure(figsize=(12,10))\n",
        "sns.heatmap(df.corr())"
      ],
      "metadata": {
        "colab": {
          "base_uri": "https://localhost:8080/",
          "height": 676
        },
        "id": "uRihI0tvz49P",
        "outputId": "6060e890-93b8-4265-de6d-5aa8c23d3fb7"
      },
      "execution_count": null,
      "outputs": [
        {
          "output_type": "execute_result",
          "data": {
            "text/plain": [
              "<matplotlib.axes._subplots.AxesSubplot at 0x7f0fddfc7130>"
            ]
          },
          "metadata": {},
          "execution_count": 175
        },
        {
          "output_type": "display_data",
          "data": {
            "text/plain": [
              "<Figure size 864x720 with 2 Axes>"
            ],
            "image/png": "[encoded data removed]"
          },
          "metadata": {
            "needs_background": "light"
          }
        }
      ]
    },
    {
      "cell_type": "markdown",
      "source": [
        "Alguns valores interessantes surgem da visualização. A vista por exemplo impacta bastante no preço, mas a diferença de preço entre as vistas intermediárias não é significativa"
      ],
      "metadata": {
        "id": "mVHiWiNDB0rL"
      }
    },
    {
      "cell_type": "code",
      "source": [
        "df[['price','view']].groupby('view').median().plot.bar(y='price')"
      ],
      "metadata": {
        "colab": {
          "base_uri": "https://localhost:8080/",
          "height": 304
        },
        "id": "N7jyJpTIBXup",
        "outputId": "3dd31073-0f26-4533-e44d-1265481cf51f"
      },
      "execution_count": null,
      "outputs": [
        {
          "output_type": "execute_result",
          "data": {
            "text/plain": [
              "<matplotlib.axes._subplots.AxesSubplot at 0x7f0fddca6f40>"
            ]
          },
          "metadata": {},
          "execution_count": 197
        },
        {
          "output_type": "display_data",
          "data": {
            "text/plain": [
              "<Figure size 432x288 with 1 Axes>"
            ],
            "image/png": "[encoded data removed]"
          },
          "metadata": {
            "needs_background": "light"
          }
        }
      ]
    },
    {
      "cell_type": "markdown",
      "source": [
        "Em comparação, a nota da construção da casa possui uma relação muito maior com os preços"
      ],
      "metadata": {
        "id": "kUlXsZxNCppb"
      }
    },
    {
      "cell_type": "code",
      "source": [
        "df[['price','grade']].groupby('grade').median().plot.bar(y='price')"
      ],
      "metadata": {
        "colab": {
          "base_uri": "https://localhost:8080/",
          "height": 310
        },
        "id": "AKUXZem2Cm2j",
        "outputId": "f6e20612-29ca-44a2-ac09-392c79d5ffd2"
      },
      "execution_count": null,
      "outputs": [
        {
          "output_type": "execute_result",
          "data": {
            "text/plain": [
              "<matplotlib.axes._subplots.AxesSubplot at 0x7f0fde835250>"
            ]
          },
          "metadata": {},
          "execution_count": 199
        },
        {
          "output_type": "display_data",
          "data": {
            "text/plain": [
              "<Figure size 432x288 with 1 Axes>"
            ],
            "image/png": "[encoded data removed]"
          },
          "metadata": {
            "needs_background": "light"
          }
        }
      ]
    },
    {
      "cell_type": "markdown",
      "source": [
        "A quantidade de andares da casa também não é muito relevante para a diferenciação do preço"
      ],
      "metadata": {
        "id": "JF52RrwzEhmU"
      }
    },
    {
      "cell_type": "code",
      "source": [
        "df[['price','floors']].groupby('floors').median().plot.bar(y='price')"
      ],
      "metadata": {
        "colab": {
          "base_uri": "https://localhost:8080/",
          "height": 302
        },
        "id": "-_oGDW3lEdyU",
        "outputId": "0b7b7f2a-cf10-41cc-bea5-22c6d49bc349"
      },
      "execution_count": null,
      "outputs": [
        {
          "output_type": "execute_result",
          "data": {
            "text/plain": [
              "<matplotlib.axes._subplots.AxesSubplot at 0x7f0fddb91430>"
            ]
          },
          "metadata": {},
          "execution_count": 200
        },
        {
          "output_type": "display_data",
          "data": {
            "text/plain": [
              "<Figure size 432x288 with 1 Axes>"
            ],
            "image/png": "[encoded data removed]"
          },
          "metadata": {
            "needs_background": "light"
          }
        }
      ]
    },
    {
      "cell_type": "markdown",
      "source": [
        "A casa ter vista para o mar entretanto é um fator de peso muito grande no preço"
      ],
      "metadata": {
        "id": "-p9vZsjhE27u"
      }
    },
    {
      "cell_type": "code",
      "source": [
        "df[['price','waterfront']].groupby('waterfront').median().plot.bar(y='price')"
      ],
      "metadata": {
        "colab": {
          "base_uri": "https://localhost:8080/",
          "height": 304
        },
        "id": "joElgRQkEv4z",
        "outputId": "eec9014e-af43-4a30-907a-dac45bd39e1d"
      },
      "execution_count": null,
      "outputs": [
        {
          "output_type": "execute_result",
          "data": {
            "text/plain": [
              "<matplotlib.axes._subplots.AxesSubplot at 0x7f0fddb3c640>"
            ]
          },
          "metadata": {},
          "execution_count": 201
        },
        {
          "output_type": "display_data",
          "data": {
            "text/plain": [
              "<Figure size 432x288 with 1 Axes>"
            ],
            "image/png": "[encoded data removed]"
          },
          "metadata": {
            "needs_background": "light"
          }
        }
      ]
    },
    {
      "cell_type": "code",
      "source": [
        "df[['price','waterfront']].groupby('waterfront').mean().plot.bar(y='price')"
      ],
      "metadata": {
        "colab": {
          "base_uri": "https://localhost:8080/",
          "height": 304
        },
        "id": "1_HXt-u2E0GT",
        "outputId": "26c7708f-aa1a-4aef-f524-44723fb879cb"
      },
      "execution_count": null,
      "outputs": [
        {
          "output_type": "execute_result",
          "data": {
            "text/plain": [
              "<matplotlib.axes._subplots.AxesSubplot at 0x7f0fdda6d9d0>"
            ]
          },
          "metadata": {},
          "execution_count": 202
        },
        {
          "output_type": "display_data",
          "data": {
            "text/plain": [
              "<Figure size 432x288 with 1 Axes>"
            ],
            "image/png": "[encoded data removed]"
          },
          "metadata": {
            "needs_background": "light"
          }
        }
      ]
    },
    {
      "cell_type": "code",
      "source": [
        "df[['id','waterfront']].groupby('waterfront').count().plot.bar()"
      ],
      "metadata": {
        "colab": {
          "base_uri": "https://localhost:8080/",
          "height": 293
        },
        "id": "zznxlaIx693z",
        "outputId": "f400e48b-b8d0-4b4e-c7b6-79cf8a9c5555"
      },
      "execution_count": null,
      "outputs": [
        {
          "output_type": "execute_result",
          "data": {
            "text/plain": [
              "<matplotlib.axes._subplots.AxesSubplot at 0x7f0f63bd1070>"
            ]
          },
          "metadata": {},
          "execution_count": 648
        },
        {
          "output_type": "display_data",
          "data": {
            "text/plain": [
              "<Figure size 432x288 with 1 Axes>"
            ],
            "image/png": "[encoded data removed]"
          },
          "metadata": {
            "needs_background": "light"
          }
        }
      ]
    },
    {
      "cell_type": "markdown",
      "source": [
        "Embora existam extremos, o número de banheiros e quartos não parece ser uma informação tão determinante para o valor da casa"
      ],
      "metadata": {
        "id": "v4w7dt_zFaTO"
      }
    },
    {
      "cell_type": "code",
      "source": [
        "df[['price','bathrooms']].groupby('bathrooms').median().plot.bar(y='price')"
      ],
      "metadata": {
        "colab": {
          "base_uri": "https://localhost:8080/",
          "height": 320
        },
        "id": "fK11pQyAFLDm",
        "outputId": "c1da1973-cfab-4fa1-b193-dc31e6045064"
      },
      "execution_count": null,
      "outputs": [
        {
          "output_type": "execute_result",
          "data": {
            "text/plain": [
              "<matplotlib.axes._subplots.AxesSubplot at 0x7f0fddab14c0>"
            ]
          },
          "metadata": {},
          "execution_count": 203
        },
        {
          "output_type": "display_data",
          "data": {
            "text/plain": [
              "<Figure size 432x288 with 1 Axes>"
            ],
            "image/png": "[encoded data removed]"
          },
          "metadata": {
            "needs_background": "light"
          }
        }
      ]
    },
    {
      "cell_type": "code",
      "source": [
        "df[['price','bedrooms']].groupby('bedrooms').median().plot.bar(y='price')"
      ],
      "metadata": {
        "colab": {
          "base_uri": "https://localhost:8080/",
          "height": 299
        },
        "id": "B0eF8ulTFT1s",
        "outputId": "a9ba4364-dfbe-489f-c70c-f3ce1036ee42"
      },
      "execution_count": null,
      "outputs": [
        {
          "output_type": "execute_result",
          "data": {
            "text/plain": [
              "<matplotlib.axes._subplots.AxesSubplot at 0x7f0fdda84220>"
            ]
          },
          "metadata": {},
          "execution_count": 204
        },
        {
          "output_type": "display_data",
          "data": {
            "text/plain": [
              "<Figure size 432x288 with 1 Axes>"
            ],
            "image/png": "[encoded data removed]"
          },
          "metadata": {
            "needs_background": "light"
          }
        }
      ]
    },
    {
      "cell_type": "markdown",
      "source": [
        "##**3. Data preparation (Preparação dos dados)**"
      ],
      "metadata": {
        "id": "YBK0Ro38J8kF"
      }
    },
    {
      "cell_type": "markdown",
      "source": [
        "As visualizações ajudam a entender a dinâmica dos dados, como esperado, existem muitos valores outliers mas ainda dentro do previsto devido à variação de renda das pessoas que buscam comprar as casas. O único dado inesperado é o ano de renovação. A informação está em anos mas o 0 é uma informação binária, portanto será criada uma escala levando em consideração (Ano de renovação - ano de construção) para normalizar os dados"
      ],
      "metadata": {
        "id": "NGQoi_JagOgU"
      }
    },
    {
      "cell_type": "code",
      "source": [
        "df['yr_renovated'][df['yr_renovated']==0] = 2016\n",
        "df['yr_renovated'] = (2015-df['yr_renovated'])\n",
        "df['yr_renovated'][df['yr_renovated']==-1] = 100\n",
        "scaler = MinMaxScaler()\n",
        "df[['yr_renovated']] = scaler.fit_transform(df[['yr_renovated']])"
      ],
      "metadata": {
        "colab": {
          "base_uri": "https://localhost:8080/"
        },
        "id": "ZfHbP4IA0GpH",
        "outputId": "ee1279b1-592b-4e0d-8d44-f073cdd3679c"
      },
      "execution_count": null,
      "outputs": [
        {
          "output_type": "stream",
          "name": "stderr",
          "text": [
            "<ipython-input-176-1bf00e714abf>:1: SettingWithCopyWarning: \n",
            "A value is trying to be set on a copy of a slice from a DataFrame\n",
            "\n",
            "See the caveats in the documentation: https://pandas.pydata.org/pandas-docs/stable/user_guide/indexing.html#returning-a-view-versus-a-copy\n",
            "  df['yr_renovated'][df['yr_renovated']==0] = 2016\n",
            "<ipython-input-176-1bf00e714abf>:3: SettingWithCopyWarning: \n",
            "A value is trying to be set on a copy of a slice from a DataFrame\n",
            "\n",
            "See the caveats in the documentation: https://pandas.pydata.org/pandas-docs/stable/user_guide/indexing.html#returning-a-view-versus-a-copy\n",
            "  df['yr_renovated'][df['yr_renovated']==-1] = 100\n"
          ]
        }
      ]
    },
    {
      "cell_type": "code",
      "source": [
        "df.head()"
      ],
      "metadata": {
        "id": "tx3Uhu4y0H_3"
      },
      "execution_count": null,
      "outputs": []
    },
    {
      "cell_type": "markdown",
      "source": [
        "Outro fator interessante é que por estarem divididas, a latitude e a longitude tem baixa correlação com o zipcode, o que não deveria acontecer. Portanto eles serão substituídos pela distância normalizada de cada casa para a latitude/longitude (0,0) usando a fórmula de Harvesine."
      ],
      "metadata": {
        "id": "EqqFTlhC2IEG"
      }
    },
    {
      "cell_type": "code",
      "source": [
        "df['lat_long'] = 0"
      ],
      "metadata": {
        "id": "q9lmBk6Q3z2h"
      },
      "execution_count": null,
      "outputs": []
    },
    {
      "cell_type": "code",
      "source": [
        "def lat_long_normalize(row):\n",
        "  x = (0,0)\n",
        "  y = (row['lat'],row['long'])\n",
        "  return haversine(x,y)"
      ],
      "metadata": {
        "id": "PCnryh4M4QH8"
      },
      "execution_count": null,
      "outputs": []
    },
    {
      "cell_type": "code",
      "source": [
        "df['lat_long'] = df.apply(lambda row: lat_long_normalize(row), axis=1)\n",
        "df['lat_long'] = scaler.fit_transform(df[['lat_long']])*100"
      ],
      "metadata": {
        "id": "UgJlxQ7b378r"
      },
      "execution_count": null,
      "outputs": []
    },
    {
      "cell_type": "code",
      "source": [
        "df = df.drop(columns=['lat','long'])"
      ],
      "metadata": {
        "id": "S_0l5dQ45FFU"
      },
      "execution_count": null,
      "outputs": []
    },
    {
      "cell_type": "code",
      "source": [
        "plt.figure(figsize=(12,10))\n",
        "sns.heatmap(df.corr())"
      ],
      "metadata": {
        "colab": {
          "base_uri": "https://localhost:8080/",
          "height": 676
        },
        "id": "YQ0ozSb94zXP",
        "outputId": "66361ed9-205f-46f4-d8c6-d813a9d9b0e1"
      },
      "execution_count": null,
      "outputs": [
        {
          "output_type": "execute_result",
          "data": {
            "text/plain": [
              "<matplotlib.axes._subplots.AxesSubplot at 0x7f0fddd91fa0>"
            ]
          },
          "metadata": {},
          "execution_count": 187
        },
        {
          "output_type": "display_data",
          "data": {
            "text/plain": [
              "<Figure size 864x720 with 2 Axes>"
            ],
            "image/png": "[encoded data removed]"
          },
          "metadata": {
            "needs_background": "light"
          }
        }
      ]
    },
    {
      "cell_type": "markdown",
      "source": [
        "A base de dados é dividida em 80% de treino e 20% de teste, os dados são então transformados em arrays"
      ],
      "metadata": {
        "id": "7TZ6Ts4Ej3JQ"
      }
    },
    {
      "cell_type": "code",
      "source": [
        "X_train,X_test,y_train,y_test = train_test_split(df.drop(columns=['id','price']),df.price,test_size=0.2, random_state=42)"
      ],
      "metadata": {
        "id": "fjqOr867c63x"
      },
      "execution_count": null,
      "outputs": []
    },
    {
      "cell_type": "code",
      "source": [
        "X_train.shape"
      ],
      "metadata": {
        "colab": {
          "base_uri": "https://localhost:8080/"
        },
        "id": "opQV4tDqF2DM",
        "outputId": "a5112883-b22b-4da6-a083-7e3fb522d748"
      },
      "execution_count": null,
      "outputs": [
        {
          "output_type": "execute_result",
          "data": {
            "text/plain": [
              "(17290, 18)"
            ]
          },
          "metadata": {},
          "execution_count": 345
        }
      ]
    },
    {
      "cell_type": "code",
      "source": [
        "def norm(x):\n",
        "  return ((x - x.mean()) / x.std())"
      ],
      "metadata": {
        "id": "zNGCMTJOO4q9"
      },
      "execution_count": null,
      "outputs": []
    },
    {
      "cell_type": "code",
      "source": [
        "X_train,X_test = np.array(X_train).astype('float32'),np.array(X_test).astype('float32')"
      ],
      "metadata": {
        "id": "-nKT-G4F0qGt"
      },
      "execution_count": null,
      "outputs": []
    },
    {
      "cell_type": "code",
      "source": [
        "y_train,y_test = np.array(y_train).astype('float32'),np.array(y_test).astype('float32')"
      ],
      "metadata": {
        "id": "cdKf_jwb0GD9"
      },
      "execution_count": null,
      "outputs": []
    },
    {
      "cell_type": "code",
      "source": [
        "X_train.shape"
      ],
      "metadata": {
        "colab": {
          "base_uri": "https://localhost:8080/"
        },
        "id": "4yDIQw37PjCC",
        "outputId": "eda816ab-b443-419c-d05c-c182dba8c606"
      },
      "execution_count": null,
      "outputs": [
        {
          "output_type": "execute_result",
          "data": {
            "text/plain": [
              "(17290, 18)"
            ]
          },
          "metadata": {},
          "execution_count": 315
        }
      ]
    },
    {
      "cell_type": "markdown",
      "source": [
        "##**4. Modeling (Modelagem)**"
      ],
      "metadata": {
        "id": "AjlBKt3FKJhA"
      }
    },
    {
      "cell_type": "markdown",
      "source": [
        "A tunagem de hiperparâmetros é realizada com Grid Search, o algoritmo utilizado para o modelo é o Random Forest Classifier, que apresenta bons resultados para esse tipo de base de dados"
      ],
      "metadata": {
        "id": "uhhOKTg5j8ef"
      }
    },
    {
      "cell_type": "code",
      "source": [
        "param_grid = {\n",
        "    'n_estimators': [10,20,50,100,150],\n",
        "    'max_features': ['None','sqrt', 'log2'],\n",
        "    'max_depth' : [2,4,6,8,10,12],\n",
        "    'criterion' :['squared_error', 'absolute_error', 'friedman_mse', 'poisson']\n",
        "}"
      ],
      "metadata": {
        "id": "fm4rUeFZbaxa"
      },
      "execution_count": null,
      "outputs": []
    },
    {
      "cell_type": "code",
      "source": [
        "cv = GridSearchCV(estimator=RandomForestRegressor(random_state=42),scoring ='r2',param_grid=param_grid, cv=2,verbose=3)\n",
        "cv.fit(X_train, y_train)"
      ],
      "metadata": {
        "colab": {
          "base_uri": "https://localhost:8080/"
        },
        "id": "gaDvA3mCbgVV",
        "outputId": "0edd49f4-326b-4614-bee8-57f509a65a98"
      },
      "execution_count": null,
      "outputs": [
        {
          "output_type": "stream",
          "name": "stdout",
          "text": [
            "Fitting 2 folds for each of 360 candidates, totalling 720 fits\n",
            "[CV 1/2] END criterion=squared_error, max_depth=2, max_features=None, n_estimators=10;, score=nan total time=   0.0s\n",
            "[CV 2/2] END criterion=squared_error, max_depth=2, max_features=None, n_estimators=10;, score=nan total time=   0.0s\n",
            "[CV 1/2] END criterion=squared_error, max_depth=2, max_features=None, n_estimators=20;, score=nan total time=   0.0s\n",
            "[CV 2/2] END criterion=squared_error, max_depth=2, max_features=None, n_estimators=20;, score=nan total time=   0.0s\n",
            "[CV 1/2] END criterion=squared_error, max_depth=2, max_features=None, n_estimators=50;, score=nan total time=   0.0s\n",
            "[CV 2/2] END criterion=squared_error, max_depth=2, max_features=None, n_estimators=50;, score=nan total time=   0.0s\n",
            "[CV 1/2] END criterion=squared_error, max_depth=2, max_features=None, n_estimators=100;, score=nan total time=   0.0s\n",
            "[CV 2/2] END criterion=squared_error, max_depth=2, max_features=None, n_estimators=100;, score=nan total time=   0.0s\n",
            "[CV 1/2] END criterion=squared_error, max_depth=2, max_features=None, n_estimators=150;, score=nan total time=   0.1s\n",
            "[CV 2/2] END criterion=squared_error, max_depth=2, max_features=None, n_estimators=150;, score=nan total time=   0.1s\n",
            "[CV 1/2] END criterion=squared_error, max_depth=2, max_features=sqrt, n_estimators=10;, score=0.451 total time=   0.0s\n",
            "[CV 2/2] END criterion=squared_error, max_depth=2, max_features=sqrt, n_estimators=10;, score=0.474 total time=   0.0s\n",
            "[CV 1/2] END criterion=squared_error, max_depth=2, max_features=sqrt, n_estimators=20;, score=0.465 total time=   0.1s\n",
            "[CV 2/2] END criterion=squared_error, max_depth=2, max_features=sqrt, n_estimators=20;, score=0.491 total time=   0.1s\n",
            "[CV 1/2] END criterion=squared_error, max_depth=2, max_features=sqrt, n_estimators=50;, score=0.477 total time=   0.2s\n",
            "[CV 2/2] END criterion=squared_error, max_depth=2, max_features=sqrt, n_estimators=50;, score=0.501 total time=   0.2s\n",
            "[CV 1/2] END criterion=squared_error, max_depth=2, max_features=sqrt, n_estimators=100;, score=0.475 total time=   0.4s\n",
            "[CV 2/2] END criterion=squared_error, max_depth=2, max_features=sqrt, n_estimators=100;, score=0.498 total time=   0.4s\n",
            "[CV 1/2] END criterion=squared_error, max_depth=2, max_features=sqrt, n_estimators=150;, score=0.474 total time=   0.6s\n",
            "[CV 2/2] END criterion=squared_error, max_depth=2, max_features=sqrt, n_estimators=150;, score=0.494 total time=   0.6s\n",
            "[CV 1/2] END criterion=squared_error, max_depth=2, max_features=log2, n_estimators=10;, score=0.451 total time=   0.0s\n",
            "[CV 2/2] END criterion=squared_error, max_depth=2, max_features=log2, n_estimators=10;, score=0.474 total time=   0.0s\n",
            "[CV 1/2] END criterion=squared_error, max_depth=2, max_features=log2, n_estimators=20;, score=0.465 total time=   0.1s\n",
            "[CV 2/2] END criterion=squared_error, max_depth=2, max_features=log2, n_estimators=20;, score=0.491 total time=   0.1s\n",
            "[CV 1/2] END criterion=squared_error, max_depth=2, max_features=log2, n_estimators=50;, score=0.477 total time=   0.2s\n",
            "[CV 2/2] END criterion=squared_error, max_depth=2, max_features=log2, n_estimators=50;, score=0.501 total time=   0.2s\n",
            "[CV 1/2] END criterion=squared_error, max_depth=2, max_features=log2, n_estimators=100;, score=0.475 total time=   0.4s\n",
            "[CV 2/2] END criterion=squared_error, max_depth=2, max_features=log2, n_estimators=100;, score=0.498 total time=   0.4s\n",
            "[CV 1/2] END criterion=squared_error, max_depth=2, max_features=log2, n_estimators=150;, score=0.474 total time=   0.6s\n",
            "[CV 2/2] END criterion=squared_error, max_depth=2, max_features=log2, n_estimators=150;, score=0.494 total time=   0.6s\n",
            "[CV 1/2] END criterion=squared_error, max_depth=4, max_features=None, n_estimators=10;, score=nan total time=   0.0s\n",
            "[CV 2/2] END criterion=squared_error, max_depth=4, max_features=None, n_estimators=10;, score=nan total time=   0.0s\n",
            "[CV 1/2] END criterion=squared_error, max_depth=4, max_features=None, n_estimators=20;, score=nan total time=   0.0s\n",
            "[CV 2/2] END criterion=squared_error, max_depth=4, max_features=None, n_estimators=20;, score=nan total time=   0.0s\n",
            "[CV 1/2] END criterion=squared_error, max_depth=4, max_features=None, n_estimators=50;, score=nan total time=   0.0s\n",
            "[CV 2/2] END criterion=squared_error, max_depth=4, max_features=None, n_estimators=50;, score=nan total time=   0.0s\n",
            "[CV 1/2] END criterion=squared_error, max_depth=4, max_features=None, n_estimators=100;, score=nan total time=   0.0s\n",
            "[CV 2/2] END criterion=squared_error, max_depth=4, max_features=None, n_estimators=100;, score=nan total time=   0.0s\n",
            "[CV 1/2] END criterion=squared_error, max_depth=4, max_features=None, n_estimators=150;, score=nan total time=   0.1s\n",
            "[CV 2/2] END criterion=squared_error, max_depth=4, max_features=None, n_estimators=150;, score=nan total time=   0.1s\n",
            "[CV 1/2] END criterion=squared_error, max_depth=4, max_features=sqrt, n_estimators=10;, score=0.625 total time=   0.1s\n",
            "[CV 2/2] END criterion=squared_error, max_depth=4, max_features=sqrt, n_estimators=10;, score=0.604 total time=   0.1s\n",
            "[CV 1/2] END criterion=squared_error, max_depth=4, max_features=sqrt, n_estimators=20;, score=0.622 total time=   0.2s\n",
            "[CV 2/2] END criterion=squared_error, max_depth=4, max_features=sqrt, n_estimators=20;, score=0.621 total time=   0.1s\n",
            "[CV 1/2] END criterion=squared_error, max_depth=4, max_features=sqrt, n_estimators=50;, score=0.628 total time=   0.3s\n",
            "[CV 2/2] END criterion=squared_error, max_depth=4, max_features=sqrt, n_estimators=50;, score=0.630 total time=   0.3s\n",
            "[CV 1/2] END criterion=squared_error, max_depth=4, max_features=sqrt, n_estimators=100;, score=0.624 total time=   0.7s\n",
            "[CV 2/2] END criterion=squared_error, max_depth=4, max_features=sqrt, n_estimators=100;, score=0.632 total time=   0.6s\n",
            "[CV 1/2] END criterion=squared_error, max_depth=4, max_features=sqrt, n_estimators=150;, score=0.624 total time=   1.0s\n",
            "[CV 2/2] END criterion=squared_error, max_depth=4, max_features=sqrt, n_estimators=150;, score=0.633 total time=   1.0s\n",
            "[CV 1/2] END criterion=squared_error, max_depth=4, max_features=log2, n_estimators=10;, score=0.625 total time=   0.1s\n",
            "[CV 2/2] END criterion=squared_error, max_depth=4, max_features=log2, n_estimators=10;, score=0.604 total time=   0.1s\n",
            "[CV 1/2] END criterion=squared_error, max_depth=4, max_features=log2, n_estimators=20;, score=0.622 total time=   0.1s\n",
            "[CV 2/2] END criterion=squared_error, max_depth=4, max_features=log2, n_estimators=20;, score=0.621 total time=   0.1s\n",
            "[CV 1/2] END criterion=squared_error, max_depth=4, max_features=log2, n_estimators=50;, score=0.628 total time=   0.3s\n",
            "[CV 2/2] END criterion=squared_error, max_depth=4, max_features=log2, n_estimators=50;, score=0.630 total time=   0.3s\n",
            "[CV 1/2] END criterion=squared_error, max_depth=4, max_features=log2, n_estimators=100;, score=0.624 total time=   0.7s\n",
            "[CV 2/2] END criterion=squared_error, max_depth=4, max_features=log2, n_estimators=100;, score=0.632 total time=   0.6s\n",
            "[CV 1/2] END criterion=squared_error, max_depth=4, max_features=log2, n_estimators=150;, score=0.624 total time=   1.0s\n",
            "[CV 2/2] END criterion=squared_error, max_depth=4, max_features=log2, n_estimators=150;, score=0.633 total time=   1.0s\n",
            "[CV 1/2] END criterion=squared_error, max_depth=6, max_features=None, n_estimators=10;, score=nan total time=   0.0s\n",
            "[CV 2/2] END criterion=squared_error, max_depth=6, max_features=None, n_estimators=10;, score=nan total time=   0.0s\n",
            "[CV 1/2] END criterion=squared_error, max_depth=6, max_features=None, n_estimators=20;, score=nan total time=   0.0s\n",
            "[CV 2/2] END criterion=squared_error, max_depth=6, max_features=None, n_estimators=20;, score=nan total time=   0.0s\n",
            "[CV 1/2] END criterion=squared_error, max_depth=6, max_features=None, n_estimators=50;, score=nan total time=   0.0s\n",
            "[CV 2/2] END criterion=squared_error, max_depth=6, max_features=None, n_estimators=50;, score=nan total time=   0.0s\n",
            "[CV 1/2] END criterion=squared_error, max_depth=6, max_features=None, n_estimators=100;, score=nan total time=   0.0s\n",
            "[CV 2/2] END criterion=squared_error, max_depth=6, max_features=None, n_estimators=100;, score=nan total time=   0.0s\n",
            "[CV 1/2] END criterion=squared_error, max_depth=6, max_features=None, n_estimators=150;, score=nan total time=   0.0s\n",
            "[CV 2/2] END criterion=squared_error, max_depth=6, max_features=None, n_estimators=150;, score=nan total time=   0.1s\n",
            "[CV 1/2] END criterion=squared_error, max_depth=6, max_features=sqrt, n_estimators=10;, score=0.700 total time=   0.1s\n",
            "[CV 2/2] END criterion=squared_error, max_depth=6, max_features=sqrt, n_estimators=10;, score=0.704 total time=   0.1s\n",
            "[CV 1/2] END criterion=squared_error, max_depth=6, max_features=sqrt, n_estimators=20;, score=0.700 total time=   0.2s\n",
            "[CV 2/2] END criterion=squared_error, max_depth=6, max_features=sqrt, n_estimators=20;, score=0.710 total time=   0.2s\n",
            "[CV 1/2] END criterion=squared_error, max_depth=6, max_features=sqrt, n_estimators=50;, score=0.706 total time=   0.5s\n",
            "[CV 2/2] END criterion=squared_error, max_depth=6, max_features=sqrt, n_estimators=50;, score=0.716 total time=   0.4s\n",
            "[CV 1/2] END criterion=squared_error, max_depth=6, max_features=sqrt, n_estimators=100;, score=0.707 total time=   0.9s\n",
            "[CV 2/2] END criterion=squared_error, max_depth=6, max_features=sqrt, n_estimators=100;, score=0.717 total time=   0.9s\n",
            "[CV 1/2] END criterion=squared_error, max_depth=6, max_features=sqrt, n_estimators=150;, score=0.707 total time=   1.3s\n",
            "[CV 2/2] END criterion=squared_error, max_depth=6, max_features=sqrt, n_estimators=150;, score=0.717 total time=   1.3s\n",
            "[CV 1/2] END criterion=squared_error, max_depth=6, max_features=log2, n_estimators=10;, score=0.700 total time=   0.1s\n",
            "[CV 2/2] END criterion=squared_error, max_depth=6, max_features=log2, n_estimators=10;, score=0.704 total time=   0.1s\n",
            "[CV 1/2] END criterion=squared_error, max_depth=6, max_features=log2, n_estimators=20;, score=0.700 total time=   0.2s\n",
            "[CV 2/2] END criterion=squared_error, max_depth=6, max_features=log2, n_estimators=20;, score=0.710 total time=   0.2s\n",
            "[CV 1/2] END criterion=squared_error, max_depth=6, max_features=log2, n_estimators=50;, score=0.706 total time=   0.5s\n",
            "[CV 2/2] END criterion=squared_error, max_depth=6, max_features=log2, n_estimators=50;, score=0.716 total time=   0.4s\n",
            "[CV 1/2] END criterion=squared_error, max_depth=6, max_features=log2, n_estimators=100;, score=0.707 total time=   0.9s\n",
            "[CV 2/2] END criterion=squared_error, max_depth=6, max_features=log2, n_estimators=100;, score=0.717 total time=   0.9s\n",
            "[CV 1/2] END criterion=squared_error, max_depth=6, max_features=log2, n_estimators=150;, score=0.707 total time=   1.3s\n",
            "[CV 2/2] END criterion=squared_error, max_depth=6, max_features=log2, n_estimators=150;, score=0.717 total time=   1.3s\n",
            "[CV 1/2] END criterion=squared_error, max_depth=8, max_features=None, n_estimators=10;, score=nan total time=   0.0s\n",
            "[CV 2/2] END criterion=squared_error, max_depth=8, max_features=None, n_estimators=10;, score=nan total time=   0.0s\n",
            "[CV 1/2] END criterion=squared_error, max_depth=8, max_features=None, n_estimators=20;, score=nan total time=   0.0s\n",
            "[CV 2/2] END criterion=squared_error, max_depth=8, max_features=None, n_estimators=20;, score=nan total time=   0.0s\n",
            "[CV 1/2] END criterion=squared_error, max_depth=8, max_features=None, n_estimators=50;, score=nan total time=   0.0s\n",
            "[CV 2/2] END criterion=squared_error, max_depth=8, max_features=None, n_estimators=50;, score=nan total time=   0.0s\n",
            "[CV 1/2] END criterion=squared_error, max_depth=8, max_features=None, n_estimators=100;, score=nan total time=   0.0s\n",
            "[CV 2/2] END criterion=squared_error, max_depth=8, max_features=None, n_estimators=100;, score=nan total time=   0.0s\n",
            "[CV 1/2] END criterion=squared_error, max_depth=8, max_features=None, n_estimators=150;, score=nan total time=   0.1s\n",
            "[CV 2/2] END criterion=squared_error, max_depth=8, max_features=None, n_estimators=150;, score=nan total time=   0.1s\n",
            "[CV 1/2] END criterion=squared_error, max_depth=8, max_features=sqrt, n_estimators=10;, score=0.732 total time=   0.1s\n",
            "[CV 2/2] END criterion=squared_error, max_depth=8, max_features=sqrt, n_estimators=10;, score=0.739 total time=   0.1s\n",
            "[CV 1/2] END criterion=squared_error, max_depth=8, max_features=sqrt, n_estimators=20;, score=0.743 total time=   0.2s\n",
            "[CV 2/2] END criterion=squared_error, max_depth=8, max_features=sqrt, n_estimators=20;, score=0.753 total time=   0.2s\n",
            "[CV 1/2] END criterion=squared_error, max_depth=8, max_features=sqrt, n_estimators=50;, score=0.750 total time=   0.6s\n",
            "[CV 2/2] END criterion=squared_error, max_depth=8, max_features=sqrt, n_estimators=50;, score=0.762 total time=   0.6s\n",
            "[CV 1/2] END criterion=squared_error, max_depth=8, max_features=sqrt, n_estimators=100;, score=0.751 total time=   1.1s\n",
            "[CV 2/2] END criterion=squared_error, max_depth=8, max_features=sqrt, n_estimators=100;, score=0.763 total time=   1.1s\n",
            "[CV 1/2] END criterion=squared_error, max_depth=8, max_features=sqrt, n_estimators=150;, score=0.751 total time=   1.7s\n",
            "[CV 2/2] END criterion=squared_error, max_depth=8, max_features=sqrt, n_estimators=150;, score=0.766 total time=   1.6s\n",
            "[CV 1/2] END criterion=squared_error, max_depth=8, max_features=log2, n_estimators=10;, score=0.732 total time=   0.1s\n",
            "[CV 2/2] END criterion=squared_error, max_depth=8, max_features=log2, n_estimators=10;, score=0.739 total time=   0.1s\n",
            "[CV 1/2] END criterion=squared_error, max_depth=8, max_features=log2, n_estimators=20;, score=0.743 total time=   0.2s\n",
            "[CV 2/2] END criterion=squared_error, max_depth=8, max_features=log2, n_estimators=20;, score=0.753 total time=   0.2s\n",
            "[CV 1/2] END criterion=squared_error, max_depth=8, max_features=log2, n_estimators=50;, score=0.750 total time=   0.6s\n",
            "[CV 2/2] END criterion=squared_error, max_depth=8, max_features=log2, n_estimators=50;, score=0.762 total time=   0.6s\n",
            "[CV 1/2] END criterion=squared_error, max_depth=8, max_features=log2, n_estimators=100;, score=0.751 total time=   1.1s\n",
            "[CV 2/2] END criterion=squared_error, max_depth=8, max_features=log2, n_estimators=100;, score=0.763 total time=   1.1s\n",
            "[CV 1/2] END criterion=squared_error, max_depth=8, max_features=log2, n_estimators=150;, score=0.751 total time=   1.7s\n",
            "[CV 2/2] END criterion=squared_error, max_depth=8, max_features=log2, n_estimators=150;, score=0.766 total time=   1.7s\n",
            "[CV 1/2] END criterion=squared_error, max_depth=10, max_features=None, n_estimators=10;, score=nan total time=   0.0s\n",
            "[CV 2/2] END criterion=squared_error, max_depth=10, max_features=None, n_estimators=10;, score=nan total time=   0.0s\n",
            "[CV 1/2] END criterion=squared_error, max_depth=10, max_features=None, n_estimators=20;, score=nan total time=   0.0s\n",
            "[CV 2/2] END criterion=squared_error, max_depth=10, max_features=None, n_estimators=20;, score=nan total time=   0.0s\n",
            "[CV 1/2] END criterion=squared_error, max_depth=10, max_features=None, n_estimators=50;, score=nan total time=   0.0s\n",
            "[CV 2/2] END criterion=squared_error, max_depth=10, max_features=None, n_estimators=50;, score=nan total time=   0.0s\n",
            "[CV 1/2] END criterion=squared_error, max_depth=10, max_features=None, n_estimators=100;, score=nan total time=   0.0s\n",
            "[CV 2/2] END criterion=squared_error, max_depth=10, max_features=None, n_estimators=100;, score=nan total time=   0.0s\n",
            "[CV 1/2] END criterion=squared_error, max_depth=10, max_features=None, n_estimators=150;, score=nan total time=   0.0s\n",
            "[CV 2/2] END criterion=squared_error, max_depth=10, max_features=None, n_estimators=150;, score=nan total time=   0.1s\n",
            "[CV 1/2] END criterion=squared_error, max_depth=10, max_features=sqrt, n_estimators=10;, score=0.745 total time=   0.1s\n",
            "[CV 2/2] END criterion=squared_error, max_depth=10, max_features=sqrt, n_estimators=10;, score=0.766 total time=   0.1s\n",
            "[CV 1/2] END criterion=squared_error, max_depth=10, max_features=sqrt, n_estimators=20;, score=0.764 total time=   0.3s\n",
            "[CV 2/2] END criterion=squared_error, max_depth=10, max_features=sqrt, n_estimators=20;, score=0.779 total time=   0.3s\n",
            "[CV 1/2] END criterion=squared_error, max_depth=10, max_features=sqrt, n_estimators=50;, score=0.765 total time=   0.7s\n",
            "[CV 2/2] END criterion=squared_error, max_depth=10, max_features=sqrt, n_estimators=50;, score=0.789 total time=   0.7s\n",
            "[CV 1/2] END criterion=squared_error, max_depth=10, max_features=sqrt, n_estimators=100;, score=0.769 total time=   1.3s\n",
            "[CV 2/2] END criterion=squared_error, max_depth=10, max_features=sqrt, n_estimators=100;, score=0.791 total time=   1.3s\n",
            "[CV 1/2] END criterion=squared_error, max_depth=10, max_features=sqrt, n_estimators=150;, score=0.772 total time=   2.0s\n",
            "[CV 2/2] END criterion=squared_error, max_depth=10, max_features=sqrt, n_estimators=150;, score=0.792 total time=   2.0s\n",
            "[CV 1/2] END criterion=squared_error, max_depth=10, max_features=log2, n_estimators=10;, score=0.745 total time=   0.1s\n",
            "[CV 2/2] END criterion=squared_error, max_depth=10, max_features=log2, n_estimators=10;, score=0.766 total time=   0.1s\n",
            "[CV 1/2] END criterion=squared_error, max_depth=10, max_features=log2, n_estimators=20;, score=0.764 total time=   0.3s\n",
            "[CV 2/2] END criterion=squared_error, max_depth=10, max_features=log2, n_estimators=20;, score=0.779 total time=   0.3s\n",
            "[CV 1/2] END criterion=squared_error, max_depth=10, max_features=log2, n_estimators=50;, score=0.765 total time=   0.7s\n",
            "[CV 2/2] END criterion=squared_error, max_depth=10, max_features=log2, n_estimators=50;, score=0.789 total time=   0.7s\n",
            "[CV 1/2] END criterion=squared_error, max_depth=10, max_features=log2, n_estimators=100;, score=0.769 total time=   1.3s\n",
            "[CV 2/2] END criterion=squared_error, max_depth=10, max_features=log2, n_estimators=100;, score=0.791 total time=   1.3s\n",
            "[CV 1/2] END criterion=squared_error, max_depth=10, max_features=log2, n_estimators=150;, score=0.772 total time=   2.0s\n",
            "[CV 2/2] END criterion=squared_error, max_depth=10, max_features=log2, n_estimators=150;, score=0.792 total time=   2.0s\n",
            "[CV 1/2] END criterion=squared_error, max_depth=12, max_features=None, n_estimators=10;, score=nan total time=   0.0s\n",
            "[CV 2/2] END criterion=squared_error, max_depth=12, max_features=None, n_estimators=10;, score=nan total time=   0.0s\n",
            "[CV 1/2] END criterion=squared_error, max_depth=12, max_features=None, n_estimators=20;, score=nan total time=   0.0s\n",
            "[CV 2/2] END criterion=squared_error, max_depth=12, max_features=None, n_estimators=20;, score=nan total time=   0.0s\n",
            "[CV 1/2] END criterion=squared_error, max_depth=12, max_features=None, n_estimators=50;, score=nan total time=   0.0s\n",
            "[CV 2/2] END criterion=squared_error, max_depth=12, max_features=None, n_estimators=50;, score=nan total time=   0.0s\n",
            "[CV 1/2] END criterion=squared_error, max_depth=12, max_features=None, n_estimators=100;, score=nan total time=   0.0s\n",
            "[CV 2/2] END criterion=squared_error, max_depth=12, max_features=None, n_estimators=100;, score=nan total time=   0.0s\n",
            "[CV 1/2] END criterion=squared_error, max_depth=12, max_features=None, n_estimators=150;, score=nan total time=   0.1s\n",
            "[CV 2/2] END criterion=squared_error, max_depth=12, max_features=None, n_estimators=150;, score=nan total time=   0.1s\n",
            "[CV 1/2] END criterion=squared_error, max_depth=12, max_features=sqrt, n_estimators=10;, score=0.758 total time=   0.2s\n",
            "[CV 2/2] END criterion=squared_error, max_depth=12, max_features=sqrt, n_estimators=10;, score=0.780 total time=   0.2s\n",
            "[CV 1/2] END criterion=squared_error, max_depth=12, max_features=sqrt, n_estimators=20;, score=0.769 total time=   0.3s\n",
            "[CV 2/2] END criterion=squared_error, max_depth=12, max_features=sqrt, n_estimators=20;, score=0.798 total time=   0.3s\n",
            "[CV 1/2] END criterion=squared_error, max_depth=12, max_features=sqrt, n_estimators=50;, score=0.780 total time=   0.8s\n",
            "[CV 2/2] END criterion=squared_error, max_depth=12, max_features=sqrt, n_estimators=50;, score=0.806 total time=   0.8s\n",
            "[CV 1/2] END criterion=squared_error, max_depth=12, max_features=sqrt, n_estimators=100;, score=0.782 total time=   1.5s\n",
            "[CV 2/2] END criterion=squared_error, max_depth=12, max_features=sqrt, n_estimators=100;, score=0.805 total time=   1.5s\n",
            "[CV 1/2] END criterion=squared_error, max_depth=12, max_features=sqrt, n_estimators=150;, score=0.782 total time=   2.3s\n",
            "[CV 2/2] END criterion=squared_error, max_depth=12, max_features=sqrt, n_estimators=150;, score=0.806 total time=   2.3s\n",
            "[CV 1/2] END criterion=squared_error, max_depth=12, max_features=log2, n_estimators=10;, score=0.758 total time=   0.2s\n",
            "[CV 2/2] END criterion=squared_error, max_depth=12, max_features=log2, n_estimators=10;, score=0.780 total time=   0.2s\n",
            "[CV 1/2] END criterion=squared_error, max_depth=12, max_features=log2, n_estimators=20;, score=0.769 total time=   0.3s\n",
            "[CV 2/2] END criterion=squared_error, max_depth=12, max_features=log2, n_estimators=20;, score=0.798 total time=   0.3s\n",
            "[CV 1/2] END criterion=squared_error, max_depth=12, max_features=log2, n_estimators=50;, score=0.780 total time=   0.8s\n",
            "[CV 2/2] END criterion=squared_error, max_depth=12, max_features=log2, n_estimators=50;, score=0.806 total time=   0.8s\n",
            "[CV 1/2] END criterion=squared_error, max_depth=12, max_features=log2, n_estimators=100;, score=0.782 total time=   1.6s\n",
            "[CV 2/2] END criterion=squared_error, max_depth=12, max_features=log2, n_estimators=100;, score=0.805 total time=   1.5s\n",
            "[CV 1/2] END criterion=squared_error, max_depth=12, max_features=log2, n_estimators=150;, score=0.782 total time=   2.3s\n",
            "[CV 2/2] END criterion=squared_error, max_depth=12, max_features=log2, n_estimators=150;, score=0.806 total time=   2.3s\n",
            "[CV 1/2] END criterion=absolute_error, max_depth=2, max_features=None, n_estimators=10;, score=nan total time=   0.0s\n",
            "[CV 2/2] END criterion=absolute_error, max_depth=2, max_features=None, n_estimators=10;, score=nan total time=   0.0s\n",
            "[CV 1/2] END criterion=absolute_error, max_depth=2, max_features=None, n_estimators=20;, score=nan total time=   0.0s\n",
            "[CV 2/2] END criterion=absolute_error, max_depth=2, max_features=None, n_estimators=20;, score=nan total time=   0.0s\n",
            "[CV 1/2] END criterion=absolute_error, max_depth=2, max_features=None, n_estimators=50;, score=nan total time=   0.0s\n",
            "[CV 2/2] END criterion=absolute_error, max_depth=2, max_features=None, n_estimators=50;, score=nan total time=   0.0s\n",
            "[CV 1/2] END criterion=absolute_error, max_depth=2, max_features=None, n_estimators=100;, score=nan total time=   0.0s\n",
            "[CV 2/2] END criterion=absolute_error, max_depth=2, max_features=None, n_estimators=100;, score=nan total time=   0.0s\n",
            "[CV 1/2] END criterion=absolute_error, max_depth=2, max_features=None, n_estimators=150;, score=nan total time=   0.0s\n",
            "[CV 2/2] END criterion=absolute_error, max_depth=2, max_features=None, n_estimators=150;, score=nan total time=   0.1s\n",
            "[CV 1/2] END criterion=absolute_error, max_depth=2, max_features=sqrt, n_estimators=10;, score=0.364 total time=   3.2s\n",
            "[CV 2/2] END criterion=absolute_error, max_depth=2, max_features=sqrt, n_estimators=10;, score=0.406 total time=   3.3s\n",
            "[CV 1/2] END criterion=absolute_error, max_depth=2, max_features=sqrt, n_estimators=20;, score=0.387 total time=   5.7s\n",
            "[CV 2/2] END criterion=absolute_error, max_depth=2, max_features=sqrt, n_estimators=20;, score=0.412 total time=   5.9s\n",
            "[CV 1/2] END criterion=absolute_error, max_depth=2, max_features=sqrt, n_estimators=50;, score=0.406 total time=  13.8s\n",
            "[CV 2/2] END criterion=absolute_error, max_depth=2, max_features=sqrt, n_estimators=50;, score=0.426 total time=  14.1s\n",
            "[CV 1/2] END criterion=absolute_error, max_depth=2, max_features=sqrt, n_estimators=100;, score=0.395 total time=  27.0s\n",
            "[CV 2/2] END criterion=absolute_error, max_depth=2, max_features=sqrt, n_estimators=100;, score=0.423 total time=  28.4s\n",
            "[CV 1/2] END criterion=absolute_error, max_depth=2, max_features=sqrt, n_estimators=150;, score=0.394 total time=  40.9s\n",
            "[CV 2/2] END criterion=absolute_error, max_depth=2, max_features=sqrt, n_estimators=150;, score=0.423 total time=  41.1s\n",
            "[CV 1/2] END criterion=absolute_error, max_depth=2, max_features=log2, n_estimators=10;, score=0.364 total time=   3.2s\n",
            "[CV 2/2] END criterion=absolute_error, max_depth=2, max_features=log2, n_estimators=10;, score=0.406 total time=   3.3s\n",
            "[CV 1/2] END criterion=absolute_error, max_depth=2, max_features=log2, n_estimators=20;, score=0.387 total time=   5.8s\n",
            "[CV 2/2] END criterion=absolute_error, max_depth=2, max_features=log2, n_estimators=20;, score=0.412 total time=   5.9s\n",
            "[CV 1/2] END criterion=absolute_error, max_depth=2, max_features=log2, n_estimators=50;, score=0.406 total time=  13.9s\n",
            "[CV 2/2] END criterion=absolute_error, max_depth=2, max_features=log2, n_estimators=50;, score=0.426 total time=  14.1s\n",
            "[CV 1/2] END criterion=absolute_error, max_depth=2, max_features=log2, n_estimators=100;, score=0.395 total time=  27.0s\n",
            "[CV 2/2] END criterion=absolute_error, max_depth=2, max_features=log2, n_estimators=100;, score=0.423 total time=  28.4s\n",
            "[CV 1/2] END criterion=absolute_error, max_depth=2, max_features=log2, n_estimators=150;, score=0.394 total time=  40.9s\n",
            "[CV 2/2] END criterion=absolute_error, max_depth=2, max_features=log2, n_estimators=150;, score=0.423 total time=  41.3s\n",
            "[CV 1/2] END criterion=absolute_error, max_depth=4, max_features=None, n_estimators=10;, score=nan total time=   0.0s\n",
            "[CV 2/2] END criterion=absolute_error, max_depth=4, max_features=None, n_estimators=10;, score=nan total time=   0.0s\n",
            "[CV 1/2] END criterion=absolute_error, max_depth=4, max_features=None, n_estimators=20;, score=nan total time=   0.0s\n",
            "[CV 2/2] END criterion=absolute_error, max_depth=4, max_features=None, n_estimators=20;, score=nan total time=   0.0s\n",
            "[CV 1/2] END criterion=absolute_error, max_depth=4, max_features=None, n_estimators=50;, score=nan total time=   0.0s\n",
            "[CV 2/2] END criterion=absolute_error, max_depth=4, max_features=None, n_estimators=50;, score=nan total time=   0.0s\n",
            "[CV 1/2] END criterion=absolute_error, max_depth=4, max_features=None, n_estimators=100;, score=nan total time=   0.0s\n",
            "[CV 2/2] END criterion=absolute_error, max_depth=4, max_features=None, n_estimators=100;, score=nan total time=   0.0s\n",
            "[CV 1/2] END criterion=absolute_error, max_depth=4, max_features=None, n_estimators=150;, score=nan total time=   0.0s\n",
            "[CV 2/2] END criterion=absolute_error, max_depth=4, max_features=None, n_estimators=150;, score=nan total time=   0.1s\n",
            "[CV 1/2] END criterion=absolute_error, max_depth=4, max_features=sqrt, n_estimators=10;, score=0.559 total time=   4.3s\n",
            "[CV 2/2] END criterion=absolute_error, max_depth=4, max_features=sqrt, n_estimators=10;, score=0.588 total time=   4.4s\n",
            "[CV 1/2] END criterion=absolute_error, max_depth=4, max_features=sqrt, n_estimators=20;, score=0.578 total time=   7.9s\n",
            "[CV 2/2] END criterion=absolute_error, max_depth=4, max_features=sqrt, n_estimators=20;, score=0.597 total time=   8.1s\n",
            "[CV 1/2] END criterion=absolute_error, max_depth=4, max_features=sqrt, n_estimators=50;, score=0.588 total time=  19.4s\n",
            "[CV 2/2] END criterion=absolute_error, max_depth=4, max_features=sqrt, n_estimators=50;, score=0.607 total time=  19.9s\n",
            "[CV 1/2] END criterion=absolute_error, max_depth=4, max_features=sqrt, n_estimators=100;, score=0.581 total time=  38.2s\n",
            "[CV 2/2] END criterion=absolute_error, max_depth=4, max_features=sqrt, n_estimators=100;, score=0.607 total time=  38.9s\n",
            "[CV 1/2] END criterion=absolute_error, max_depth=4, max_features=sqrt, n_estimators=150;, score=0.581 total time=  56.8s\n",
            "[CV 2/2] END criterion=absolute_error, max_depth=4, max_features=sqrt, n_estimators=150;, score=0.610 total time=  57.0s\n",
            "[CV 1/2] END criterion=absolute_error, max_depth=4, max_features=log2, n_estimators=10;, score=0.559 total time=   4.3s\n",
            "[CV 2/2] END criterion=absolute_error, max_depth=4, max_features=log2, n_estimators=10;, score=0.588 total time=   4.4s\n",
            "[CV 1/2] END criterion=absolute_error, max_depth=4, max_features=log2, n_estimators=20;, score=0.578 total time=   7.9s\n",
            "[CV 2/2] END criterion=absolute_error, max_depth=4, max_features=log2, n_estimators=20;, score=0.597 total time=   8.1s\n",
            "[CV 1/2] END criterion=absolute_error, max_depth=4, max_features=log2, n_estimators=50;, score=0.588 total time=  19.3s\n",
            "[CV 2/2] END criterion=absolute_error, max_depth=4, max_features=log2, n_estimators=50;, score=0.607 total time=  20.6s\n",
            "[CV 1/2] END criterion=absolute_error, max_depth=4, max_features=log2, n_estimators=100;, score=0.581 total time=  37.4s\n",
            "[CV 2/2] END criterion=absolute_error, max_depth=4, max_features=log2, n_estimators=100;, score=0.607 total time=  37.8s\n",
            "[CV 1/2] END criterion=absolute_error, max_depth=4, max_features=log2, n_estimators=150;, score=0.581 total time=  56.5s\n",
            "[CV 2/2] END criterion=absolute_error, max_depth=4, max_features=log2, n_estimators=150;, score=0.610 total time=  56.9s\n",
            "[CV 1/2] END criterion=absolute_error, max_depth=6, max_features=None, n_estimators=10;, score=nan total time=   0.0s\n",
            "[CV 2/2] END criterion=absolute_error, max_depth=6, max_features=None, n_estimators=10;, score=nan total time=   0.0s\n",
            "[CV 1/2] END criterion=absolute_error, max_depth=6, max_features=None, n_estimators=20;, score=nan total time=   0.0s\n",
            "[CV 2/2] END criterion=absolute_error, max_depth=6, max_features=None, n_estimators=20;, score=nan total time=   0.0s\n",
            "[CV 1/2] END criterion=absolute_error, max_depth=6, max_features=None, n_estimators=50;, score=nan total time=   0.0s\n",
            "[CV 2/2] END criterion=absolute_error, max_depth=6, max_features=None, n_estimators=50;, score=nan total time=   0.0s\n",
            "[CV 1/2] END criterion=absolute_error, max_depth=6, max_features=None, n_estimators=100;, score=nan total time=   0.0s\n",
            "[CV 2/2] END criterion=absolute_error, max_depth=6, max_features=None, n_estimators=100;, score=nan total time=   0.0s\n",
            "[CV 1/2] END criterion=absolute_error, max_depth=6, max_features=None, n_estimators=150;, score=nan total time=   0.1s\n",
            "[CV 2/2] END criterion=absolute_error, max_depth=6, max_features=None, n_estimators=150;, score=nan total time=   0.1s\n",
            "[CV 1/2] END criterion=absolute_error, max_depth=6, max_features=sqrt, n_estimators=10;, score=0.680 total time=   4.9s\n",
            "[CV 2/2] END criterion=absolute_error, max_depth=6, max_features=sqrt, n_estimators=10;, score=0.693 total time=   6.0s\n",
            "[CV 1/2] END criterion=absolute_error, max_depth=6, max_features=sqrt, n_estimators=20;, score=0.687 total time=   8.9s\n",
            "[CV 2/2] END criterion=absolute_error, max_depth=6, max_features=sqrt, n_estimators=20;, score=0.697 total time=   9.1s\n",
            "[CV 1/2] END criterion=absolute_error, max_depth=6, max_features=sqrt, n_estimators=50;, score=0.691 total time=  21.8s\n",
            "[CV 2/2] END criterion=absolute_error, max_depth=6, max_features=sqrt, n_estimators=50;, score=0.710 total time=  22.0s\n",
            "[CV 1/2] END criterion=absolute_error, max_depth=6, max_features=sqrt, n_estimators=100;, score=0.692 total time=  42.4s\n",
            "[CV 2/2] END criterion=absolute_error, max_depth=6, max_features=sqrt, n_estimators=100;, score=0.712 total time=  42.9s\n",
            "[CV 1/2] END criterion=absolute_error, max_depth=6, max_features=sqrt, n_estimators=150;, score=0.691 total time= 1.1min\n",
            "[CV 2/2] END criterion=absolute_error, max_depth=6, max_features=sqrt, n_estimators=150;, score=0.714 total time= 1.1min\n",
            "[CV 1/2] END criterion=absolute_error, max_depth=6, max_features=log2, n_estimators=10;, score=0.680 total time=   4.9s\n",
            "[CV 2/2] END criterion=absolute_error, max_depth=6, max_features=log2, n_estimators=10;, score=0.693 total time=   4.9s\n",
            "[CV 1/2] END criterion=absolute_error, max_depth=6, max_features=log2, n_estimators=20;, score=0.687 total time=   8.9s\n",
            "[CV 2/2] END criterion=absolute_error, max_depth=6, max_features=log2, n_estimators=20;, score=0.697 total time=   9.1s\n",
            "[CV 1/2] END criterion=absolute_error, max_depth=6, max_features=log2, n_estimators=50;, score=0.691 total time=  21.8s\n",
            "[CV 2/2] END criterion=absolute_error, max_depth=6, max_features=log2, n_estimators=50;, score=0.710 total time=  22.1s\n",
            "[CV 1/2] END criterion=absolute_error, max_depth=6, max_features=log2, n_estimators=100;, score=0.692 total time=  42.6s\n",
            "[CV 2/2] END criterion=absolute_error, max_depth=6, max_features=log2, n_estimators=100;, score=0.712 total time=  43.9s\n",
            "[CV 1/2] END criterion=absolute_error, max_depth=6, max_features=log2, n_estimators=150;, score=0.691 total time= 1.1min\n",
            "[CV 2/2] END criterion=absolute_error, max_depth=6, max_features=log2, n_estimators=150;, score=0.714 total time= 1.1min\n",
            "[CV 1/2] END criterion=absolute_error, max_depth=8, max_features=None, n_estimators=10;, score=nan total time=   0.0s\n",
            "[CV 2/2] END criterion=absolute_error, max_depth=8, max_features=None, n_estimators=10;, score=nan total time=   0.0s\n",
            "[CV 1/2] END criterion=absolute_error, max_depth=8, max_features=None, n_estimators=20;, score=nan total time=   0.0s\n",
            "[CV 2/2] END criterion=absolute_error, max_depth=8, max_features=None, n_estimators=20;, score=nan total time=   0.0s\n",
            "[CV 1/2] END criterion=absolute_error, max_depth=8, max_features=None, n_estimators=50;, score=nan total time=   0.0s\n",
            "[CV 2/2] END criterion=absolute_error, max_depth=8, max_features=None, n_estimators=50;, score=nan total time=   0.0s\n",
            "[CV 1/2] END criterion=absolute_error, max_depth=8, max_features=None, n_estimators=100;, score=nan total time=   0.0s\n",
            "[CV 2/2] END criterion=absolute_error, max_depth=8, max_features=None, n_estimators=100;, score=nan total time=   0.0s\n",
            "[CV 1/2] END criterion=absolute_error, max_depth=8, max_features=None, n_estimators=150;, score=nan total time=   0.0s\n",
            "[CV 2/2] END criterion=absolute_error, max_depth=8, max_features=None, n_estimators=150;, score=nan total time=   0.1s\n",
            "[CV 1/2] END criterion=absolute_error, max_depth=8, max_features=sqrt, n_estimators=10;, score=0.732 total time=   5.2s\n",
            "[CV 2/2] END criterion=absolute_error, max_depth=8, max_features=sqrt, n_estimators=10;, score=0.738 total time=   5.3s\n",
            "[CV 1/2] END criterion=absolute_error, max_depth=8, max_features=sqrt, n_estimators=20;, score=0.741 total time=   9.7s\n",
            "[CV 2/2] END criterion=absolute_error, max_depth=8, max_features=sqrt, n_estimators=20;, score=0.752 total time=  10.7s\n",
            "[CV 1/2] END criterion=absolute_error, max_depth=8, max_features=sqrt, n_estimators=50;, score=0.740 total time=  23.5s\n",
            "[CV 2/2] END criterion=absolute_error, max_depth=8, max_features=sqrt, n_estimators=50;, score=0.767 total time=  23.6s\n",
            "[CV 1/2] END criterion=absolute_error, max_depth=8, max_features=sqrt, n_estimators=100;, score=0.743 total time=  45.2s\n",
            "[CV 2/2] END criterion=absolute_error, max_depth=8, max_features=sqrt, n_estimators=100;, score=0.769 total time=  45.7s\n",
            "[CV 1/2] END criterion=absolute_error, max_depth=8, max_features=sqrt, n_estimators=150;, score=0.744 total time= 1.2min\n",
            "[CV 2/2] END criterion=absolute_error, max_depth=8, max_features=sqrt, n_estimators=150;, score=0.769 total time= 1.1min\n",
            "[CV 1/2] END criterion=absolute_error, max_depth=8, max_features=log2, n_estimators=10;, score=0.732 total time=   5.2s\n",
            "[CV 2/2] END criterion=absolute_error, max_depth=8, max_features=log2, n_estimators=10;, score=0.738 total time=   5.3s\n",
            "[CV 1/2] END criterion=absolute_error, max_depth=8, max_features=log2, n_estimators=20;, score=0.741 total time=   9.6s\n",
            "[CV 2/2] END criterion=absolute_error, max_depth=8, max_features=log2, n_estimators=20;, score=0.752 total time=   9.9s\n",
            "[CV 1/2] END criterion=absolute_error, max_depth=8, max_features=log2, n_estimators=50;, score=0.740 total time=  23.2s\n",
            "[CV 2/2] END criterion=absolute_error, max_depth=8, max_features=log2, n_estimators=50;, score=0.767 total time=  23.6s\n",
            "[CV 1/2] END criterion=absolute_error, max_depth=8, max_features=log2, n_estimators=100;, score=0.743 total time=  46.2s\n",
            "[CV 2/2] END criterion=absolute_error, max_depth=8, max_features=log2, n_estimators=100;, score=0.769 total time=  45.8s\n",
            "[CV 1/2] END criterion=absolute_error, max_depth=8, max_features=log2, n_estimators=150;, score=0.744 total time= 1.1min\n",
            "[CV 2/2] END criterion=absolute_error, max_depth=8, max_features=log2, n_estimators=150;, score=0.769 total time= 1.1min\n",
            "[CV 1/2] END criterion=absolute_error, max_depth=10, max_features=None, n_estimators=10;, score=nan total time=   0.0s\n",
            "[CV 2/2] END criterion=absolute_error, max_depth=10, max_features=None, n_estimators=10;, score=nan total time=   0.0s\n",
            "[CV 1/2] END criterion=absolute_error, max_depth=10, max_features=None, n_estimators=20;, score=nan total time=   0.0s\n",
            "[CV 2/2] END criterion=absolute_error, max_depth=10, max_features=None, n_estimators=20;, score=nan total time=   0.0s\n",
            "[CV 1/2] END criterion=absolute_error, max_depth=10, max_features=None, n_estimators=50;, score=nan total time=   0.0s\n",
            "[CV 2/2] END criterion=absolute_error, max_depth=10, max_features=None, n_estimators=50;, score=nan total time=   0.0s\n",
            "[CV 1/2] END criterion=absolute_error, max_depth=10, max_features=None, n_estimators=100;, score=nan total time=   0.0s\n",
            "[CV 2/2] END criterion=absolute_error, max_depth=10, max_features=None, n_estimators=100;, score=nan total time=   0.0s\n",
            "[CV 1/2] END criterion=absolute_error, max_depth=10, max_features=None, n_estimators=150;, score=nan total time=   0.0s\n",
            "[CV 2/2] END criterion=absolute_error, max_depth=10, max_features=None, n_estimators=150;, score=nan total time=   0.1s\n",
            "[CV 1/2] END criterion=absolute_error, max_depth=10, max_features=sqrt, n_estimators=10;, score=0.745 total time=   6.0s\n",
            "[CV 2/2] END criterion=absolute_error, max_depth=10, max_features=sqrt, n_estimators=10;, score=0.779 total time=   6.0s\n",
            "[CV 1/2] END criterion=absolute_error, max_depth=10, max_features=sqrt, n_estimators=20;, score=0.761 total time=  10.0s\n",
            "[CV 2/2] END criterion=absolute_error, max_depth=10, max_features=sqrt, n_estimators=20;, score=0.788 total time=  10.3s\n",
            "[CV 1/2] END criterion=absolute_error, max_depth=10, max_features=sqrt, n_estimators=50;, score=0.764 total time=  24.3s\n",
            "[CV 2/2] END criterion=absolute_error, max_depth=10, max_features=sqrt, n_estimators=50;, score=0.792 total time=  24.7s\n",
            "[CV 1/2] END criterion=absolute_error, max_depth=10, max_features=sqrt, n_estimators=100;, score=0.766 total time=  47.5s\n",
            "[CV 2/2] END criterion=absolute_error, max_depth=10, max_features=sqrt, n_estimators=100;, score=0.796 total time=  47.8s\n",
            "[CV 1/2] END criterion=absolute_error, max_depth=10, max_features=sqrt, n_estimators=150;, score=0.768 total time= 1.2min\n",
            "[CV 2/2] END criterion=absolute_error, max_depth=10, max_features=sqrt, n_estimators=150;, score=0.798 total time= 1.2min\n",
            "[CV 1/2] END criterion=absolute_error, max_depth=10, max_features=log2, n_estimators=10;, score=0.745 total time=   5.4s\n",
            "[CV 2/2] END criterion=absolute_error, max_depth=10, max_features=log2, n_estimators=10;, score=0.779 total time=   5.5s\n",
            "[CV 1/2] END criterion=absolute_error, max_depth=10, max_features=log2, n_estimators=20;, score=0.761 total time=  10.0s\n",
            "[CV 2/2] END criterion=absolute_error, max_depth=10, max_features=log2, n_estimators=20;, score=0.788 total time=  10.3s\n",
            "[CV 1/2] END criterion=absolute_error, max_depth=10, max_features=log2, n_estimators=50;, score=0.764 total time=  24.4s\n",
            "[CV 2/2] END criterion=absolute_error, max_depth=10, max_features=log2, n_estimators=50;, score=0.792 total time=  25.9s\n",
            "[CV 1/2] END criterion=absolute_error, max_depth=10, max_features=log2, n_estimators=100;, score=0.766 total time=  47.5s\n",
            "[CV 2/2] END criterion=absolute_error, max_depth=10, max_features=log2, n_estimators=100;, score=0.796 total time=  47.7s\n",
            "[CV 1/2] END criterion=absolute_error, max_depth=10, max_features=log2, n_estimators=150;, score=0.768 total time= 1.2min\n",
            "[CV 2/2] END criterion=absolute_error, max_depth=10, max_features=log2, n_estimators=150;, score=0.798 total time= 1.2min\n",
            "[CV 1/2] END criterion=absolute_error, max_depth=12, max_features=None, n_estimators=10;, score=nan total time=   0.0s\n",
            "[CV 2/2] END criterion=absolute_error, max_depth=12, max_features=None, n_estimators=10;, score=nan total time=   0.0s\n",
            "[CV 1/2] END criterion=absolute_error, max_depth=12, max_features=None, n_estimators=20;, score=nan total time=   0.0s\n",
            "[CV 2/2] END criterion=absolute_error, max_depth=12, max_features=None, n_estimators=20;, score=nan total time=   0.0s\n",
            "[CV 1/2] END criterion=absolute_error, max_depth=12, max_features=None, n_estimators=50;, score=nan total time=   0.0s\n",
            "[CV 2/2] END criterion=absolute_error, max_depth=12, max_features=None, n_estimators=50;, score=nan total time=   0.0s\n",
            "[CV 1/2] END criterion=absolute_error, max_depth=12, max_features=None, n_estimators=100;, score=nan total time=   0.0s\n",
            "[CV 2/2] END criterion=absolute_error, max_depth=12, max_features=None, n_estimators=100;, score=nan total time=   0.0s\n",
            "[CV 1/2] END criterion=absolute_error, max_depth=12, max_features=None, n_estimators=150;, score=nan total time=   0.0s\n",
            "[CV 2/2] END criterion=absolute_error, max_depth=12, max_features=None, n_estimators=150;, score=nan total time=   0.1s\n",
            "[CV 1/2] END criterion=absolute_error, max_depth=12, max_features=sqrt, n_estimators=10;, score=0.772 total time=   5.6s\n",
            "[CV 2/2] END criterion=absolute_error, max_depth=12, max_features=sqrt, n_estimators=10;, score=0.771 total time=   5.6s\n",
            "[CV 1/2] END criterion=absolute_error, max_depth=12, max_features=sqrt, n_estimators=20;, score=0.775 total time=  10.3s\n",
            "[CV 2/2] END criterion=absolute_error, max_depth=12, max_features=sqrt, n_estimators=20;, score=0.793 total time=  10.5s\n",
            "[CV 1/2] END criterion=absolute_error, max_depth=12, max_features=sqrt, n_estimators=50;, score=0.782 total time=  24.9s\n",
            "[CV 2/2] END criterion=absolute_error, max_depth=12, max_features=sqrt, n_estimators=50;, score=0.803 total time=  25.2s\n",
            "[CV 1/2] END criterion=absolute_error, max_depth=12, max_features=sqrt, n_estimators=100;, score=0.783 total time=  48.7s\n",
            "[CV 2/2] END criterion=absolute_error, max_depth=12, max_features=sqrt, n_estimators=100;, score=0.809 total time=  50.2s\n",
            "[CV 1/2] END criterion=absolute_error, max_depth=12, max_features=sqrt, n_estimators=150;, score=0.782 total time= 1.2min\n",
            "[CV 2/2] END criterion=absolute_error, max_depth=12, max_features=sqrt, n_estimators=150;, score=0.810 total time= 1.2min\n",
            "[CV 1/2] END criterion=absolute_error, max_depth=12, max_features=log2, n_estimators=10;, score=0.772 total time=   5.6s\n",
            "[CV 2/2] END criterion=absolute_error, max_depth=12, max_features=log2, n_estimators=10;, score=0.771 total time=   6.7s\n",
            "[CV 1/2] END criterion=absolute_error, max_depth=12, max_features=log2, n_estimators=20;, score=0.775 total time=  10.2s\n",
            "[CV 2/2] END criterion=absolute_error, max_depth=12, max_features=log2, n_estimators=20;, score=0.793 total time=  10.5s\n",
            "[CV 1/2] END criterion=absolute_error, max_depth=12, max_features=log2, n_estimators=50;, score=0.782 total time=  25.0s\n",
            "[CV 2/2] END criterion=absolute_error, max_depth=12, max_features=log2, n_estimators=50;, score=0.803 total time=  25.2s\n",
            "[CV 1/2] END criterion=absolute_error, max_depth=12, max_features=log2, n_estimators=100;, score=0.783 total time=  48.7s\n",
            "[CV 2/2] END criterion=absolute_error, max_depth=12, max_features=log2, n_estimators=100;, score=0.809 total time=  49.5s\n",
            "[CV 1/2] END criterion=absolute_error, max_depth=12, max_features=log2, n_estimators=150;, score=0.782 total time= 1.3min\n",
            "[CV 2/2] END criterion=absolute_error, max_depth=12, max_features=log2, n_estimators=150;, score=0.810 total time= 1.2min\n",
            "[CV 1/2] END criterion=friedman_mse, max_depth=2, max_features=None, n_estimators=10;, score=nan total time=   0.0s\n",
            "[CV 2/2] END criterion=friedman_mse, max_depth=2, max_features=None, n_estimators=10;, score=nan total time=   0.0s\n",
            "[CV 1/2] END criterion=friedman_mse, max_depth=2, max_features=None, n_estimators=20;, score=nan total time=   0.0s\n",
            "[CV 2/2] END criterion=friedman_mse, max_depth=2, max_features=None, n_estimators=20;, score=nan total time=   0.0s\n",
            "[CV 1/2] END criterion=friedman_mse, max_depth=2, max_features=None, n_estimators=50;, score=nan total time=   0.0s\n",
            "[CV 2/2] END criterion=friedman_mse, max_depth=2, max_features=None, n_estimators=50;, score=nan total time=   0.0s\n",
            "[CV 1/2] END criterion=friedman_mse, max_depth=2, max_features=None, n_estimators=100;, score=nan total time=   0.0s\n",
            "[CV 2/2] END criterion=friedman_mse, max_depth=2, max_features=None, n_estimators=100;, score=nan total time=   0.0s\n",
            "[CV 1/2] END criterion=friedman_mse, max_depth=2, max_features=None, n_estimators=150;, score=nan total time=   0.1s\n",
            "[CV 2/2] END criterion=friedman_mse, max_depth=2, max_features=None, n_estimators=150;, score=nan total time=   0.1s\n",
            "[CV 1/2] END criterion=friedman_mse, max_depth=2, max_features=sqrt, n_estimators=10;, score=0.451 total time=   0.0s\n",
            "[CV 2/2] END criterion=friedman_mse, max_depth=2, max_features=sqrt, n_estimators=10;, score=0.474 total time=   0.0s\n",
            "[CV 1/2] END criterion=friedman_mse, max_depth=2, max_features=sqrt, n_estimators=20;, score=0.465 total time=   0.1s\n",
            "[CV 2/2] END criterion=friedman_mse, max_depth=2, max_features=sqrt, n_estimators=20;, score=0.491 total time=   0.1s\n",
            "[CV 1/2] END criterion=friedman_mse, max_depth=2, max_features=sqrt, n_estimators=50;, score=0.477 total time=   0.2s\n",
            "[CV 2/2] END criterion=friedman_mse, max_depth=2, max_features=sqrt, n_estimators=50;, score=0.501 total time=   0.2s\n",
            "[CV 1/2] END criterion=friedman_mse, max_depth=2, max_features=sqrt, n_estimators=100;, score=0.475 total time=   0.4s\n",
            "[CV 2/2] END criterion=friedman_mse, max_depth=2, max_features=sqrt, n_estimators=100;, score=0.498 total time=   0.4s\n",
            "[CV 1/2] END criterion=friedman_mse, max_depth=2, max_features=sqrt, n_estimators=150;, score=0.474 total time=   0.6s\n",
            "[CV 2/2] END criterion=friedman_mse, max_depth=2, max_features=sqrt, n_estimators=150;, score=0.494 total time=   0.6s\n",
            "[CV 1/2] END criterion=friedman_mse, max_depth=2, max_features=log2, n_estimators=10;, score=0.451 total time=   0.1s\n",
            "[CV 2/2] END criterion=friedman_mse, max_depth=2, max_features=log2, n_estimators=10;, score=0.474 total time=   0.1s\n",
            "[CV 1/2] END criterion=friedman_mse, max_depth=2, max_features=log2, n_estimators=20;, score=0.465 total time=   0.1s\n",
            "[CV 2/2] END criterion=friedman_mse, max_depth=2, max_features=log2, n_estimators=20;, score=0.491 total time=   0.1s\n",
            "[CV 1/2] END criterion=friedman_mse, max_depth=2, max_features=log2, n_estimators=50;, score=0.477 total time=   0.2s\n",
            "[CV 2/2] END criterion=friedman_mse, max_depth=2, max_features=log2, n_estimators=50;, score=0.501 total time=   0.2s\n",
            "[CV 1/2] END criterion=friedman_mse, max_depth=2, max_features=log2, n_estimators=100;, score=0.475 total time=   0.4s\n",
            "[CV 2/2] END criterion=friedman_mse, max_depth=2, max_features=log2, n_estimators=100;, score=0.498 total time=   0.4s\n",
            "[CV 1/2] END criterion=friedman_mse, max_depth=2, max_features=log2, n_estimators=150;, score=0.474 total time=   0.6s\n",
            "[CV 2/2] END criterion=friedman_mse, max_depth=2, max_features=log2, n_estimators=150;, score=0.494 total time=   0.6s\n",
            "[CV 1/2] END criterion=friedman_mse, max_depth=4, max_features=None, n_estimators=10;, score=nan total time=   0.0s\n",
            "[CV 2/2] END criterion=friedman_mse, max_depth=4, max_features=None, n_estimators=10;, score=nan total time=   0.0s\n",
            "[CV 1/2] END criterion=friedman_mse, max_depth=4, max_features=None, n_estimators=20;, score=nan total time=   0.0s\n",
            "[CV 2/2] END criterion=friedman_mse, max_depth=4, max_features=None, n_estimators=20;, score=nan total time=   0.0s\n",
            "[CV 1/2] END criterion=friedman_mse, max_depth=4, max_features=None, n_estimators=50;, score=nan total time=   0.0s\n",
            "[CV 2/2] END criterion=friedman_mse, max_depth=4, max_features=None, n_estimators=50;, score=nan total time=   0.0s\n",
            "[CV 1/2] END criterion=friedman_mse, max_depth=4, max_features=None, n_estimators=100;, score=nan total time=   0.0s\n",
            "[CV 2/2] END criterion=friedman_mse, max_depth=4, max_features=None, n_estimators=100;, score=nan total time=   0.0s\n",
            "[CV 1/2] END criterion=friedman_mse, max_depth=4, max_features=None, n_estimators=150;, score=nan total time=   0.1s\n",
            "[CV 2/2] END criterion=friedman_mse, max_depth=4, max_features=None, n_estimators=150;, score=nan total time=   0.1s\n",
            "[CV 1/2] END criterion=friedman_mse, max_depth=4, max_features=sqrt, n_estimators=10;, score=0.625 total time=   0.1s\n",
            "[CV 2/2] END criterion=friedman_mse, max_depth=4, max_features=sqrt, n_estimators=10;, score=0.604 total time=   0.1s\n",
            "[CV 1/2] END criterion=friedman_mse, max_depth=4, max_features=sqrt, n_estimators=20;, score=0.622 total time=   0.1s\n",
            "[CV 2/2] END criterion=friedman_mse, max_depth=4, max_features=sqrt, n_estimators=20;, score=0.621 total time=   0.1s\n",
            "[CV 1/2] END criterion=friedman_mse, max_depth=4, max_features=sqrt, n_estimators=50;, score=0.628 total time=   0.4s\n",
            "[CV 2/2] END criterion=friedman_mse, max_depth=4, max_features=sqrt, n_estimators=50;, score=0.630 total time=   0.3s\n",
            "[CV 1/2] END criterion=friedman_mse, max_depth=4, max_features=sqrt, n_estimators=100;, score=0.624 total time=   0.7s\n",
            "[CV 2/2] END criterion=friedman_mse, max_depth=4, max_features=sqrt, n_estimators=100;, score=0.632 total time=   0.7s\n",
            "[CV 1/2] END criterion=friedman_mse, max_depth=4, max_features=sqrt, n_estimators=150;, score=0.624 total time=   1.0s\n",
            "[CV 2/2] END criterion=friedman_mse, max_depth=4, max_features=sqrt, n_estimators=150;, score=0.633 total time=   1.0s\n",
            "[CV 1/2] END criterion=friedman_mse, max_depth=4, max_features=log2, n_estimators=10;, score=0.625 total time=   0.1s\n",
            "[CV 2/2] END criterion=friedman_mse, max_depth=4, max_features=log2, n_estimators=10;, score=0.604 total time=   0.1s\n",
            "[CV 1/2] END criterion=friedman_mse, max_depth=4, max_features=log2, n_estimators=20;, score=0.622 total time=   0.1s\n",
            "[CV 2/2] END criterion=friedman_mse, max_depth=4, max_features=log2, n_estimators=20;, score=0.621 total time=   0.1s\n",
            "[CV 1/2] END criterion=friedman_mse, max_depth=4, max_features=log2, n_estimators=50;, score=0.628 total time=   0.3s\n",
            "[CV 2/2] END criterion=friedman_mse, max_depth=4, max_features=log2, n_estimators=50;, score=0.630 total time=   0.3s\n",
            "[CV 1/2] END criterion=friedman_mse, max_depth=4, max_features=log2, n_estimators=100;, score=0.624 total time=   0.7s\n",
            "[CV 2/2] END criterion=friedman_mse, max_depth=4, max_features=log2, n_estimators=100;, score=0.632 total time=   0.6s\n",
            "[CV 1/2] END criterion=friedman_mse, max_depth=4, max_features=log2, n_estimators=150;, score=0.624 total time=   1.0s\n",
            "[CV 2/2] END criterion=friedman_mse, max_depth=4, max_features=log2, n_estimators=150;, score=0.633 total time=   1.0s\n",
            "[CV 1/2] END criterion=friedman_mse, max_depth=6, max_features=None, n_estimators=10;, score=nan total time=   0.0s\n",
            "[CV 2/2] END criterion=friedman_mse, max_depth=6, max_features=None, n_estimators=10;, score=nan total time=   0.0s\n",
            "[CV 1/2] END criterion=friedman_mse, max_depth=6, max_features=None, n_estimators=20;, score=nan total time=   0.0s\n",
            "[CV 2/2] END criterion=friedman_mse, max_depth=6, max_features=None, n_estimators=20;, score=nan total time=   0.0s\n",
            "[CV 1/2] END criterion=friedman_mse, max_depth=6, max_features=None, n_estimators=50;, score=nan total time=   0.0s\n",
            "[CV 2/2] END criterion=friedman_mse, max_depth=6, max_features=None, n_estimators=50;, score=nan total time=   0.0s\n",
            "[CV 1/2] END criterion=friedman_mse, max_depth=6, max_features=None, n_estimators=100;, score=nan total time=   0.0s\n",
            "[CV 2/2] END criterion=friedman_mse, max_depth=6, max_features=None, n_estimators=100;, score=nan total time=   0.0s\n",
            "[CV 1/2] END criterion=friedman_mse, max_depth=6, max_features=None, n_estimators=150;, score=nan total time=   0.0s\n",
            "[CV 2/2] END criterion=friedman_mse, max_depth=6, max_features=None, n_estimators=150;, score=nan total time=   0.1s\n",
            "[CV 1/2] END criterion=friedman_mse, max_depth=6, max_features=sqrt, n_estimators=10;, score=0.700 total time=   0.1s\n",
            "[CV 2/2] END criterion=friedman_mse, max_depth=6, max_features=sqrt, n_estimators=10;, score=0.704 total time=   0.1s\n",
            "[CV 1/2] END criterion=friedman_mse, max_depth=6, max_features=sqrt, n_estimators=20;, score=0.700 total time=   0.2s\n",
            "[CV 2/2] END criterion=friedman_mse, max_depth=6, max_features=sqrt, n_estimators=20;, score=0.710 total time=   0.2s\n",
            "[CV 1/2] END criterion=friedman_mse, max_depth=6, max_features=sqrt, n_estimators=50;, score=0.706 total time=   0.5s\n",
            "[CV 2/2] END criterion=friedman_mse, max_depth=6, max_features=sqrt, n_estimators=50;, score=0.716 total time=   0.4s\n",
            "[CV 1/2] END criterion=friedman_mse, max_depth=6, max_features=sqrt, n_estimators=100;, score=0.707 total time=   0.9s\n",
            "[CV 2/2] END criterion=friedman_mse, max_depth=6, max_features=sqrt, n_estimators=100;, score=0.717 total time=   0.9s\n",
            "[CV 1/2] END criterion=friedman_mse, max_depth=6, max_features=sqrt, n_estimators=150;, score=0.707 total time=   1.3s\n",
            "[CV 2/2] END criterion=friedman_mse, max_depth=6, max_features=sqrt, n_estimators=150;, score=0.717 total time=   1.3s\n",
            "[CV 1/2] END criterion=friedman_mse, max_depth=6, max_features=log2, n_estimators=10;, score=0.700 total time=   0.1s\n",
            "[CV 2/2] END criterion=friedman_mse, max_depth=6, max_features=log2, n_estimators=10;, score=0.704 total time=   0.1s\n",
            "[CV 1/2] END criterion=friedman_mse, max_depth=6, max_features=log2, n_estimators=20;, score=0.700 total time=   0.2s\n",
            "[CV 2/2] END criterion=friedman_mse, max_depth=6, max_features=log2, n_estimators=20;, score=0.710 total time=   0.2s\n",
            "[CV 1/2] END criterion=friedman_mse, max_depth=6, max_features=log2, n_estimators=50;, score=0.706 total time=   0.5s\n",
            "[CV 2/2] END criterion=friedman_mse, max_depth=6, max_features=log2, n_estimators=50;, score=0.716 total time=   0.5s\n",
            "[CV 1/2] END criterion=friedman_mse, max_depth=6, max_features=log2, n_estimators=100;, score=0.707 total time=   0.9s\n",
            "[CV 2/2] END criterion=friedman_mse, max_depth=6, max_features=log2, n_estimators=100;, score=0.717 total time=   0.9s\n",
            "[CV 1/2] END criterion=friedman_mse, max_depth=6, max_features=log2, n_estimators=150;, score=0.707 total time=   1.3s\n",
            "[CV 2/2] END criterion=friedman_mse, max_depth=6, max_features=log2, n_estimators=150;, score=0.717 total time=   1.3s\n",
            "[CV 1/2] END criterion=friedman_mse, max_depth=8, max_features=None, n_estimators=10;, score=nan total time=   0.0s\n",
            "[CV 2/2] END criterion=friedman_mse, max_depth=8, max_features=None, n_estimators=10;, score=nan total time=   0.0s\n",
            "[CV 1/2] END criterion=friedman_mse, max_depth=8, max_features=None, n_estimators=20;, score=nan total time=   0.0s\n",
            "[CV 2/2] END criterion=friedman_mse, max_depth=8, max_features=None, n_estimators=20;, score=nan total time=   0.0s\n",
            "[CV 1/2] END criterion=friedman_mse, max_depth=8, max_features=None, n_estimators=50;, score=nan total time=   0.0s\n",
            "[CV 2/2] END criterion=friedman_mse, max_depth=8, max_features=None, n_estimators=50;, score=nan total time=   0.0s\n",
            "[CV 1/2] END criterion=friedman_mse, max_depth=8, max_features=None, n_estimators=100;, score=nan total time=   0.0s\n",
            "[CV 2/2] END criterion=friedman_mse, max_depth=8, max_features=None, n_estimators=100;, score=nan total time=   0.0s\n",
            "[CV 1/2] END criterion=friedman_mse, max_depth=8, max_features=None, n_estimators=150;, score=nan total time=   0.1s\n",
            "[CV 2/2] END criterion=friedman_mse, max_depth=8, max_features=None, n_estimators=150;, score=nan total time=   0.1s\n",
            "[CV 1/2] END criterion=friedman_mse, max_depth=8, max_features=sqrt, n_estimators=10;, score=0.732 total time=   0.1s\n",
            "[CV 2/2] END criterion=friedman_mse, max_depth=8, max_features=sqrt, n_estimators=10;, score=0.739 total time=   0.1s\n",
            "[CV 1/2] END criterion=friedman_mse, max_depth=8, max_features=sqrt, n_estimators=20;, score=0.743 total time=   0.2s\n",
            "[CV 2/2] END criterion=friedman_mse, max_depth=8, max_features=sqrt, n_estimators=20;, score=0.753 total time=   0.2s\n",
            "[CV 1/2] END criterion=friedman_mse, max_depth=8, max_features=sqrt, n_estimators=50;, score=0.750 total time=   0.6s\n",
            "[CV 2/2] END criterion=friedman_mse, max_depth=8, max_features=sqrt, n_estimators=50;, score=0.762 total time=   0.6s\n",
            "[CV 1/2] END criterion=friedman_mse, max_depth=8, max_features=sqrt, n_estimators=100;, score=0.751 total time=   1.1s\n",
            "[CV 2/2] END criterion=friedman_mse, max_depth=8, max_features=sqrt, n_estimators=100;, score=0.763 total time=   1.1s\n",
            "[CV 1/2] END criterion=friedman_mse, max_depth=8, max_features=sqrt, n_estimators=150;, score=0.751 total time=   1.6s\n",
            "[CV 2/2] END criterion=friedman_mse, max_depth=8, max_features=sqrt, n_estimators=150;, score=0.766 total time=   1.7s\n",
            "[CV 1/2] END criterion=friedman_mse, max_depth=8, max_features=log2, n_estimators=10;, score=0.732 total time=   0.1s\n",
            "[CV 2/2] END criterion=friedman_mse, max_depth=8, max_features=log2, n_estimators=10;, score=0.739 total time=   0.1s\n",
            "[CV 1/2] END criterion=friedman_mse, max_depth=8, max_features=log2, n_estimators=20;, score=0.743 total time=   0.2s\n",
            "[CV 2/2] END criterion=friedman_mse, max_depth=8, max_features=log2, n_estimators=20;, score=0.753 total time=   0.2s\n",
            "[CV 1/2] END criterion=friedman_mse, max_depth=8, max_features=log2, n_estimators=50;, score=0.750 total time=   0.6s\n",
            "[CV 2/2] END criterion=friedman_mse, max_depth=8, max_features=log2, n_estimators=50;, score=0.762 total time=   0.6s\n",
            "[CV 1/2] END criterion=friedman_mse, max_depth=8, max_features=log2, n_estimators=100;, score=0.751 total time=   1.1s\n",
            "[CV 2/2] END criterion=friedman_mse, max_depth=8, max_features=log2, n_estimators=100;, score=0.763 total time=   1.1s\n",
            "[CV 1/2] END criterion=friedman_mse, max_depth=8, max_features=log2, n_estimators=150;, score=0.751 total time=   1.7s\n",
            "[CV 2/2] END criterion=friedman_mse, max_depth=8, max_features=log2, n_estimators=150;, score=0.766 total time=   1.7s\n",
            "[CV 1/2] END criterion=friedman_mse, max_depth=10, max_features=None, n_estimators=10;, score=nan total time=   0.0s\n",
            "[CV 2/2] END criterion=friedman_mse, max_depth=10, max_features=None, n_estimators=10;, score=nan total time=   0.0s\n",
            "[CV 1/2] END criterion=friedman_mse, max_depth=10, max_features=None, n_estimators=20;, score=nan total time=   0.0s\n",
            "[CV 2/2] END criterion=friedman_mse, max_depth=10, max_features=None, n_estimators=20;, score=nan total time=   0.0s\n",
            "[CV 1/2] END criterion=friedman_mse, max_depth=10, max_features=None, n_estimators=50;, score=nan total time=   0.0s\n",
            "[CV 2/2] END criterion=friedman_mse, max_depth=10, max_features=None, n_estimators=50;, score=nan total time=   0.0s\n",
            "[CV 1/2] END criterion=friedman_mse, max_depth=10, max_features=None, n_estimators=100;, score=nan total time=   0.0s\n",
            "[CV 2/2] END criterion=friedman_mse, max_depth=10, max_features=None, n_estimators=100;, score=nan total time=   0.0s\n",
            "[CV 1/2] END criterion=friedman_mse, max_depth=10, max_features=None, n_estimators=150;, score=nan total time=   0.0s\n",
            "[CV 2/2] END criterion=friedman_mse, max_depth=10, max_features=None, n_estimators=150;, score=nan total time=   0.1s\n",
            "[CV 1/2] END criterion=friedman_mse, max_depth=10, max_features=sqrt, n_estimators=10;, score=0.745 total time=   0.1s\n",
            "[CV 2/2] END criterion=friedman_mse, max_depth=10, max_features=sqrt, n_estimators=10;, score=0.766 total time=   0.2s\n",
            "[CV 1/2] END criterion=friedman_mse, max_depth=10, max_features=sqrt, n_estimators=20;, score=0.764 total time=   0.3s\n",
            "[CV 2/2] END criterion=friedman_mse, max_depth=10, max_features=sqrt, n_estimators=20;, score=0.779 total time=   0.3s\n",
            "[CV 1/2] END criterion=friedman_mse, max_depth=10, max_features=sqrt, n_estimators=50;, score=0.765 total time=   0.7s\n",
            "[CV 2/2] END criterion=friedman_mse, max_depth=10, max_features=sqrt, n_estimators=50;, score=0.789 total time=   0.7s\n",
            "[CV 1/2] END criterion=friedman_mse, max_depth=10, max_features=sqrt, n_estimators=100;, score=0.769 total time=   1.3s\n",
            "[CV 2/2] END criterion=friedman_mse, max_depth=10, max_features=sqrt, n_estimators=100;, score=0.791 total time=   1.3s\n",
            "[CV 1/2] END criterion=friedman_mse, max_depth=10, max_features=sqrt, n_estimators=150;, score=0.772 total time=   2.0s\n",
            "[CV 2/2] END criterion=friedman_mse, max_depth=10, max_features=sqrt, n_estimators=150;, score=0.792 total time=   2.0s\n",
            "[CV 1/2] END criterion=friedman_mse, max_depth=10, max_features=log2, n_estimators=10;, score=0.745 total time=   0.1s\n",
            "[CV 2/2] END criterion=friedman_mse, max_depth=10, max_features=log2, n_estimators=10;, score=0.766 total time=   0.2s\n",
            "[CV 1/2] END criterion=friedman_mse, max_depth=10, max_features=log2, n_estimators=20;, score=0.764 total time=   0.3s\n",
            "[CV 2/2] END criterion=friedman_mse, max_depth=10, max_features=log2, n_estimators=20;, score=0.779 total time=   0.3s\n",
            "[CV 1/2] END criterion=friedman_mse, max_depth=10, max_features=log2, n_estimators=50;, score=0.765 total time=   0.7s\n",
            "[CV 2/2] END criterion=friedman_mse, max_depth=10, max_features=log2, n_estimators=50;, score=0.789 total time=   0.7s\n",
            "[CV 1/2] END criterion=friedman_mse, max_depth=10, max_features=log2, n_estimators=100;, score=0.769 total time=   1.3s\n",
            "[CV 2/2] END criterion=friedman_mse, max_depth=10, max_features=log2, n_estimators=100;, score=0.791 total time=   1.3s\n",
            "[CV 1/2] END criterion=friedman_mse, max_depth=10, max_features=log2, n_estimators=150;, score=0.772 total time=   2.0s\n",
            "[CV 2/2] END criterion=friedman_mse, max_depth=10, max_features=log2, n_estimators=150;, score=0.792 total time=   2.0s\n",
            "[CV 1/2] END criterion=friedman_mse, max_depth=12, max_features=None, n_estimators=10;, score=nan total time=   0.0s\n",
            "[CV 2/2] END criterion=friedman_mse, max_depth=12, max_features=None, n_estimators=10;, score=nan total time=   0.0s\n",
            "[CV 1/2] END criterion=friedman_mse, max_depth=12, max_features=None, n_estimators=20;, score=nan total time=   0.0s\n",
            "[CV 2/2] END criterion=friedman_mse, max_depth=12, max_features=None, n_estimators=20;, score=nan total time=   0.0s\n",
            "[CV 1/2] END criterion=friedman_mse, max_depth=12, max_features=None, n_estimators=50;, score=nan total time=   0.0s\n",
            "[CV 2/2] END criterion=friedman_mse, max_depth=12, max_features=None, n_estimators=50;, score=nan total time=   0.0s\n",
            "[CV 1/2] END criterion=friedman_mse, max_depth=12, max_features=None, n_estimators=100;, score=nan total time=   0.0s\n",
            "[CV 2/2] END criterion=friedman_mse, max_depth=12, max_features=None, n_estimators=100;, score=nan total time=   0.0s\n",
            "[CV 1/2] END criterion=friedman_mse, max_depth=12, max_features=None, n_estimators=150;, score=nan total time=   0.0s\n",
            "[CV 2/2] END criterion=friedman_mse, max_depth=12, max_features=None, n_estimators=150;, score=nan total time=   0.1s\n",
            "[CV 1/2] END criterion=friedman_mse, max_depth=12, max_features=sqrt, n_estimators=10;, score=0.758 total time=   0.2s\n",
            "[CV 2/2] END criterion=friedman_mse, max_depth=12, max_features=sqrt, n_estimators=10;, score=0.780 total time=   0.2s\n",
            "[CV 1/2] END criterion=friedman_mse, max_depth=12, max_features=sqrt, n_estimators=20;, score=0.769 total time=   0.3s\n",
            "[CV 2/2] END criterion=friedman_mse, max_depth=12, max_features=sqrt, n_estimators=20;, score=0.798 total time=   0.3s\n",
            "[CV 1/2] END criterion=friedman_mse, max_depth=12, max_features=sqrt, n_estimators=50;, score=0.780 total time=   0.8s\n",
            "[CV 2/2] END criterion=friedman_mse, max_depth=12, max_features=sqrt, n_estimators=50;, score=0.806 total time=   0.8s\n",
            "[CV 1/2] END criterion=friedman_mse, max_depth=12, max_features=sqrt, n_estimators=100;, score=0.782 total time=   1.5s\n",
            "[CV 2/2] END criterion=friedman_mse, max_depth=12, max_features=sqrt, n_estimators=100;, score=0.805 total time=   1.5s\n",
            "[CV 1/2] END criterion=friedman_mse, max_depth=12, max_features=sqrt, n_estimators=150;, score=0.782 total time=   2.4s\n",
            "[CV 2/2] END criterion=friedman_mse, max_depth=12, max_features=sqrt, n_estimators=150;, score=0.806 total time=   3.1s\n",
            "[CV 1/2] END criterion=friedman_mse, max_depth=12, max_features=log2, n_estimators=10;, score=0.758 total time=   0.2s\n",
            "[CV 2/2] END criterion=friedman_mse, max_depth=12, max_features=log2, n_estimators=10;, score=0.780 total time=   0.2s\n",
            "[CV 1/2] END criterion=friedman_mse, max_depth=12, max_features=log2, n_estimators=20;, score=0.769 total time=   0.3s\n",
            "[CV 2/2] END criterion=friedman_mse, max_depth=12, max_features=log2, n_estimators=20;, score=0.798 total time=   0.3s\n",
            "[CV 1/2] END criterion=friedman_mse, max_depth=12, max_features=log2, n_estimators=50;, score=0.780 total time=   0.8s\n",
            "[CV 2/2] END criterion=friedman_mse, max_depth=12, max_features=log2, n_estimators=50;, score=0.806 total time=   0.8s\n",
            "[CV 1/2] END criterion=friedman_mse, max_depth=12, max_features=log2, n_estimators=100;, score=0.782 total time=   1.6s\n",
            "[CV 2/2] END criterion=friedman_mse, max_depth=12, max_features=log2, n_estimators=100;, score=0.805 total time=   1.5s\n",
            "[CV 1/2] END criterion=friedman_mse, max_depth=12, max_features=log2, n_estimators=150;, score=0.782 total time=   2.3s\n",
            "[CV 2/2] END criterion=friedman_mse, max_depth=12, max_features=log2, n_estimators=150;, score=0.806 total time=   2.3s\n",
            "[CV 1/2] END criterion=poisson, max_depth=2, max_features=None, n_estimators=10;, score=nan total time=   0.0s\n",
            "[CV 2/2] END criterion=poisson, max_depth=2, max_features=None, n_estimators=10;, score=nan total time=   0.0s\n",
            "[CV 1/2] END criterion=poisson, max_depth=2, max_features=None, n_estimators=20;, score=nan total time=   0.0s\n",
            "[CV 2/2] END criterion=poisson, max_depth=2, max_features=None, n_estimators=20;, score=nan total time=   0.0s\n",
            "[CV 1/2] END criterion=poisson, max_depth=2, max_features=None, n_estimators=50;, score=nan total time=   0.0s\n",
            "[CV 2/2] END criterion=poisson, max_depth=2, max_features=None, n_estimators=50;, score=nan total time=   0.0s\n",
            "[CV 1/2] END criterion=poisson, max_depth=2, max_features=None, n_estimators=100;, score=nan total time=   0.0s\n",
            "[CV 2/2] END criterion=poisson, max_depth=2, max_features=None, n_estimators=100;, score=nan total time=   0.0s\n",
            "[CV 1/2] END criterion=poisson, max_depth=2, max_features=None, n_estimators=150;, score=nan total time=   0.1s\n",
            "[CV 2/2] END criterion=poisson, max_depth=2, max_features=None, n_estimators=150;, score=nan total time=   0.0s\n",
            "[CV 1/2] END criterion=poisson, max_depth=2, max_features=sqrt, n_estimators=10;, score=0.098 total time=   0.1s\n",
            "[CV 2/2] END criterion=poisson, max_depth=2, max_features=sqrt, n_estimators=10;, score=0.025 total time=   0.1s\n",
            "[CV 1/2] END criterion=poisson, max_depth=2, max_features=sqrt, n_estimators=20;, score=0.111 total time=   0.1s\n",
            "[CV 2/2] END criterion=poisson, max_depth=2, max_features=sqrt, n_estimators=20;, score=0.036 total time=   0.1s\n",
            "[CV 1/2] END criterion=poisson, max_depth=2, max_features=sqrt, n_estimators=50;, score=0.129 total time=   0.3s\n",
            "[CV 2/2] END criterion=poisson, max_depth=2, max_features=sqrt, n_estimators=50;, score=0.039 total time=   0.3s\n",
            "[CV 1/2] END criterion=poisson, max_depth=2, max_features=sqrt, n_estimators=100;, score=0.125 total time=   0.6s\n",
            "[CV 2/2] END criterion=poisson, max_depth=2, max_features=sqrt, n_estimators=100;, score=0.048 total time=   0.5s\n",
            "[CV 1/2] END criterion=poisson, max_depth=2, max_features=sqrt, n_estimators=150;, score=0.126 total time=   0.8s\n",
            "[CV 2/2] END criterion=poisson, max_depth=2, max_features=sqrt, n_estimators=150;, score=0.050 total time=   0.8s\n",
            "[CV 1/2] END criterion=poisson, max_depth=2, max_features=log2, n_estimators=10;, score=0.098 total time=   0.1s\n",
            "[CV 2/2] END criterion=poisson, max_depth=2, max_features=log2, n_estimators=10;, score=0.025 total time=   0.1s\n",
            "[CV 1/2] END criterion=poisson, max_depth=2, max_features=log2, n_estimators=20;, score=0.111 total time=   0.1s\n",
            "[CV 2/2] END criterion=poisson, max_depth=2, max_features=log2, n_estimators=20;, score=0.036 total time=   0.1s\n",
            "[CV 1/2] END criterion=poisson, max_depth=2, max_features=log2, n_estimators=50;, score=0.129 total time=   0.3s\n",
            "[CV 2/2] END criterion=poisson, max_depth=2, max_features=log2, n_estimators=50;, score=0.039 total time=   0.3s\n",
            "[CV 1/2] END criterion=poisson, max_depth=2, max_features=log2, n_estimators=100;, score=0.125 total time=   0.5s\n",
            "[CV 2/2] END criterion=poisson, max_depth=2, max_features=log2, n_estimators=100;, score=0.048 total time=   0.5s\n",
            "[CV 1/2] END criterion=poisson, max_depth=2, max_features=log2, n_estimators=150;, score=0.126 total time=   0.8s\n",
            "[CV 2/2] END criterion=poisson, max_depth=2, max_features=log2, n_estimators=150;, score=0.050 total time=   0.8s\n",
            "[CV 1/2] END criterion=poisson, max_depth=4, max_features=None, n_estimators=10;, score=nan total time=   0.0s\n",
            "[CV 2/2] END criterion=poisson, max_depth=4, max_features=None, n_estimators=10;, score=nan total time=   0.0s\n",
            "[CV 1/2] END criterion=poisson, max_depth=4, max_features=None, n_estimators=20;, score=nan total time=   0.0s\n",
            "[CV 2/2] END criterion=poisson, max_depth=4, max_features=None, n_estimators=20;, score=nan total time=   0.0s\n",
            "[CV 1/2] END criterion=poisson, max_depth=4, max_features=None, n_estimators=50;, score=nan total time=   0.0s\n",
            "[CV 2/2] END criterion=poisson, max_depth=4, max_features=None, n_estimators=50;, score=nan total time=   0.0s\n",
            "[CV 1/2] END criterion=poisson, max_depth=4, max_features=None, n_estimators=100;, score=nan total time=   0.0s\n",
            "[CV 2/2] END criterion=poisson, max_depth=4, max_features=None, n_estimators=100;, score=nan total time=   0.0s\n",
            "[CV 1/2] END criterion=poisson, max_depth=4, max_features=None, n_estimators=150;, score=nan total time=   0.1s\n",
            "[CV 2/2] END criterion=poisson, max_depth=4, max_features=None, n_estimators=150;, score=nan total time=   0.1s\n",
            "[CV 1/2] END criterion=poisson, max_depth=4, max_features=sqrt, n_estimators=10;, score=0.144 total time=   0.1s\n",
            "[CV 2/2] END criterion=poisson, max_depth=4, max_features=sqrt, n_estimators=10;, score=0.065 total time=   0.1s\n",
            "[CV 1/2] END criterion=poisson, max_depth=4, max_features=sqrt, n_estimators=20;, score=0.170 total time=   0.2s\n",
            "[CV 2/2] END criterion=poisson, max_depth=4, max_features=sqrt, n_estimators=20;, score=0.075 total time=   0.2s\n",
            "[CV 1/2] END criterion=poisson, max_depth=4, max_features=sqrt, n_estimators=50;, score=0.198 total time=   0.4s\n",
            "[CV 2/2] END criterion=poisson, max_depth=4, max_features=sqrt, n_estimators=50;, score=0.086 total time=   0.4s\n",
            "[CV 1/2] END criterion=poisson, max_depth=4, max_features=sqrt, n_estimators=100;, score=0.198 total time=   0.9s\n",
            "[CV 2/2] END criterion=poisson, max_depth=4, max_features=sqrt, n_estimators=100;, score=0.094 total time=   0.8s\n",
            "[CV 1/2] END criterion=poisson, max_depth=4, max_features=sqrt, n_estimators=150;, score=0.195 total time=   1.2s\n",
            "[CV 2/2] END criterion=poisson, max_depth=4, max_features=sqrt, n_estimators=150;, score=0.094 total time=   1.2s\n",
            "[CV 1/2] END criterion=poisson, max_depth=4, max_features=log2, n_estimators=10;, score=0.144 total time=   0.1s\n",
            "[CV 2/2] END criterion=poisson, max_depth=4, max_features=log2, n_estimators=10;, score=0.065 total time=   0.1s\n",
            "[CV 1/2] END criterion=poisson, max_depth=4, max_features=log2, n_estimators=20;, score=0.170 total time=   0.2s\n",
            "[CV 2/2] END criterion=poisson, max_depth=4, max_features=log2, n_estimators=20;, score=0.075 total time=   0.2s\n",
            "[CV 1/2] END criterion=poisson, max_depth=4, max_features=log2, n_estimators=50;, score=0.198 total time=   0.4s\n",
            "[CV 2/2] END criterion=poisson, max_depth=4, max_features=log2, n_estimators=50;, score=0.086 total time=   0.4s\n",
            "[CV 1/2] END criterion=poisson, max_depth=4, max_features=log2, n_estimators=100;, score=0.198 total time=   0.8s\n",
            "[CV 2/2] END criterion=poisson, max_depth=4, max_features=log2, n_estimators=100;, score=0.094 total time=   0.8s\n",
            "[CV 1/2] END criterion=poisson, max_depth=4, max_features=log2, n_estimators=150;, score=0.195 total time=   1.2s\n",
            "[CV 2/2] END criterion=poisson, max_depth=4, max_features=log2, n_estimators=150;, score=0.094 total time=   1.2s\n",
            "[CV 1/2] END criterion=poisson, max_depth=6, max_features=None, n_estimators=10;, score=nan total time=   0.0s\n",
            "[CV 2/2] END criterion=poisson, max_depth=6, max_features=None, n_estimators=10;, score=nan total time=   0.0s\n",
            "[CV 1/2] END criterion=poisson, max_depth=6, max_features=None, n_estimators=20;, score=nan total time=   0.0s\n",
            "[CV 2/2] END criterion=poisson, max_depth=6, max_features=None, n_estimators=20;, score=nan total time=   0.0s\n",
            "[CV 1/2] END criterion=poisson, max_depth=6, max_features=None, n_estimators=50;, score=nan total time=   0.0s\n",
            "[CV 2/2] END criterion=poisson, max_depth=6, max_features=None, n_estimators=50;, score=nan total time=   0.0s\n",
            "[CV 1/2] END criterion=poisson, max_depth=6, max_features=None, n_estimators=100;, score=nan total time=   0.0s\n",
            "[CV 2/2] END criterion=poisson, max_depth=6, max_features=None, n_estimators=100;, score=nan total time=   0.0s\n",
            "[CV 1/2] END criterion=poisson, max_depth=6, max_features=None, n_estimators=150;, score=nan total time=   0.0s\n",
            "[CV 2/2] END criterion=poisson, max_depth=6, max_features=None, n_estimators=150;, score=nan total time=   0.1s\n",
            "[CV 1/2] END criterion=poisson, max_depth=6, max_features=sqrt, n_estimators=10;, score=0.229 total time=   0.1s\n",
            "[CV 2/2] END criterion=poisson, max_depth=6, max_features=sqrt, n_estimators=10;, score=0.124 total time=   0.1s\n",
            "[CV 1/2] END criterion=poisson, max_depth=6, max_features=sqrt, n_estimators=20;, score=0.232 total time=   0.2s\n",
            "[CV 2/2] END criterion=poisson, max_depth=6, max_features=sqrt, n_estimators=20;, score=0.130 total time=   0.2s\n",
            "[CV 1/2] END criterion=poisson, max_depth=6, max_features=sqrt, n_estimators=50;, score=0.264 total time=   0.6s\n",
            "[CV 2/2] END criterion=poisson, max_depth=6, max_features=sqrt, n_estimators=50;, score=0.132 total time=   0.6s\n",
            "[CV 1/2] END criterion=poisson, max_depth=6, max_features=sqrt, n_estimators=100;, score=0.258 total time=   1.1s\n",
            "[CV 2/2] END criterion=poisson, max_depth=6, max_features=sqrt, n_estimators=100;, score=0.137 total time=   1.1s\n",
            "[CV 1/2] END criterion=poisson, max_depth=6, max_features=sqrt, n_estimators=150;, score=0.253 total time=   1.7s\n",
            "[CV 2/2] END criterion=poisson, max_depth=6, max_features=sqrt, n_estimators=150;, score=0.139 total time=   1.7s\n",
            "[CV 1/2] END criterion=poisson, max_depth=6, max_features=log2, n_estimators=10;, score=0.229 total time=   0.1s\n",
            "[CV 2/2] END criterion=poisson, max_depth=6, max_features=log2, n_estimators=10;, score=0.124 total time=   0.1s\n",
            "[CV 1/2] END criterion=poisson, max_depth=6, max_features=log2, n_estimators=20;, score=0.232 total time=   0.2s\n",
            "[CV 2/2] END criterion=poisson, max_depth=6, max_features=log2, n_estimators=20;, score=0.130 total time=   0.2s\n",
            "[CV 1/2] END criterion=poisson, max_depth=6, max_features=log2, n_estimators=50;, score=0.264 total time=   0.6s\n",
            "[CV 2/2] END criterion=poisson, max_depth=6, max_features=log2, n_estimators=50;, score=0.132 total time=   0.6s\n",
            "[CV 1/2] END criterion=poisson, max_depth=6, max_features=log2, n_estimators=100;, score=0.258 total time=   1.1s\n",
            "[CV 2/2] END criterion=poisson, max_depth=6, max_features=log2, n_estimators=100;, score=0.137 total time=   1.1s\n",
            "[CV 1/2] END criterion=poisson, max_depth=6, max_features=log2, n_estimators=150;, score=0.253 total time=   1.7s\n",
            "[CV 2/2] END criterion=poisson, max_depth=6, max_features=log2, n_estimators=150;, score=0.139 total time=   1.7s\n",
            "[CV 1/2] END criterion=poisson, max_depth=8, max_features=None, n_estimators=10;, score=nan total time=   0.0s\n",
            "[CV 2/2] END criterion=poisson, max_depth=8, max_features=None, n_estimators=10;, score=nan total time=   0.0s\n",
            "[CV 1/2] END criterion=poisson, max_depth=8, max_features=None, n_estimators=20;, score=nan total time=   0.0s\n",
            "[CV 2/2] END criterion=poisson, max_depth=8, max_features=None, n_estimators=20;, score=nan total time=   0.0s\n",
            "[CV 1/2] END criterion=poisson, max_depth=8, max_features=None, n_estimators=50;, score=nan total time=   0.0s\n",
            "[CV 2/2] END criterion=poisson, max_depth=8, max_features=None, n_estimators=50;, score=nan total time=   0.0s\n",
            "[CV 1/2] END criterion=poisson, max_depth=8, max_features=None, n_estimators=100;, score=nan total time=   0.0s\n",
            "[CV 2/2] END criterion=poisson, max_depth=8, max_features=None, n_estimators=100;, score=nan total time=   0.0s\n",
            "[CV 1/2] END criterion=poisson, max_depth=8, max_features=None, n_estimators=150;, score=nan total time=   0.1s\n",
            "[CV 2/2] END criterion=poisson, max_depth=8, max_features=None, n_estimators=150;, score=nan total time=   0.1s\n",
            "[CV 1/2] END criterion=poisson, max_depth=8, max_features=sqrt, n_estimators=10;, score=0.272 total time=   0.1s\n",
            "[CV 2/2] END criterion=poisson, max_depth=8, max_features=sqrt, n_estimators=10;, score=0.142 total time=   0.2s\n",
            "[CV 1/2] END criterion=poisson, max_depth=8, max_features=sqrt, n_estimators=20;, score=0.288 total time=   0.3s\n",
            "[CV 2/2] END criterion=poisson, max_depth=8, max_features=sqrt, n_estimators=20;, score=0.170 total time=   0.3s\n",
            "[CV 1/2] END criterion=poisson, max_depth=8, max_features=sqrt, n_estimators=50;, score=0.315 total time=   0.7s\n",
            "[CV 2/2] END criterion=poisson, max_depth=8, max_features=sqrt, n_estimators=50;, score=0.177 total time=   0.7s\n",
            "[CV 1/2] END criterion=poisson, max_depth=8, max_features=sqrt, n_estimators=100;, score=0.312 total time=   1.4s\n",
            "[CV 2/2] END criterion=poisson, max_depth=8, max_features=sqrt, n_estimators=100;, score=0.178 total time=   1.4s\n",
            "[CV 1/2] END criterion=poisson, max_depth=8, max_features=sqrt, n_estimators=150;, score=0.307 total time=   2.2s\n",
            "[CV 2/2] END criterion=poisson, max_depth=8, max_features=sqrt, n_estimators=150;, score=0.181 total time=   2.1s\n",
            "[CV 1/2] END criterion=poisson, max_depth=8, max_features=log2, n_estimators=10;, score=0.272 total time=   0.1s\n",
            "[CV 2/2] END criterion=poisson, max_depth=8, max_features=log2, n_estimators=10;, score=0.142 total time=   0.2s\n",
            "[CV 1/2] END criterion=poisson, max_depth=8, max_features=log2, n_estimators=20;, score=0.288 total time=   0.3s\n",
            "[CV 2/2] END criterion=poisson, max_depth=8, max_features=log2, n_estimators=20;, score=0.170 total time=   0.3s\n",
            "[CV 1/2] END criterion=poisson, max_depth=8, max_features=log2, n_estimators=50;, score=0.315 total time=   0.8s\n",
            "[CV 2/2] END criterion=poisson, max_depth=8, max_features=log2, n_estimators=50;, score=0.177 total time=   0.7s\n",
            "[CV 1/2] END criterion=poisson, max_depth=8, max_features=log2, n_estimators=100;, score=0.312 total time=   1.4s\n",
            "[CV 2/2] END criterion=poisson, max_depth=8, max_features=log2, n_estimators=100;, score=0.178 total time=   1.4s\n",
            "[CV 1/2] END criterion=poisson, max_depth=8, max_features=log2, n_estimators=150;, score=0.307 total time=   2.2s\n",
            "[CV 2/2] END criterion=poisson, max_depth=8, max_features=log2, n_estimators=150;, score=0.181 total time=   2.1s\n",
            "[CV 1/2] END criterion=poisson, max_depth=10, max_features=None, n_estimators=10;, score=nan total time=   0.0s\n",
            "[CV 2/2] END criterion=poisson, max_depth=10, max_features=None, n_estimators=10;, score=nan total time=   0.0s\n",
            "[CV 1/2] END criterion=poisson, max_depth=10, max_features=None, n_estimators=20;, score=nan total time=   0.0s\n",
            "[CV 2/2] END criterion=poisson, max_depth=10, max_features=None, n_estimators=20;, score=nan total time=   0.0s\n",
            "[CV 1/2] END criterion=poisson, max_depth=10, max_features=None, n_estimators=50;, score=nan total time=   0.0s\n",
            "[CV 2/2] END criterion=poisson, max_depth=10, max_features=None, n_estimators=50;, score=nan total time=   0.0s\n",
            "[CV 1/2] END criterion=poisson, max_depth=10, max_features=None, n_estimators=100;, score=nan total time=   0.0s\n",
            "[CV 2/2] END criterion=poisson, max_depth=10, max_features=None, n_estimators=100;, score=nan total time=   0.0s\n",
            "[CV 1/2] END criterion=poisson, max_depth=10, max_features=None, n_estimators=150;, score=nan total time=   0.0s\n",
            "[CV 2/2] END criterion=poisson, max_depth=10, max_features=None, n_estimators=150;, score=nan total time=   0.1s\n",
            "[CV 1/2] END criterion=poisson, max_depth=10, max_features=sqrt, n_estimators=10;, score=0.311 total time=   0.2s\n",
            "[CV 2/2] END criterion=poisson, max_depth=10, max_features=sqrt, n_estimators=10;, score=0.176 total time=   0.2s\n",
            "[CV 1/2] END criterion=poisson, max_depth=10, max_features=sqrt, n_estimators=20;, score=0.330 total time=   0.4s\n",
            "[CV 2/2] END criterion=poisson, max_depth=10, max_features=sqrt, n_estimators=20;, score=0.205 total time=   0.4s\n",
            "[CV 1/2] END criterion=poisson, max_depth=10, max_features=sqrt, n_estimators=50;, score=0.356 total time=   0.9s\n",
            "[CV 2/2] END criterion=poisson, max_depth=10, max_features=sqrt, n_estimators=50;, score=0.215 total time=   0.9s\n",
            "[CV 1/2] END criterion=poisson, max_depth=10, max_features=sqrt, n_estimators=100;, score=0.356 total time=   1.7s\n",
            "[CV 2/2] END criterion=poisson, max_depth=10, max_features=sqrt, n_estimators=100;, score=0.221 total time=   1.7s\n",
            "[CV 1/2] END criterion=poisson, max_depth=10, max_features=sqrt, n_estimators=150;, score=0.352 total time=   2.6s\n",
            "[CV 2/2] END criterion=poisson, max_depth=10, max_features=sqrt, n_estimators=150;, score=0.222 total time=   2.6s\n",
            "[CV 1/2] END criterion=poisson, max_depth=10, max_features=log2, n_estimators=10;, score=0.311 total time=   0.2s\n",
            "[CV 2/2] END criterion=poisson, max_depth=10, max_features=log2, n_estimators=10;, score=0.176 total time=   0.2s\n",
            "[CV 1/2] END criterion=poisson, max_depth=10, max_features=log2, n_estimators=20;, score=0.330 total time=   0.4s\n",
            "[CV 2/2] END criterion=poisson, max_depth=10, max_features=log2, n_estimators=20;, score=0.205 total time=   0.4s\n",
            "[CV 1/2] END criterion=poisson, max_depth=10, max_features=log2, n_estimators=50;, score=0.356 total time=   0.9s\n",
            "[CV 2/2] END criterion=poisson, max_depth=10, max_features=log2, n_estimators=50;, score=0.215 total time=   0.9s\n",
            "[CV 1/2] END criterion=poisson, max_depth=10, max_features=log2, n_estimators=100;, score=0.356 total time=   1.7s\n",
            "[CV 2/2] END criterion=poisson, max_depth=10, max_features=log2, n_estimators=100;, score=0.221 total time=   1.7s\n",
            "[CV 1/2] END criterion=poisson, max_depth=10, max_features=log2, n_estimators=150;, score=0.352 total time=   2.6s\n",
            "[CV 2/2] END criterion=poisson, max_depth=10, max_features=log2, n_estimators=150;, score=0.222 total time=   2.6s\n",
            "[CV 1/2] END criterion=poisson, max_depth=12, max_features=None, n_estimators=10;, score=nan total time=   0.0s\n",
            "[CV 2/2] END criterion=poisson, max_depth=12, max_features=None, n_estimators=10;, score=nan total time=   0.0s\n",
            "[CV 1/2] END criterion=poisson, max_depth=12, max_features=None, n_estimators=20;, score=nan total time=   0.0s\n",
            "[CV 2/2] END criterion=poisson, max_depth=12, max_features=None, n_estimators=20;, score=nan total time=   0.0s\n",
            "[CV 1/2] END criterion=poisson, max_depth=12, max_features=None, n_estimators=50;, score=nan total time=   0.0s\n",
            "[CV 2/2] END criterion=poisson, max_depth=12, max_features=None, n_estimators=50;, score=nan total time=   0.0s\n",
            "[CV 1/2] END criterion=poisson, max_depth=12, max_features=None, n_estimators=100;, score=nan total time=   0.0s\n",
            "[CV 2/2] END criterion=poisson, max_depth=12, max_features=None, n_estimators=100;, score=nan total time=   0.0s\n",
            "[CV 1/2] END criterion=poisson, max_depth=12, max_features=None, n_estimators=150;, score=nan total time=   0.1s\n",
            "[CV 2/2] END criterion=poisson, max_depth=12, max_features=None, n_estimators=150;, score=nan total time=   0.1s\n",
            "[CV 1/2] END criterion=poisson, max_depth=12, max_features=sqrt, n_estimators=10;, score=0.363 total time=   0.2s\n",
            "[CV 2/2] END criterion=poisson, max_depth=12, max_features=sqrt, n_estimators=10;, score=0.223 total time=   0.2s\n",
            "[CV 1/2] END criterion=poisson, max_depth=12, max_features=sqrt, n_estimators=20;, score=0.372 total time=   0.4s\n",
            "[CV 2/2] END criterion=poisson, max_depth=12, max_features=sqrt, n_estimators=20;, score=0.250 total time=   0.4s\n",
            "[CV 1/2] END criterion=poisson, max_depth=12, max_features=sqrt, n_estimators=50;, score=0.411 total time=   1.0s\n",
            "[CV 2/2] END criterion=poisson, max_depth=12, max_features=sqrt, n_estimators=50;, score=0.267 total time=   1.0s\n",
            "[CV 1/2] END criterion=poisson, max_depth=12, max_features=sqrt, n_estimators=100;, score=0.395 total time=   2.0s\n",
            "[CV 2/2] END criterion=poisson, max_depth=12, max_features=sqrt, n_estimators=100;, score=0.267 total time=   2.0s\n",
            "[CV 1/2] END criterion=poisson, max_depth=12, max_features=sqrt, n_estimators=150;, score=0.394 total time=   3.0s\n",
            "[CV 2/2] END criterion=poisson, max_depth=12, max_features=sqrt, n_estimators=150;, score=0.273 total time=   3.0s\n",
            "[CV 1/2] END criterion=poisson, max_depth=12, max_features=log2, n_estimators=10;, score=0.363 total time=   0.2s\n",
            "[CV 2/2] END criterion=poisson, max_depth=12, max_features=log2, n_estimators=10;, score=0.223 total time=   0.2s\n",
            "[CV 1/2] END criterion=poisson, max_depth=12, max_features=log2, n_estimators=20;, score=0.372 total time=   0.4s\n",
            "[CV 2/2] END criterion=poisson, max_depth=12, max_features=log2, n_estimators=20;, score=0.250 total time=   0.4s\n",
            "[CV 1/2] END criterion=poisson, max_depth=12, max_features=log2, n_estimators=50;, score=0.411 total time=   1.0s\n",
            "[CV 2/2] END criterion=poisson, max_depth=12, max_features=log2, n_estimators=50;, score=0.267 total time=   1.0s\n",
            "[CV 1/2] END criterion=poisson, max_depth=12, max_features=log2, n_estimators=100;, score=0.395 total time=   2.0s\n",
            "[CV 2/2] END criterion=poisson, max_depth=12, max_features=log2, n_estimators=100;, score=0.267 total time=   2.0s\n",
            "[CV 1/2] END criterion=poisson, max_depth=12, max_features=log2, n_estimators=150;, score=0.394 total time=   3.0s\n",
            "[CV 2/2] END criterion=poisson, max_depth=12, max_features=log2, n_estimators=150;, score=0.273 total time=   3.0s\n"
          ]
        },
        {
          "output_type": "stream",
          "name": "stderr",
          "text": [
            "/usr/local/lib/python3.8/dist-packages/sklearn/model_selection/_validation.py:372: FitFailedWarning: \n",
            "240 fits failed out of a total of 720.\n",
            "The score on these train-test partitions for these parameters will be set to nan.\n",
            "If these failures are not expected, you can try to debug them by setting error_score='raise'.\n",
            "\n",
            "Below are more details about the failures:\n",
            "--------------------------------------------------------------------------------\n",
            "240 fits failed with the following error:\n",
            "Traceback (most recent call last):\n",
            "  File \"/usr/local/lib/python3.8/dist-packages/sklearn/model_selection/_validation.py\", line 680, in _fit_and_score\n",
            "    estimator.fit(X_train, y_train, **fit_params)\n",
            "  File \"/usr/local/lib/python3.8/dist-packages/sklearn/ensemble/_forest.py\", line 450, in fit\n",
            "    trees = Parallel(\n",
            "  File \"/usr/local/lib/python3.8/dist-packages/joblib/parallel.py\", line 1085, in __call__\n",
            "    if self.dispatch_one_batch(iterator):\n",
            "  File \"/usr/local/lib/python3.8/dist-packages/joblib/parallel.py\", line 901, in dispatch_one_batch\n",
            "    self._dispatch(tasks)\n",
            "  File \"/usr/local/lib/python3.8/dist-packages/joblib/parallel.py\", line 819, in _dispatch\n",
            "    job = self._backend.apply_async(batch, callback=cb)\n",
            "  File \"/usr/local/lib/python3.8/dist-packages/joblib/_parallel_backends.py\", line 208, in apply_async\n",
            "    result = ImmediateResult(func)\n",
            "  File \"/usr/local/lib/python3.8/dist-packages/joblib/_parallel_backends.py\", line 597, in __init__\n",
            "    self.results = batch()\n",
            "  File \"/usr/local/lib/python3.8/dist-packages/joblib/parallel.py\", line 288, in __call__\n",
            "    return [func(*args, **kwargs)\n",
            "  File \"/usr/local/lib/python3.8/dist-packages/joblib/parallel.py\", line 288, in <listcomp>\n",
            "    return [func(*args, **kwargs)\n",
            "  File \"/usr/local/lib/python3.8/dist-packages/sklearn/utils/fixes.py\", line 216, in __call__\n",
            "    return self.function(*args, **kwargs)\n",
            "  File \"/usr/local/lib/python3.8/dist-packages/sklearn/ensemble/_forest.py\", line 185, in _parallel_build_trees\n",
            "    tree.fit(X, y, sample_weight=curr_sample_weight, check_input=False)\n",
            "  File \"/usr/local/lib/python3.8/dist-packages/sklearn/tree/_classes.py\", line 1315, in fit\n",
            "    super().fit(\n",
            "  File \"/usr/local/lib/python3.8/dist-packages/sklearn/tree/_classes.py\", line 281, in fit\n",
            "    raise ValueError(\n",
            "ValueError: Invalid value for max_features. Allowed string values are 'auto', 'sqrt' or 'log2'.\n",
            "\n",
            "  warnings.warn(some_fits_failed_message, FitFailedWarning)\n",
            "/usr/local/lib/python3.8/dist-packages/sklearn/model_selection/_search.py:969: UserWarning: One or more of the test scores are non-finite: [       nan        nan        nan        nan        nan 0.46238832\n",
            " 0.47797288 0.48892142 0.48644043 0.48427374 0.46238832 0.47797288\n",
            " 0.48892142 0.48644043 0.48427374        nan        nan        nan\n",
            "        nan        nan 0.61481232 0.62149111 0.62912082 0.62792798\n",
            " 0.62851077 0.61481232 0.62149111 0.62912082 0.62792798 0.62851077\n",
            "        nan        nan        nan        nan        nan 0.7023275\n",
            " 0.70536079 0.71098543 0.71212574 0.71204512 0.7023275  0.70536079\n",
            " 0.71098543 0.71212574 0.71204512        nan        nan        nan\n",
            "        nan        nan 0.73549191 0.74758208 0.75576467 0.75731967\n",
            " 0.75882706 0.73549191 0.74758208 0.75576467 0.75731967 0.75882706\n",
            "        nan        nan        nan        nan        nan 0.75583182\n",
            " 0.77143901 0.77713305 0.78021926 0.7818129  0.75583182 0.77143901\n",
            " 0.77713305 0.78021926 0.7818129         nan        nan        nan\n",
            "        nan        nan 0.76891243 0.78363291 0.7926764  0.79361206\n",
            " 0.79395987 0.76891243 0.78363291 0.7926764  0.79361206 0.79395987\n",
            "        nan        nan        nan        nan        nan 0.38505649\n",
            " 0.39978594 0.41614959 0.40872827 0.40859184 0.38505649 0.39978594\n",
            " 0.41614959 0.40872827 0.40859184        nan        nan        nan\n",
            "        nan        nan 0.5735278  0.58772272 0.59710022 0.59425099\n",
            " 0.59506053 0.5735278  0.58772272 0.59710022 0.59425099 0.59506053\n",
            "        nan        nan        nan        nan        nan 0.68636571\n",
            " 0.6922695  0.70016041 0.7018895  0.70231308 0.68636571 0.6922695\n",
            " 0.70016041 0.7018895  0.70231308        nan        nan        nan\n",
            "        nan        nan 0.73483729 0.74665274 0.75362104 0.7557118\n",
            " 0.75625928 0.73483729 0.74665274 0.75362104 0.7557118  0.75625928\n",
            "        nan        nan        nan        nan        nan 0.76183717\n",
            " 0.77420408 0.77790599 0.78139468 0.78316596 0.76183717 0.77420408\n",
            " 0.77790599 0.78139468 0.78316596        nan        nan        nan\n",
            "        nan        nan 0.77174068 0.78384973 0.79242309 0.79610657\n",
            " 0.79626107 0.77174068 0.78384973 0.79242309 0.79610657 0.79626107\n",
            "        nan        nan        nan        nan        nan 0.46238832\n",
            " 0.47797288 0.48892142 0.48644043 0.48427374 0.46238832 0.47797288\n",
            " 0.48892142 0.48644043 0.48427374        nan        nan        nan\n",
            "        nan        nan 0.61481232 0.62149111 0.62912082 0.62792798\n",
            " 0.62851077 0.61481232 0.62149111 0.62912082 0.62792798 0.62851077\n",
            "        nan        nan        nan        nan        nan 0.7023275\n",
            " 0.70536079 0.71098543 0.71212574 0.71204512 0.7023275  0.70536079\n",
            " 0.71098543 0.71212574 0.71204512        nan        nan        nan\n",
            "        nan        nan 0.73549191 0.74758208 0.75576467 0.75731967\n",
            " 0.75882706 0.73549191 0.74758208 0.75576467 0.75731967 0.75882706\n",
            "        nan        nan        nan        nan        nan 0.75583182\n",
            " 0.77143901 0.77713305 0.78021926 0.7818129  0.75583182 0.77143901\n",
            " 0.77713305 0.78021926 0.7818129         nan        nan        nan\n",
            "        nan        nan 0.76891243 0.78363291 0.7926764  0.79361206\n",
            " 0.79395801 0.76891243 0.78363291 0.7926764  0.79361206 0.79395801\n",
            "        nan        nan        nan        nan        nan 0.06144296\n",
            " 0.07332991 0.08438116 0.08655009 0.08817309 0.06144296 0.07332991\n",
            " 0.08438116 0.08655009 0.08817309        nan        nan        nan\n",
            "        nan        nan 0.10419414 0.12275043 0.14185432 0.14601129\n",
            " 0.14492988 0.10419414 0.12275043 0.14185432 0.14601129 0.14492988\n",
            "        nan        nan        nan        nan        nan 0.17607255\n",
            " 0.1812865  0.19794871 0.19749744 0.19592286 0.17607255 0.1812865\n",
            " 0.19794871 0.19749744 0.19592286        nan        nan        nan\n",
            "        nan        nan 0.20720463 0.22898247 0.24596133 0.24505233\n",
            " 0.2442479  0.20720463 0.22898247 0.24596133 0.24505233 0.2442479\n",
            "        nan        nan        nan        nan        nan 0.2434523\n",
            " 0.26725933 0.28527347 0.28840012 0.28695    0.2434523  0.26725933\n",
            " 0.28527347 0.28840012 0.28695           nan        nan        nan\n",
            "        nan        nan 0.2931511  0.31091008 0.33902408 0.33098288\n",
            " 0.33343373 0.2931511  0.31091008 0.33902408 0.33098288 0.33343373]\n",
            "  warnings.warn(\n"
          ]
        },
        {
          "output_type": "execute_result",
          "data": {
            "text/plain": [
              "GridSearchCV(cv=2, estimator=RandomForestRegressor(random_state=42),\n",
              "             param_grid={'criterion': ['squared_error', 'absolute_error',\n",
              "                                       'friedman_mse', 'poisson'],\n",
              "                         'max_depth': [2, 4, 6, 8, 10, 12],\n",
              "                         'max_features': ['None', 'sqrt', 'log2'],\n",
              "                         'n_estimators': [10, 20, 50, 100, 150]},\n",
              "             scoring='r2', verbose=3)"
            ]
          },
          "metadata": {},
          "execution_count": 530
        }
      ]
    },
    {
      "cell_type": "code",
      "source": [
        "cv.best_params_"
      ],
      "metadata": {
        "colab": {
          "base_uri": "https://localhost:8080/"
        },
        "id": "52Q4b872hJo-",
        "outputId": "4db566f6-1b04-433a-c22d-3101db1eb1ac"
      },
      "execution_count": null,
      "outputs": [
        {
          "output_type": "execute_result",
          "data": {
            "text/plain": [
              "{'criterion': 'absolute_error',\n",
              " 'max_depth': 12,\n",
              " 'max_features': 'sqrt',\n",
              " 'n_estimators': 150}"
            ]
          },
          "metadata": {},
          "execution_count": 556
        }
      ]
    },
    {
      "cell_type": "code",
      "source": [
        "df_results = pd.DataFrame(cv.cv_results_)\n",
        "df_results[['param_n_estimators','mean_test_score']].groupby('param_n_estimators').mean().plot()"
      ],
      "metadata": {
        "colab": {
          "base_uri": "https://localhost:8080/",
          "height": 300
        },
        "id": "XkTiCijLmK9y",
        "outputId": "10947622-26b7-481b-b4a9-101de755db5d"
      },
      "execution_count": null,
      "outputs": [
        {
          "output_type": "execute_result",
          "data": {
            "text/plain": [
              "<matplotlib.axes._subplots.AxesSubplot at 0x7f0f82e05940>"
            ]
          },
          "metadata": {},
          "execution_count": 567
        },
        {
          "output_type": "display_data",
          "data": {
            "text/plain": [
              "<Figure size 432x288 with 1 Axes>"
            ],
            "image/png": "[encoded data removed]"
          },
          "metadata": {
            "needs_background": "light"
          }
        }
      ]
    },
    {
      "cell_type": "code",
      "source": [
        "df_results[['param_max_depth','mean_test_score']].groupby('param_max_depth').mean().plot()"
      ],
      "metadata": {
        "colab": {
          "base_uri": "https://localhost:8080/",
          "height": 297
        },
        "id": "z5qvvdvCmSep",
        "outputId": "54f401a0-87bc-492e-b8af-43c8b0e69b8a"
      },
      "execution_count": null,
      "outputs": [
        {
          "output_type": "execute_result",
          "data": {
            "text/plain": [
              "<matplotlib.axes._subplots.AxesSubplot at 0x7f0f7de181f0>"
            ]
          },
          "metadata": {},
          "execution_count": 568
        },
        {
          "output_type": "display_data",
          "data": {
            "text/plain": [
              "<Figure size 432x288 with 1 Axes>"
            ],
            "image/png": "[encoded data removed]"
          },
          "metadata": {
            "needs_background": "light"
          }
        }
      ]
    },
    {
      "cell_type": "code",
      "source": [
        "df_results[['param_max_features','mean_test_score']].groupby(\n",
        "                                        'param_max_features').mean().reset_index().plot.scatter(x='param_max_features',y='mean_test_score')"
      ],
      "metadata": {
        "colab": {
          "base_uri": "https://localhost:8080/",
          "height": 297
        },
        "id": "Zy0WoX1JmVl9",
        "outputId": "5cd5c2cf-5bfa-4d18-d6c7-cc88bac3125e"
      },
      "execution_count": null,
      "outputs": [
        {
          "output_type": "execute_result",
          "data": {
            "text/plain": [
              "<matplotlib.axes._subplots.AxesSubplot at 0x7f0f832964c0>"
            ]
          },
          "metadata": {},
          "execution_count": 569
        },
        {
          "output_type": "display_data",
          "data": {
            "text/plain": [
              "<Figure size 432x288 with 1 Axes>"
            ],
            "image/png": "[encoded data removed]"
          },
          "metadata": {
            "needs_background": "light"
          }
        }
      ]
    },
    {
      "cell_type": "code",
      "source": [
        "df_results[['param_criterion','mean_test_score']].groupby(\n",
        "    'param_criterion').mean().reset_index().plot.scatter(x='param_criterion',y='mean_test_score')"
      ],
      "metadata": {
        "colab": {
          "base_uri": "https://localhost:8080/",
          "height": 298
        },
        "id": "kBzGYykBmgXz",
        "outputId": "5ba7e39c-54b4-458b-a131-13950b39b66a"
      },
      "execution_count": null,
      "outputs": [
        {
          "output_type": "execute_result",
          "data": {
            "text/plain": [
              "<matplotlib.axes._subplots.AxesSubplot at 0x7f0f80ffe640>"
            ]
          },
          "metadata": {},
          "execution_count": 570
        },
        {
          "output_type": "display_data",
          "data": {
            "text/plain": [
              "<Figure size 432x288 with 1 Axes>"
            ],
            "image/png": "[encoded data removed]"
          },
          "metadata": {
            "needs_background": "light"
          }
        }
      ]
    },
    {
      "cell_type": "code",
      "source": [
        "model = RandomForestRegressor(**cv.best_params_)"
      ],
      "metadata": {
        "id": "Y4OmAWIGF1JX"
      },
      "execution_count": null,
      "outputs": []
    },
    {
      "cell_type": "code",
      "source": [
        "model.fit(X_train,y_train)"
      ],
      "metadata": {
        "colab": {
          "base_uri": "https://localhost:8080/"
        },
        "id": "v4yEwT0pGzs0",
        "outputId": "4142932a-4755-41cd-8557-068efa45643d"
      },
      "execution_count": null,
      "outputs": [
        {
          "output_type": "execute_result",
          "data": {
            "text/plain": [
              "RandomForestRegressor(criterion='absolute_error', max_depth=12,\n",
              "                      max_features='sqrt', n_estimators=150)"
            ]
          },
          "metadata": {},
          "execution_count": 562
        }
      ]
    },
    {
      "cell_type": "code",
      "source": [
        "y_pred = model.predict(X_test)"
      ],
      "metadata": {
        "id": "8Is0UzQMJU5Y"
      },
      "execution_count": null,
      "outputs": []
    },
    {
      "cell_type": "code",
      "source": [
        "rank = pd.DataFrame(columns=[df.drop(columns=['id','price']).columns])"
      ],
      "metadata": {
        "id": "jUNSPVYGYIY3"
      },
      "execution_count": null,
      "outputs": []
    },
    {
      "cell_type": "code",
      "source": [
        "rank = rank.append(pd.DataFrame(model.feature_importances_.reshape(1,-1), columns=list(rank)), ignore_index=True)"
      ],
      "metadata": {
        "id": "Ymb-0BL9YE96"
      },
      "execution_count": null,
      "outputs": []
    },
    {
      "cell_type": "code",
      "source": [
        "rank = rank.sort_values(by=0,axis = 1, ascending = False)"
      ],
      "metadata": {
        "id": "VUr7sGKcxwOy"
      },
      "execution_count": null,
      "outputs": []
    },
    {
      "cell_type": "code",
      "source": [
        "names = np.array(rank.columns)\n",
        "for i in range(len(names)):\n",
        "  names[i] = names [i][0]"
      ],
      "metadata": {
        "id": "ps0cyajTwghv"
      },
      "execution_count": null,
      "outputs": []
    },
    {
      "cell_type": "code",
      "source": [
        "fig, ax = plt.subplots()\n",
        "ax.barh(names,rank.loc[0], align='center')\n",
        "ax.invert_yaxis()  # labels read top-to-bottom\n",
        "ax.set_xlabel('Participação')\n",
        "ax.set_title('Participação das variáveis')\n",
        "\n",
        "plt.show()"
      ],
      "metadata": {
        "colab": {
          "base_uri": "https://localhost:8080/",
          "height": 295
        },
        "id": "y4xWMfXVv_FI",
        "outputId": "4f6c67a3-17ac-4a9a-cf5a-ff437a80dd27"
      },
      "execution_count": null,
      "outputs": [
        {
          "output_type": "display_data",
          "data": {
            "text/plain": [
              "<Figure size 432x288 with 1 Axes>"
            ],
            "image/png": "[encoded data removed]"
          },
          "metadata": {
            "needs_background": "light"
          }
        }
      ]
    },
    {
      "cell_type": "markdown",
      "source": [
        "##**5. Evaluation (Validação) e Resultados**\n"
      ],
      "metadata": {
        "id": "F1UAOjMXMfrg"
      }
    },
    {
      "cell_type": "markdown",
      "source": [
        "O R² do modelo chegou chegou a 0.80, alguns valores ficaram um pouco fora do esperado, com a razão entre previsão e esperado chegando a 0.3x e 3.7x, entretanto no geral os dados ficaram bem próximos do esperado, como pode ser visto nos histogramas e no gráfico de previsão/esperado"
      ],
      "metadata": {
        "id": "58jm8320oamK"
      }
    },
    {
      "cell_type": "code",
      "source": [
        "metrics.r2_score(y_test,y_pred)"
      ],
      "metadata": {
        "colab": {
          "base_uri": "https://localhost:8080/"
        },
        "id": "fIa_KUtRJc3t",
        "outputId": "fe1a50ff-5073-46ec-dcc6-074f623efa5e"
      },
      "execution_count": null,
      "outputs": [
        {
          "output_type": "execute_result",
          "data": {
            "text/plain": [
              "0.8041129063721112"
            ]
          },
          "metadata": {},
          "execution_count": 580
        }
      ]
    },
    {
      "cell_type": "code",
      "source": [
        "plt.scatter(y_test,y_pred)\n",
        "plt.xlabel(\"Esperado\")\n",
        "plt.ylabel(\"Previsto\")\n",
        "plt.text(0,0,\"R² = 0.80\",fontsize=10)\n",
        "plt.show()"
      ],
      "metadata": {
        "colab": {
          "base_uri": "https://localhost:8080/",
          "height": 290
        },
        "id": "XVoXPTQs5Yo9",
        "outputId": "4c5c6a72-56ab-4564-f16f-8a57225d464a"
      },
      "execution_count": null,
      "outputs": [
        {
          "output_type": "display_data",
          "data": {
            "text/plain": [
              "<Figure size 432x288 with 1 Axes>"
            ],
            "image/png": "[encoded data removed]"
          },
          "metadata": {
            "needs_background": "light"
          }
        }
      ]
    },
    {
      "cell_type": "code",
      "source": [
        "plt.hist(np.abs(y_pred/y_test))\n",
        "plt.xlabel(\"Razão entre o previsto e o esperado\")\n",
        "plt.show()"
      ],
      "metadata": {
        "colab": {
          "base_uri": "https://localhost:8080/",
          "height": 281
        },
        "id": "WQigQ4EDQCm9",
        "outputId": "2a4bcd06-cf48-4262-a1da-cc4da05d85b4"
      },
      "execution_count": null,
      "outputs": [
        {
          "output_type": "display_data",
          "data": {
            "text/plain": [
              "<Figure size 432x288 with 1 Axes>"
            ],
            "image/png": "[encoded data removed]"
          },
          "metadata": {
            "needs_background": "light"
          }
        }
      ]
    },
    {
      "cell_type": "code",
      "source": [
        "plt.hist(np.abs(y_pred-y_test))\n",
        "plt.xlabel(\"Diferença entre o previsto e o esperado\")\n",
        "plt.show()"
      ],
      "metadata": {
        "colab": {
          "base_uri": "https://localhost:8080/",
          "height": 279
        },
        "id": "nUPYWfwl6GZt",
        "outputId": "7af9e4ab-3369-4940-ab3e-084ad7a826db"
      },
      "execution_count": null,
      "outputs": [
        {
          "output_type": "display_data",
          "data": {
            "text/plain": [
              "<Figure size 432x288 with 1 Axes>"
            ],
            "image/png": "[encoded data removed]"
          },
          "metadata": {
            "needs_background": "light"
          }
        }
      ]
    }
  ]
}